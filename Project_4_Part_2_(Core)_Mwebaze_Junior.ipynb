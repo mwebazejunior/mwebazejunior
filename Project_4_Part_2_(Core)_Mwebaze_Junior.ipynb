{
  "nbformat": 4,
  "nbformat_minor": 0,
  "metadata": {
    "colab": {
      "provenance": []
    },
    "kernelspec": {
      "name": "python3",
      "display_name": "Python 3"
    },
    "language_info": {
      "name": "python"
    }
  },
  "cells": [
    {
      "cell_type": "markdown",
      "source": [
        "**Project 4 - Part 2 (Core)**"
      ],
      "metadata": {
        "id": "bR_p1rpCTNiw"
      }
    },
    {
      "cell_type": "markdown",
      "metadata": {
        "id": "view-in-github"
      },
      "source": [
        "<a href=\"https://colab.research.google.com/github/othinAbbey/Project-4/blob/main/Onyango_Abbey_Project_4_Part_2_(Core)final.ipynb\" target=\"_parent\"><img src=\"https://colab.research.google.com/assets/colab-badge.svg\" alt=\"Open In Colab\"/></a>"
      ]
    },
    {
      "cell_type": "code",
      "execution_count": 1,
      "metadata": {
        "id": "dtu3nzlsUFVI"
      },
      "outputs": [],
      "source": [
        "import pandas as pd\n",
        "import numpy as np\n",
        "import matplotlib.pyplot as plt\n",
        "import seaborn as sns\n",
        "from sklearn.model_selection import train_test_split\n",
        "from sklearn.preprocessing import StandardScaler\n",
        "from imblearn.over_sampling import SMOTE\n",
        "from sklearn.linear_model import LogisticRegression\n",
        "from sklearn.ensemble import RandomForestClassifier\n",
        "import missingno as msno\n",
        "from sklearn.impute import SimpleImputer\n",
        "from sklearn.preprocessing import OneHotEncoder, StandardScaler\n",
        "from sklearn.compose import ColumnTransformer\n",
        "from sklearn.pipeline import Pipeline\n",
        "from sklearn.preprocessing import LabelEncoder\n",
        "n=800\n",
        "pd.set_option('display.max_columns',n)\n",
        "pd.set_option(\"display.max_info_rows\", n)\n",
        "pd.set_option('display.max_info_columns',n)\n",
        "from sklearn import set_config\n",
        "set_config(transform_output='pandas')\n"
      ]
    },
    {
      "cell_type": "code",
      "source": [
        "from google.colab import drive\n",
        "drive.mount('/content/drive')"
      ],
      "metadata": {
        "colab": {
          "base_uri": "https://localhost:8080/"
        },
        "id": "N35FzkxlUw01",
        "outputId": "208a9d00-f381-430d-cf67-5af1732e184a"
      },
      "execution_count": 2,
      "outputs": [
        {
          "output_type": "stream",
          "name": "stdout",
          "text": [
            "Mounted at /content/drive\n"
          ]
        }
      ]
    },
    {
      "cell_type": "code",
      "source": [
        "import pandas as pd\n",
        "import numpy as np\n",
        "filename = '/content/drive/MyDrive/Week2_data/Machine Learning Data Sets/adult.csv'\n",
        "df = pd.read_csv(filename)\n",
        "df.head()"
      ],
      "metadata": {
        "colab": {
          "base_uri": "https://localhost:8080/",
          "height": 400
        },
        "id": "eO5IU_i8U35S",
        "outputId": "64d438bd-5b68-4645-fbca-88c6ca615049"
      },
      "execution_count": 12,
      "outputs": [
        {
          "output_type": "execute_result",
          "data": {
            "text/plain": [
              "   age  workclass  fnlwgt     education  educational-num      marital-status  \\\n",
              "0   25    Private  226802          11th                7       Never-married   \n",
              "1   38    Private   89814       HS-grad                9  Married-civ-spouse   \n",
              "2   28  Local-gov  336951    Assoc-acdm               12  Married-civ-spouse   \n",
              "3   44    Private  160323  Some-college               10  Married-civ-spouse   \n",
              "4   18          ?  103497  Some-college               10       Never-married   \n",
              "\n",
              "          occupation relationship   race  gender  capital-gain  capital-loss  \\\n",
              "0  Machine-op-inspct    Own-child  Black    Male             0             0   \n",
              "1    Farming-fishing      Husband  White    Male             0             0   \n",
              "2    Protective-serv      Husband  White    Male             0             0   \n",
              "3  Machine-op-inspct      Husband  Black    Male          7688             0   \n",
              "4                  ?    Own-child  White  Female             0             0   \n",
              "\n",
              "   hours-per-week native-country income  \n",
              "0              40  United-States  <=50K  \n",
              "1              50  United-States  <=50K  \n",
              "2              40  United-States   >50K  \n",
              "3              40  United-States   >50K  \n",
              "4              30  United-States  <=50K  "
            ],
            "text/html": [
              "\n",
              "  <div id=\"df-11cbbdab-847e-49dc-95bd-505759e06ef2\" class=\"colab-df-container\">\n",
              "    <div>\n",
              "<style scoped>\n",
              "    .dataframe tbody tr th:only-of-type {\n",
              "        vertical-align: middle;\n",
              "    }\n",
              "\n",
              "    .dataframe tbody tr th {\n",
              "        vertical-align: top;\n",
              "    }\n",
              "\n",
              "    .dataframe thead th {\n",
              "        text-align: right;\n",
              "    }\n",
              "</style>\n",
              "<table border=\"1\" class=\"dataframe\">\n",
              "  <thead>\n",
              "    <tr style=\"text-align: right;\">\n",
              "      <th></th>\n",
              "      <th>age</th>\n",
              "      <th>workclass</th>\n",
              "      <th>fnlwgt</th>\n",
              "      <th>education</th>\n",
              "      <th>educational-num</th>\n",
              "      <th>marital-status</th>\n",
              "      <th>occupation</th>\n",
              "      <th>relationship</th>\n",
              "      <th>race</th>\n",
              "      <th>gender</th>\n",
              "      <th>capital-gain</th>\n",
              "      <th>capital-loss</th>\n",
              "      <th>hours-per-week</th>\n",
              "      <th>native-country</th>\n",
              "      <th>income</th>\n",
              "    </tr>\n",
              "  </thead>\n",
              "  <tbody>\n",
              "    <tr>\n",
              "      <th>0</th>\n",
              "      <td>25</td>\n",
              "      <td>Private</td>\n",
              "      <td>226802</td>\n",
              "      <td>11th</td>\n",
              "      <td>7</td>\n",
              "      <td>Never-married</td>\n",
              "      <td>Machine-op-inspct</td>\n",
              "      <td>Own-child</td>\n",
              "      <td>Black</td>\n",
              "      <td>Male</td>\n",
              "      <td>0</td>\n",
              "      <td>0</td>\n",
              "      <td>40</td>\n",
              "      <td>United-States</td>\n",
              "      <td>&lt;=50K</td>\n",
              "    </tr>\n",
              "    <tr>\n",
              "      <th>1</th>\n",
              "      <td>38</td>\n",
              "      <td>Private</td>\n",
              "      <td>89814</td>\n",
              "      <td>HS-grad</td>\n",
              "      <td>9</td>\n",
              "      <td>Married-civ-spouse</td>\n",
              "      <td>Farming-fishing</td>\n",
              "      <td>Husband</td>\n",
              "      <td>White</td>\n",
              "      <td>Male</td>\n",
              "      <td>0</td>\n",
              "      <td>0</td>\n",
              "      <td>50</td>\n",
              "      <td>United-States</td>\n",
              "      <td>&lt;=50K</td>\n",
              "    </tr>\n",
              "    <tr>\n",
              "      <th>2</th>\n",
              "      <td>28</td>\n",
              "      <td>Local-gov</td>\n",
              "      <td>336951</td>\n",
              "      <td>Assoc-acdm</td>\n",
              "      <td>12</td>\n",
              "      <td>Married-civ-spouse</td>\n",
              "      <td>Protective-serv</td>\n",
              "      <td>Husband</td>\n",
              "      <td>White</td>\n",
              "      <td>Male</td>\n",
              "      <td>0</td>\n",
              "      <td>0</td>\n",
              "      <td>40</td>\n",
              "      <td>United-States</td>\n",
              "      <td>&gt;50K</td>\n",
              "    </tr>\n",
              "    <tr>\n",
              "      <th>3</th>\n",
              "      <td>44</td>\n",
              "      <td>Private</td>\n",
              "      <td>160323</td>\n",
              "      <td>Some-college</td>\n",
              "      <td>10</td>\n",
              "      <td>Married-civ-spouse</td>\n",
              "      <td>Machine-op-inspct</td>\n",
              "      <td>Husband</td>\n",
              "      <td>Black</td>\n",
              "      <td>Male</td>\n",
              "      <td>7688</td>\n",
              "      <td>0</td>\n",
              "      <td>40</td>\n",
              "      <td>United-States</td>\n",
              "      <td>&gt;50K</td>\n",
              "    </tr>\n",
              "    <tr>\n",
              "      <th>4</th>\n",
              "      <td>18</td>\n",
              "      <td>?</td>\n",
              "      <td>103497</td>\n",
              "      <td>Some-college</td>\n",
              "      <td>10</td>\n",
              "      <td>Never-married</td>\n",
              "      <td>?</td>\n",
              "      <td>Own-child</td>\n",
              "      <td>White</td>\n",
              "      <td>Female</td>\n",
              "      <td>0</td>\n",
              "      <td>0</td>\n",
              "      <td>30</td>\n",
              "      <td>United-States</td>\n",
              "      <td>&lt;=50K</td>\n",
              "    </tr>\n",
              "  </tbody>\n",
              "</table>\n",
              "</div>\n",
              "    <div class=\"colab-df-buttons\">\n",
              "\n",
              "  <div class=\"colab-df-container\">\n",
              "    <button class=\"colab-df-convert\" onclick=\"convertToInteractive('df-11cbbdab-847e-49dc-95bd-505759e06ef2')\"\n",
              "            title=\"Convert this dataframe to an interactive table.\"\n",
              "            style=\"display:none;\">\n",
              "\n",
              "  <svg xmlns=\"http://www.w3.org/2000/svg\" height=\"24px\" viewBox=\"0 -960 960 960\">\n",
              "    <path d=\"M120-120v-720h720v720H120Zm60-500h600v-160H180v160Zm220 220h160v-160H400v160Zm0 220h160v-160H400v160ZM180-400h160v-160H180v160Zm440 0h160v-160H620v160ZM180-180h160v-160H180v160Zm440 0h160v-160H620v160Z\"/>\n",
              "  </svg>\n",
              "    </button>\n",
              "\n",
              "  <style>\n",
              "    .colab-df-container {\n",
              "      display:flex;\n",
              "      gap: 12px;\n",
              "    }\n",
              "\n",
              "    .colab-df-convert {\n",
              "      background-color: #E8F0FE;\n",
              "      border: none;\n",
              "      border-radius: 50%;\n",
              "      cursor: pointer;\n",
              "      display: none;\n",
              "      fill: #1967D2;\n",
              "      height: 32px;\n",
              "      padding: 0 0 0 0;\n",
              "      width: 32px;\n",
              "    }\n",
              "\n",
              "    .colab-df-convert:hover {\n",
              "      background-color: #E2EBFA;\n",
              "      box-shadow: 0px 1px 2px rgba(60, 64, 67, 0.3), 0px 1px 3px 1px rgba(60, 64, 67, 0.15);\n",
              "      fill: #174EA6;\n",
              "    }\n",
              "\n",
              "    .colab-df-buttons div {\n",
              "      margin-bottom: 4px;\n",
              "    }\n",
              "\n",
              "    [theme=dark] .colab-df-convert {\n",
              "      background-color: #3B4455;\n",
              "      fill: #D2E3FC;\n",
              "    }\n",
              "\n",
              "    [theme=dark] .colab-df-convert:hover {\n",
              "      background-color: #434B5C;\n",
              "      box-shadow: 0px 1px 3px 1px rgba(0, 0, 0, 0.15);\n",
              "      filter: drop-shadow(0px 1px 2px rgba(0, 0, 0, 0.3));\n",
              "      fill: #FFFFFF;\n",
              "    }\n",
              "  </style>\n",
              "\n",
              "    <script>\n",
              "      const buttonEl =\n",
              "        document.querySelector('#df-11cbbdab-847e-49dc-95bd-505759e06ef2 button.colab-df-convert');\n",
              "      buttonEl.style.display =\n",
              "        google.colab.kernel.accessAllowed ? 'block' : 'none';\n",
              "\n",
              "      async function convertToInteractive(key) {\n",
              "        const element = document.querySelector('#df-11cbbdab-847e-49dc-95bd-505759e06ef2');\n",
              "        const dataTable =\n",
              "          await google.colab.kernel.invokeFunction('convertToInteractive',\n",
              "                                                    [key], {});\n",
              "        if (!dataTable) return;\n",
              "\n",
              "        const docLinkHtml = 'Like what you see? Visit the ' +\n",
              "          '<a target=\"_blank\" href=https://colab.research.google.com/notebooks/data_table.ipynb>data table notebook</a>'\n",
              "          + ' to learn more about interactive tables.';\n",
              "        element.innerHTML = '';\n",
              "        dataTable['output_type'] = 'display_data';\n",
              "        await google.colab.output.renderOutput(dataTable, element);\n",
              "        const docLink = document.createElement('div');\n",
              "        docLink.innerHTML = docLinkHtml;\n",
              "        element.appendChild(docLink);\n",
              "      }\n",
              "    </script>\n",
              "  </div>\n",
              "\n",
              "\n",
              "<div id=\"df-217678e3-6ba5-4ad3-9d09-b6a60063a030\">\n",
              "  <button class=\"colab-df-quickchart\" onclick=\"quickchart('df-217678e3-6ba5-4ad3-9d09-b6a60063a030')\"\n",
              "            title=\"Suggest charts\"\n",
              "            style=\"display:none;\">\n",
              "\n",
              "<svg xmlns=\"http://www.w3.org/2000/svg\" height=\"24px\"viewBox=\"0 0 24 24\"\n",
              "     width=\"24px\">\n",
              "    <g>\n",
              "        <path d=\"M19 3H5c-1.1 0-2 .9-2 2v14c0 1.1.9 2 2 2h14c1.1 0 2-.9 2-2V5c0-1.1-.9-2-2-2zM9 17H7v-7h2v7zm4 0h-2V7h2v10zm4 0h-2v-4h2v4z\"/>\n",
              "    </g>\n",
              "</svg>\n",
              "  </button>\n",
              "\n",
              "<style>\n",
              "  .colab-df-quickchart {\n",
              "      --bg-color: #E8F0FE;\n",
              "      --fill-color: #1967D2;\n",
              "      --hover-bg-color: #E2EBFA;\n",
              "      --hover-fill-color: #174EA6;\n",
              "      --disabled-fill-color: #AAA;\n",
              "      --disabled-bg-color: #DDD;\n",
              "  }\n",
              "\n",
              "  [theme=dark] .colab-df-quickchart {\n",
              "      --bg-color: #3B4455;\n",
              "      --fill-color: #D2E3FC;\n",
              "      --hover-bg-color: #434B5C;\n",
              "      --hover-fill-color: #FFFFFF;\n",
              "      --disabled-bg-color: #3B4455;\n",
              "      --disabled-fill-color: #666;\n",
              "  }\n",
              "\n",
              "  .colab-df-quickchart {\n",
              "    background-color: var(--bg-color);\n",
              "    border: none;\n",
              "    border-radius: 50%;\n",
              "    cursor: pointer;\n",
              "    display: none;\n",
              "    fill: var(--fill-color);\n",
              "    height: 32px;\n",
              "    padding: 0;\n",
              "    width: 32px;\n",
              "  }\n",
              "\n",
              "  .colab-df-quickchart:hover {\n",
              "    background-color: var(--hover-bg-color);\n",
              "    box-shadow: 0 1px 2px rgba(60, 64, 67, 0.3), 0 1px 3px 1px rgba(60, 64, 67, 0.15);\n",
              "    fill: var(--button-hover-fill-color);\n",
              "  }\n",
              "\n",
              "  .colab-df-quickchart-complete:disabled,\n",
              "  .colab-df-quickchart-complete:disabled:hover {\n",
              "    background-color: var(--disabled-bg-color);\n",
              "    fill: var(--disabled-fill-color);\n",
              "    box-shadow: none;\n",
              "  }\n",
              "\n",
              "  .colab-df-spinner {\n",
              "    border: 2px solid var(--fill-color);\n",
              "    border-color: transparent;\n",
              "    border-bottom-color: var(--fill-color);\n",
              "    animation:\n",
              "      spin 1s steps(1) infinite;\n",
              "  }\n",
              "\n",
              "  @keyframes spin {\n",
              "    0% {\n",
              "      border-color: transparent;\n",
              "      border-bottom-color: var(--fill-color);\n",
              "      border-left-color: var(--fill-color);\n",
              "    }\n",
              "    20% {\n",
              "      border-color: transparent;\n",
              "      border-left-color: var(--fill-color);\n",
              "      border-top-color: var(--fill-color);\n",
              "    }\n",
              "    30% {\n",
              "      border-color: transparent;\n",
              "      border-left-color: var(--fill-color);\n",
              "      border-top-color: var(--fill-color);\n",
              "      border-right-color: var(--fill-color);\n",
              "    }\n",
              "    40% {\n",
              "      border-color: transparent;\n",
              "      border-right-color: var(--fill-color);\n",
              "      border-top-color: var(--fill-color);\n",
              "    }\n",
              "    60% {\n",
              "      border-color: transparent;\n",
              "      border-right-color: var(--fill-color);\n",
              "    }\n",
              "    80% {\n",
              "      border-color: transparent;\n",
              "      border-right-color: var(--fill-color);\n",
              "      border-bottom-color: var(--fill-color);\n",
              "    }\n",
              "    90% {\n",
              "      border-color: transparent;\n",
              "      border-bottom-color: var(--fill-color);\n",
              "    }\n",
              "  }\n",
              "</style>\n",
              "\n",
              "  <script>\n",
              "    async function quickchart(key) {\n",
              "      const quickchartButtonEl =\n",
              "        document.querySelector('#' + key + ' button');\n",
              "      quickchartButtonEl.disabled = true;  // To prevent multiple clicks.\n",
              "      quickchartButtonEl.classList.add('colab-df-spinner');\n",
              "      try {\n",
              "        const charts = await google.colab.kernel.invokeFunction(\n",
              "            'suggestCharts', [key], {});\n",
              "      } catch (error) {\n",
              "        console.error('Error during call to suggestCharts:', error);\n",
              "      }\n",
              "      quickchartButtonEl.classList.remove('colab-df-spinner');\n",
              "      quickchartButtonEl.classList.add('colab-df-quickchart-complete');\n",
              "    }\n",
              "    (() => {\n",
              "      let quickchartButtonEl =\n",
              "        document.querySelector('#df-217678e3-6ba5-4ad3-9d09-b6a60063a030 button');\n",
              "      quickchartButtonEl.style.display =\n",
              "        google.colab.kernel.accessAllowed ? 'block' : 'none';\n",
              "    })();\n",
              "  </script>\n",
              "</div>\n",
              "\n",
              "    </div>\n",
              "  </div>\n"
            ],
            "application/vnd.google.colaboratory.intrinsic+json": {
              "type": "dataframe",
              "variable_name": "df",
              "summary": "{\n  \"name\": \"df\",\n  \"rows\": 48842,\n  \"fields\": [\n    {\n      \"column\": \"age\",\n      \"properties\": {\n        \"dtype\": \"number\",\n        \"std\": 13,\n        \"min\": 17,\n        \"max\": 90,\n        \"num_unique_values\": 74,\n        \"samples\": [\n          18,\n          74,\n          40\n        ],\n        \"semantic_type\": \"\",\n        \"description\": \"\"\n      }\n    },\n    {\n      \"column\": \"workclass\",\n      \"properties\": {\n        \"dtype\": \"category\",\n        \"num_unique_values\": 9,\n        \"samples\": [\n          \"Without-pay\",\n          \"Local-gov\",\n          \"State-gov\"\n        ],\n        \"semantic_type\": \"\",\n        \"description\": \"\"\n      }\n    },\n    {\n      \"column\": \"fnlwgt\",\n      \"properties\": {\n        \"dtype\": \"number\",\n        \"std\": 105604,\n        \"min\": 12285,\n        \"max\": 1490400,\n        \"num_unique_values\": 28523,\n        \"samples\": [\n          171041,\n          20296,\n          263896\n        ],\n        \"semantic_type\": \"\",\n        \"description\": \"\"\n      }\n    },\n    {\n      \"column\": \"education\",\n      \"properties\": {\n        \"dtype\": \"category\",\n        \"num_unique_values\": 16,\n        \"samples\": [\n          \"11th\",\n          \"HS-grad\",\n          \"Prof-school\"\n        ],\n        \"semantic_type\": \"\",\n        \"description\": \"\"\n      }\n    },\n    {\n      \"column\": \"educational-num\",\n      \"properties\": {\n        \"dtype\": \"number\",\n        \"std\": 2,\n        \"min\": 1,\n        \"max\": 16,\n        \"num_unique_values\": 16,\n        \"samples\": [\n          7,\n          9,\n          15\n        ],\n        \"semantic_type\": \"\",\n        \"description\": \"\"\n      }\n    },\n    {\n      \"column\": \"marital-status\",\n      \"properties\": {\n        \"dtype\": \"category\",\n        \"num_unique_values\": 7,\n        \"samples\": [\n          \"Never-married\",\n          \"Married-civ-spouse\",\n          \"Married-spouse-absent\"\n        ],\n        \"semantic_type\": \"\",\n        \"description\": \"\"\n      }\n    },\n    {\n      \"column\": \"occupation\",\n      \"properties\": {\n        \"dtype\": \"category\",\n        \"num_unique_values\": 15,\n        \"samples\": [\n          \"Tech-support\",\n          \"Priv-house-serv\",\n          \"Machine-op-inspct\"\n        ],\n        \"semantic_type\": \"\",\n        \"description\": \"\"\n      }\n    },\n    {\n      \"column\": \"relationship\",\n      \"properties\": {\n        \"dtype\": \"category\",\n        \"num_unique_values\": 6,\n        \"samples\": [\n          \"Own-child\",\n          \"Husband\",\n          \"Other-relative\"\n        ],\n        \"semantic_type\": \"\",\n        \"description\": \"\"\n      }\n    },\n    {\n      \"column\": \"race\",\n      \"properties\": {\n        \"dtype\": \"category\",\n        \"num_unique_values\": 5,\n        \"samples\": [\n          \"White\",\n          \"Amer-Indian-Eskimo\",\n          \"Asian-Pac-Islander\"\n        ],\n        \"semantic_type\": \"\",\n        \"description\": \"\"\n      }\n    },\n    {\n      \"column\": \"gender\",\n      \"properties\": {\n        \"dtype\": \"category\",\n        \"num_unique_values\": 2,\n        \"samples\": [\n          \"Female\",\n          \"Male\"\n        ],\n        \"semantic_type\": \"\",\n        \"description\": \"\"\n      }\n    },\n    {\n      \"column\": \"capital-gain\",\n      \"properties\": {\n        \"dtype\": \"number\",\n        \"std\": 7452,\n        \"min\": 0,\n        \"max\": 99999,\n        \"num_unique_values\": 123,\n        \"samples\": [\n          4064,\n          4787\n        ],\n        \"semantic_type\": \"\",\n        \"description\": \"\"\n      }\n    },\n    {\n      \"column\": \"capital-loss\",\n      \"properties\": {\n        \"dtype\": \"number\",\n        \"std\": 403,\n        \"min\": 0,\n        \"max\": 4356,\n        \"num_unique_values\": 99,\n        \"samples\": [\n          2238,\n          1564\n        ],\n        \"semantic_type\": \"\",\n        \"description\": \"\"\n      }\n    },\n    {\n      \"column\": \"hours-per-week\",\n      \"properties\": {\n        \"dtype\": \"number\",\n        \"std\": 12,\n        \"min\": 1,\n        \"max\": 99,\n        \"num_unique_values\": 96,\n        \"samples\": [\n          9,\n          11\n        ],\n        \"semantic_type\": \"\",\n        \"description\": \"\"\n      }\n    },\n    {\n      \"column\": \"native-country\",\n      \"properties\": {\n        \"dtype\": \"category\",\n        \"num_unique_values\": 42,\n        \"samples\": [\n          \"Canada\",\n          \"Vietnam\"\n        ],\n        \"semantic_type\": \"\",\n        \"description\": \"\"\n      }\n    },\n    {\n      \"column\": \"income\",\n      \"properties\": {\n        \"dtype\": \"category\",\n        \"num_unique_values\": 2,\n        \"samples\": [\n          \">50K\",\n          \"<=50K\"\n        ],\n        \"semantic_type\": \"\",\n        \"description\": \"\"\n      }\n    }\n  ]\n}"
            }
          },
          "metadata": {},
          "execution_count": 12
        }
      ]
    },
    {
      "cell_type": "markdown",
      "source": [
        "# Data Cleaning"
      ],
      "metadata": {
        "id": "Bowp3NXsO0fa"
      }
    },
    {
      "cell_type": "code",
      "source": [
        "# Create a copy of the original DataFrame\n",
        "#df_copy = df.copy()"
      ],
      "metadata": {
        "id": "CKpH13-YU_Rn"
      },
      "execution_count": null,
      "outputs": []
    },
    {
      "cell_type": "markdown",
      "source": [
        "## Check for Missing values"
      ],
      "metadata": {
        "id": "lfofGtceO2XB"
      }
    },
    {
      "cell_type": "code",
      "source": [
        "df.isnull().sum()"
      ],
      "metadata": {
        "colab": {
          "base_uri": "https://localhost:8080/"
        },
        "id": "Wb-MlsdrO45K",
        "outputId": "8fd5e468-8e72-409a-c0a0-870bb934e8e1"
      },
      "execution_count": 13,
      "outputs": [
        {
          "output_type": "execute_result",
          "data": {
            "text/plain": [
              "age                0\n",
              "workclass          0\n",
              "fnlwgt             0\n",
              "education          0\n",
              "educational-num    0\n",
              "marital-status     0\n",
              "occupation         0\n",
              "relationship       0\n",
              "race               0\n",
              "gender             0\n",
              "capital-gain       0\n",
              "capital-loss       0\n",
              "hours-per-week     0\n",
              "native-country     0\n",
              "income             0\n",
              "dtype: int64"
            ]
          },
          "metadata": {},
          "execution_count": 13
        }
      ]
    },
    {
      "cell_type": "markdown",
      "source": [
        "## Check for data types"
      ],
      "metadata": {
        "id": "BsojB8B2PF5p"
      }
    },
    {
      "cell_type": "code",
      "source": [
        "df.dtypes"
      ],
      "metadata": {
        "colab": {
          "base_uri": "https://localhost:8080/"
        },
        "id": "HSFUGPl7PINx",
        "outputId": "70059cdd-1810-498f-bbf9-dc6f9158de87"
      },
      "execution_count": 14,
      "outputs": [
        {
          "output_type": "execute_result",
          "data": {
            "text/plain": [
              "age                 int64\n",
              "workclass          object\n",
              "fnlwgt              int64\n",
              "education          object\n",
              "educational-num     int64\n",
              "marital-status     object\n",
              "occupation         object\n",
              "relationship       object\n",
              "race               object\n",
              "gender             object\n",
              "capital-gain        int64\n",
              "capital-loss        int64\n",
              "hours-per-week      int64\n",
              "native-country     object\n",
              "income             object\n",
              "dtype: object"
            ]
          },
          "metadata": {},
          "execution_count": 14
        }
      ]
    },
    {
      "cell_type": "markdown",
      "source": [
        "### Inspect individual colums for unique values"
      ],
      "metadata": {
        "id": "rDjB4XC8PyET"
      }
    },
    {
      "cell_type": "code",
      "source": [
        "# Print unique values in each column\n",
        "for col in df.columns:\n",
        "    unique_values = df[col].unique()\n",
        "    print(f\"Unique values in column '{col}': {unique_values}\")"
      ],
      "metadata": {
        "colab": {
          "base_uri": "https://localhost:8080/"
        },
        "id": "5-t4cepGIUXE",
        "outputId": "1861eb3a-b8b1-4c53-f581-dbd71c21de77"
      },
      "execution_count": 15,
      "outputs": [
        {
          "output_type": "stream",
          "name": "stdout",
          "text": [
            "Unique values in column 'age': [25 38 28 44 18 34 29 63 24 55 65 36 26 58 48 43 20 37 40 72 45 22 23 54\n",
            " 32 46 56 17 39 52 21 42 33 30 47 41 19 69 50 31 59 49 51 27 57 61 64 79\n",
            " 73 53 77 80 62 35 68 66 75 60 67 71 70 90 81 74 78 82 83 85 76 84 89 88\n",
            " 87 86]\n",
            "Unique values in column 'workclass': ['Private' 'Local-gov' '?' 'Self-emp-not-inc' 'Federal-gov' 'State-gov'\n",
            " 'Self-emp-inc' 'Without-pay' 'Never-worked']\n",
            "Unique values in column 'fnlwgt': [226802  89814 336951 ... 129912 255835 257302]\n",
            "Unique values in column 'education': ['11th' 'HS-grad' 'Assoc-acdm' 'Some-college' '10th' 'Prof-school'\n",
            " '7th-8th' 'Bachelors' 'Masters' 'Doctorate' '5th-6th' 'Assoc-voc' '9th'\n",
            " '12th' '1st-4th' 'Preschool']\n",
            "Unique values in column 'educational-num': [ 7  9 12 10  6 15  4 13 14 16  3 11  5  8  2  1]\n",
            "Unique values in column 'marital-status': ['Never-married' 'Married-civ-spouse' 'Widowed' 'Divorced' 'Separated'\n",
            " 'Married-spouse-absent' 'Married-AF-spouse']\n",
            "Unique values in column 'occupation': ['Machine-op-inspct' 'Farming-fishing' 'Protective-serv' '?'\n",
            " 'Other-service' 'Prof-specialty' 'Craft-repair' 'Adm-clerical'\n",
            " 'Exec-managerial' 'Tech-support' 'Sales' 'Priv-house-serv'\n",
            " 'Transport-moving' 'Handlers-cleaners' 'Armed-Forces']\n",
            "Unique values in column 'relationship': ['Own-child' 'Husband' 'Not-in-family' 'Unmarried' 'Wife' 'Other-relative']\n",
            "Unique values in column 'race': ['Black' 'White' 'Asian-Pac-Islander' 'Other' 'Amer-Indian-Eskimo']\n",
            "Unique values in column 'gender': ['Male' 'Female']\n",
            "Unique values in column 'capital-gain': [    0  7688  3103  6418  7298  3908 14084  5178 15024 99999  2597  2907\n",
            "  4650  6497  1055  5013 27828  4934  4064  3674  2174 10605  3418   114\n",
            "  2580  3411  4508  4386  8614 13550  6849  2463  3137  2885  2964  1471\n",
            " 10566  2354  1424  1455  3325  4416 25236   594  2105  4787  2829   401\n",
            "  4865  1264  1506 10520  3464  2653 20051  4101  1797  2407  3471  1086\n",
            "  1848 14344  1151  2993  2290 15020  9386  2202  3818  2176  5455 11678\n",
            "  7978  7262  6514 41310  3456  7430  2414  2062 34095  1831  6723  5060\n",
            " 15831  2977  2346  3273  2329  9562  2635  4931  1731  6097   914  7896\n",
            "  5556  1409  3781  3942  2538  3887 25124  7443  5721  1173  4687  6612\n",
            "  6767  2961   991  2036  2936  2050  1111  2228 22040  3432  6360  2009\n",
            "  1639 18481  2387]\n",
            "Unique values in column 'capital-loss': [   0 1721 1876 2415 1887  625 1977 2057 1429 1590 1485 2051 2377 1672\n",
            " 1628 1902 1602 1741 2444 1408 2001 2042 1740 1825 1848 1719 3004 2179\n",
            " 1573 2205 1258 2339 1726 2258 1340 1504 2559 1668 1974 1980 1564 2547\n",
            " 2002 1669 1617  323 3175 2472 2174 1579 2129 1510 1735 2282 1870 1411\n",
            " 1911 1651 1092 1762 2457 2231 2238  653 1138 2246 2603 2392 1944 1380\n",
            " 2465 1421 3770 1594  213 2149 2824 1844 2467 2163 1816 1648 2206 2352\n",
            "  419 1539  880  810  974 4356 2489 1755 3683 2267 2080  155 3900 2201\n",
            " 2754]\n",
            "Unique values in column 'hours-per-week': [40 50 30 32 10 39 35 48 25 20 45 47  6 43 90 54 60 38 36 18 24 44 56 28\n",
            " 16 41 22 55 14 33 37  8 12 70 15 75 52 84 42 80 68 99 65  5 17 72 53 29\n",
            " 96 21 46  3  1 23 49 67 76  7  2 58 26 34  4 51 78 63 31 92 77 27 85 13\n",
            " 19 98 62 66 57 11 86 59  9 64 73 61 88 79 89 74 69 87 97 94 82 91 81 95]\n",
            "Unique values in column 'native-country': ['United-States' '?' 'Peru' 'Guatemala' 'Mexico' 'Dominican-Republic'\n",
            " 'Ireland' 'Germany' 'Philippines' 'Thailand' 'Haiti' 'El-Salvador'\n",
            " 'Puerto-Rico' 'Vietnam' 'South' 'Columbia' 'Japan' 'India' 'Cambodia'\n",
            " 'Poland' 'Laos' 'England' 'Cuba' 'Taiwan' 'Italy' 'Canada' 'Portugal'\n",
            " 'China' 'Nicaragua' 'Honduras' 'Iran' 'Scotland' 'Jamaica' 'Ecuador'\n",
            " 'Yugoslavia' 'Hungary' 'Hong' 'Greece' 'Trinadad&Tobago'\n",
            " 'Outlying-US(Guam-USVI-etc)' 'France' 'Holand-Netherlands']\n",
            "Unique values in column 'income': ['<=50K' '>50K']\n"
          ]
        }
      ]
    },
    {
      "cell_type": "code",
      "source": [
        "df['age'].unique()"
      ],
      "metadata": {
        "colab": {
          "base_uri": "https://localhost:8080/"
        },
        "id": "AsCOGsdFSxqy",
        "outputId": "ead8af6b-c914-43ff-d65f-130f4ac02806"
      },
      "execution_count": 7,
      "outputs": [
        {
          "output_type": "execute_result",
          "data": {
            "text/plain": [
              "array([25, 38, 28, 44, 18, 34, 29, 63, 24, 55, 65, 36, 26, 58, 48, 43, 20,\n",
              "       37, 40, 72, 45, 22, 23, 54, 32, 46, 56, 17, 39, 52, 21, 42, 33, 30,\n",
              "       47, 41, 19, 69, 50, 31, 59, 49, 51, 27, 57, 61, 64, 79, 73, 53, 77,\n",
              "       80, 62, 35, 68, 66, 75, 60, 67, 71, 70, 90, 81, 74, 78, 82, 83, 85,\n",
              "       76, 84, 89, 88, 87, 86])"
            ]
          },
          "metadata": {},
          "execution_count": 7
        }
      ]
    },
    {
      "cell_type": "code",
      "source": [
        "\n",
        "# Define the number of bins for age\n",
        "num_bins = 5\n",
        "# Create the bins\n",
        "df['Binned_age'] = pd.cut(df['age'], bins=num_bins)\n",
        "# the output is now categorical and lets label eoncode it\n",
        "label_encoder = LabelEncoder()\n",
        "df['Encoded_Binned_age'] = label_encoder.fit_transform(df['Binned_age'])\n",
        "\n",
        "# Dropping the oridinal column\n",
        "# Drop the original age column\n",
        "df.drop('age', axis=1, inplace=True)\n",
        "df.drop('Binned_age', axis=1, inplace=True)"
      ],
      "metadata": {
        "id": "XqtdTHkVP2bI"
      },
      "execution_count": 16,
      "outputs": []
    },
    {
      "cell_type": "code",
      "source": [
        "df.dtypes"
      ],
      "metadata": {
        "colab": {
          "base_uri": "https://localhost:8080/"
        },
        "id": "YZz5Q_zvShkZ",
        "outputId": "c6e5fc8d-f2b2-4834-bce0-ad621a719f86"
      },
      "execution_count": 17,
      "outputs": [
        {
          "output_type": "execute_result",
          "data": {
            "text/plain": [
              "workclass             object\n",
              "fnlwgt                 int64\n",
              "education             object\n",
              "educational-num        int64\n",
              "marital-status        object\n",
              "occupation            object\n",
              "relationship          object\n",
              "race                  object\n",
              "gender                object\n",
              "capital-gain           int64\n",
              "capital-loss           int64\n",
              "hours-per-week         int64\n",
              "native-country        object\n",
              "income                object\n",
              "Encoded_Binned_age     int64\n",
              "dtype: object"
            ]
          },
          "metadata": {},
          "execution_count": 17
        }
      ]
    },
    {
      "cell_type": "code",
      "source": [
        "# Encording the Workclass column\n",
        "df['workclass'].isnull().sum()\n",
        "# Apply Label Encoding\n",
        "label_encoder = LabelEncoder()\n",
        "df['workclass_encoded'] = label_encoder.fit_transform(df['workclass'])\n",
        "df.drop('workclass', axis=1, inplace=True)"
      ],
      "metadata": {
        "id": "kAXn76pUTCLF"
      },
      "execution_count": 18,
      "outputs": []
    },
    {
      "cell_type": "code",
      "source": [
        "df['workclass_encoded'].unique()"
      ],
      "metadata": {
        "colab": {
          "base_uri": "https://localhost:8080/"
        },
        "id": "Nsh5GnonWe4C",
        "outputId": "de916c69-e74a-4d36-ee7d-c7166bbc46c5"
      },
      "execution_count": 19,
      "outputs": [
        {
          "output_type": "execute_result",
          "data": {
            "text/plain": [
              "array([4, 2, 0, 6, 1, 7, 5, 8, 3])"
            ]
          },
          "metadata": {},
          "execution_count": 19
        }
      ]
    },
    {
      "cell_type": "code",
      "source": [
        "df['education'].unique()"
      ],
      "metadata": {
        "colab": {
          "base_uri": "https://localhost:8080/"
        },
        "id": "Au0h22jEYvC6",
        "outputId": "ffbff540-149e-4fe7-f06b-e3fdee7e10f7"
      },
      "execution_count": 20,
      "outputs": [
        {
          "output_type": "execute_result",
          "data": {
            "text/plain": [
              "array(['11th', 'HS-grad', 'Assoc-acdm', 'Some-college', '10th',\n",
              "       'Prof-school', '7th-8th', 'Bachelors', 'Masters', 'Doctorate',\n",
              "       '5th-6th', 'Assoc-voc', '9th', '12th', '1st-4th', 'Preschool'],\n",
              "      dtype=object)"
            ]
          },
          "metadata": {},
          "execution_count": 20
        }
      ]
    },
    {
      "cell_type": "code",
      "source": [
        "# Encoding the Education column\n",
        "# Apply Label Encoding\n",
        "label_encoder = LabelEncoder()\n",
        "df['education_encoded'] = label_encoder.fit_transform(df['education'])\n",
        "df.drop('education',axis=1, inplace=True)"
      ],
      "metadata": {
        "id": "oYmPhBllZZ5E"
      },
      "execution_count": 21,
      "outputs": []
    },
    {
      "cell_type": "code",
      "source": [
        "df['education_encoded'].unique()"
      ],
      "metadata": {
        "colab": {
          "base_uri": "https://localhost:8080/"
        },
        "id": "_SrvrNZDaCy0",
        "outputId": "3dc896ee-56e6-45bb-ba8a-88a5215461b5"
      },
      "execution_count": 22,
      "outputs": [
        {
          "output_type": "execute_result",
          "data": {
            "text/plain": [
              "array([ 1, 11,  7, 15,  0, 14,  5,  9, 12, 10,  4,  8,  6,  2,  3, 13])"
            ]
          },
          "metadata": {},
          "execution_count": 22
        }
      ]
    },
    {
      "cell_type": "code",
      "source": [
        "df['marital-status'].unique()"
      ],
      "metadata": {
        "colab": {
          "base_uri": "https://localhost:8080/"
        },
        "id": "-c_NQCjbbHky",
        "outputId": "ce6444d0-091e-4b64-ee58-9d4bde7c31cb"
      },
      "execution_count": 23,
      "outputs": [
        {
          "output_type": "execute_result",
          "data": {
            "text/plain": [
              "array(['Never-married', 'Married-civ-spouse', 'Widowed', 'Divorced',\n",
              "       'Separated', 'Married-spouse-absent', 'Married-AF-spouse'],\n",
              "      dtype=object)"
            ]
          },
          "metadata": {},
          "execution_count": 23
        }
      ]
    },
    {
      "cell_type": "code",
      "source": [
        "# Apply One-Hot Encoding to categorical columns\n",
        "df = pd.get_dummies(df, columns=['marital-status', 'occupation', 'relationship', 'race', 'gender', 'native-country'])\n",
        "df['income'] = label_encoder.fit_transform(df['income'])"
      ],
      "metadata": {
        "id": "Iw-e107qdMa9"
      },
      "execution_count": 29,
      "outputs": []
    },
    {
      "cell_type": "markdown",
      "source": [
        "# Data Exploration and Visulisation"
      ],
      "metadata": {
        "id": "qH6y2MvusWbl"
      }
    },
    {
      "cell_type": "markdown",
      "source": [
        "## Bar plot of age distribution"
      ],
      "metadata": {
        "id": "Lk9YySnZssQK"
      }
    },
    {
      "cell_type": "code",
      "source": [
        "# Bar plot of age distribution\n",
        "plt.figure(figsize=(10, 6))\n",
        "sns.histplot(df['Encoded_Binned_age'], bins=20, kde=True)\n",
        "plt.title('Age Distribution')\n",
        "plt.xlabel('Age')\n",
        "plt.ylabel('Frequency')\n",
        "plt.show()"
      ],
      "metadata": {
        "colab": {
          "base_uri": "https://localhost:8080/",
          "height": 564
        },
        "id": "Wh9kYPw3sv6d",
        "outputId": "42d71bf0-7451-4ead-bc6a-cd117f1ee34e"
      },
      "execution_count": 32,
      "outputs": [
        {
          "output_type": "display_data",
          "data": {
            "text/plain": [
              "<Figure size 1000x600 with 1 Axes>"
            ],
            "image/png": "[encoded data removed]"
          },
          "metadata": {}
        }
      ]
    },
    {
      "cell_type": "code",
      "source": [
        "msno.matrix(df, figsize=(10, 6))\n",
        "plt.title('Missing Values in DataFrame')\n",
        "plt.show()"
      ],
      "metadata": {
        "colab": {
          "base_uri": "https://localhost:8080/",
          "height": 538
        },
        "id": "xukKAB8nsdBt",
        "outputId": "86d6e244-0f4f-4645-8647-5b39d63ccde8"
      },
      "execution_count": 30,
      "outputs": [
        {
          "output_type": "display_data",
          "data": {
            "text/plain": [
              "<Figure size 1000x600 with 2 Axes>"
            ],
            "image/png": "[encoded data removed]"
          },
          "metadata": {}
        }
      ]
    },
    {
      "cell_type": "markdown",
      "source": [
        "## Bar plot of education level"
      ],
      "metadata": {
        "id": "mnqPSH4Ssy-o"
      }
    },
    {
      "cell_type": "code",
      "source": [
        "# Bar plot of education level\n",
        "plt.figure(figsize=(10, 6))\n",
        "sns.countplot(x='education_encoded', data=df)\n",
        "plt.title('Education Level Distribution')\n",
        "plt.xlabel('Education Level')\n",
        "plt.ylabel('Count')\n",
        "plt.xticks(rotation=45)\n",
        "plt.show()"
      ],
      "metadata": {
        "colab": {
          "base_uri": "https://localhost:8080/",
          "height": 573
        },
        "id": "7E5mvjqes2p_",
        "outputId": "e16a28ed-d1f6-47a3-871c-c9e39c1bc965"
      },
      "execution_count": 34,
      "outputs": [
        {
          "output_type": "display_data",
          "data": {
            "text/plain": [
              "<Figure size 1000x600 with 1 Axes>"
            ],
            "image/png": "[encoded data removed]"
          },
          "metadata": {}
        }
      ]
    },
    {
      "cell_type": "markdown",
      "source": [
        "# Splitting the data"
      ],
      "metadata": {
        "id": "pslMaTxzd_Ny"
      }
    },
    {
      "cell_type": "code",
      "source": [
        "# Separate features (X) and target (y)\n",
        "X = df.drop('income', axis=1)\n",
        "y = df['income']\n",
        "\n",
        "# Split into training and testing sets\n",
        "X_train, X_test, y_train, y_test = train_test_split(X, y, test_size=0.2, random_state=42)\n",
        "\n",
        "# Initialize StandardScaler\n",
        "scaler = StandardScaler()\n",
        "\n",
        "# Fit the scaler on the training data and transform both the training and testing data\n",
        "X_train_scaled = scaler.fit_transform(X_train)\n",
        "X_test_scaled = scaler.transform(X_test)"
      ],
      "metadata": {
        "id": "hB_GIsQseBUm"
      },
      "execution_count": 35,
      "outputs": []
    },
    {
      "cell_type": "markdown",
      "source": [
        "## Imputing the missing values"
      ],
      "metadata": {
        "id": "A9VDYfpneWCL"
      }
    },
    {
      "cell_type": "code",
      "source": [
        "# Impute missing values in training set\n",
        "imputer = SimpleImputer(strategy='most_frequent')  # You can choose a suitable imputation strategy\n",
        "X_train_imputed = pd.DataFrame(imputer.fit_transform(X_train_scaled), columns=X_train.columns)"
      ],
      "metadata": {
        "id": "Mp6fU7i7ebts"
      },
      "execution_count": 36,
      "outputs": []
    },
    {
      "cell_type": "code",
      "source": [
        "# Impute missing values in testing set (using the same imputer)\n",
        "X_test_imputed = pd.DataFrame(imputer.transform(X_test_scaled), columns=X_test.columns)"
      ],
      "metadata": {
        "id": "pINRfcs4ehBO"
      },
      "execution_count": 37,
      "outputs": []
    },
    {
      "cell_type": "code",
      "source": [
        "# Check if any missing values remain\n",
        "print(\"Missing values in X_train_imputed:\", X_train_imputed.isnull().sum().sum())\n",
        "print(\"Missing values in X_test_imputed:\", X_test_imputed.isnull().sum().sum())"
      ],
      "metadata": {
        "colab": {
          "base_uri": "https://localhost:8080/"
        },
        "id": "yGuDJb8lekKH",
        "outputId": "2db395a2-f98d-4aae-fa6e-72a24f58ed20"
      },
      "execution_count": 38,
      "outputs": [
        {
          "output_type": "stream",
          "name": "stdout",
          "text": [
            "Missing values in X_train_imputed: 0\n",
            "Missing values in X_test_imputed: 0\n"
          ]
        }
      ]
    },
    {
      "cell_type": "markdown",
      "source": [
        "# Fit and Evaluate the model"
      ],
      "metadata": {
        "id": "d7BnQBYZjaon"
      }
    },
    {
      "cell_type": "code",
      "source": [
        "from sklearn.metrics import accuracy_score, precision_score, recall_score, f1_score, confusion_matrix\n",
        "import pandas as pd\n",
        "\n",
        "def classification_metrics(y_true, y_pred, label='', verbose=True, output_dict=False):\n",
        "    # Get metrics\n",
        "    accuracy = accuracy_score(y_true, y_pred)\n",
        "    precision = precision_score(y_true, y_pred)\n",
        "    recall = recall_score(y_true, y_pred)\n",
        "    f1 = f1_score(y_true, y_pred)\n",
        "    cm = confusion_matrix(y_true, y_pred)\n",
        "    if verbose:\n",
        "        # Print Result with Label and Header\n",
        "        header = \"-\" * 60\n",
        "        print(header, f\"Classification Metrics: {label}\", header, sep='\\n')\n",
        "        print(f\"- Accuracy = {accuracy:,.3f}\")\n",
        "        print(f\"- Precision = {precision:,.3f}\")\n",
        "        print(f\"- Recall = {recall:,.3f}\")\n",
        "        print(f\"- F1-score = {f1:,.3f}\")\n",
        "        print(\"Confusion Matrix:\")\n",
        "        print(cm)\n",
        "    if output_dict:\n",
        "        metrics = {'Label': label, 'Accuracy': accuracy,\n",
        "                   'Precision': precision, 'Recall': recall, 'F1-score': f1, 'Confusion Matrix': cm}\n",
        "        return metrics\n",
        "\n",
        "def evaluate_classification(clf, X_train, y_train, X_test, y_test, verbose=True, output_frame=False):\n",
        "    # Get predictions for training data\n",
        "    y_train_pred = clf.predict(X_train)\n",
        "\n",
        "    # Call the helper function to obtain classification metrics for training data\n",
        "    results_train = classification_metrics(y_train, y_train_pred, verbose=verbose,\n",
        "                                            output_dict=output_frame,\n",
        "                                            label='Training Data')\n",
        "    print()\n",
        "    # Get predictions for test data\n",
        "    y_test_pred = clf.predict(X_test)\n",
        "    # Call the helper function to obtain classification metrics for test data\n",
        "    results_test = classification_metrics(y_test, y_test_pred, verbose=verbose,\n",
        "                                           output_dict=output_frame,\n",
        "                                           label='Test Data')\n",
        "\n",
        "    # Store results in a dataframe if output_frame is True\n",
        "    if output_frame:\n",
        "        results_df = pd.DataFrame([results_train, results_test])\n",
        "        # Set the label as the index\n",
        "        results_df = results_df.set_index('Label')\n",
        "        # Set index.name to none to get a cleaner looking result\n",
        "        results_df.index.name = None\n",
        "        # Return the dataframe\n",
        "        return results_df.round(3)\n"
      ],
      "metadata": {
        "id": "OosKMvDdjdit"
      },
      "execution_count": 39,
      "outputs": []
    },
    {
      "cell_type": "markdown",
      "source": [
        "**Fit and evaluate a model using your new features and compare it to your model from Part 1.**"
      ],
      "metadata": {
        "id": "-jyTRJvhN1Wl"
      }
    },
    {
      "cell_type": "markdown",
      "source": [
        "Apply at least one method of feature selection (filtering, embedded, wrapper) to your new features including engineered data.\n",
        "\n",
        "    Fit and evaluate a final model using the selected features. Compare it with previous models"
      ],
      "metadata": {
        "id": "Vnf900r2ncrb"
      }
    },
    {
      "cell_type": "code",
      "source": [
        "# Initialize and train your classification model (for example, RandomForestClassifier)\n",
        "clf = RandomForestClassifier(random_state=42)\n",
        "clf.fit(X_train_imputed, y_train)\n",
        "\n",
        "# Evaluate the classification model\n",
        "results = evaluate_classification(clf, X_train, y_train, X_test, y_test, verbose=True, output_frame=True)\n",
        "print(results)"
      ],
      "metadata": {
        "colab": {
          "base_uri": "https://localhost:8080/"
        },
        "id": "Rfd1lt2VjqI8",
        "outputId": "8b45b312-9348-42fd-d756-0fd592f09d32"
      },
      "execution_count": 40,
      "outputs": [
        {
          "output_type": "stream",
          "name": "stdout",
          "text": [
            "------------------------------------------------------------\n",
            "Classification Metrics: Training Data\n",
            "------------------------------------------------------------\n",
            "- Accuracy = 0.461\n",
            "- Precision = 0.305\n",
            "- Recall = 0.973\n",
            "- F1-score = 0.465\n",
            "Confusion Matrix:\n",
            "[[ 8866 20810]\n",
            " [  257  9140]]\n",
            "\n",
            "------------------------------------------------------------\n",
            "Classification Metrics: Test Data\n",
            "------------------------------------------------------------\n",
            "- Accuracy = 0.460\n",
            "- Precision = 0.299\n",
            "- Recall = 0.971\n",
            "- F1-score = 0.457\n",
            "Confusion Matrix:\n",
            "[[2271 5208]\n",
            " [  67 2223]]\n",
            "               Accuracy  Precision  Recall  F1-score  \\\n",
            "Training Data     0.461      0.305   0.973     0.465   \n",
            "Test Data         0.460      0.299   0.971     0.457   \n",
            "\n",
            "                           Confusion Matrix  \n",
            "Training Data  [[8866, 20810], [257, 9140]]  \n",
            "Test Data        [[2271, 5208], [67, 2223]]  \n"
          ]
        }
      ]
    },
    {
      "cell_type": "markdown",
      "source": [
        "Extract and visualize the top 10 features using permutation importance (from Intro to ML Week 4)"
      ],
      "metadata": {
        "id": "5CUVJWmonwZe"
      }
    },
    {
      "cell_type": "code",
      "source": [
        "from sklearn.inspection import permutation_importance\n",
        "import matplotlib.pyplot as plt\n",
        "\n",
        "# Fit your model (replace RandomForestClassifier with your trained model)\n",
        "clf.fit(X_train, y_train)\n",
        "\n",
        "# Calculate permutation importance\n",
        "perm_importance = permutation_importance(clf, X_test, y_test, n_repeats=10, random_state=42)\n",
        "\n",
        "# Extract feature importances and names\n",
        "feature_importance = perm_importance.importances_mean\n",
        "feature_names = X.columns\n",
        "\n",
        "# Sort feature importances and names\n",
        "sorted_indices = feature_importance.argsort()[::-1]\n",
        "sorted_feature_importance = feature_importance[sorted_indices]\n",
        "sorted_feature_names = feature_names[sorted_indices]\n",
        "\n",
        "# Plot the top 10 features\n",
        "top_n = 10\n",
        "plt.figure(figsize=(10, 6))\n",
        "plt.barh(range(top_n), sorted_feature_importance[:top_n], align='center')\n",
        "plt.yticks(range(top_n), sorted_feature_names[:top_n])\n",
        "plt.xlabel('Permutation Importance')\n",
        "plt.title('Top 10 Features by Permutation Importance')\n",
        "plt.gca().invert_yaxis()  # Invert y-axis to have the most important feature on top\n",
        "plt.show()\n"
      ],
      "metadata": {
        "colab": {
          "base_uri": "https://localhost:8080/",
          "height": 564
        },
        "id": "iQAxWeE1jX2H",
        "outputId": "3a020bcc-0be7-4f37-f136-965139e4c947"
      },
      "execution_count": null,
      "outputs": [
        {
          "output_type": "display_data",
          "data": {
            "text/plain": [
              "<Figure size 1000x600 with 1 Axes>"
            ],
            "image/png": "[encoded data removed]"
          },
          "metadata": {}
        }
      ]
    },
    {
      "cell_type": "markdown",
      "source": [
        "# Explanatory Visualizations for the most important features."
      ],
      "metadata": {
        "id": "PJh_JRdQvymI"
      }
    },
    {
      "cell_type": "markdown",
      "source": [
        "## Bar plot for average capital gain and education num by income"
      ],
      "metadata": {
        "id": "UxJrfth7v1D0"
      }
    },
    {
      "cell_type": "code",
      "source": [
        "# Bar plot for average capital gain and education num by income\n",
        "avg_data = df.groupby('income').agg({'capital-gain': 'mean', 'educational-num': 'mean'}).reset_index()\n",
        "\n",
        "plt.figure(figsize=(12, 6))\n",
        "\n",
        "plt.subplot(1, 2, 1)\n",
        "sns.barplot(x='income', y='capital-gain', data=avg_data, palette='Blues_d')\n",
        "plt.title('Average Capital Gain by Income')\n",
        "plt.xlabel('Income')\n",
        "plt.ylabel('Average Capital Gain')\n",
        "\n",
        "plt.subplot(1, 2, 2)\n",
        "sns.barplot(x='income', y='educational-num', data=avg_data, palette='Greens_d')\n",
        "plt.title('Average Education Num by Income')\n",
        "plt.xlabel('Income')\n",
        "plt.ylabel('Average Education Num')\n",
        "\n",
        "plt.tight_layout()\n",
        "plt.show()\n"
      ],
      "metadata": {
        "colab": {
          "base_uri": "https://localhost:8080/",
          "height": 692
        },
        "id": "iK7mWdeevFMP",
        "outputId": "f20383a9-f110-42c3-c279-754f2cf22005"
      },
      "execution_count": 41,
      "outputs": [
        {
          "output_type": "stream",
          "name": "stderr",
          "text": [
            "<ipython-input-41-a1db3832d68b>:7: FutureWarning: \n",
            "\n",
            "Passing `palette` without assigning `hue` is deprecated and will be removed in v0.14.0. Assign the `x` variable to `hue` and set `legend=False` for the same effect.\n",
            "\n",
            "  sns.barplot(x='income', y='capital-gain', data=avg_data, palette='Blues_d')\n",
            "<ipython-input-41-a1db3832d68b>:13: FutureWarning: \n",
            "\n",
            "Passing `palette` without assigning `hue` is deprecated and will be removed in v0.14.0. Assign the `x` variable to `hue` and set `legend=False` for the same effect.\n",
            "\n",
            "  sns.barplot(x='income', y='educational-num', data=avg_data, palette='Greens_d')\n"
          ]
        },
        {
          "output_type": "display_data",
          "data": {
            "text/plain": [
              "<Figure size 1200x600 with 2 Axes>"
            ],
            "image/png": "[encoded data removed]"
          },
          "metadata": {}
        }
      ]
    },
    {
      "cell_type": "markdown",
      "source": [
        "**Project 4 - Part 2 (Core):**\n",
        "> Add blockquote\n",
        "\n"
      ],
      "metadata": {
        "id": "Dmm-dcV2VFtR"
      }
    },
    {
      "cell_type": "markdown",
      "source": [
        "Task:\n",
        "**bold text**\n",
        "    Choose at least one feature engineering method to apply to the data and compare the models’  performance with and without engineering.\n",
        "        Some options include:\n",
        "            Apply PCA to get 3 principal components for the data. Concatenate/combine these PC’s with the original features (X_train, X_test data).\n",
        "            ​Remember to only fit the PCA on the training data and use pca.transform(X_test) to get the PCs for the testing data.\n",
        "            Apply clustering, select the appropriate number of clusters, and use the clustering object to get predicted cluster labels for the training and test data. Concatenate/combine these clusters with the original features.\n",
        "            Remember to only fit KMeans on the training data and use kmeans.predict(X_test) to create cluster labels for the test data.\n",
        "            Create additional features by applying the feature engineering techniques demonstrated in the LP.\n",
        "        Fit and evaluate a model using your new features and compare it to your model from Part 1."
      ],
      "metadata": {
        "id": "UF2eivmqPMgW"
      }
    },
    {
      "cell_type": "markdown",
      "source": [
        "Apply at least one method of feature selection (filtering, embedded, wrapper) to your new features including engineered data.\n",
        "\n",
        "    Fit and evaluate a final model using the selected features. Compare it with previous models\n",
        "\n",
        "Extract and visualize the top 10 features using permutation importance (from Intro to ML Week 4).\n",
        "In a Markdown cell, comment on how these features compare to the model from Part 1. Are there any new features in the top 10?"
      ],
      "metadata": {
        "id": "WZmcLIXWPR9E"
      }
    },
    {
      "cell_type": "code",
      "source": [
        "#imports\n",
        "from sklearn.decomposition import PCA\n",
        "from sklearn.feature_selection import SelectFromModel\n",
        "from sklearn.ensemble import RandomForestClassifier\n",
        "from sklearn.metrics import accuracy_score"
      ],
      "metadata": {
        "id": "ltYzg4OfVIOs"
      },
      "execution_count": 53,
      "outputs": []
    },
    {
      "cell_type": "markdown",
      "source": [
        "Apply PCA to get 3 principal components for the data. Concatenate/combine these PC’s with the original features (X_train, X_test data)."
      ],
      "metadata": {
        "id": "KAPhLe7YXxZI"
      }
    },
    {
      "cell_type": "code",
      "source": [
        "# Apply PCA to get 3 principal components\n",
        "from sklearn.decomposition import PCA\n",
        "from sklearn.preprocessing import StandardScaler\n",
        "\n",
        "# Fit PCA on training data\n",
        "pca = PCA(n_components=3)\n",
        "pca.fit(X_train_imputed)\n",
        "\n",
        "# Transform training and testing data\n",
        "X_train_pca = pca.transform(X_train_imputed)\n",
        "X_test_pca = pca.transform(X_test_imputed)\n",
        "\n",
        "# Concatenate principal components with original features\n",
        "X_train_combined = np.concatenate((X_train, X_train_pca), axis=1)\n",
        "X_test_combined = np.concatenate((X_test, X_test_pca), axis=1)\n"
      ],
      "metadata": {
        "id": "yXaSl7KwaPYH"
      },
      "execution_count": 47,
      "outputs": []
    },
    {
      "cell_type": "markdown",
      "source": [
        "Apply clustering, select the appropriate number of clusters, and use the clustering object to get predicted cluster labels for the training and test data. Concatenate/combine these clusters with the original features."
      ],
      "metadata": {
        "id": "awN9ey4-qCBv"
      }
    },
    {
      "cell_type": "code",
      "source": [
        "from sklearn.cluster import KMeans\n",
        "import pandas as pd\n",
        "# Define the number of clusters (you may need to adjust this)\n",
        "num_clusters = 3\n",
        "\n",
        "# Fit KMeans only on the training data\n",
        "kmeans = KMeans(n_clusters=num_clusters, random_state=42)\n",
        "kmeans.fit(X_train_combined)\n",
        "\n",
        "\n",
        "# Get cluster labels for training and test data\n",
        "train_cluster_labels = kmeans.labels_\n",
        "test_cluster_labels = kmeans.predict(X_test_combined)\n",
        "\n",
        "# Convert cluster labels to one-hot encoding\n",
        "train_cluster_labels_onehot = pd.get_dummies(train_cluster_labels, prefix='cluster')\n",
        "test_cluster_labels_onehot = pd.get_dummies(test_cluster_labels, prefix='cluster')\n",
        "\n",
        "# Concatenate cluster labels with original features\n",
        "X_train_clustered = pd.concat([X_train, train_cluster_labels_onehot], axis=1)\n",
        "X_test_clustered = pd.concat([X_test, test_cluster_labels_onehot], axis=1)"
      ],
      "metadata": {
        "colab": {
          "base_uri": "https://localhost:8080/"
        },
        "id": "95tP3I5vp9U0",
        "outputId": "1e2ac87c-e6da-4211-f314-e9f2e673c922"
      },
      "execution_count": 48,
      "outputs": [
        {
          "output_type": "stream",
          "name": "stderr",
          "text": [
            "/usr/local/lib/python3.10/dist-packages/sklearn/cluster/_kmeans.py:870: FutureWarning: The default value of `n_init` will change from 10 to 'auto' in 1.4. Set the value of `n_init` explicitly to suppress the warning\n",
            "  warnings.warn(\n"
          ]
        }
      ]
    },
    {
      "cell_type": "code",
      "source": [
        "X_train_clustered.isnull().sum()"
      ],
      "metadata": {
        "colab": {
          "base_uri": "https://localhost:8080/"
        },
        "id": "FqPrM9VQrMu_",
        "outputId": "c8057797-498b-4111-ca5e-7bd10f39cf78"
      },
      "execution_count": 49,
      "outputs": [
        {
          "output_type": "execute_result",
          "data": {
            "text/plain": [
              "fnlwgt                       7801\n",
              "educational-num              7801\n",
              "capital-gain                 7801\n",
              "capital-loss                 7801\n",
              "hours-per-week               7801\n",
              "                             ... \n",
              "native-country_Vietnam       7801\n",
              "native-country_Yugoslavia    7801\n",
              "cluster_0                    7801\n",
              "cluster_1                    7801\n",
              "cluster_2                    7801\n",
              "Length: 88, dtype: int64"
            ]
          },
          "metadata": {},
          "execution_count": 49
        }
      ]
    },
    {
      "cell_type": "code",
      "source": [
        "from sklearn.impute import SimpleImputer\n",
        "\n",
        "imputer = SimpleImputer(strategy=\"mean\")\n",
        "X_train_clustered = imputer.fit_transform(X_train_clustered)\n",
        "X_test_clustered = imputer.fit_transform(X_train_clustered)"
      ],
      "metadata": {
        "id": "qybzR2P9rq-m"
      },
      "execution_count": 50,
      "outputs": []
    },
    {
      "cell_type": "code",
      "source": [
        "X_train_clustered.isnull().sum()"
      ],
      "metadata": {
        "colab": {
          "base_uri": "https://localhost:8080/"
        },
        "id": "YAbmb0iXrsJO",
        "outputId": "ace3e9a9-3d09-4481-8cb1-39d713277744"
      },
      "execution_count": 51,
      "outputs": [
        {
          "output_type": "execute_result",
          "data": {
            "text/plain": [
              "fnlwgt                       0\n",
              "educational-num              0\n",
              "capital-gain                 0\n",
              "capital-loss                 0\n",
              "hours-per-week               0\n",
              "                            ..\n",
              "native-country_Vietnam       0\n",
              "native-country_Yugoslavia    0\n",
              "cluster_0                    0\n",
              "cluster_1                    0\n",
              "cluster_2                    0\n",
              "Length: 88, dtype: int64"
            ]
          },
          "metadata": {},
          "execution_count": 51
        }
      ]
    },
    {
      "cell_type": "code",
      "source": [
        "# Fit and evaluate a model using the new features\n",
        "# Train Random Forest model\n",
        "rf_model_with_pca = RandomForestClassifier(random_state=42)\n",
        "rf_model_with_pca.fit(X_train_combined, y_train)\n",
        "\n",
        "# Make predictions\n",
        "y_pred_with_pca = rf_model_with_pca.predict(X_test_combined)\n",
        "\n",
        "# Evaluate model performance\n",
        "accuracy_with_pca = accuracy_score(y_test, y_pred_with_pca)\n"
      ],
      "metadata": {
        "id": "ReiObvMFaUs5"
      },
      "execution_count": 54,
      "outputs": []
    },
    {
      "cell_type": "code",
      "source": [
        "# Apply feature selection to the new features\n",
        "from sklearn.feature_selection import SelectFromModel\n",
        "\n",
        "# Create feature selector using Random Forest\n",
        "feature_selector = SelectFromModel(RandomForestClassifier(random_state=42))\n",
        "\n",
        "# Fit feature selector on combined data\n",
        "feature_selector.fit(X_train_combined, y_train)\n",
        "\n",
        "# Transform data\n",
        "X_train_selected = feature_selector.transform(X_train_combined)\n",
        "X_test_selected = feature_selector.transform(X_test_combined)\n"
      ],
      "metadata": {
        "id": "V4XI8OmoaVrV"
      },
      "execution_count": 55,
      "outputs": []
    },
    {
      "cell_type": "code",
      "source": [
        "# Fit and evaluate a final model using the selected features\n",
        "# Train Random Forest model with selected features\n",
        "rf_model_selected = RandomForestClassifier(random_state=42)\n",
        "rf_model_selected.fit(X_train_selected, y_train)\n",
        "\n",
        "# Make predictions\n",
        "y_pred_selected = rf_model_selected.predict(X_test_selected)\n",
        "\n",
        "# Evaluate model performance\n",
        "accuracy_selected_features = accuracy_score(y_test, y_pred_selected)\n"
      ],
      "metadata": {
        "id": "EsUOjICjaY4s"
      },
      "execution_count": 60,
      "outputs": []
    },
    {
      "cell_type": "code",
      "source": [
        "# Extract and visualize the top 10 features using permutation importance\n",
        "from sklearn.inspection import permutation_importance\n",
        "import matplotlib.pyplot as plt\n",
        "# Calculate permutation importance\n",
        "result = permutation_importance(rf_model_selected, X_test_selected, y_test, n_repeats=10, random_state=42)\n",
        "sorted_idx = result.importances_mean.argsort()[-10:]\n",
        "# Visualize top 10 features\n",
        "plt.figure(figsize=(10, 6))\n",
        "plt.barh(range(10), result.importances_mean[sorted_idx], align='center')\n",
        "plt.yticks(range(10), X_test_selected.columns[sorted_idx])\n",
        "plt.xlabel('Permutation Importance')\n",
        "plt.title('Top 10 Features')\n",
        "plt.show()\n"
      ],
      "metadata": {
        "colab": {
          "base_uri": "https://localhost:8080/",
          "height": 564
        },
        "id": "NZd2eqnQaaZb",
        "outputId": "dbe01685-8531-4c2f-b76a-b23884644160"
      },
      "execution_count": 61,
      "outputs": [
        {
          "output_type": "display_data",
          "data": {
            "text/plain": [
              "<Figure size 1000x600 with 1 Axes>"
            ],
            "image/png": "[encoded data removed]"
          },
          "metadata": {}
        }
      ]
    },
    {
      "cell_type": "code",
      "source": [
        "# Train Random Forest model with selected features\n",
        "rf_model_selected_features = RandomForestClassifier(random_state=42)\n",
        "rf_model_selected_features.fit(X_train_selected, y_train)\n",
        "\n",
        "# Make predictions\n",
        "y_pred_selected_features = rf_model_selected_features.predict(X_test_selected)\n",
        "\n",
        "# Evaluate model performance\n",
        "accuracy_selected_features = accuracy_score(y_test, y_pred_selected_features)\n",
        "\n",
        "print(\"Accuracy with selected features:\", accuracy_selected_features)\n"
      ],
      "metadata": {
        "id": "qrjmiDOsxi7e",
        "outputId": "7a19ff3e-accf-4969-94a4-260b844c898b",
        "colab": {
          "base_uri": "https://localhost:8080/"
        }
      },
      "execution_count": 62,
      "outputs": [
        {
          "output_type": "stream",
          "name": "stdout",
          "text": [
            "Accuracy with selected features: 0.8512642030914116\n"
          ]
        }
      ]
    },
    {
      "cell_type": "markdown",
      "source": [
        "Extract and visualize the top 10 features using permutation importance (from Intro to ML Week 4).\n"
      ],
      "metadata": {
        "id": "IHnVdkjOy_cK"
      }
    },
    {
      "cell_type": "code",
      "source": [
        "from sklearn.inspection import permutation_importance\n",
        "import matplotlib.pyplot as plt\n",
        "\n",
        "# Calculate permutation importance\n",
        "result = permutation_importance(rf_model_selected_features, X_test_selected, y_test, n_repeats=10, random_state=42)\n",
        "sorted_idx = result.importances_mean.argsort()[-10:]\n",
        "\n",
        "# Visualize top 10 features\n",
        "plt.figure(figsize=(10, 6))\n",
        "plt.barh(range(10), result.importances_mean[sorted_idx], align='center')\n",
        "plt.yticks(range(10), [f'Feature {i}' for i in sorted_idx])\n",
        "plt.xlabel('Permutation Importance')\n",
        "plt.title('Top 10 Features')\n",
        "plt.show()\n"
      ],
      "metadata": {
        "id": "8t88ayGgy27X",
        "outputId": "c82d04ca-8077-4722-9794-97a721eb6722",
        "colab": {
          "base_uri": "https://localhost:8080/",
          "height": 564
        }
      },
      "execution_count": 63,
      "outputs": [
        {
          "output_type": "display_data",
          "data": {
            "text/plain": [
              "<Figure size 1000x600 with 1 Axes>"
            ],
            "image/png": "[encoded data removed]"
          },
          "metadata": {}
        }
      ]
    }
  ]
}