{
  "nbformat": 4,
  "nbformat_minor": 0,
  "metadata": {
    "colab": {
      "provenance": []
    },
    "kernelspec": {
      "name": "python3",
      "display_name": "Python 3"
    },
    "language_info": {
      "name": "python"
    }
  },
  "cells": [
    {
      "cell_type": "code",
      "execution_count": 6,
      "metadata": {
        "colab": {
          "base_uri": "https://localhost:8080/"
        },
        "id": "lF4_-gXnic3J",
        "outputId": "9bba04d7-b5e5-4029-a278-c20d97b0c9cd"
      },
      "outputs": [
        {
          "output_type": "stream",
          "name": "stdout",
          "text": [
            "Drive already mounted at /content/drive; to attempt to forcibly remount, call drive.mount(\"/content/drive\", force_remount=True).\n"
          ]
        }
      ],
      "source": [
        "from google.colab import drive\n",
        "drive.mount('/content/drive')"
      ]
    },
    {
      "cell_type": "code",
      "source": [
        " #Imports\n",
        "import pandas as pd\n",
        "import datetime as dt\n",
        "#from sklearn.impute import SimpleImputer\n",
        "import matplotlib.pyplot as plt"
      ],
      "metadata": {
        "id": "6R891Sx6PsYM"
      },
      "execution_count": 7,
      "outputs": []
    },
    {
      "cell_type": "code",
      "source": [
        "'''\n",
        "Ignore this\n",
        "#immport all files method 1\n",
        "file_name1 ='/content/drive/MyDrive/Week2_data/Machine Learning Data Sets/Time series/Chicago_datasets/Chicago-Crime_2001.csv'\n",
        "df1 = pd.read_csv(file_name1)\n",
        "file_name2 ='/content/drive/MyDrive/Week2_data/Machine Learning Data Sets/Time series/Chicago_datasets/Chicago-Crime_2002.csv'\n",
        "df2 = pd.read_csv(file_name2)\n",
        "file_name3 ='/content/drive/MyDrive/Week2_data/Machine Learning Data Sets/Time series/Chicago_datasets/Chicago-Crime_2003.csv'\n",
        "df3 = pd.read_csv(file_name3)\n",
        "file_name4 ='/content/drive/MyDrive/Week2_data/Machine Learning Data Sets/Time series/Chicago_datasets/Chicago-Crime_2004.csv'\n",
        "df4 = pd.read_csv(file_name4)\n",
        "file_name5 ='/content/drive/MyDrive/Week2_data/Machine Learning Data Sets/Time series/Chicago_datasets/Chicago-Crime_2005.csv'\n",
        "df5 = pd.read_csv(file_name5)\n",
        "file_name6 ='/content/drive/MyDrive/Week2_data/Machine Learning Data Sets/Time series/Chicago_datasets/Chicago-Crime_2006.csv'\n",
        "df6 = pd.read_csv(file_name6)\n",
        "file_name7 ='/content/drive/MyDrive/Week2_data/Machine Learning Data Sets/Time series/Chicago_datasets/Chicago-Crime_2007.csv'\n",
        "df7 = pd.read_csv(file_name7)\n",
        "file_name8 ='/content/drive/MyDrive/Week2_data/Machine Learning Data Sets/Time series/Chicago_datasets/Chicago-Crime_2008.csv'\n",
        "df8 = pd.read_csv(file_name8)\n",
        "file_name9 ='/content/drive/MyDrive/Week2_data/Machine Learning Data Sets/Time series/Chicago_datasets/Chicago-Crime_2009.csv'\n",
        "df9 = pd.read_csv(file_name9)\n",
        "file_name10 ='/content/drive/MyDrive/Week2_data/Machine Learning Data Sets/Time series/Chicago_datasets/Chicago-Crime_2010.csv'\n",
        "df10 = pd.read_csv(file_name10)\n",
        "file_name11 ='/content/drive/MyDrive/Week2_data/Machine Learning Data Sets/Time series/Chicago_datasets/Chicago-Crime_2011.csv'\n",
        "df11 = pd.read_csv(file_name11)\n",
        "file_name12 ='/content/drive/MyDrive/Week2_data/Machine Learning Data Sets/Time series/Chicago_datasets/Chicago-Crime_2012.csv'\n",
        "df12 = pd.read_csv(file_name12)\n",
        "file_name13 ='/content/drive/MyDrive/Week2_data/Machine Learning Data Sets/Time series/Chicago_datasets/Chicago-Crime_2013.csv'\n",
        "df13 = pd.read_csv(file_name13)\n",
        "file_name14 ='/content/drive/MyDrive/Week2_data/Machine Learning Data Sets/Time series/Chicago_datasets/Chicago-Crime_2014.csv'\n",
        "df14 = pd.read_csv(file_name14)\n",
        "file_name15 ='/content/drive/MyDrive/Week2_data/Machine Learning Data Sets/Time series/Chicago_datasets/Chicago-Crime_2015.csv'\n",
        "df15 = pd.read_csv(file_name15)\n",
        "file_name16 ='/content/drive/MyDrive/Week2_data/Machine Learning Data Sets/Time series/Chicago_datasets/Chicago-Crime_2016.csv'\n",
        "df16 = pd.read_csv(file_name16)\n",
        "file_name17 ='/content/drive/MyDrive/Week2_data/Machine Learning Data Sets/Time series/Chicago_datasets/Chicago-Crime_2017.csv'\n",
        "df17 = pd.read_csv(file_name17)\n",
        "file_name18 ='/content/drive/MyDrive/Week2_data/Machine Learning Data Sets/Time series/Chicago_datasets/Chicago-Crime_2018.csv'\n",
        "df18 = pd.read_csv(file_name18)\n",
        "file_name19 ='/content/drive/MyDrive/Week2_data/Machine Learning Data Sets/Time series/Chicago_datasets/Chicago-Crime_2019.csv'\n",
        "df19 = pd.read_csv(file_name19)\n",
        "file_name20 ='/content/drive/MyDrive/Week2_data/Machine Learning Data Sets/Time series/Chicago_datasets/Chicago-Crime_2020.csv'\n",
        "df20 = pd.read_csv(file_name20)\n",
        "file_name21 ='/content/drive/MyDrive/Week2_data/Machine Learning Data Sets/Time series/Chicago_datasets/Chicago-Crime_2021.csv'\n",
        "df21 = pd.read_csv(file_name21)\n",
        "file_name22 ='/content/drive/MyDrive/Week2_data/Machine Learning Data Sets/Time series/Chicago_datasets/Chicago-Crime_2022.csv'\n",
        "df22 = pd.read_csv(file_name22)\n",
        "combined_df = pd.concat([df1, df2, df3,df4,df5,df6,df7,df8,df9,df10,df11,df12,df13,df14,df15,df16,df17,df18,df18,df19,df20,df21,df22], axis=0)\n",
        "combined_df\n",
        "combined_df.head()\n",
        "\n",
        "# Assuming df1, df2, df3 are your dataframes\n",
        "combined_df = pd.concat([df1, df2, df3], axis=0)  # Stacked vertically\n",
        "# Or\n",
        "combined_df = pd.concat([df1, df2, df3], axis=1)  # Stacked horizontally\n",
        "\n",
        "'''"
      ],
      "metadata": {
        "id": "8GZAQn9XPwur"
      },
      "execution_count": null,
      "outputs": []
    },
    {
      "cell_type": "code",
      "source": [
        "import os\n",
        "import pandas as pd\n",
        "\n",
        "# Assuming your Google Drive folder path\n",
        "folder_path = '/content/drive/MyDrive/Week2_data/Machine Learning Data Sets/Time series/Chicago_datasets/'\n",
        "\n",
        "# Get a list of all files in the folder\n",
        "files = os.listdir(folder_path)\n",
        "\n",
        "# Filter out only CSV files\n",
        "csv_files = [file for file in files if file.endswith('.csv')]\n",
        "\n",
        "# Create an empty list to store dataframes\n",
        "dfs = []\n",
        "\n",
        "# Loop through each CSV file and load it into a dataframe\n",
        "for file in csv_files:\n",
        "    file_path = os.path.join(folder_path, file)\n",
        "    df = pd.read_csv(file_path)\n",
        "    dfs.append(df)\n",
        "\n",
        "# Concatenate all dataframes into one\n",
        "combined_df2 = pd.concat(dfs, ignore_index=True)\n",
        "\n",
        "# Now you have a single dataframe containing all datasets from the Google Drive folder\n",
        "combined_df2.head()\n",
        "combined_df3 = combined_df2"
      ],
      "metadata": {
        "id": "zxsD3fmaq-Ko"
      },
      "execution_count": 9,
      "outputs": []
    },
    {
      "cell_type": "code",
      "source": [
        "#make ID and index\n",
        "combined_df2 = combined_df2.set_index('ID')"
      ],
      "metadata": {
        "id": "Sfq3x6WpGuoZ"
      },
      "execution_count": 10,
      "outputs": []
    },
    {
      "cell_type": "code",
      "source": [
        "#check if all the data has been combined\n",
        "sliced_row = combined_df2.loc[12592889]\n",
        "print(sliced_row)\n"
      ],
      "metadata": {
        "colab": {
          "base_uri": "https://localhost:8080/"
        },
        "id": "GQuhxFkct079",
        "outputId": "bde8dbf8-3e1b-42df-ea1f-3af770ade421"
      },
      "execution_count": 11,
      "outputs": [
        {
          "output_type": "stream",
          "name": "stdout",
          "text": [
            "Date                     01/01/2022 01:00:00 AM\n",
            "Primary Type                      OTHER OFFENSE\n",
            "Description             HARASSMENT BY TELEPHONE\n",
            "Location Description                  APARTMENT\n",
            "Arrest                                    False\n",
            "Domestic                                  False\n",
            "Beat                                        412\n",
            "District                                    4.0\n",
            "Ward                                        8.0\n",
            "Latitude                              41.734353\n",
            "Longitude                            -87.585147\n",
            "Name: 12592889, dtype: object\n"
          ]
        }
      ]
    },
    {
      "cell_type": "code",
      "source": [
        "combined_df3"
      ],
      "metadata": {
        "colab": {
          "base_uri": "https://localhost:8080/",
          "height": 684
        },
        "id": "qsD23EMfRDKo",
        "outputId": "3eeb027c-81e0-41ba-e421-c880782a19f7"
      },
      "execution_count": 12,
      "outputs": [
        {
          "output_type": "execute_result",
          "data": {
            "text/plain": [
              "               ID                    Date                       Primary Type  \\\n",
              "0         1326041  01/01/2001 01:00:00 AM                            BATTERY   \n",
              "1         1319931  01/01/2001 01:00:00 PM                            BATTERY   \n",
              "2         1324743  01/01/2001 01:00:00 PM                           GAMBLING   \n",
              "3         1310717  01/01/2001 01:00:00 AM                    CRIMINAL DAMAGE   \n",
              "4         1318099  01/01/2001 01:00:00 AM                            BATTERY   \n",
              "...           ...                     ...                                ...   \n",
              "7713104  12581450  12/31/2021 12:45:00 PM  CONCEALED CARRY LICENSE VIOLATION   \n",
              "7713105  12581388  12/31/2021 12:45:00 PM                            ASSAULT   \n",
              "7713106  12581977  12/31/2021 12:46:00 PM                            ASSAULT   \n",
              "7713107  12582396  12/31/2021 12:49:00 AM                 DECEPTIVE PRACTICE   \n",
              "7713108  12581002  12/31/2021 12:55:00 AM                            BATTERY   \n",
              "\n",
              "                                     Description  \\\n",
              "0                                         SIMPLE   \n",
              "1                                         SIMPLE   \n",
              "2                            ILLEGAL ILL LOTTERY   \n",
              "3                                     TO VEHICLE   \n",
              "4                                         SIMPLE   \n",
              "...                                          ...   \n",
              "7713104          ARMED WHILE UNDER THE INFLUENCE   \n",
              "7713105  AGGRAVATED - KNIFE / CUTTING INSTRUMENT   \n",
              "7713106  AGGRAVATED - KNIFE / CUTTING INSTRUMENT   \n",
              "7713107  FINANCIAL IDENTITY THEFT $300 AND UNDER   \n",
              "7713108                                   SIMPLE   \n",
              "\n",
              "                 Location Description  Arrest  Domestic  Beat  District  Ward  \\\n",
              "0                           RESIDENCE   False     False  1624      16.0   NaN   \n",
              "1                           RESIDENCE   False      True   825       8.0   NaN   \n",
              "2                              STREET    True     False   313       3.0   NaN   \n",
              "3                              STREET   False     False  2424      24.0   NaN   \n",
              "4             RESIDENCE PORCH/HALLWAY   False      True   214       2.0   NaN   \n",
              "...                               ...     ...       ...   ...       ...   ...   \n",
              "7713104                        STREET    True     False   614       6.0  21.0   \n",
              "7713105                     APARTMENT   False     False   221       2.0   4.0   \n",
              "7713106  COMMERCIAL / BUSINESS OFFICE   False     False   623       6.0  17.0   \n",
              "7713107                     RESIDENCE   False     False   611       6.0  18.0   \n",
              "7713108                 BAR OR TAVERN   False     False  1424      14.0   1.0   \n",
              "\n",
              "          Latitude  Longitude  \n",
              "0        41.957850 -87.749185  \n",
              "1        41.783892 -87.684841  \n",
              "2        41.780412 -87.611970  \n",
              "3        42.012391 -87.678032  \n",
              "4        41.819538 -87.620020  \n",
              "...            ...        ...  \n",
              "7713104  41.738569 -87.663137  \n",
              "7713105  41.812412 -87.604432  \n",
              "7713106  41.750934 -87.626288  \n",
              "7713107  41.756418 -87.674522  \n",
              "7713108  41.910470 -87.678367  \n",
              "\n",
              "[7713109 rows x 12 columns]"
            ],
            "text/html": [
              "\n",
              "  <div id=\"df-130c9875-c343-492c-bd71-f3a7a458f331\" class=\"colab-df-container\">\n",
              "    <div>\n",
              "<style scoped>\n",
              "    .dataframe tbody tr th:only-of-type {\n",
              "        vertical-align: middle;\n",
              "    }\n",
              "\n",
              "    .dataframe tbody tr th {\n",
              "        vertical-align: top;\n",
              "    }\n",
              "\n",
              "    .dataframe thead th {\n",
              "        text-align: right;\n",
              "    }\n",
              "</style>\n",
              "<table border=\"1\" class=\"dataframe\">\n",
              "  <thead>\n",
              "    <tr style=\"text-align: right;\">\n",
              "      <th></th>\n",
              "      <th>ID</th>\n",
              "      <th>Date</th>\n",
              "      <th>Primary Type</th>\n",
              "      <th>Description</th>\n",
              "      <th>Location Description</th>\n",
              "      <th>Arrest</th>\n",
              "      <th>Domestic</th>\n",
              "      <th>Beat</th>\n",
              "      <th>District</th>\n",
              "      <th>Ward</th>\n",
              "      <th>Latitude</th>\n",
              "      <th>Longitude</th>\n",
              "    </tr>\n",
              "  </thead>\n",
              "  <tbody>\n",
              "    <tr>\n",
              "      <th>0</th>\n",
              "      <td>1326041</td>\n",
              "      <td>01/01/2001 01:00:00 AM</td>\n",
              "      <td>BATTERY</td>\n",
              "      <td>SIMPLE</td>\n",
              "      <td>RESIDENCE</td>\n",
              "      <td>False</td>\n",
              "      <td>False</td>\n",
              "      <td>1624</td>\n",
              "      <td>16.0</td>\n",
              "      <td>NaN</td>\n",
              "      <td>41.957850</td>\n",
              "      <td>-87.749185</td>\n",
              "    </tr>\n",
              "    <tr>\n",
              "      <th>1</th>\n",
              "      <td>1319931</td>\n",
              "      <td>01/01/2001 01:00:00 PM</td>\n",
              "      <td>BATTERY</td>\n",
              "      <td>SIMPLE</td>\n",
              "      <td>RESIDENCE</td>\n",
              "      <td>False</td>\n",
              "      <td>True</td>\n",
              "      <td>825</td>\n",
              "      <td>8.0</td>\n",
              "      <td>NaN</td>\n",
              "      <td>41.783892</td>\n",
              "      <td>-87.684841</td>\n",
              "    </tr>\n",
              "    <tr>\n",
              "      <th>2</th>\n",
              "      <td>1324743</td>\n",
              "      <td>01/01/2001 01:00:00 PM</td>\n",
              "      <td>GAMBLING</td>\n",
              "      <td>ILLEGAL ILL LOTTERY</td>\n",
              "      <td>STREET</td>\n",
              "      <td>True</td>\n",
              "      <td>False</td>\n",
              "      <td>313</td>\n",
              "      <td>3.0</td>\n",
              "      <td>NaN</td>\n",
              "      <td>41.780412</td>\n",
              "      <td>-87.611970</td>\n",
              "    </tr>\n",
              "    <tr>\n",
              "      <th>3</th>\n",
              "      <td>1310717</td>\n",
              "      <td>01/01/2001 01:00:00 AM</td>\n",
              "      <td>CRIMINAL DAMAGE</td>\n",
              "      <td>TO VEHICLE</td>\n",
              "      <td>STREET</td>\n",
              "      <td>False</td>\n",
              "      <td>False</td>\n",
              "      <td>2424</td>\n",
              "      <td>24.0</td>\n",
              "      <td>NaN</td>\n",
              "      <td>42.012391</td>\n",
              "      <td>-87.678032</td>\n",
              "    </tr>\n",
              "    <tr>\n",
              "      <th>4</th>\n",
              "      <td>1318099</td>\n",
              "      <td>01/01/2001 01:00:00 AM</td>\n",
              "      <td>BATTERY</td>\n",
              "      <td>SIMPLE</td>\n",
              "      <td>RESIDENCE PORCH/HALLWAY</td>\n",
              "      <td>False</td>\n",
              "      <td>True</td>\n",
              "      <td>214</td>\n",
              "      <td>2.0</td>\n",
              "      <td>NaN</td>\n",
              "      <td>41.819538</td>\n",
              "      <td>-87.620020</td>\n",
              "    </tr>\n",
              "    <tr>\n",
              "      <th>...</th>\n",
              "      <td>...</td>\n",
              "      <td>...</td>\n",
              "      <td>...</td>\n",
              "      <td>...</td>\n",
              "      <td>...</td>\n",
              "      <td>...</td>\n",
              "      <td>...</td>\n",
              "      <td>...</td>\n",
              "      <td>...</td>\n",
              "      <td>...</td>\n",
              "      <td>...</td>\n",
              "      <td>...</td>\n",
              "    </tr>\n",
              "    <tr>\n",
              "      <th>7713104</th>\n",
              "      <td>12581450</td>\n",
              "      <td>12/31/2021 12:45:00 PM</td>\n",
              "      <td>CONCEALED CARRY LICENSE VIOLATION</td>\n",
              "      <td>ARMED WHILE UNDER THE INFLUENCE</td>\n",
              "      <td>STREET</td>\n",
              "      <td>True</td>\n",
              "      <td>False</td>\n",
              "      <td>614</td>\n",
              "      <td>6.0</td>\n",
              "      <td>21.0</td>\n",
              "      <td>41.738569</td>\n",
              "      <td>-87.663137</td>\n",
              "    </tr>\n",
              "    <tr>\n",
              "      <th>7713105</th>\n",
              "      <td>12581388</td>\n",
              "      <td>12/31/2021 12:45:00 PM</td>\n",
              "      <td>ASSAULT</td>\n",
              "      <td>AGGRAVATED - KNIFE / CUTTING INSTRUMENT</td>\n",
              "      <td>APARTMENT</td>\n",
              "      <td>False</td>\n",
              "      <td>False</td>\n",
              "      <td>221</td>\n",
              "      <td>2.0</td>\n",
              "      <td>4.0</td>\n",
              "      <td>41.812412</td>\n",
              "      <td>-87.604432</td>\n",
              "    </tr>\n",
              "    <tr>\n",
              "      <th>7713106</th>\n",
              "      <td>12581977</td>\n",
              "      <td>12/31/2021 12:46:00 PM</td>\n",
              "      <td>ASSAULT</td>\n",
              "      <td>AGGRAVATED - KNIFE / CUTTING INSTRUMENT</td>\n",
              "      <td>COMMERCIAL / BUSINESS OFFICE</td>\n",
              "      <td>False</td>\n",
              "      <td>False</td>\n",
              "      <td>623</td>\n",
              "      <td>6.0</td>\n",
              "      <td>17.0</td>\n",
              "      <td>41.750934</td>\n",
              "      <td>-87.626288</td>\n",
              "    </tr>\n",
              "    <tr>\n",
              "      <th>7713107</th>\n",
              "      <td>12582396</td>\n",
              "      <td>12/31/2021 12:49:00 AM</td>\n",
              "      <td>DECEPTIVE PRACTICE</td>\n",
              "      <td>FINANCIAL IDENTITY THEFT $300 AND UNDER</td>\n",
              "      <td>RESIDENCE</td>\n",
              "      <td>False</td>\n",
              "      <td>False</td>\n",
              "      <td>611</td>\n",
              "      <td>6.0</td>\n",
              "      <td>18.0</td>\n",
              "      <td>41.756418</td>\n",
              "      <td>-87.674522</td>\n",
              "    </tr>\n",
              "    <tr>\n",
              "      <th>7713108</th>\n",
              "      <td>12581002</td>\n",
              "      <td>12/31/2021 12:55:00 AM</td>\n",
              "      <td>BATTERY</td>\n",
              "      <td>SIMPLE</td>\n",
              "      <td>BAR OR TAVERN</td>\n",
              "      <td>False</td>\n",
              "      <td>False</td>\n",
              "      <td>1424</td>\n",
              "      <td>14.0</td>\n",
              "      <td>1.0</td>\n",
              "      <td>41.910470</td>\n",
              "      <td>-87.678367</td>\n",
              "    </tr>\n",
              "  </tbody>\n",
              "</table>\n",
              "<p>7713109 rows × 12 columns</p>\n",
              "</div>\n",
              "    <div class=\"colab-df-buttons\">\n",
              "\n",
              "  <div class=\"colab-df-container\">\n",
              "    <button class=\"colab-df-convert\" onclick=\"convertToInteractive('df-130c9875-c343-492c-bd71-f3a7a458f331')\"\n",
              "            title=\"Convert this dataframe to an interactive table.\"\n",
              "            style=\"display:none;\">\n",
              "\n",
              "  <svg xmlns=\"http://www.w3.org/2000/svg\" height=\"24px\" viewBox=\"0 -960 960 960\">\n",
              "    <path d=\"M120-120v-720h720v720H120Zm60-500h600v-160H180v160Zm220 220h160v-160H400v160Zm0 220h160v-160H400v160ZM180-400h160v-160H180v160Zm440 0h160v-160H620v160ZM180-180h160v-160H180v160Zm440 0h160v-160H620v160Z\"/>\n",
              "  </svg>\n",
              "    </button>\n",
              "\n",
              "  <style>\n",
              "    .colab-df-container {\n",
              "      display:flex;\n",
              "      gap: 12px;\n",
              "    }\n",
              "\n",
              "    .colab-df-convert {\n",
              "      background-color: #E8F0FE;\n",
              "      border: none;\n",
              "      border-radius: 50%;\n",
              "      cursor: pointer;\n",
              "      display: none;\n",
              "      fill: #1967D2;\n",
              "      height: 32px;\n",
              "      padding: 0 0 0 0;\n",
              "      width: 32px;\n",
              "    }\n",
              "\n",
              "    .colab-df-convert:hover {\n",
              "      background-color: #E2EBFA;\n",
              "      box-shadow: 0px 1px 2px rgba(60, 64, 67, 0.3), 0px 1px 3px 1px rgba(60, 64, 67, 0.15);\n",
              "      fill: #174EA6;\n",
              "    }\n",
              "\n",
              "    .colab-df-buttons div {\n",
              "      margin-bottom: 4px;\n",
              "    }\n",
              "\n",
              "    [theme=dark] .colab-df-convert {\n",
              "      background-color: #3B4455;\n",
              "      fill: #D2E3FC;\n",
              "    }\n",
              "\n",
              "    [theme=dark] .colab-df-convert:hover {\n",
              "      background-color: #434B5C;\n",
              "      box-shadow: 0px 1px 3px 1px rgba(0, 0, 0, 0.15);\n",
              "      filter: drop-shadow(0px 1px 2px rgba(0, 0, 0, 0.3));\n",
              "      fill: #FFFFFF;\n",
              "    }\n",
              "  </style>\n",
              "\n",
              "    <script>\n",
              "      const buttonEl =\n",
              "        document.querySelector('#df-130c9875-c343-492c-bd71-f3a7a458f331 button.colab-df-convert');\n",
              "      buttonEl.style.display =\n",
              "        google.colab.kernel.accessAllowed ? 'block' : 'none';\n",
              "\n",
              "      async function convertToInteractive(key) {\n",
              "        const element = document.querySelector('#df-130c9875-c343-492c-bd71-f3a7a458f331');\n",
              "        const dataTable =\n",
              "          await google.colab.kernel.invokeFunction('convertToInteractive',\n",
              "                                                    [key], {});\n",
              "        if (!dataTable) return;\n",
              "\n",
              "        const docLinkHtml = 'Like what you see? Visit the ' +\n",
              "          '<a target=\"_blank\" href=https://colab.research.google.com/notebooks/data_table.ipynb>data table notebook</a>'\n",
              "          + ' to learn more about interactive tables.';\n",
              "        element.innerHTML = '';\n",
              "        dataTable['output_type'] = 'display_data';\n",
              "        await google.colab.output.renderOutput(dataTable, element);\n",
              "        const docLink = document.createElement('div');\n",
              "        docLink.innerHTML = docLinkHtml;\n",
              "        element.appendChild(docLink);\n",
              "      }\n",
              "    </script>\n",
              "  </div>\n",
              "\n",
              "\n",
              "<div id=\"df-44fb1782-6abb-4ab6-8bcd-b8cb3b309266\">\n",
              "  <button class=\"colab-df-quickchart\" onclick=\"quickchart('df-44fb1782-6abb-4ab6-8bcd-b8cb3b309266')\"\n",
              "            title=\"Suggest charts\"\n",
              "            style=\"display:none;\">\n",
              "\n",
              "<svg xmlns=\"http://www.w3.org/2000/svg\" height=\"24px\"viewBox=\"0 0 24 24\"\n",
              "     width=\"24px\">\n",
              "    <g>\n",
              "        <path d=\"M19 3H5c-1.1 0-2 .9-2 2v14c0 1.1.9 2 2 2h14c1.1 0 2-.9 2-2V5c0-1.1-.9-2-2-2zM9 17H7v-7h2v7zm4 0h-2V7h2v10zm4 0h-2v-4h2v4z\"/>\n",
              "    </g>\n",
              "</svg>\n",
              "  </button>\n",
              "\n",
              "<style>\n",
              "  .colab-df-quickchart {\n",
              "      --bg-color: #E8F0FE;\n",
              "      --fill-color: #1967D2;\n",
              "      --hover-bg-color: #E2EBFA;\n",
              "      --hover-fill-color: #174EA6;\n",
              "      --disabled-fill-color: #AAA;\n",
              "      --disabled-bg-color: #DDD;\n",
              "  }\n",
              "\n",
              "  [theme=dark] .colab-df-quickchart {\n",
              "      --bg-color: #3B4455;\n",
              "      --fill-color: #D2E3FC;\n",
              "      --hover-bg-color: #434B5C;\n",
              "      --hover-fill-color: #FFFFFF;\n",
              "      --disabled-bg-color: #3B4455;\n",
              "      --disabled-fill-color: #666;\n",
              "  }\n",
              "\n",
              "  .colab-df-quickchart {\n",
              "    background-color: var(--bg-color);\n",
              "    border: none;\n",
              "    border-radius: 50%;\n",
              "    cursor: pointer;\n",
              "    display: none;\n",
              "    fill: var(--fill-color);\n",
              "    height: 32px;\n",
              "    padding: 0;\n",
              "    width: 32px;\n",
              "  }\n",
              "\n",
              "  .colab-df-quickchart:hover {\n",
              "    background-color: var(--hover-bg-color);\n",
              "    box-shadow: 0 1px 2px rgba(60, 64, 67, 0.3), 0 1px 3px 1px rgba(60, 64, 67, 0.15);\n",
              "    fill: var(--button-hover-fill-color);\n",
              "  }\n",
              "\n",
              "  .colab-df-quickchart-complete:disabled,\n",
              "  .colab-df-quickchart-complete:disabled:hover {\n",
              "    background-color: var(--disabled-bg-color);\n",
              "    fill: var(--disabled-fill-color);\n",
              "    box-shadow: none;\n",
              "  }\n",
              "\n",
              "  .colab-df-spinner {\n",
              "    border: 2px solid var(--fill-color);\n",
              "    border-color: transparent;\n",
              "    border-bottom-color: var(--fill-color);\n",
              "    animation:\n",
              "      spin 1s steps(1) infinite;\n",
              "  }\n",
              "\n",
              "  @keyframes spin {\n",
              "    0% {\n",
              "      border-color: transparent;\n",
              "      border-bottom-color: var(--fill-color);\n",
              "      border-left-color: var(--fill-color);\n",
              "    }\n",
              "    20% {\n",
              "      border-color: transparent;\n",
              "      border-left-color: var(--fill-color);\n",
              "      border-top-color: var(--fill-color);\n",
              "    }\n",
              "    30% {\n",
              "      border-color: transparent;\n",
              "      border-left-color: var(--fill-color);\n",
              "      border-top-color: var(--fill-color);\n",
              "      border-right-color: var(--fill-color);\n",
              "    }\n",
              "    40% {\n",
              "      border-color: transparent;\n",
              "      border-right-color: var(--fill-color);\n",
              "      border-top-color: var(--fill-color);\n",
              "    }\n",
              "    60% {\n",
              "      border-color: transparent;\n",
              "      border-right-color: var(--fill-color);\n",
              "    }\n",
              "    80% {\n",
              "      border-color: transparent;\n",
              "      border-right-color: var(--fill-color);\n",
              "      border-bottom-color: var(--fill-color);\n",
              "    }\n",
              "    90% {\n",
              "      border-color: transparent;\n",
              "      border-bottom-color: var(--fill-color);\n",
              "    }\n",
              "  }\n",
              "</style>\n",
              "\n",
              "  <script>\n",
              "    async function quickchart(key) {\n",
              "      const quickchartButtonEl =\n",
              "        document.querySelector('#' + key + ' button');\n",
              "      quickchartButtonEl.disabled = true;  // To prevent multiple clicks.\n",
              "      quickchartButtonEl.classList.add('colab-df-spinner');\n",
              "      try {\n",
              "        const charts = await google.colab.kernel.invokeFunction(\n",
              "            'suggestCharts', [key], {});\n",
              "      } catch (error) {\n",
              "        console.error('Error during call to suggestCharts:', error);\n",
              "      }\n",
              "      quickchartButtonEl.classList.remove('colab-df-spinner');\n",
              "      quickchartButtonEl.classList.add('colab-df-quickchart-complete');\n",
              "    }\n",
              "    (() => {\n",
              "      let quickchartButtonEl =\n",
              "        document.querySelector('#df-44fb1782-6abb-4ab6-8bcd-b8cb3b309266 button');\n",
              "      quickchartButtonEl.style.display =\n",
              "        google.colab.kernel.accessAllowed ? 'block' : 'none';\n",
              "    })();\n",
              "  </script>\n",
              "</div>\n",
              "\n",
              "  <div id=\"id_9d7e8491-7afd-4dcc-bfb3-3b074afcdea3\">\n",
              "    <style>\n",
              "      .colab-df-generate {\n",
              "        background-color: #E8F0FE;\n",
              "        border: none;\n",
              "        border-radius: 50%;\n",
              "        cursor: pointer;\n",
              "        display: none;\n",
              "        fill: #1967D2;\n",
              "        height: 32px;\n",
              "        padding: 0 0 0 0;\n",
              "        width: 32px;\n",
              "      }\n",
              "\n",
              "      .colab-df-generate:hover {\n",
              "        background-color: #E2EBFA;\n",
              "        box-shadow: 0px 1px 2px rgba(60, 64, 67, 0.3), 0px 1px 3px 1px rgba(60, 64, 67, 0.15);\n",
              "        fill: #174EA6;\n",
              "      }\n",
              "\n",
              "      [theme=dark] .colab-df-generate {\n",
              "        background-color: #3B4455;\n",
              "        fill: #D2E3FC;\n",
              "      }\n",
              "\n",
              "      [theme=dark] .colab-df-generate:hover {\n",
              "        background-color: #434B5C;\n",
              "        box-shadow: 0px 1px 3px 1px rgba(0, 0, 0, 0.15);\n",
              "        filter: drop-shadow(0px 1px 2px rgba(0, 0, 0, 0.3));\n",
              "        fill: #FFFFFF;\n",
              "      }\n",
              "    </style>\n",
              "    <button class=\"colab-df-generate\" onclick=\"generateWithVariable('combined_df3')\"\n",
              "            title=\"Generate code using this dataframe.\"\n",
              "            style=\"display:none;\">\n",
              "\n",
              "  <svg xmlns=\"http://www.w3.org/2000/svg\" height=\"24px\"viewBox=\"0 0 24 24\"\n",
              "       width=\"24px\">\n",
              "    <path d=\"M7,19H8.4L18.45,9,17,7.55,7,17.6ZM5,21V16.75L18.45,3.32a2,2,0,0,1,2.83,0l1.4,1.43a1.91,1.91,0,0,1,.58,1.4,1.91,1.91,0,0,1-.58,1.4L9.25,21ZM18.45,9,17,7.55Zm-12,3A5.31,5.31,0,0,0,4.9,8.1,5.31,5.31,0,0,0,1,6.5,5.31,5.31,0,0,0,4.9,4.9,5.31,5.31,0,0,0,6.5,1,5.31,5.31,0,0,0,8.1,4.9,5.31,5.31,0,0,0,12,6.5,5.46,5.46,0,0,0,6.5,12Z\"/>\n",
              "  </svg>\n",
              "    </button>\n",
              "    <script>\n",
              "      (() => {\n",
              "      const buttonEl =\n",
              "        document.querySelector('#id_9d7e8491-7afd-4dcc-bfb3-3b074afcdea3 button.colab-df-generate');\n",
              "      buttonEl.style.display =\n",
              "        google.colab.kernel.accessAllowed ? 'block' : 'none';\n",
              "\n",
              "      buttonEl.onclick = () => {\n",
              "        google.colab.notebook.generateWithVariable('combined_df3');\n",
              "      }\n",
              "      })();\n",
              "    </script>\n",
              "  </div>\n",
              "\n",
              "    </div>\n",
              "  </div>\n"
            ],
            "application/vnd.google.colaboratory.intrinsic+json": {
              "type": "dataframe",
              "variable_name": "combined_df3"
            }
          },
          "metadata": {},
          "execution_count": 12
        }
      ]
    },
    {
      "cell_type": "code",
      "source": [
        "combined_df3.dtypes"
      ],
      "metadata": {
        "colab": {
          "base_uri": "https://localhost:8080/"
        },
        "id": "45eFtOHTSWIN",
        "outputId": "b218b75b-b152-49d7-eb6b-f76c515af117"
      },
      "execution_count": 13,
      "outputs": [
        {
          "output_type": "execute_result",
          "data": {
            "text/plain": [
              "ID                        int64\n",
              "Date                     object\n",
              "Primary Type             object\n",
              "Description              object\n",
              "Location Description     object\n",
              "Arrest                     bool\n",
              "Domestic                   bool\n",
              "Beat                      int64\n",
              "District                float64\n",
              "Ward                    float64\n",
              "Latitude                float64\n",
              "Longitude               float64\n",
              "dtype: object"
            ]
          },
          "metadata": {},
          "execution_count": 13
        }
      ]
    },
    {
      "cell_type": "code",
      "source": [
        "combined_df3['Date'] = pd.to_datetime(combined_df3['Date'])\n",
        "combined_df3.dtypes"
      ],
      "metadata": {
        "colab": {
          "base_uri": "https://localhost:8080/"
        },
        "id": "xg5fVyFsSol6",
        "outputId": "fe2b84ea-e0a3-47e6-d20c-5b11cbba7d5d"
      },
      "execution_count": 14,
      "outputs": [
        {
          "output_type": "execute_result",
          "data": {
            "text/plain": [
              "ID                               int64\n",
              "Date                    datetime64[ns]\n",
              "Primary Type                    object\n",
              "Description                     object\n",
              "Location Description            object\n",
              "Arrest                            bool\n",
              "Domestic                          bool\n",
              "Beat                             int64\n",
              "District                       float64\n",
              "Ward                           float64\n",
              "Latitude                       float64\n",
              "Longitude                      float64\n",
              "dtype: object"
            ]
          },
          "metadata": {},
          "execution_count": 14
        }
      ]
    },
    {
      "cell_type": "markdown",
      "source": [
        "**Topic 1) Comparing Police Districts**\n",
        "\n",
        "    Which district had the most crimes in 2022?\n",
        "    Which had the least?"
      ],
      "metadata": {
        "id": "6XqVpdfhZYAt"
      }
    },
    {
      "cell_type": "code",
      "source": [
        "#if 'Year' not in combined_df3.columns:\n",
        "# Add the 'Year' column by extracting it from the 'Date' column\n",
        "combined_df3['Year'] = pd.to_datetime(combined_df3['Date']).dt.year"
      ],
      "metadata": {
        "id": "9oHOZkFkUole"
      },
      "execution_count": 15,
      "outputs": []
    },
    {
      "cell_type": "code",
      "source": [
        "most_crimes_district = combined_df3[combined_df3['Year'] == 2022].groupby('District')['ID'].sum().sort_values(ascending=False).index[0]\n",
        "\n",
        "print(f\"District with the most crimes in 2022: {most_crimes_district}\")"
      ],
      "metadata": {
        "colab": {
          "base_uri": "https://localhost:8080/"
        },
        "id": "KPovdMC0UAFX",
        "outputId": "eb3d5b4c-be79-443d-ff00-fb270afd05fa"
      },
      "execution_count": 16,
      "outputs": [
        {
          "output_type": "stream",
          "name": "stdout",
          "text": [
            "District with the most crimes in 2022: 8.0\n"
          ]
        }
      ]
    },
    {
      "cell_type": "code",
      "source": [
        " # Create a bar chart of district counts in 2022\n",
        "combined_df3_2022 = combined_df3[combined_df3[\"Year\"] == 2022]\n",
        "district_counts_2022 = (\n",
        "    combined_df3_2022.groupby(\"District\")\n",
        "    .size()\n",
        "    .reset_index(name=\"Count\")\n",
        ")\n",
        "plt.bar(district_counts_2022[\"District\"], district_counts_2022[\"Count\"])\n",
        "\n",
        "# Set the title and axis labels\n",
        "plt.title(\"District Crime Count in 2022\")\n",
        "plt.xlabel(\"District ID\")\n",
        "plt.ylabel(\"Count oF Crimes\")\n",
        "\n",
        "# Rotate the x-axis labels for better readability\n",
        "plt.xticks(rotation=90)\n",
        "\n",
        "# Show the plot\n",
        "plt.show()\n"
      ],
      "metadata": {
        "colab": {
          "base_uri": "https://localhost:8080/",
          "height": 475
        },
        "id": "NI3TwmyVWD_B",
        "outputId": "9dc82959-8edd-4a20-9190-33db7049c53d"
      },
      "execution_count": 17,
      "outputs": [
        {
          "output_type": "display_data",
          "data": {
            "text/plain": [
              "<Figure size 640x480 with 1 Axes>"
            ],
            "image/png": "[encoded data removed]"
          },
          "metadata": {}
        }
      ]
    },
    {
      "cell_type": "markdown",
      "source": [
        "**District with the most crimes in 2022: 8.0**\n",
        "\n",
        "**District with the Least crimes in 2022: 20**"
      ],
      "metadata": {
        "id": "Z7ChdTvTYvwT"
      }
    },
    {
      "cell_type": "code",
      "source": [
        "import matplotlib.pyplot as plt\n",
        "\n",
        "# Get the data from combined_df3\n",
        "id_counts_by_year = combined_df3.groupby('Year')['ID'].count()\n",
        "\n",
        "# Create the line plot\n",
        "plt.plot(id_counts_by_year.index, id_counts_by_year.values)\n",
        "\n",
        "# Set the title and axis labels\n",
        "plt.title('Count of Crimes by Year')\n",
        "plt.xlabel('Year')\n",
        "plt.ylabel('Count of Crimes')\n",
        "\n",
        "# Show the plot\n",
        "plt.show()"
      ],
      "metadata": {
        "colab": {
          "base_uri": "https://localhost:8080/",
          "height": 472
        },
        "id": "ylxq9gbxaU77",
        "outputId": "ec92e60c-0fe5-4e62-be38-6382ceac63d2"
      },
      "execution_count": 18,
      "outputs": [
        {
          "output_type": "display_data",
          "data": {
            "text/plain": [
              "<Figure size 640x480 with 1 Axes>"
            ],
            "image/png": "[encoded data removed]"
          },
          "metadata": {}
        }
      ]
    },
    {
      "cell_type": "markdown",
      "source": [
        "**Following the trend above, it shows that there is a clear decrease in crime registration year after year**"
      ],
      "metadata": {
        "id": "8V2kxq_fcnB3"
      }
    },
    {
      "cell_type": "code",
      "source": [
        "# Add the 'Year' column by extracting it from the 'Date' column\n",
        "combined_df3['Month'] = pd.to_datetime(combined_df3['Date']).dt.month"
      ],
      "metadata": {
        "id": "dsvjxp30fb_z"
      },
      "execution_count": 21,
      "outputs": []
    },
    {
      "cell_type": "code",
      "source": [
        "import matplotlib.pyplot as plt\n",
        "\n",
        "# Get the data from combined_df3\n",
        "id_counts_by_month = combined_df3.groupby('Month')['ID'].count()\n",
        "\n",
        "# Create the line plot\n",
        "plt.plot(id_counts_by_month.index, id_counts_by_month.values)\n",
        "\n",
        "# Set the title and axis labels\n",
        "plt.title('Count of Crimes by Month')\n",
        "plt.xlabel('Month')\n",
        "plt.ylabel('Count of Crimes')\n",
        "\n",
        "# Show the plot\n",
        "plt.show()"
      ],
      "metadata": {
        "colab": {
          "base_uri": "https://localhost:8080/",
          "height": 472
        },
        "id": "9F7GnRPNgO2v",
        "outputId": "bee01fa6-fe3a-4674-9881-cb3c8c4eea0b"
      },
      "execution_count": 25,
      "outputs": [
        {
          "output_type": "display_data",
          "data": {
            "text/plain": [
              "<Figure size 640x480 with 1 Axes>"
            ],
            "image/png": "[encoded data removed]"
          },
          "metadata": {}
        }
      ]
    },
    {
      "cell_type": "markdown",
      "source": [
        "**from the trend above, it shows that most crimes used to happen in the months of July and August**"
      ],
      "metadata": {
        "id": "JpUlcTqvg3N7"
      }
    },
    {
      "cell_type": "code",
      "source": [
        "combined_df3['Hour'] = pd.to_datetime(combined_df3['Date']).dt.hour"
      ],
      "metadata": {
        "id": "cdRxkWahhJ5c"
      },
      "execution_count": 24,
      "outputs": []
    },
    {
      "cell_type": "code",
      "source": [
        "import matplotlib.pyplot as plt\n",
        "\n",
        "# Get the data from combined_df3\n",
        "id_counts_by_Hour = combined_df3.groupby('Hour')['ID'].count()\n",
        "\n",
        "# Create the line plot\n",
        "plt.plot(id_counts_by_Hour.index, id_counts_by_Hour.values)\n",
        "\n",
        "# Set the title and axis labels\n",
        "plt.title('Count of Crimes by Hour')\n",
        "plt.xlabel('Hour')\n",
        "plt.ylabel('Count of Crimes')\n",
        "\n",
        "# Show the plot\n",
        "plt.show()"
      ],
      "metadata": {
        "colab": {
          "base_uri": "https://localhost:8080/",
          "height": 472
        },
        "id": "YUqD5zaahOJk",
        "outputId": "9fd2fca6-dfb7-4fc2-d01d-9a396d79c973"
      },
      "execution_count": 26,
      "outputs": [
        {
          "output_type": "display_data",
          "data": {
            "text/plain": [
              "<Figure size 640x480 with 1 Axes>"
            ],
            "image/png": "[encoded data removed]"
          },
          "metadata": {}
        }
      ]
    },
    {
      "cell_type": "markdown",
      "source": [
        "**following the crime hour trend above, its shown that most crimes take place in the afternoon and evening and late night hours**"
      ],
      "metadata": {
        "id": "NE7bW9cvjXm8"
      }
    }
  ]
}