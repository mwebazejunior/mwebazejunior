{
  "nbformat": 4,
  "nbformat_minor": 0,
  "metadata": {
    "colab": {
      "provenance": [],
      "authorship_tag": "ABX9TyPJr60YK220S4lcdy4OSQ9I",
      "include_colab_link": true
    },
    "kernelspec": {
      "name": "python3",
      "display_name": "Python 3"
    },
    "language_info": {
      "name": "python"
    }
  },
  "cells": [
    {
      "cell_type": "markdown",
      "metadata": {
        "id": "view-in-github",
        "colab_type": "text"
      },
      "source": [
        "<a href=\"https://colab.research.google.com/github/mwebazejunior/mwebazejunior/blob/main/assignment.ipynb\" target=\"_parent\"><img src=\"https://colab.research.google.com/assets/colab-badge.svg\" alt=\"Open In Colab\"/></a>"
      ]
    },
    {
      "cell_type": "code",
      "execution_count": 4,
      "metadata": {
        "colab": {
          "base_uri": "https://localhost:8080/"
        },
        "id": "OtvYdK7djxQs",
        "outputId": "9606ac68-13bb-4aad-8d87-3204146a12bf"
      },
      "outputs": [
        {
          "output_type": "execute_result",
          "data": {
            "text/plain": [
              "False"
            ]
          },
          "metadata": {},
          "execution_count": 4
        }
      ],
      "source": [
        "12 == (3*4)\n",
        "1==2"
      ]
    },
    {
      "cell_type": "code",
      "source": [
        "word_list = ['this', 'is', 'a', 'list', 'of', 'strings']\n",
        "#random_list = [12, 'frog', ['this','is','a','list','in','a','list'], True, 3.14]\n",
        "print(word_list)\n",
        "#print(random_list)"
      ],
      "metadata": {
        "id": "l5gygYFItbJo",
        "outputId": "dd8274df-a44a-434b-8d01-f39e67bf3e03",
        "colab": {
          "base_uri": "https://localhost:8080/"
        }
      },
      "execution_count": 2,
      "outputs": [
        {
          "output_type": "stream",
          "name": "stdout",
          "text": [
            "['this', 'is', 'a', 'list', 'of', 'strings']\n"
          ]
        }
      ]
    },
    {
      "cell_type": "code",
      "source": [
        "\n",
        "\n",
        "race_finishers = ['Speedy', 'Sparkles', 'Little Foot', 'Spike', 'Greg the Destroyer']\n",
        "print(race_finishers)"
      ],
      "metadata": {
        "id": "Bextt-o33yEu",
        "outputId": "4fdd440d-6641-4655-cdb5-c9babae305a8",
        "colab": {
          "base_uri": "https://localhost:8080/"
        }
      },
      "execution_count": 2,
      "outputs": [
        {
          "output_type": "stream",
          "name": "stdout",
          "text": [
            "['Speedy', 'Sparkles', 'Little Foot', 'Spike', 'Greg the Destroyer']\n"
          ]
        }
      ]
    }
  ]
}