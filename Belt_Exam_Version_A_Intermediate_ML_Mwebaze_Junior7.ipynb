{
  "nbformat": 4,
  "nbformat_minor": 0,
  "metadata": {
    "colab": {
      "provenance": []
    },
    "kernelspec": {
      "name": "python3",
      "display_name": "Python 3"
    },
    "language_info": {
      "name": "python"
    }
  },
  "cells": [
    {
      "cell_type": "markdown",
      "source": [
        "**Belt Exam:**Version A: Intermediate ML\n",
        "\n",
        "**Student Name:** Mwebaze Junior\n"
      ],
      "metadata": {
        "id": "ft__BvBHDXrh"
      }
    },
    {
      "cell_type": "markdown",
      "source": [
        "Housing\n",
        "\n",
        "Problem:\n",
        "\n",
        "A house-flipping company would like to identify underpriced homes by comparing asking prices to predicted sale prices. They would like to segment homes into groups to analyze what kinds of homes there are. They would also like a model that predicts the selling price of a home.\n",
        "\n",
        "The company has provided publicly available data from the King County Assessor's office to use for clustering and prediction.\n",
        "Data notes:\n",
        "\n",
        "BrickStone is the percentage of a house made of brick or stone."
      ],
      "metadata": {
        "id": "S-i-X3nmrrwr"
      }
    },
    {
      "cell_type": "markdown",
      "source": [
        "**Part 1: Clustering instructions:**\n",
        "\n",
        "The house-flipping company would like you to segment the homes sold in the database and create an analytical report on the clusters, describing each cluster and describing how they are different. The data has had some cleaning work performed on it, but you should verify that it is ready for clustering."
      ],
      "metadata": {
        "id": "M_u7hl1UsJIS"
      }
    },
    {
      "cell_type": "markdown",
      "source": [
        "1.**Load this dataset for modeling**"
      ],
      "metadata": {
        "id": "7Q1sehPvw6pl"
      }
    },
    {
      "cell_type": "code",
      "source": [
        "#import required libraries\n",
        "from sklearn.metrics import mean_absolute_error, mean_squared_error, r2_score\n",
        "from tensorflow.keras import layers\n",
        "from tensorflow.keras.models import Sequential\n",
        "from tensorflow.keras.layers import Dense\n",
        "import tensorflow as tf\n",
        "from sklearn.decomposition import PCA\n",
        "from sklearn.model_selection import train_test_split\n",
        "import pandas as pd\n",
        "import numpy as np\n",
        "import seaborn as sns\n",
        "import matplotlib.pyplot as plt\n",
        "from sklearn.metrics import silhouette_score\n",
        "from sklearn.cluster import KMeans\n",
        "from sklearn.metrics import silhouette_score\n",
        "from sklearn.preprocessing import StandardScaler"
      ],
      "metadata": {
        "id": "F-k29s86b4t5"
      },
      "execution_count": 113,
      "outputs": []
    },
    {
      "cell_type": "code",
      "execution_count": 114,
      "metadata": {
        "colab": {
          "base_uri": "https://localhost:8080/"
        },
        "id": "ZKL6JD7orbKx",
        "outputId": "7e8fb628-d488-4f32-bb6b-438971f0d864"
      },
      "outputs": [
        {
          "output_type": "stream",
          "name": "stdout",
          "text": [
            "Drive already mounted at /content/drive; to attempt to forcibly remount, call drive.mount(\"/content/drive\", force_remount=True).\n"
          ]
        }
      ],
      "source": [
        "from google.colab import drive\n",
        "drive.mount('/content/drive')"
      ]
    },
    {
      "cell_type": "code",
      "source": [
        "filename = '/content/drive/MyDrive/Week2_data/Machine Learning Data Sets/option_A_clustering_df - option_A_clustering_df.csv'\n",
        "df = pd.read_csv(filename)\n",
        "df.head()"
      ],
      "metadata": {
        "colab": {
          "base_uri": "https://localhost:8080/",
          "height": 255
        },
        "id": "We0NMhkkxOW4",
        "outputId": "ea74051b-8a36-4f61-84b6-d940e9a65325"
      },
      "execution_count": 115,
      "outputs": [
        {
          "output_type": "execute_result",
          "data": {
            "text/plain": [
              "   SalePrice  SqFt1stFloor  SqFtHalfFloor  SqFt2ndFloor  SqFtUpperFloor  \\\n",
              "0     400000          1590              0             0               0   \n",
              "1     474250          1390              0             0               0   \n",
              "2     667950          1010              0          1515               0   \n",
              "3     659000           660              0           540               0   \n",
              "4     656500          2310              0             0               0   \n",
              "\n",
              "   SqFtTotLiving  SqFtTotBasement  SqFtFinBasement  SqFtGarageBasement  \\\n",
              "0           3180             1590             1590                   0   \n",
              "1           2200              810              810                   0   \n",
              "2           2525                0                0                   0   \n",
              "3           1820              620              620                   0   \n",
              "4           2310                0                0                   0   \n",
              "\n",
              "   SqFtGarageAttached  ...  SqFtEnclosedPorch  SqFtDeck  BrickStone  Bedrooms  \\\n",
              "0                 600  ...                  0       220           0         6   \n",
              "1                   0  ...                  0       340           0         4   \n",
              "2                 400  ...                  0         0           0         4   \n",
              "3                   0  ...                  0       100           0         3   \n",
              "4                 440  ...                  0       320           0         3   \n",
              "\n",
              "   BathHalfCount  Bath3qtrCount  BathFullCount  YrBuilt   Longitude   Latitude  \n",
              "0              0              2              1     1965 -122.196399  47.336118  \n",
              "1              1              0              1     1945 -122.361913  47.509874  \n",
              "2              1              0              2     2019 -122.156684  47.437557  \n",
              "3              1              0              2     2016 -122.370252  47.565146  \n",
              "4              0              0              2     1967 -122.184194  47.730389  \n",
              "\n",
              "[5 rows x 22 columns]"
            ],
            "text/html": [
              "\n",
              "  <div id=\"df-9847054c-fbfd-454b-8f24-e651246eaa7f\" class=\"colab-df-container\">\n",
              "    <div>\n",
              "<style scoped>\n",
              "    .dataframe tbody tr th:only-of-type {\n",
              "        vertical-align: middle;\n",
              "    }\n",
              "\n",
              "    .dataframe tbody tr th {\n",
              "        vertical-align: top;\n",
              "    }\n",
              "\n",
              "    .dataframe thead th {\n",
              "        text-align: right;\n",
              "    }\n",
              "</style>\n",
              "<table border=\"1\" class=\"dataframe\">\n",
              "  <thead>\n",
              "    <tr style=\"text-align: right;\">\n",
              "      <th></th>\n",
              "      <th>SalePrice</th>\n",
              "      <th>SqFt1stFloor</th>\n",
              "      <th>SqFtHalfFloor</th>\n",
              "      <th>SqFt2ndFloor</th>\n",
              "      <th>SqFtUpperFloor</th>\n",
              "      <th>SqFtTotLiving</th>\n",
              "      <th>SqFtTotBasement</th>\n",
              "      <th>SqFtFinBasement</th>\n",
              "      <th>SqFtGarageBasement</th>\n",
              "      <th>SqFtGarageAttached</th>\n",
              "      <th>...</th>\n",
              "      <th>SqFtEnclosedPorch</th>\n",
              "      <th>SqFtDeck</th>\n",
              "      <th>BrickStone</th>\n",
              "      <th>Bedrooms</th>\n",
              "      <th>BathHalfCount</th>\n",
              "      <th>Bath3qtrCount</th>\n",
              "      <th>BathFullCount</th>\n",
              "      <th>YrBuilt</th>\n",
              "      <th>Longitude</th>\n",
              "      <th>Latitude</th>\n",
              "    </tr>\n",
              "  </thead>\n",
              "  <tbody>\n",
              "    <tr>\n",
              "      <th>0</th>\n",
              "      <td>400000</td>\n",
              "      <td>1590</td>\n",
              "      <td>0</td>\n",
              "      <td>0</td>\n",
              "      <td>0</td>\n",
              "      <td>3180</td>\n",
              "      <td>1590</td>\n",
              "      <td>1590</td>\n",
              "      <td>0</td>\n",
              "      <td>600</td>\n",
              "      <td>...</td>\n",
              "      <td>0</td>\n",
              "      <td>220</td>\n",
              "      <td>0</td>\n",
              "      <td>6</td>\n",
              "      <td>0</td>\n",
              "      <td>2</td>\n",
              "      <td>1</td>\n",
              "      <td>1965</td>\n",
              "      <td>-122.196399</td>\n",
              "      <td>47.336118</td>\n",
              "    </tr>\n",
              "    <tr>\n",
              "      <th>1</th>\n",
              "      <td>474250</td>\n",
              "      <td>1390</td>\n",
              "      <td>0</td>\n",
              "      <td>0</td>\n",
              "      <td>0</td>\n",
              "      <td>2200</td>\n",
              "      <td>810</td>\n",
              "      <td>810</td>\n",
              "      <td>0</td>\n",
              "      <td>0</td>\n",
              "      <td>...</td>\n",
              "      <td>0</td>\n",
              "      <td>340</td>\n",
              "      <td>0</td>\n",
              "      <td>4</td>\n",
              "      <td>1</td>\n",
              "      <td>0</td>\n",
              "      <td>1</td>\n",
              "      <td>1945</td>\n",
              "      <td>-122.361913</td>\n",
              "      <td>47.509874</td>\n",
              "    </tr>\n",
              "    <tr>\n",
              "      <th>2</th>\n",
              "      <td>667950</td>\n",
              "      <td>1010</td>\n",
              "      <td>0</td>\n",
              "      <td>1515</td>\n",
              "      <td>0</td>\n",
              "      <td>2525</td>\n",
              "      <td>0</td>\n",
              "      <td>0</td>\n",
              "      <td>0</td>\n",
              "      <td>400</td>\n",
              "      <td>...</td>\n",
              "      <td>0</td>\n",
              "      <td>0</td>\n",
              "      <td>0</td>\n",
              "      <td>4</td>\n",
              "      <td>1</td>\n",
              "      <td>0</td>\n",
              "      <td>2</td>\n",
              "      <td>2019</td>\n",
              "      <td>-122.156684</td>\n",
              "      <td>47.437557</td>\n",
              "    </tr>\n",
              "    <tr>\n",
              "      <th>3</th>\n",
              "      <td>659000</td>\n",
              "      <td>660</td>\n",
              "      <td>0</td>\n",
              "      <td>540</td>\n",
              "      <td>0</td>\n",
              "      <td>1820</td>\n",
              "      <td>620</td>\n",
              "      <td>620</td>\n",
              "      <td>0</td>\n",
              "      <td>0</td>\n",
              "      <td>...</td>\n",
              "      <td>0</td>\n",
              "      <td>100</td>\n",
              "      <td>0</td>\n",
              "      <td>3</td>\n",
              "      <td>1</td>\n",
              "      <td>0</td>\n",
              "      <td>2</td>\n",
              "      <td>2016</td>\n",
              "      <td>-122.370252</td>\n",
              "      <td>47.565146</td>\n",
              "    </tr>\n",
              "    <tr>\n",
              "      <th>4</th>\n",
              "      <td>656500</td>\n",
              "      <td>2310</td>\n",
              "      <td>0</td>\n",
              "      <td>0</td>\n",
              "      <td>0</td>\n",
              "      <td>2310</td>\n",
              "      <td>0</td>\n",
              "      <td>0</td>\n",
              "      <td>0</td>\n",
              "      <td>440</td>\n",
              "      <td>...</td>\n",
              "      <td>0</td>\n",
              "      <td>320</td>\n",
              "      <td>0</td>\n",
              "      <td>3</td>\n",
              "      <td>0</td>\n",
              "      <td>0</td>\n",
              "      <td>2</td>\n",
              "      <td>1967</td>\n",
              "      <td>-122.184194</td>\n",
              "      <td>47.730389</td>\n",
              "    </tr>\n",
              "  </tbody>\n",
              "</table>\n",
              "<p>5 rows × 22 columns</p>\n",
              "</div>\n",
              "    <div class=\"colab-df-buttons\">\n",
              "\n",
              "  <div class=\"colab-df-container\">\n",
              "    <button class=\"colab-df-convert\" onclick=\"convertToInteractive('df-9847054c-fbfd-454b-8f24-e651246eaa7f')\"\n",
              "            title=\"Convert this dataframe to an interactive table.\"\n",
              "            style=\"display:none;\">\n",
              "\n",
              "  <svg xmlns=\"http://www.w3.org/2000/svg\" height=\"24px\" viewBox=\"0 -960 960 960\">\n",
              "    <path d=\"M120-120v-720h720v720H120Zm60-500h600v-160H180v160Zm220 220h160v-160H400v160Zm0 220h160v-160H400v160ZM180-400h160v-160H180v160Zm440 0h160v-160H620v160ZM180-180h160v-160H180v160Zm440 0h160v-160H620v160Z\"/>\n",
              "  </svg>\n",
              "    </button>\n",
              "\n",
              "  <style>\n",
              "    .colab-df-container {\n",
              "      display:flex;\n",
              "      gap: 12px;\n",
              "    }\n",
              "\n",
              "    .colab-df-convert {\n",
              "      background-color: #E8F0FE;\n",
              "      border: none;\n",
              "      border-radius: 50%;\n",
              "      cursor: pointer;\n",
              "      display: none;\n",
              "      fill: #1967D2;\n",
              "      height: 32px;\n",
              "      padding: 0 0 0 0;\n",
              "      width: 32px;\n",
              "    }\n",
              "\n",
              "    .colab-df-convert:hover {\n",
              "      background-color: #E2EBFA;\n",
              "      box-shadow: 0px 1px 2px rgba(60, 64, 67, 0.3), 0px 1px 3px 1px rgba(60, 64, 67, 0.15);\n",
              "      fill: #174EA6;\n",
              "    }\n",
              "\n",
              "    .colab-df-buttons div {\n",
              "      margin-bottom: 4px;\n",
              "    }\n",
              "\n",
              "    [theme=dark] .colab-df-convert {\n",
              "      background-color: #3B4455;\n",
              "      fill: #D2E3FC;\n",
              "    }\n",
              "\n",
              "    [theme=dark] .colab-df-convert:hover {\n",
              "      background-color: #434B5C;\n",
              "      box-shadow: 0px 1px 3px 1px rgba(0, 0, 0, 0.15);\n",
              "      filter: drop-shadow(0px 1px 2px rgba(0, 0, 0, 0.3));\n",
              "      fill: #FFFFFF;\n",
              "    }\n",
              "  </style>\n",
              "\n",
              "    <script>\n",
              "      const buttonEl =\n",
              "        document.querySelector('#df-9847054c-fbfd-454b-8f24-e651246eaa7f button.colab-df-convert');\n",
              "      buttonEl.style.display =\n",
              "        google.colab.kernel.accessAllowed ? 'block' : 'none';\n",
              "\n",
              "      async function convertToInteractive(key) {\n",
              "        const element = document.querySelector('#df-9847054c-fbfd-454b-8f24-e651246eaa7f');\n",
              "        const dataTable =\n",
              "          await google.colab.kernel.invokeFunction('convertToInteractive',\n",
              "                                                    [key], {});\n",
              "        if (!dataTable) return;\n",
              "\n",
              "        const docLinkHtml = 'Like what you see? Visit the ' +\n",
              "          '<a target=\"_blank\" href=https://colab.research.google.com/notebooks/data_table.ipynb>data table notebook</a>'\n",
              "          + ' to learn more about interactive tables.';\n",
              "        element.innerHTML = '';\n",
              "        dataTable['output_type'] = 'display_data';\n",
              "        await google.colab.output.renderOutput(dataTable, element);\n",
              "        const docLink = document.createElement('div');\n",
              "        docLink.innerHTML = docLinkHtml;\n",
              "        element.appendChild(docLink);\n",
              "      }\n",
              "    </script>\n",
              "  </div>\n",
              "\n",
              "\n",
              "<div id=\"df-aa659d85-1760-4d7f-8357-9b79e9a7347b\">\n",
              "  <button class=\"colab-df-quickchart\" onclick=\"quickchart('df-aa659d85-1760-4d7f-8357-9b79e9a7347b')\"\n",
              "            title=\"Suggest charts\"\n",
              "            style=\"display:none;\">\n",
              "\n",
              "<svg xmlns=\"http://www.w3.org/2000/svg\" height=\"24px\"viewBox=\"0 0 24 24\"\n",
              "     width=\"24px\">\n",
              "    <g>\n",
              "        <path d=\"M19 3H5c-1.1 0-2 .9-2 2v14c0 1.1.9 2 2 2h14c1.1 0 2-.9 2-2V5c0-1.1-.9-2-2-2zM9 17H7v-7h2v7zm4 0h-2V7h2v10zm4 0h-2v-4h2v4z\"/>\n",
              "    </g>\n",
              "</svg>\n",
              "  </button>\n",
              "\n",
              "<style>\n",
              "  .colab-df-quickchart {\n",
              "      --bg-color: #E8F0FE;\n",
              "      --fill-color: #1967D2;\n",
              "      --hover-bg-color: #E2EBFA;\n",
              "      --hover-fill-color: #174EA6;\n",
              "      --disabled-fill-color: #AAA;\n",
              "      --disabled-bg-color: #DDD;\n",
              "  }\n",
              "\n",
              "  [theme=dark] .colab-df-quickchart {\n",
              "      --bg-color: #3B4455;\n",
              "      --fill-color: #D2E3FC;\n",
              "      --hover-bg-color: #434B5C;\n",
              "      --hover-fill-color: #FFFFFF;\n",
              "      --disabled-bg-color: #3B4455;\n",
              "      --disabled-fill-color: #666;\n",
              "  }\n",
              "\n",
              "  .colab-df-quickchart {\n",
              "    background-color: var(--bg-color);\n",
              "    border: none;\n",
              "    border-radius: 50%;\n",
              "    cursor: pointer;\n",
              "    display: none;\n",
              "    fill: var(--fill-color);\n",
              "    height: 32px;\n",
              "    padding: 0;\n",
              "    width: 32px;\n",
              "  }\n",
              "\n",
              "  .colab-df-quickchart:hover {\n",
              "    background-color: var(--hover-bg-color);\n",
              "    box-shadow: 0 1px 2px rgba(60, 64, 67, 0.3), 0 1px 3px 1px rgba(60, 64, 67, 0.15);\n",
              "    fill: var(--button-hover-fill-color);\n",
              "  }\n",
              "\n",
              "  .colab-df-quickchart-complete:disabled,\n",
              "  .colab-df-quickchart-complete:disabled:hover {\n",
              "    background-color: var(--disabled-bg-color);\n",
              "    fill: var(--disabled-fill-color);\n",
              "    box-shadow: none;\n",
              "  }\n",
              "\n",
              "  .colab-df-spinner {\n",
              "    border: 2px solid var(--fill-color);\n",
              "    border-color: transparent;\n",
              "    border-bottom-color: var(--fill-color);\n",
              "    animation:\n",
              "      spin 1s steps(1) infinite;\n",
              "  }\n",
              "\n",
              "  @keyframes spin {\n",
              "    0% {\n",
              "      border-color: transparent;\n",
              "      border-bottom-color: var(--fill-color);\n",
              "      border-left-color: var(--fill-color);\n",
              "    }\n",
              "    20% {\n",
              "      border-color: transparent;\n",
              "      border-left-color: var(--fill-color);\n",
              "      border-top-color: var(--fill-color);\n",
              "    }\n",
              "    30% {\n",
              "      border-color: transparent;\n",
              "      border-left-color: var(--fill-color);\n",
              "      border-top-color: var(--fill-color);\n",
              "      border-right-color: var(--fill-color);\n",
              "    }\n",
              "    40% {\n",
              "      border-color: transparent;\n",
              "      border-right-color: var(--fill-color);\n",
              "      border-top-color: var(--fill-color);\n",
              "    }\n",
              "    60% {\n",
              "      border-color: transparent;\n",
              "      border-right-color: var(--fill-color);\n",
              "    }\n",
              "    80% {\n",
              "      border-color: transparent;\n",
              "      border-right-color: var(--fill-color);\n",
              "      border-bottom-color: var(--fill-color);\n",
              "    }\n",
              "    90% {\n",
              "      border-color: transparent;\n",
              "      border-bottom-color: var(--fill-color);\n",
              "    }\n",
              "  }\n",
              "</style>\n",
              "\n",
              "  <script>\n",
              "    async function quickchart(key) {\n",
              "      const quickchartButtonEl =\n",
              "        document.querySelector('#' + key + ' button');\n",
              "      quickchartButtonEl.disabled = true;  // To prevent multiple clicks.\n",
              "      quickchartButtonEl.classList.add('colab-df-spinner');\n",
              "      try {\n",
              "        const charts = await google.colab.kernel.invokeFunction(\n",
              "            'suggestCharts', [key], {});\n",
              "      } catch (error) {\n",
              "        console.error('Error during call to suggestCharts:', error);\n",
              "      }\n",
              "      quickchartButtonEl.classList.remove('colab-df-spinner');\n",
              "      quickchartButtonEl.classList.add('colab-df-quickchart-complete');\n",
              "    }\n",
              "    (() => {\n",
              "      let quickchartButtonEl =\n",
              "        document.querySelector('#df-aa659d85-1760-4d7f-8357-9b79e9a7347b button');\n",
              "      quickchartButtonEl.style.display =\n",
              "        google.colab.kernel.accessAllowed ? 'block' : 'none';\n",
              "    })();\n",
              "  </script>\n",
              "</div>\n",
              "\n",
              "    </div>\n",
              "  </div>\n"
            ],
            "application/vnd.google.colaboratory.intrinsic+json": {
              "type": "dataframe",
              "variable_name": "df"
            }
          },
          "metadata": {},
          "execution_count": 115
        }
      ]
    },
    {
      "cell_type": "markdown",
      "source": [
        "**check data set information**"
      ],
      "metadata": {
        "id": "JZ30UJhJySSO"
      }
    },
    {
      "cell_type": "code",
      "source": [
        "# Check the data frame info\n",
        "df.info()"
      ],
      "metadata": {
        "colab": {
          "base_uri": "https://localhost:8080/"
        },
        "id": "n1U7hxI3x2qE",
        "outputId": "8d5c0d53-7028-437c-c159-026f6a008cd4"
      },
      "execution_count": 116,
      "outputs": [
        {
          "output_type": "stream",
          "name": "stdout",
          "text": [
            "<class 'pandas.core.frame.DataFrame'>\n",
            "RangeIndex: 4944 entries, 0 to 4943\n",
            "Data columns (total 22 columns):\n",
            " #   Column              Non-Null Count  Dtype  \n",
            "---  ------              --------------  -----  \n",
            " 0   SalePrice           4944 non-null   int64  \n",
            " 1   SqFt1stFloor        4944 non-null   int64  \n",
            " 2   SqFtHalfFloor       4944 non-null   int64  \n",
            " 3   SqFt2ndFloor        4944 non-null   int64  \n",
            " 4   SqFtUpperFloor      4944 non-null   int64  \n",
            " 5   SqFtTotLiving       4944 non-null   int64  \n",
            " 6   SqFtTotBasement     4944 non-null   int64  \n",
            " 7   SqFtFinBasement     4944 non-null   int64  \n",
            " 8   SqFtGarageBasement  4944 non-null   int64  \n",
            " 9   SqFtGarageAttached  4944 non-null   int64  \n",
            " 10  DaylightBasement    4944 non-null   int64  \n",
            " 11  SqFtOpenPorch       4944 non-null   int64  \n",
            " 12  SqFtEnclosedPorch   4944 non-null   int64  \n",
            " 13  SqFtDeck            4944 non-null   int64  \n",
            " 14  BrickStone          4944 non-null   int64  \n",
            " 15  Bedrooms            4944 non-null   int64  \n",
            " 16  BathHalfCount       4944 non-null   int64  \n",
            " 17  Bath3qtrCount       4944 non-null   int64  \n",
            " 18  BathFullCount       4944 non-null   int64  \n",
            " 19  YrBuilt             4944 non-null   int64  \n",
            " 20  Longitude           4944 non-null   float64\n",
            " 21  Latitude            4944 non-null   float64\n",
            "dtypes: float64(2), int64(20)\n",
            "memory usage: 849.9 KB\n"
          ]
        }
      ]
    },
    {
      "cell_type": "markdown",
      "source": [
        "**check data types**"
      ],
      "metadata": {
        "id": "azntFPweyJ3I"
      }
    },
    {
      "cell_type": "code",
      "source": [
        "# Check the data types of each column\n",
        "df.dtypes"
      ],
      "metadata": {
        "colab": {
          "base_uri": "https://localhost:8080/"
        },
        "id": "n-1QT8stx5AN",
        "outputId": "2d78b645-2fee-47f9-a6fa-f629f07beac3"
      },
      "execution_count": 117,
      "outputs": [
        {
          "output_type": "execute_result",
          "data": {
            "text/plain": [
              "SalePrice               int64\n",
              "SqFt1stFloor            int64\n",
              "SqFtHalfFloor           int64\n",
              "SqFt2ndFloor            int64\n",
              "SqFtUpperFloor          int64\n",
              "SqFtTotLiving           int64\n",
              "SqFtTotBasement         int64\n",
              "SqFtFinBasement         int64\n",
              "SqFtGarageBasement      int64\n",
              "SqFtGarageAttached      int64\n",
              "DaylightBasement        int64\n",
              "SqFtOpenPorch           int64\n",
              "SqFtEnclosedPorch       int64\n",
              "SqFtDeck                int64\n",
              "BrickStone              int64\n",
              "Bedrooms                int64\n",
              "BathHalfCount           int64\n",
              "Bath3qtrCount           int64\n",
              "BathFullCount           int64\n",
              "YrBuilt                 int64\n",
              "Longitude             float64\n",
              "Latitude              float64\n",
              "dtype: object"
            ]
          },
          "metadata": {},
          "execution_count": 117
        }
      ]
    },
    {
      "cell_type": "markdown",
      "source": [
        "check null values"
      ],
      "metadata": {
        "id": "v09VME11yHdb"
      }
    },
    {
      "cell_type": "code",
      "source": [
        "# Check for missing values\n",
        "df.isna().sum()"
      ],
      "metadata": {
        "colab": {
          "base_uri": "https://localhost:8080/"
        },
        "id": "3qogVvSVx9C4",
        "outputId": "6ebf6586-6e19-408c-d8f6-490375491b96"
      },
      "execution_count": 118,
      "outputs": [
        {
          "output_type": "execute_result",
          "data": {
            "text/plain": [
              "SalePrice             0\n",
              "SqFt1stFloor          0\n",
              "SqFtHalfFloor         0\n",
              "SqFt2ndFloor          0\n",
              "SqFtUpperFloor        0\n",
              "SqFtTotLiving         0\n",
              "SqFtTotBasement       0\n",
              "SqFtFinBasement       0\n",
              "SqFtGarageBasement    0\n",
              "SqFtGarageAttached    0\n",
              "DaylightBasement      0\n",
              "SqFtOpenPorch         0\n",
              "SqFtEnclosedPorch     0\n",
              "SqFtDeck              0\n",
              "BrickStone            0\n",
              "Bedrooms              0\n",
              "BathHalfCount         0\n",
              "Bath3qtrCount         0\n",
              "BathFullCount         0\n",
              "YrBuilt               0\n",
              "Longitude             0\n",
              "Latitude              0\n",
              "dtype: int64"
            ]
          },
          "metadata": {},
          "execution_count": 118
        }
      ]
    },
    {
      "cell_type": "code",
      "source": [
        "# Print the summary statistics of the data\n",
        "df.describe()"
      ],
      "metadata": {
        "colab": {
          "base_uri": "https://localhost:8080/",
          "height": 350
        },
        "id": "m2Lc7ZrMyYle",
        "outputId": "522add59-0c0d-4552-ac28-8c6644e6ec8c"
      },
      "execution_count": 119,
      "outputs": [
        {
          "output_type": "execute_result",
          "data": {
            "text/plain": [
              "          SalePrice  SqFt1stFloor  SqFtHalfFloor  SqFt2ndFloor  \\\n",
              "count  4.944000e+03   4944.000000    4944.000000   4944.000000   \n",
              "mean   6.643497e+05   1175.502832      51.758495    349.306837   \n",
              "std    2.978080e+05    446.398643     174.464172    544.632918   \n",
              "min    6.000000e+04    260.000000       0.000000      0.000000   \n",
              "25%    4.500000e+05    880.000000       0.000000      0.000000   \n",
              "50%    6.305500e+05   1170.000000       0.000000      0.000000   \n",
              "75%    7.886125e+05   1450.000000       0.000000    580.000000   \n",
              "max    1.998000e+06   3600.000000    2000.000000   3010.000000   \n",
              "\n",
              "       SqFtUpperFloor  SqFtTotLiving  SqFtTotBasement  SqFtFinBasement  \\\n",
              "count     4944.000000    4944.000000      4944.000000      4944.000000   \n",
              "mean        26.994134    1935.205097       595.065939       334.273463   \n",
              "std        115.331907     764.888792       567.175862       422.825946   \n",
              "min          0.000000     300.000000         0.000000         0.000000   \n",
              "25%          0.000000    1390.000000         0.000000         0.000000   \n",
              "50%          0.000000    1770.000000       560.000000       110.000000   \n",
              "75%          0.000000    2360.000000      1070.000000       570.000000   \n",
              "max       1220.000000    6695.000000      3070.000000      2620.000000   \n",
              "\n",
              "       SqFtGarageBasement  SqFtGarageAttached  ...  SqFtEnclosedPorch  \\\n",
              "count         4944.000000         4944.000000  ...        4944.000000   \n",
              "mean           102.417071          170.282160  ...           8.271238   \n",
              "std            187.119944          239.635895  ...          37.449815   \n",
              "min              0.000000            0.000000  ...           0.000000   \n",
              "25%              0.000000            0.000000  ...           0.000000   \n",
              "50%              0.000000            0.000000  ...           0.000000   \n",
              "75%            190.000000          400.000000  ...           0.000000   \n",
              "max           1090.000000         1830.000000  ...         620.000000   \n",
              "\n",
              "          SqFtDeck   BrickStone     Bedrooms  BathHalfCount  Bath3qtrCount  \\\n",
              "count  4944.000000  4944.000000  4944.000000    4944.000000    4944.000000   \n",
              "mean    148.908576     4.415858     3.375607       0.387743       0.628236   \n",
              "std     201.636086    18.643753     0.947061       0.506022       0.651598   \n",
              "min       0.000000     0.000000     0.000000       0.000000       0.000000   \n",
              "25%       0.000000     0.000000     3.000000       0.000000       0.000000   \n",
              "50%      50.000000     0.000000     3.000000       0.000000       1.000000   \n",
              "75%     257.000000     0.000000     4.000000       1.000000       1.000000   \n",
              "max    1940.000000   100.000000     8.000000       3.000000       4.000000   \n",
              "\n",
              "       BathFullCount      YrBuilt    Longitude     Latitude  \n",
              "count    4944.000000  4944.000000  4944.000000  4944.000000  \n",
              "mean        1.319579  1972.183455  -122.271891    47.572471  \n",
              "std         0.609963    32.905503     0.086519     0.127187  \n",
              "min         0.000000  1900.000000  -122.526072    47.213547  \n",
              "25%         1.000000  1952.000000  -122.346573    47.488749  \n",
              "50%         1.000000  1967.000000  -122.291976    47.576939  \n",
              "75%         2.000000  2016.000000  -122.192528    47.681099  \n",
              "max         5.000000  2019.000000  -122.090088    47.777422  \n",
              "\n",
              "[8 rows x 22 columns]"
            ],
            "text/html": [
              "\n",
              "  <div id=\"df-25e88354-bd38-4a24-bf0a-e836ccd93af0\" class=\"colab-df-container\">\n",
              "    <div>\n",
              "<style scoped>\n",
              "    .dataframe tbody tr th:only-of-type {\n",
              "        vertical-align: middle;\n",
              "    }\n",
              "\n",
              "    .dataframe tbody tr th {\n",
              "        vertical-align: top;\n",
              "    }\n",
              "\n",
              "    .dataframe thead th {\n",
              "        text-align: right;\n",
              "    }\n",
              "</style>\n",
              "<table border=\"1\" class=\"dataframe\">\n",
              "  <thead>\n",
              "    <tr style=\"text-align: right;\">\n",
              "      <th></th>\n",
              "      <th>SalePrice</th>\n",
              "      <th>SqFt1stFloor</th>\n",
              "      <th>SqFtHalfFloor</th>\n",
              "      <th>SqFt2ndFloor</th>\n",
              "      <th>SqFtUpperFloor</th>\n",
              "      <th>SqFtTotLiving</th>\n",
              "      <th>SqFtTotBasement</th>\n",
              "      <th>SqFtFinBasement</th>\n",
              "      <th>SqFtGarageBasement</th>\n",
              "      <th>SqFtGarageAttached</th>\n",
              "      <th>...</th>\n",
              "      <th>SqFtEnclosedPorch</th>\n",
              "      <th>SqFtDeck</th>\n",
              "      <th>BrickStone</th>\n",
              "      <th>Bedrooms</th>\n",
              "      <th>BathHalfCount</th>\n",
              "      <th>Bath3qtrCount</th>\n",
              "      <th>BathFullCount</th>\n",
              "      <th>YrBuilt</th>\n",
              "      <th>Longitude</th>\n",
              "      <th>Latitude</th>\n",
              "    </tr>\n",
              "  </thead>\n",
              "  <tbody>\n",
              "    <tr>\n",
              "      <th>count</th>\n",
              "      <td>4.944000e+03</td>\n",
              "      <td>4944.000000</td>\n",
              "      <td>4944.000000</td>\n",
              "      <td>4944.000000</td>\n",
              "      <td>4944.000000</td>\n",
              "      <td>4944.000000</td>\n",
              "      <td>4944.000000</td>\n",
              "      <td>4944.000000</td>\n",
              "      <td>4944.000000</td>\n",
              "      <td>4944.000000</td>\n",
              "      <td>...</td>\n",
              "      <td>4944.000000</td>\n",
              "      <td>4944.000000</td>\n",
              "      <td>4944.000000</td>\n",
              "      <td>4944.000000</td>\n",
              "      <td>4944.000000</td>\n",
              "      <td>4944.000000</td>\n",
              "      <td>4944.000000</td>\n",
              "      <td>4944.000000</td>\n",
              "      <td>4944.000000</td>\n",
              "      <td>4944.000000</td>\n",
              "    </tr>\n",
              "    <tr>\n",
              "      <th>mean</th>\n",
              "      <td>6.643497e+05</td>\n",
              "      <td>1175.502832</td>\n",
              "      <td>51.758495</td>\n",
              "      <td>349.306837</td>\n",
              "      <td>26.994134</td>\n",
              "      <td>1935.205097</td>\n",
              "      <td>595.065939</td>\n",
              "      <td>334.273463</td>\n",
              "      <td>102.417071</td>\n",
              "      <td>170.282160</td>\n",
              "      <td>...</td>\n",
              "      <td>8.271238</td>\n",
              "      <td>148.908576</td>\n",
              "      <td>4.415858</td>\n",
              "      <td>3.375607</td>\n",
              "      <td>0.387743</td>\n",
              "      <td>0.628236</td>\n",
              "      <td>1.319579</td>\n",
              "      <td>1972.183455</td>\n",
              "      <td>-122.271891</td>\n",
              "      <td>47.572471</td>\n",
              "    </tr>\n",
              "    <tr>\n",
              "      <th>std</th>\n",
              "      <td>2.978080e+05</td>\n",
              "      <td>446.398643</td>\n",
              "      <td>174.464172</td>\n",
              "      <td>544.632918</td>\n",
              "      <td>115.331907</td>\n",
              "      <td>764.888792</td>\n",
              "      <td>567.175862</td>\n",
              "      <td>422.825946</td>\n",
              "      <td>187.119944</td>\n",
              "      <td>239.635895</td>\n",
              "      <td>...</td>\n",
              "      <td>37.449815</td>\n",
              "      <td>201.636086</td>\n",
              "      <td>18.643753</td>\n",
              "      <td>0.947061</td>\n",
              "      <td>0.506022</td>\n",
              "      <td>0.651598</td>\n",
              "      <td>0.609963</td>\n",
              "      <td>32.905503</td>\n",
              "      <td>0.086519</td>\n",
              "      <td>0.127187</td>\n",
              "    </tr>\n",
              "    <tr>\n",
              "      <th>min</th>\n",
              "      <td>6.000000e+04</td>\n",
              "      <td>260.000000</td>\n",
              "      <td>0.000000</td>\n",
              "      <td>0.000000</td>\n",
              "      <td>0.000000</td>\n",
              "      <td>300.000000</td>\n",
              "      <td>0.000000</td>\n",
              "      <td>0.000000</td>\n",
              "      <td>0.000000</td>\n",
              "      <td>0.000000</td>\n",
              "      <td>...</td>\n",
              "      <td>0.000000</td>\n",
              "      <td>0.000000</td>\n",
              "      <td>0.000000</td>\n",
              "      <td>0.000000</td>\n",
              "      <td>0.000000</td>\n",
              "      <td>0.000000</td>\n",
              "      <td>0.000000</td>\n",
              "      <td>1900.000000</td>\n",
              "      <td>-122.526072</td>\n",
              "      <td>47.213547</td>\n",
              "    </tr>\n",
              "    <tr>\n",
              "      <th>25%</th>\n",
              "      <td>4.500000e+05</td>\n",
              "      <td>880.000000</td>\n",
              "      <td>0.000000</td>\n",
              "      <td>0.000000</td>\n",
              "      <td>0.000000</td>\n",
              "      <td>1390.000000</td>\n",
              "      <td>0.000000</td>\n",
              "      <td>0.000000</td>\n",
              "      <td>0.000000</td>\n",
              "      <td>0.000000</td>\n",
              "      <td>...</td>\n",
              "      <td>0.000000</td>\n",
              "      <td>0.000000</td>\n",
              "      <td>0.000000</td>\n",
              "      <td>3.000000</td>\n",
              "      <td>0.000000</td>\n",
              "      <td>0.000000</td>\n",
              "      <td>1.000000</td>\n",
              "      <td>1952.000000</td>\n",
              "      <td>-122.346573</td>\n",
              "      <td>47.488749</td>\n",
              "    </tr>\n",
              "    <tr>\n",
              "      <th>50%</th>\n",
              "      <td>6.305500e+05</td>\n",
              "      <td>1170.000000</td>\n",
              "      <td>0.000000</td>\n",
              "      <td>0.000000</td>\n",
              "      <td>0.000000</td>\n",
              "      <td>1770.000000</td>\n",
              "      <td>560.000000</td>\n",
              "      <td>110.000000</td>\n",
              "      <td>0.000000</td>\n",
              "      <td>0.000000</td>\n",
              "      <td>...</td>\n",
              "      <td>0.000000</td>\n",
              "      <td>50.000000</td>\n",
              "      <td>0.000000</td>\n",
              "      <td>3.000000</td>\n",
              "      <td>0.000000</td>\n",
              "      <td>1.000000</td>\n",
              "      <td>1.000000</td>\n",
              "      <td>1967.000000</td>\n",
              "      <td>-122.291976</td>\n",
              "      <td>47.576939</td>\n",
              "    </tr>\n",
              "    <tr>\n",
              "      <th>75%</th>\n",
              "      <td>7.886125e+05</td>\n",
              "      <td>1450.000000</td>\n",
              "      <td>0.000000</td>\n",
              "      <td>580.000000</td>\n",
              "      <td>0.000000</td>\n",
              "      <td>2360.000000</td>\n",
              "      <td>1070.000000</td>\n",
              "      <td>570.000000</td>\n",
              "      <td>190.000000</td>\n",
              "      <td>400.000000</td>\n",
              "      <td>...</td>\n",
              "      <td>0.000000</td>\n",
              "      <td>257.000000</td>\n",
              "      <td>0.000000</td>\n",
              "      <td>4.000000</td>\n",
              "      <td>1.000000</td>\n",
              "      <td>1.000000</td>\n",
              "      <td>2.000000</td>\n",
              "      <td>2016.000000</td>\n",
              "      <td>-122.192528</td>\n",
              "      <td>47.681099</td>\n",
              "    </tr>\n",
              "    <tr>\n",
              "      <th>max</th>\n",
              "      <td>1.998000e+06</td>\n",
              "      <td>3600.000000</td>\n",
              "      <td>2000.000000</td>\n",
              "      <td>3010.000000</td>\n",
              "      <td>1220.000000</td>\n",
              "      <td>6695.000000</td>\n",
              "      <td>3070.000000</td>\n",
              "      <td>2620.000000</td>\n",
              "      <td>1090.000000</td>\n",
              "      <td>1830.000000</td>\n",
              "      <td>...</td>\n",
              "      <td>620.000000</td>\n",
              "      <td>1940.000000</td>\n",
              "      <td>100.000000</td>\n",
              "      <td>8.000000</td>\n",
              "      <td>3.000000</td>\n",
              "      <td>4.000000</td>\n",
              "      <td>5.000000</td>\n",
              "      <td>2019.000000</td>\n",
              "      <td>-122.090088</td>\n",
              "      <td>47.777422</td>\n",
              "    </tr>\n",
              "  </tbody>\n",
              "</table>\n",
              "<p>8 rows × 22 columns</p>\n",
              "</div>\n",
              "    <div class=\"colab-df-buttons\">\n",
              "\n",
              "  <div class=\"colab-df-container\">\n",
              "    <button class=\"colab-df-convert\" onclick=\"convertToInteractive('df-25e88354-bd38-4a24-bf0a-e836ccd93af0')\"\n",
              "            title=\"Convert this dataframe to an interactive table.\"\n",
              "            style=\"display:none;\">\n",
              "\n",
              "  <svg xmlns=\"http://www.w3.org/2000/svg\" height=\"24px\" viewBox=\"0 -960 960 960\">\n",
              "    <path d=\"M120-120v-720h720v720H120Zm60-500h600v-160H180v160Zm220 220h160v-160H400v160Zm0 220h160v-160H400v160ZM180-400h160v-160H180v160Zm440 0h160v-160H620v160ZM180-180h160v-160H180v160Zm440 0h160v-160H620v160Z\"/>\n",
              "  </svg>\n",
              "    </button>\n",
              "\n",
              "  <style>\n",
              "    .colab-df-container {\n",
              "      display:flex;\n",
              "      gap: 12px;\n",
              "    }\n",
              "\n",
              "    .colab-df-convert {\n",
              "      background-color: #E8F0FE;\n",
              "      border: none;\n",
              "      border-radius: 50%;\n",
              "      cursor: pointer;\n",
              "      display: none;\n",
              "      fill: #1967D2;\n",
              "      height: 32px;\n",
              "      padding: 0 0 0 0;\n",
              "      width: 32px;\n",
              "    }\n",
              "\n",
              "    .colab-df-convert:hover {\n",
              "      background-color: #E2EBFA;\n",
              "      box-shadow: 0px 1px 2px rgba(60, 64, 67, 0.3), 0px 1px 3px 1px rgba(60, 64, 67, 0.15);\n",
              "      fill: #174EA6;\n",
              "    }\n",
              "\n",
              "    .colab-df-buttons div {\n",
              "      margin-bottom: 4px;\n",
              "    }\n",
              "\n",
              "    [theme=dark] .colab-df-convert {\n",
              "      background-color: #3B4455;\n",
              "      fill: #D2E3FC;\n",
              "    }\n",
              "\n",
              "    [theme=dark] .colab-df-convert:hover {\n",
              "      background-color: #434B5C;\n",
              "      box-shadow: 0px 1px 3px 1px rgba(0, 0, 0, 0.15);\n",
              "      filter: drop-shadow(0px 1px 2px rgba(0, 0, 0, 0.3));\n",
              "      fill: #FFFFFF;\n",
              "    }\n",
              "  </style>\n",
              "\n",
              "    <script>\n",
              "      const buttonEl =\n",
              "        document.querySelector('#df-25e88354-bd38-4a24-bf0a-e836ccd93af0 button.colab-df-convert');\n",
              "      buttonEl.style.display =\n",
              "        google.colab.kernel.accessAllowed ? 'block' : 'none';\n",
              "\n",
              "      async function convertToInteractive(key) {\n",
              "        const element = document.querySelector('#df-25e88354-bd38-4a24-bf0a-e836ccd93af0');\n",
              "        const dataTable =\n",
              "          await google.colab.kernel.invokeFunction('convertToInteractive',\n",
              "                                                    [key], {});\n",
              "        if (!dataTable) return;\n",
              "\n",
              "        const docLinkHtml = 'Like what you see? Visit the ' +\n",
              "          '<a target=\"_blank\" href=https://colab.research.google.com/notebooks/data_table.ipynb>data table notebook</a>'\n",
              "          + ' to learn more about interactive tables.';\n",
              "        element.innerHTML = '';\n",
              "        dataTable['output_type'] = 'display_data';\n",
              "        await google.colab.output.renderOutput(dataTable, element);\n",
              "        const docLink = document.createElement('div');\n",
              "        docLink.innerHTML = docLinkHtml;\n",
              "        element.appendChild(docLink);\n",
              "      }\n",
              "    </script>\n",
              "  </div>\n",
              "\n",
              "\n",
              "<div id=\"df-6db2dd3e-353e-4fd2-8a4c-9579c31e58d6\">\n",
              "  <button class=\"colab-df-quickchart\" onclick=\"quickchart('df-6db2dd3e-353e-4fd2-8a4c-9579c31e58d6')\"\n",
              "            title=\"Suggest charts\"\n",
              "            style=\"display:none;\">\n",
              "\n",
              "<svg xmlns=\"http://www.w3.org/2000/svg\" height=\"24px\"viewBox=\"0 0 24 24\"\n",
              "     width=\"24px\">\n",
              "    <g>\n",
              "        <path d=\"M19 3H5c-1.1 0-2 .9-2 2v14c0 1.1.9 2 2 2h14c1.1 0 2-.9 2-2V5c0-1.1-.9-2-2-2zM9 17H7v-7h2v7zm4 0h-2V7h2v10zm4 0h-2v-4h2v4z\"/>\n",
              "    </g>\n",
              "</svg>\n",
              "  </button>\n",
              "\n",
              "<style>\n",
              "  .colab-df-quickchart {\n",
              "      --bg-color: #E8F0FE;\n",
              "      --fill-color: #1967D2;\n",
              "      --hover-bg-color: #E2EBFA;\n",
              "      --hover-fill-color: #174EA6;\n",
              "      --disabled-fill-color: #AAA;\n",
              "      --disabled-bg-color: #DDD;\n",
              "  }\n",
              "\n",
              "  [theme=dark] .colab-df-quickchart {\n",
              "      --bg-color: #3B4455;\n",
              "      --fill-color: #D2E3FC;\n",
              "      --hover-bg-color: #434B5C;\n",
              "      --hover-fill-color: #FFFFFF;\n",
              "      --disabled-bg-color: #3B4455;\n",
              "      --disabled-fill-color: #666;\n",
              "  }\n",
              "\n",
              "  .colab-df-quickchart {\n",
              "    background-color: var(--bg-color);\n",
              "    border: none;\n",
              "    border-radius: 50%;\n",
              "    cursor: pointer;\n",
              "    display: none;\n",
              "    fill: var(--fill-color);\n",
              "    height: 32px;\n",
              "    padding: 0;\n",
              "    width: 32px;\n",
              "  }\n",
              "\n",
              "  .colab-df-quickchart:hover {\n",
              "    background-color: var(--hover-bg-color);\n",
              "    box-shadow: 0 1px 2px rgba(60, 64, 67, 0.3), 0 1px 3px 1px rgba(60, 64, 67, 0.15);\n",
              "    fill: var(--button-hover-fill-color);\n",
              "  }\n",
              "\n",
              "  .colab-df-quickchart-complete:disabled,\n",
              "  .colab-df-quickchart-complete:disabled:hover {\n",
              "    background-color: var(--disabled-bg-color);\n",
              "    fill: var(--disabled-fill-color);\n",
              "    box-shadow: none;\n",
              "  }\n",
              "\n",
              "  .colab-df-spinner {\n",
              "    border: 2px solid var(--fill-color);\n",
              "    border-color: transparent;\n",
              "    border-bottom-color: var(--fill-color);\n",
              "    animation:\n",
              "      spin 1s steps(1) infinite;\n",
              "  }\n",
              "\n",
              "  @keyframes spin {\n",
              "    0% {\n",
              "      border-color: transparent;\n",
              "      border-bottom-color: var(--fill-color);\n",
              "      border-left-color: var(--fill-color);\n",
              "    }\n",
              "    20% {\n",
              "      border-color: transparent;\n",
              "      border-left-color: var(--fill-color);\n",
              "      border-top-color: var(--fill-color);\n",
              "    }\n",
              "    30% {\n",
              "      border-color: transparent;\n",
              "      border-left-color: var(--fill-color);\n",
              "      border-top-color: var(--fill-color);\n",
              "      border-right-color: var(--fill-color);\n",
              "    }\n",
              "    40% {\n",
              "      border-color: transparent;\n",
              "      border-right-color: var(--fill-color);\n",
              "      border-top-color: var(--fill-color);\n",
              "    }\n",
              "    60% {\n",
              "      border-color: transparent;\n",
              "      border-right-color: var(--fill-color);\n",
              "    }\n",
              "    80% {\n",
              "      border-color: transparent;\n",
              "      border-right-color: var(--fill-color);\n",
              "      border-bottom-color: var(--fill-color);\n",
              "    }\n",
              "    90% {\n",
              "      border-color: transparent;\n",
              "      border-bottom-color: var(--fill-color);\n",
              "    }\n",
              "  }\n",
              "</style>\n",
              "\n",
              "  <script>\n",
              "    async function quickchart(key) {\n",
              "      const quickchartButtonEl =\n",
              "        document.querySelector('#' + key + ' button');\n",
              "      quickchartButtonEl.disabled = true;  // To prevent multiple clicks.\n",
              "      quickchartButtonEl.classList.add('colab-df-spinner');\n",
              "      try {\n",
              "        const charts = await google.colab.kernel.invokeFunction(\n",
              "            'suggestCharts', [key], {});\n",
              "      } catch (error) {\n",
              "        console.error('Error during call to suggestCharts:', error);\n",
              "      }\n",
              "      quickchartButtonEl.classList.remove('colab-df-spinner');\n",
              "      quickchartButtonEl.classList.add('colab-df-quickchart-complete');\n",
              "    }\n",
              "    (() => {\n",
              "      let quickchartButtonEl =\n",
              "        document.querySelector('#df-6db2dd3e-353e-4fd2-8a4c-9579c31e58d6 button');\n",
              "      quickchartButtonEl.style.display =\n",
              "        google.colab.kernel.accessAllowed ? 'block' : 'none';\n",
              "    })();\n",
              "  </script>\n",
              "</div>\n",
              "\n",
              "    </div>\n",
              "  </div>\n"
            ],
            "application/vnd.google.colaboratory.intrinsic+json": {
              "type": "dataframe"
            }
          },
          "metadata": {},
          "execution_count": 119
        }
      ]
    },
    {
      "cell_type": "code",
      "source": [
        "# Check for duplicate rows\n",
        "df.duplicated().sum()"
      ],
      "metadata": {
        "colab": {
          "base_uri": "https://localhost:8080/"
        },
        "id": "T8fekJzLz6vw",
        "outputId": "f43d7c77-30b4-4f28-e022-254b134c4d89"
      },
      "execution_count": 120,
      "outputs": [
        {
          "output_type": "execute_result",
          "data": {
            "text/plain": [
              "29"
            ]
          },
          "metadata": {},
          "execution_count": 120
        }
      ]
    },
    {
      "cell_type": "code",
      "source": [
        "# Drop duplicate rows in df\n",
        "df.drop_duplicates(inplace=True)"
      ],
      "metadata": {
        "id": "amn5gQST1KEG"
      },
      "execution_count": 121,
      "outputs": []
    },
    {
      "cell_type": "code",
      "source": [
        "# Check for duplicate rows\n",
        "df.duplicated().sum()"
      ],
      "metadata": {
        "colab": {
          "base_uri": "https://localhost:8080/"
        },
        "id": "vhYAqABM1M07",
        "outputId": "abd33349-be17-4dd8-c935-472396418828"
      },
      "execution_count": 122,
      "outputs": [
        {
          "output_type": "execute_result",
          "data": {
            "text/plain": [
              "0"
            ]
          },
          "metadata": {},
          "execution_count": 122
        }
      ]
    },
    {
      "cell_type": "markdown",
      "source": [
        "**Prepare the data for modeling**"
      ],
      "metadata": {
        "id": "oQSo-qhm3deB"
      }
    },
    {
      "cell_type": "code",
      "source": [
        "\n",
        "# Create a StandardScaler object\n",
        "scaler = StandardScaler()\n",
        "\n",
        "# Fit the scaler to the data\n",
        "scaler.fit(df)\n",
        "\n",
        "# Transform the data using the scaler\n",
        "df_scaled = scaler.transform(df)"
      ],
      "metadata": {
        "id": "tvjJyzQu1D2t"
      },
      "execution_count": 123,
      "outputs": []
    },
    {
      "cell_type": "markdown",
      "source": [
        "**Use a KMeans model to cluster the houses into an optimal number of clusters.**\n",
        "\n",
        "    1. Use an elbow plot and silhouette score to find the optimal number of clusters.\n",
        "    2. There must be between 2 and 10 clusters.\n",
        "    3. Explain your choice of the number of clusters."
      ],
      "metadata": {
        "id": "Z2X2R9Gx5l_G"
      }
    },
    {
      "cell_type": "code",
      "source": [
        "\n",
        "#Create an empty list of inertias\n",
        "inertias = []\n",
        "#Loop through k values between 2 and 10 and store the inertias in the list.\n",
        "for k in range(2,11):\n",
        "    kmeans = KMeans(n_clusters=k)\n",
        "    kmeans.fit(df_scaled)\n",
        "    inertias.append(kmeans.inertia_)\n",
        "#Visualize scores\n",
        "plt.plot(range(2,11), inertias, marker = '.')\n",
        "plt.xlabel('clusters')\n",
        "plt.title(\"Elbow Plot for KMeans Clustering\")\n",
        "plt.ylabel('inertia');\n"
      ],
      "metadata": {
        "colab": {
          "base_uri": "https://localhost:8080/"
        },
        "id": "GOzsfvIoJBzJ",
        "outputId": "47fce27e-7563-4076-a995-95c9f605ab4b"
      },
      "execution_count": null,
      "outputs": [
        {
          "output_type": "stream",
          "name": "stderr",
          "text": [
            "/usr/local/lib/python3.10/dist-packages/sklearn/cluster/_kmeans.py:870: FutureWarning: The default value of `n_init` will change from 10 to 'auto' in 1.4. Set the value of `n_init` explicitly to suppress the warning\n",
            "  warnings.warn(\n",
            "/usr/local/lib/python3.10/dist-packages/sklearn/cluster/_kmeans.py:870: FutureWarning: The default value of `n_init` will change from 10 to 'auto' in 1.4. Set the value of `n_init` explicitly to suppress the warning\n",
            "  warnings.warn(\n",
            "/usr/local/lib/python3.10/dist-packages/sklearn/cluster/_kmeans.py:870: FutureWarning: The default value of `n_init` will change from 10 to 'auto' in 1.4. Set the value of `n_init` explicitly to suppress the warning\n",
            "  warnings.warn(\n"
          ]
        }
      ]
    },
    {
      "cell_type": "code",
      "source": [
        "\n",
        "# Visualize different silhouette scores\n",
        "# Save silhouette scores for various cluster numbers in list\n",
        "silhouette_scores = []\n",
        "for i in range(2, 11):\n",
        "  kmeans = KMeans(n_clusters = i)\n",
        "  kmeans.fit(df_scaled)\n",
        "  silhouette_scores.append(silhouette_score(df_scaled, kmeans.labels_))\n",
        "# Visualize scores\n",
        "plt.plot(range(2, 11), silhouette_scores, marker = '.')\n",
        "plt.xlabel('Number of Clusters')\n",
        "plt.title(\"Silhouette Score Plot for KMeans Clustering\")\n",
        "plt.ylabel('Silhouette Score');"
      ],
      "metadata": {
        "id": "wcJlXMchJd-F"
      },
      "execution_count": null,
      "outputs": []
    },
    {
      "cell_type": "markdown",
      "source": [
        "**Visualization explaination**"
      ],
      "metadata": {
        "id": "VBXErUu9P9Ap"
      }
    },
    {
      "cell_type": "markdown",
      "source": [
        "**Based on the Elbow and silhouette score plot we above the following **\n",
        "\n",
        "1. the optimal number of clusters is 3. This is the point where the silhouette score starts to level off, indicating that adding more clusters will not significantly improve the quality of the clustering.\n",
        "\n",
        "2. the silhouette score increases rapidly as the number of clusters increases from 2 to 3. This indicates that adding more clusters is improving the quality of the clustering. However, the silhouette score starts to level off after 3 clusters. This indicates that adding more clusters will not significantly improve the quality of the clustering\n",
        "\n",
        "3. Therefore, the optimal number of clusters is 3. This means that the houses can be best grouped into 3 distinct clusters based on their features.\n",
        "4. Optimal number of clusters: 5"
      ],
      "metadata": {
        "id": "TcTqYbPO5Jie"
      }
    },
    {
      "cell_type": "markdown",
      "source": [
        "**Analyze and report on the clusters.**\n",
        "\n",
        "    1. Create 2 report quality explanatory visualizations showing important differences between the clusters.\n",
        "    2. Interpret and explain each visualization."
      ],
      "metadata": {
        "id": "gQZw9IA353ba"
      }
    },
    {
      "cell_type": "code",
      "source": [
        "# Choose the optimal number of clusters (based on elbow plot and silhouette score)\n",
        "optimal_clusters = 4\n",
        "\n",
        "# Fit the KMeans model\n",
        "kmeans = KMeans(n_clusters=optimal_clusters, random_state=42)\n",
        "df['Cluster'] = kmeans.fit_predict(df_scaled)"
      ],
      "metadata": {
        "id": "3N8S1nfnVZoY"
      },
      "execution_count": null,
      "outputs": []
    },
    {
      "cell_type": "code",
      "source": [
        "# Group by cluster to get the mean values\n",
        "cluster_description = df.groupby('Cluster').mean()\n",
        "cluster_description"
      ],
      "metadata": {
        "id": "V7ha77amcUSC"
      },
      "execution_count": null,
      "outputs": []
    },
    {
      "cell_type": "code",
      "source": [
        "df.dtypes"
      ],
      "metadata": {
        "id": "xLy3gb-4Lx9r"
      },
      "execution_count": null,
      "outputs": []
    },
    {
      "cell_type": "markdown",
      "source": [
        "A bar plot of Saleprice for clusters"
      ],
      "metadata": {
        "id": "7nmA8F8XJxVO"
      }
    },
    {
      "cell_type": "code",
      "source": [
        "#barplot of cluster and saleprice\n",
        "plt.figure(figsize=(8, 6))\n",
        "sns.barplot(data=df, x='Cluster', y='SalePrice', palette='Set1', ci=None)\n",
        "plt.title('Average Sale Price by Cluster')\n",
        "plt.xlabel('Cluster')\n",
        "plt.ylabel('Average Sale Price')\n",
        "plt.show()\n"
      ],
      "metadata": {
        "id": "pB2rdsNZccon"
      },
      "execution_count": null,
      "outputs": []
    },
    {
      "cell_type": "markdown",
      "source": [
        "### Interpretation\n",
        "  - Cluster 0:\n",
        "This cluster has homes with the lowest value. Factors contributing to this could include low square footage, old construction, undesirable locations, or other premium features.\n",
        "  - Cluster 1 and 2\n",
        "This cluster represents homes that are relatively expensive than 0. they might have much more desirable features.\n",
        "- Cluster 3:\n",
        "The homes here have a the highest sale price, they might be having more desirable features."
      ],
      "metadata": {
        "id": "LqGxXUXReTRf"
      }
    },
    {
      "cell_type": "markdown",
      "source": [
        "The plot scatter plot that shows the relationship between two variables: SqFtTotLiving (total living area) and SalePrice (sale price). Each data point on the plot represents a single house in the dataset, and the color of each data point indicates the cluster that the house belongs to."
      ],
      "metadata": {
        "id": "wqJfjgn0gzaP"
      }
    },
    {
      "cell_type": "code",
      "source": [
        "\n",
        "plt.figure(figsize=(10, 6))\n",
        "sns.scatterplot(data=df, x='SqFtTotLiving', y='SalePrice', hue='Cluster', palette='Set1')\n",
        "plt.title('Clusters by SalePrice and Total Living Area')\n",
        "plt.xlabel('Total Living Area (SqFt)')\n",
        "plt.ylabel('Sale Price')\n",
        "plt.show()\n"
      ],
      "metadata": {
        "id": "sNLSMAvZfMjB"
      },
      "execution_count": null,
      "outputs": []
    },
    {
      "cell_type": "markdown",
      "source": [
        "Observations:\n",
        "\n",
        "There is a general positive correlation between total living area and sale price. This means that houses with larger total living areas tend to have higher sale prices.\n",
        "\n",
        "However, there is also a lot of scatter in the data. This means that there are some houses with large total living areas that have low sale prices, and vice versa.\n",
        "\n",
        "There is some separation between the clusters. For example, houses in cluster 0 tend to have lower total living areas and sale prices compared to houses in other clusters.\n",
        "\n",
        "There are a few data points that are far away from the main cluster of data points. These data points represent houses that are either very large or very expensive, compared to the rest of the houses in the dataset.\n",
        "\n"
      ],
      "metadata": {
        "id": "Za4K-U7bhF1J"
      }
    },
    {
      "cell_type": "markdown",
      "source": [
        "Insights:\n",
        "\n",
        "Cluster 0: Houses in this cluster tend to have the smallest total living areas and the lowest sale prices.\n",
        "\n",
        "Cluster 1: Houses in this cluster have a wide range of total living areas and sale prices. However, they tend to have lower sale prices compared to other clusters.\n",
        "\n",
        "Cluster 2: Houses in this cluster tend to have the largest total living areas and the highest sale prices.\n",
        "\n",
        "Cluster 3: Houses in this cluster have a wide range of total living areas and sale prices. However, they tend to have higher sale prices compared to other clusters."
      ],
      "metadata": {
        "id": "8rpX3mzch86L"
      }
    },
    {
      "cell_type": "markdown",
      "source": [
        "Overall:\n",
        "\n",
        "The plot shows that there is a positive correlation between total living area and sale price, but this relationship varies across different clusters. This suggests that cluster membership is an important factor to consider when predicting sale price."
      ],
      "metadata": {
        "id": "D7vsSjEBir_2"
      }
    },
    {
      "cell_type": "markdown",
      "source": [
        "**Part 2: Modeling Instructions:**"
      ],
      "metadata": {
        "id": "jAo46qkCA84w"
      }
    },
    {
      "cell_type": "markdown",
      "source": [
        "The house flipping company has provided new data about when the homes were sold and what businesses are nearby. This new data has created a very large number of columns as the businesses, months sold, and years sold are all one-hot encoded.\n",
        "\n",
        "They would like you to use this new dataset to create a deep-learning model that predicts the likely sale price for a new home coming to market.\n",
        "\n",
        "Note: SalePrice is your target variable"
      ],
      "metadata": {
        "id": "8MdriAJyBJNT"
      }
    },
    {
      "cell_type": "markdown",
      "source": [
        "**Load this dataset for modeling **"
      ],
      "metadata": {
        "id": "xiBtEcNKBCVu"
      }
    },
    {
      "cell_type": "code",
      "source": [
        "\n",
        "filename = '/content/drive/MyDrive/Week2_data/Machine Learning Data Sets/option_A_modeling_df - option_A_modeling_df.csv'\n",
        "df2 = pd.read_csv(filename)\n",
        "df2.head()"
      ],
      "metadata": {
        "id": "DDzvjJZMBQ2N"
      },
      "execution_count": null,
      "outputs": []
    },
    {
      "cell_type": "code",
      "source": [
        "# Check the data frame info\n",
        "df2.info()"
      ],
      "metadata": {
        "id": "JcHp_5LCCJuf"
      },
      "execution_count": null,
      "outputs": []
    },
    {
      "cell_type": "code",
      "source": [
        "# Check the data types of each column\n",
        "df2.dtypes"
      ],
      "metadata": {
        "id": "E8kN7WJuCJug"
      },
      "execution_count": null,
      "outputs": []
    },
    {
      "cell_type": "code",
      "source": [
        "# Check for missing values\n",
        "df2.isna().sum()"
      ],
      "metadata": {
        "id": "K4yLSmCiCJuh"
      },
      "execution_count": null,
      "outputs": []
    },
    {
      "cell_type": "code",
      "source": [
        "# Print the summary statistics of the data\n",
        "df2.describe()"
      ],
      "metadata": {
        "id": "NmtfzjZaCJuh"
      },
      "execution_count": null,
      "outputs": []
    },
    {
      "cell_type": "code",
      "source": [
        "# Check for duplicate rows\n",
        "df2.duplicated().sum()"
      ],
      "metadata": {
        "id": "_g43N5laCJui"
      },
      "execution_count": null,
      "outputs": []
    },
    {
      "cell_type": "code",
      "source": [
        "#define x, y\n",
        "X = df2.drop(columns=['SalePrice'])\n",
        "y = df2['SalePrice']"
      ],
      "metadata": {
        "id": "u58eLqV8mU7R"
      },
      "execution_count": null,
      "outputs": []
    },
    {
      "cell_type": "markdown",
      "source": [
        "**Scale the Data**"
      ],
      "metadata": {
        "id": "07EvEgKppWZj"
      }
    },
    {
      "cell_type": "code",
      "source": [
        "# Instantiate Standard Scaler\n",
        "scaler = StandardScaler()\n",
        "# Fit & transform data.\n",
        "X_scaled = scaler.fit_transform(X)"
      ],
      "metadata": {
        "id": "9CKjmRFmpTHo"
      },
      "execution_count": null,
      "outputs": []
    },
    {
      "cell_type": "code",
      "source": [
        "X_scaled.shape"
      ],
      "metadata": {
        "id": "SvhSMQlM2AbV"
      },
      "execution_count": null,
      "outputs": []
    },
    {
      "cell_type": "code",
      "source": [
        "y.shape"
      ],
      "metadata": {
        "id": "2xH0HAeY2G70"
      },
      "execution_count": null,
      "outputs": []
    },
    {
      "cell_type": "code",
      "source": [
        "#train-Test Split\n",
        "from sklearn.model_selection import train_test_split\n",
        "X_train, X_test, y_train, y_test = train_test_split(X_scaled, y, test_size=0.2, random_state=42)"
      ],
      "metadata": {
        "id": "O7PAmJZeSjxl"
      },
      "execution_count": null,
      "outputs": []
    },
    {
      "cell_type": "markdown",
      "source": [
        "**Use PCA to prepare the data for modeling.**"
      ],
      "metadata": {
        "id": "VTQ3l1vVsB2-"
      }
    },
    {
      "cell_type": "code",
      "source": [
        "from sklearn.decomposition import PCA\n",
        "\n",
        "# Instantiate PCA with desired number of components\n",
        "pca = PCA(n_components=50)\n",
        "# Fit and transform the data\n",
        "X_train_pca = pca.fit_transform(X_train)\n",
        "X_test_pca = pca.transform(X_test)\n",
        "\n",
        "# Print the shape of the reduced data\n",
        "print(X_train_pca.shape)\n",
        "print(X_test_pca.shape)"
      ],
      "metadata": {
        "id": "unrA6tCXqysu"
      },
      "execution_count": null,
      "outputs": []
    },
    {
      "cell_type": "code",
      "source": [
        "import tensorflow as tf\n",
        "\n",
        "# Define the model\n",
        "model = Sequential([\n",
        "    Dense(128, activation='relu', input_shape=(X_train_pca.shape[1],)),\n",
        "    Dense(64, activation='relu'),\n",
        "    Dense(1)\n",
        "])\n",
        "# Compile the model\n",
        "model.compile(optimizer='adam', loss='mean_squared_error', metrics=['mae'])\n"
      ],
      "metadata": {
        "id": "QiSiWffivDEu"
      },
      "execution_count": null,
      "outputs": []
    },
    {
      "cell_type": "code",
      "source": [
        "# Train the model\n",
        "history1 = model.fit(X_train_pca, y_train, epochs=50, validation_split=0.2, batch_size=32)\n"
      ],
      "metadata": {
        "id": "Dq25JmT002My"
      },
      "execution_count": null,
      "outputs": []
    },
    {
      "cell_type": "code",
      "source": [
        "# Evaluate the model\n",
        "loss, mae = model.evaluate(X_test_pca, y_test)\n",
        "print('Test loss:', loss)\n",
        "print('Test MAE:', mae)\n",
        "\n",
        "# Make predictions\n",
        "predictions = model.predict(X_test_pca)"
      ],
      "metadata": {
        "id": "6exE0NYa3pCp"
      },
      "execution_count": null,
      "outputs": []
    },
    {
      "cell_type": "markdown",
      "source": [
        "**Model1 has  only one hidden layer and no regularization.**"
      ],
      "metadata": {
        "id": "64pbYQay5-Nz"
      }
    },
    {
      "cell_type": "code",
      "source": [
        "# Define the model\n",
        "model1 = tf.keras.Sequential([\n",
        "    layers.Dense(64, activation='relu', input_shape=(X_train_pca.shape[1],)),\n",
        "    layers.Dense(1)\n",
        "])\n",
        "\n",
        "model1.compile(optimizer='adam', loss='mean_squared_error', metrics=['mae'])"
      ],
      "metadata": {
        "id": "JLxUosit4x9J"
      },
      "execution_count": null,
      "outputs": []
    },
    {
      "cell_type": "code",
      "source": [
        "history1 = model1.fit(X_train_pca, y_train, epochs=64, validation_split=0.2, batch_size=32)\n",
        "loss1, mae1 = model1.evaluate(X_test_pca, y_test)"
      ],
      "metadata": {
        "id": "XtOeKhKz7DDK"
      },
      "execution_count": null,
      "outputs": []
    },
    {
      "cell_type": "code",
      "source": [
        "# Evaluate the model\n",
        "loss, mae = model1.evaluate(X_test_pca, y_test)\n",
        "print('Test loss:', loss)\n",
        "print('Test MAE:', mae)\n",
        "\n",
        "# Make predictions\n",
        "predictions = model.predict(X_test_pca)"
      ],
      "metadata": {
        "id": "MIlON4Ry69IP"
      },
      "execution_count": null,
      "outputs": []
    },
    {
      "cell_type": "markdown",
      "source": [
        "**Model2 adds two hidden layers and Batch Normalization to address the potential issue of overfitting.**"
      ],
      "metadata": {
        "id": "JJIxXZhn6JxM"
      }
    },
    {
      "cell_type": "code",
      "source": [
        "model2 = tf.keras.Sequential([\n",
        "    layers.Dense(64, activation='relu', input_shape=(X_train_pca.shape[1],)),\n",
        "    layers.BatchNormalization(),\n",
        "    layers.Dense(32, activation='relu'),\n",
        "    layers.BatchNormalization(),\n",
        "    layers.Dense(1)\n",
        "])\n",
        "\n",
        "model2.compile(optimizer='adam', loss='mean_squared_error', metrics=['mae'])"
      ],
      "metadata": {
        "id": "griIeAB845OQ"
      },
      "execution_count": null,
      "outputs": []
    },
    {
      "cell_type": "code",
      "source": [
        "history2 = model2.fit(X_train_pca, y_train, epochs=64, validation_split=0.2, batch_size=32)\n",
        "loss2, mae2 = model2.evaluate(X_test_pca, y_test)"
      ],
      "metadata": {
        "id": "n1MGE9oW7Q1p"
      },
      "execution_count": null,
      "outputs": []
    },
    {
      "cell_type": "code",
      "source": [
        "# Evaluate the model\n",
        "loss, mae = model2.evaluate(X_test_pca, y_test)\n",
        "print('Test loss:', loss)\n",
        "print('Test MAE:', mae)\n",
        "\n",
        "# Make predictions\n",
        "predictions = model2.predict(X_test_pca)"
      ],
      "metadata": {
        "id": "i9MrzMeQ7Tpl"
      },
      "execution_count": null,
      "outputs": []
    },
    {
      "cell_type": "markdown",
      "source": [
        "**Model3 adds L2 regularization to the hidden layers to further prevent overfitting. L2 regularization penalizes large weights, which can help to prevent the model from learning too complex a function and overfitting to the training data.**"
      ],
      "metadata": {
        "id": "1fbYvs2D6Ohm"
      }
    },
    {
      "cell_type": "code",
      "source": [
        "model3 = tf.keras.Sequential([\n",
        "    layers.Dense(64, activation='relu', kernel_regularizer=tf.keras.regularizers.l2(0.01), input_shape=(X_train_pca.shape[1],)),\n",
        "    layers.BatchNormalization(),\n",
        "    layers.Dense(32, activation='relu', kernel_regularizer=tf.keras.regularizers.l2(0.01)),\n",
        "    layers.BatchNormalization(),\n",
        "    layers.Dense(1)\n",
        "])\n",
        "\n",
        "model3.compile(optimizer='adam', loss='mean_squared_error', metrics=['mae'])"
      ],
      "metadata": {
        "id": "eRafllIN47b2"
      },
      "execution_count": null,
      "outputs": []
    },
    {
      "cell_type": "code",
      "source": [
        "history3 = model3.fit(X_train_pca, y_train, epochs=64, validation_split=0.2, batch_size=32)\n",
        "loss3, mae3 = model3.evaluate(X_test_pca, y_test)"
      ],
      "metadata": {
        "id": "iImgRJBI7uk6"
      },
      "execution_count": null,
      "outputs": []
    },
    {
      "cell_type": "code",
      "source": [
        "# Evaluate the model\n",
        "loss, mae = model3.evaluate(X_test_pca, y_test)\n",
        "print('Test loss:', loss)\n",
        "print('Test MAE:', mae)\n",
        "\n",
        "# Make predictions\n",
        "predictions = model3.predict(X_test_pca)"
      ],
      "metadata": {
        "id": "QyVUUwdw7-YY"
      },
      "execution_count": null,
      "outputs": []
    },
    {
      "cell_type": "markdown",
      "source": [
        "**Choose a final model and justify your choice**"
      ],
      "metadata": {
        "id": "XWUHs0LB_Ulj"
      }
    },
    {
      "cell_type": "code",
      "source": [
        "# Evaluate the model\n",
        "loss, mae = model1.evaluate(X_test_pca, y_test)\n",
        "print('Model 1 results:')\n",
        "print('Test loss:', loss)\n",
        "print('Test MAE:', mae)\n",
        "\n",
        "# Make predictions\n",
        "predictions = model1.predict(X_test_pca)"
      ],
      "metadata": {
        "id": "1IXc7dWu_4I4"
      },
      "execution_count": null,
      "outputs": []
    },
    {
      "cell_type": "code",
      "source": [
        "# Evaluate the model\n",
        "loss, mae = model2.evaluate(X_test_pca, y_test)\n",
        "print('Model 2 results:')\n",
        "print('Test loss:', loss)\n",
        "print('Test MAE:', mae)\n",
        "\n",
        "# Make predictions\n",
        "predictions = model2.predict(X_test_pca)"
      ],
      "metadata": {
        "id": "y2aNFlI6_42R"
      },
      "execution_count": null,
      "outputs": []
    },
    {
      "cell_type": "code",
      "source": [
        "# Evaluate the model\n",
        "loss, mae = model3.evaluate(X_test_pca, y_test)\n",
        "print('Model 3 results:')\n",
        "print('Test loss:', loss)\n",
        "print('Test MAE:', mae)\n",
        "\n",
        "# Make predictions\n",
        "predictions = model3.predict(X_test_pca)"
      ],
      "metadata": {
        "id": "40d8v8mi_5X8"
      },
      "execution_count": null,
      "outputs": []
    },
    {
      "cell_type": "code",
      "source": [
        "# Function to evaluate model\n",
        "def evaluate_model(model, X_train, y_train, X_test, y_test):\n",
        "    y_train_pred = model.predict(X_train)\n",
        "    y_test_pred = model.predict(X_test)\n",
        "\n",
        "    metrics = {\n",
        "        'Train MAE': mean_absolute_error(y_train, y_train_pred),\n",
        "        'Test MAE': mean_absolute_error(y_test, y_test_pred),\n",
        "        'Train MSE': mean_squared_error(y_train, y_train_pred),\n",
        "        'Test MSE': mean_squared_error(y_test, y_test_pred),\n",
        "        'Train R2': r2_score(y_train, y_train_pred),\n",
        "        'Test R2': r2_score(y_test, y_test_pred),\n",
        "\n",
        "    }\n",
        "\n",
        "    return metrics\n",
        "\n",
        "# Evaluate each model\n",
        "metrics1 = evaluate_model(model1, X_train_pca, y_train, X_test_pca, y_test)\n",
        "metrics2 = evaluate_model(model2, X_train_pca, y_train, X_test_pca, y_test)\n",
        "metrics3 = evaluate_model(model3, X_train_pca, y_train, X_test_pca, y_test)\n",
        "\n",
        "print('Model 1 Metrics:', metrics1)\n",
        "print('Model 2 Metrics:', metrics2)\n",
        "print('Model 3 Metrics:', metrics3)\n"
      ],
      "metadata": {
        "id": "gVI8gBfRGis3"
      },
      "execution_count": null,
      "outputs": []
    },
    {
      "cell_type": "markdown",
      "source": [
        "** Oberving the model results of the above three models, I choose MODEL1 looking its  **Test Loss of 508327231488.0**,\n",
        "**Test MAE: 651469.1875**  and **Rsquared value** being lower than that of MODEL2 and MODEL3 **"
      ],
      "metadata": {
        "id": "mt7ZuyAPBByU"
      }
    },
    {
      "cell_type": "markdown",
      "source": [
        "**Evaluate your final model with multiple metrics**"
      ],
      "metadata": {
        "id": "EMPWPi_IHTiT"
      }
    },
    {
      "cell_type": "code",
      "source": [
        "# Function to evaluate model\n",
        "def evaluate_model(model, X_train, y_train, X_test, y_test):\n",
        "    y_train_pred = model.predict(X_train)\n",
        "    y_test_pred = model.predict(X_test)\n",
        "\n",
        "    metrics = {\n",
        "       'Train MAE': mean_absolute_error(y_train, y_train_pred),\n",
        "        'Test MAE': mean_absolute_error(y_test, y_test_pred),\n",
        "        'Train MSE': mean_squared_error(y_train, y_train_pred),\n",
        "        'Test MSE': mean_squared_error(y_test, y_test_pred),\n",
        "        'Train R2': r2_score(y_train, y_train_pred),\n",
        "        'Test R2': r2_score(y_test, y_test_pred),\n",
        "\n",
        "    }\n",
        "\n",
        "    return metrics\n",
        "\n",
        "# Evaluate  model1\n",
        "metrics1 = evaluate_model(model1, X_train_pca, y_train, X_test_pca, y_test)\n",
        "\n",
        "print('Model 1 Metrics:', metrics1)"
      ],
      "metadata": {
        "id": "c5f0XVt0EQJ1"
      },
      "execution_count": null,
      "outputs": []
    },
    {
      "cell_type": "code",
      "source": [
        "# Evaluate the model\n",
        "loss, mae = model1.evaluate(X_test_pca, y_test)\n",
        "print('Model 1 results:')\n",
        "print('Test loss:', loss)\n",
        "print('Test MAE:', mae)\n",
        "\n",
        "# Make predictions\n",
        "predictions_model1 = model1.predict(X_test_pca)\n",
        "\n",
        "# Evaluate the model\n",
        "loss, mae = model2.evaluate(X_test_pca, y_test)\n",
        "print('Model 2 results:')\n",
        "print('Test loss:', loss)\n",
        "print('Test MAE:', mae)\n",
        "\n",
        "# Make predictions\n",
        "predictions_model2 = model2.predict(X_test_pca)\n",
        "\n",
        "# Evaluate the model\n",
        "loss, mae = model3.evaluate(X_test_pca, y_test)\n",
        "print('Model 3 results:')\n",
        "print('Test loss:', loss)\n",
        "print('Test MAE:', mae)\n",
        "\n",
        "# Make predictions\n",
        "predictions_model3 = model3.predict(X_test_pca)"
      ],
      "metadata": {
        "id": "AaeNYSikG_w7"
      },
      "execution_count": null,
      "outputs": []
    },
    {
      "cell_type": "markdown",
      "source": [
        "The metrics in model1 suggest that the model will solve the business problem moderately well. this is deducted based on the rsquared value if the trained data being lower than of the test data.\n",
        "secondly looking at the results of the MAE of the trained data, its selightly lower than that of the test"
      ],
      "metadata": {
        "id": "YnzT3T_4fcvv"
      }
    }
  ]
}