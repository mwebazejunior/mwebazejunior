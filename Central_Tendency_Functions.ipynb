{
  "nbformat": 4,
  "nbformat_minor": 0,
  "metadata": {
    "colab": {
      "provenance": []
    },
    "kernelspec": {
      "name": "python3",
      "display_name": "Python 3"
    },
    "language_info": {
      "name": "python"
    }
  },
  "cells": [
    {
      "cell_type": "markdown",
      "source": [
        "**Central Tendency Functions (Core)**"
      ],
      "metadata": {
        "id": "LEN6ZMNfAZ0_"
      }
    },
    {
      "cell_type": "markdown",
      "source": [
        "Now, the Assignment:\n",
        "\n",
        "1) Open a new Colab notebook.\n",
        "\n",
        "2) Run a code cell with the lists of temperature data:"
      ],
      "metadata": {
        "id": "ozp01cfCAu_Z"
      }
    },
    {
      "cell_type": "markdown",
      "source": [
        "Lists of Fahrenheit temps;"
      ],
      "metadata": {
        "id": "ywZJ4pQLC3G4"
      }
    },
    {
      "cell_type": "code",
      "execution_count": null,
      "metadata": {
        "id": "Daq2mXfjAUQ4"
      },
      "outputs": [],
      "source": [
        "week_1 = [45, 55, 49, 60, 52, 55, 58]\n",
        "week_2 = [51, 49, 62, 50, 53, 56, 59]\n",
        "week_3 = [60, 60, 61, 62, 57, 59, 58]\n",
        "week_4 = [59, 63, 62, 61, 65, 66, 62]"
      ]
    },
    {
      "cell_type": "markdown",
      "source": [
        "3) Add the imports you will need to find the mean, median, and mode"
      ],
      "metadata": {
        "id": "kW347S2AA3y5"
      }
    },
    {
      "cell_type": "code",
      "source": [
        "import numpy\n",
        "from scipy import stats"
      ],
      "metadata": {
        "id": "5SJtyPmVAZMO"
      },
      "execution_count": 30,
      "outputs": []
    },
    {
      "cell_type": "markdown",
      "source": [
        "4) Use functions from the imported packages to find the mean, median, and mode for the week_1 data."
      ],
      "metadata": {
        "id": "YFgPJhGYKHUV"
      }
    },
    {
      "cell_type": "code",
      "source": [
        "#week_1median = numpy.median(week_1)\n",
        "week_1median = numpy.median(week_1)\n",
        "week_2median = numpy.median(week_2)\n",
        "week_3median = numpy.median(week_3)\n",
        "week_4median = numpy.median(week_4)\n",
        "print(f'====================')\n",
        "print(f'Median Calculation:')\n",
        "print(f'====================')\n",
        "print(f'Week_1 median: {week_1median}')\n",
        "print(f'Week_2 median: {week_2median}')\n",
        "print(f'Week_3 median: {week_3median}')\n",
        "print(f'Week_4 median: {week_4median}')\n",
        "print(f'====================')\n",
        "week_1mean =  numpy.mean(week_1)\n",
        "week_2mean =  numpy.mean(week_2)\n",
        "week_3mean =  numpy.mean(week_3)\n",
        "week_4mean =  numpy.mean(week_4)\n",
        "print(f'Mean Calculation:')\n",
        "print(f'====================')\n",
        "print(f'Week_1 mean: {week_1mean}')\n",
        "print(f'Week_1 mean: {week_2mean}')\n",
        "print(f'Week_1 mean: {week_3mean}')\n",
        "print(f'Week_1 mean: {week_4mean}')\n",
        "print(f'====================')\n",
        "week_1mode =  stats.mode(week_1)\n",
        "week_2mode =  stats.mode(week_2)\n",
        "week_3mode =  stats.mode(week_3)\n",
        "week_4mode =  stats.mode(week_4)\n",
        "print(f'Mode Calculation:')\n",
        "print(f'====================')\n",
        "print(f'Week_1 mode: {week_1mode}')\n",
        "print(f'Week_1 mode: {week_2mode}')\n",
        "print(f'Week_1 mode: {week_3mode}')\n",
        "print(f'Week_1 mode: {week_4mode}')"
      ],
      "metadata": {
        "colab": {
          "base_uri": "https://localhost:8080/"
        },
        "id": "woBNftX2DT12",
        "outputId": "40dcbcb6-45f5-43e2-9920-1a0c5d8db785"
      },
      "execution_count": 31,
      "outputs": [
        {
          "output_type": "stream",
          "name": "stdout",
          "text": [
            "====================\n",
            "Median Calculation:\n",
            "====================\n",
            "Week_1 median: 55.0\n",
            "Week_2 median: 53.0\n",
            "Week_3 median: 60.0\n",
            "Week_4 median: 62.0\n",
            "====================\n",
            "Mean Calculation:\n",
            "====================\n",
            "Week_1 mean: 53.42857142857143\n",
            "Week_1 mean: 54.285714285714285\n",
            "Week_1 mean: 59.57142857142857\n",
            "Week_1 mean: 62.57142857142857\n",
            "====================\n",
            "Mode Calculation:\n",
            "====================\n",
            "Week_1 mode: ModeResult(mode=55, count=2)\n",
            "Week_1 mode: ModeResult(mode=49, count=1)\n",
            "Week_1 mode: ModeResult(mode=60, count=2)\n",
            "Week_1 mode: ModeResult(mode=62, count=2)\n"
          ]
        }
      ]
    },
    {
      "cell_type": "markdown",
      "source": [
        "5) Now, rather than having to call each of these functions separately to get the three measures of central tendency, write a custom function to return all three values in a single function call:"
      ],
      "metadata": {
        "id": "NC4eHdr4LPTT"
      }
    },
    {
      "cell_type": "code",
      "source": [
        "def central_tendency(sum (week_1)/len(week_1)))\n",
        "return  central_tendency"
      ],
      "metadata": {
        "colab": {
          "base_uri": "https://localhost:8080/",
          "height": 108
        },
        "id": "N2BI2u7JKJtC",
        "outputId": "6bb22ac3-ffd0-4051-8719-c3d81197716d"
      },
      "execution_count": 34,
      "outputs": [
        {
          "output_type": "error",
          "ename": "SyntaxError",
          "evalue": "invalid syntax (<ipython-input-34-70d35288cf0a>, line 1)",
          "traceback": [
            "\u001b[0;36m  File \u001b[0;32m\"<ipython-input-34-70d35288cf0a>\"\u001b[0;36m, line \u001b[0;32m1\u001b[0m\n\u001b[0;31m    def central_tendency(sum(week_1)/len(week_1))\u001b[0m\n\u001b[0m                            ^\u001b[0m\n\u001b[0;31mSyntaxError\u001b[0m\u001b[0;31m:\u001b[0m invalid syntax\n"
          ]
        }
      ]
    },
    {
      "cell_type": "code",
      "source": [
        "def calc_mean(week_1):\n",
        "  ## Calculate the numerator (sum)\n",
        "  # Start with a total of 0\n",
        "  total = 0\n",
        "  # Add each temp to total in a loop\n",
        "  for temp in week_1:\n",
        "    total = total + temp\n",
        "  N = len(week_1)\n",
        "  mean = total/N\n",
        "  mean = round(mean, 2)\n",
        "  return mean\n",
        "  print(calc_mean)"
      ],
      "metadata": {
        "id": "RyHqYIFaTZx6"
      },
      "execution_count": null,
      "outputs": []
    },
    {
      "cell_type": "code",
      "source": [
        " print(calc_mean)"
      ],
      "metadata": {
        "colab": {
          "base_uri": "https://localhost:8080/"
        },
        "id": "tkTctLYxUSYa",
        "outputId": "199f69da-db5c-4168-e6cb-71d3283e4057"
      },
      "execution_count": 42,
      "outputs": [
        {
          "output_type": "stream",
          "name": "stdout",
          "text": [
            "<function calc_mean at 0x7b2b517c0820>\n"
          ]
        }
      ]
    }
  ]
}