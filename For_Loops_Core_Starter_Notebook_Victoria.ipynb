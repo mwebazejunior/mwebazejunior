{
  "nbformat": 4,
  "nbformat_minor": 0,
  "metadata": {
    "colab": {
      "provenance": [],
      "include_colab_link": true
    },
    "kernelspec": {
      "name": "python3",
      "display_name": "Python 3"
    },
    "language_info": {
      "name": "python"
    }
  },
  "cells": [
    {
      "cell_type": "markdown",
      "metadata": {
        "id": "view-in-github",
        "colab_type": "text"
      },
      "source": [
        "<a href=\"https://colab.research.google.com/github/katusabevictoria/katusabevictoria/blob/main/For_Loops_Core_Starter_Notebook_Victoria.ipynb\" target=\"_parent\"><img src=\"https://colab.research.google.com/assets/colab-badge.svg\" alt=\"Open In Colab\"/></a>"
      ]
    },
    {
      "cell_type": "markdown",
      "source": [
        "# Loops Exercise -  Core\n"
      ],
      "metadata": {
        "id": "GoCvWTFUOpms"
      }
    },
    {
      "cell_type": "markdown",
      "source": [
        "# Task 1: Loop through a list\n",
        "\n",
        "A company sells the following items at the given prices:\n",
        "\n",
        "Shirts 10.00\n",
        "\n",
        "Hats 15.00\n",
        "\n",
        "Buttons 4.00\n",
        "\n",
        "Stickers 1.00\n",
        "\n",
        "TO DO:\n",
        "\n",
        "A: Run the pre-coded cell to create a list of the products.\n",
        "\n",
        "B: Write a for-loop and use an f-string to print \"We sell PRODUCT here!\" for each product in the list.\n",
        "\n",
        "\n"
      ],
      "metadata": {
        "id": "rF_SiCDOQlU1"
      }
    },
    {
      "cell_type": "code",
      "source": [
        "# Create a list of products\n",
        "products = ['Shirts', 'Hats', 'Buttons', 'Stickers']"
      ],
      "metadata": {
        "id": "rvrFnQFoRWJC"
      },
      "execution_count": null,
      "outputs": []
    },
    {
      "cell_type": "markdown",
      "source": [],
      "metadata": {
        "id": "Y7e3U10Wn_Lh"
      }
    },
    {
      "cell_type": "code",
      "source": [
        "#Write a for-loop and use an f-string to print \"We sell PRODUCT here!\" for each product in the list.\n",
        "for key in products:\n",
        "  print(f'We sell {key} here!')"
      ],
      "metadata": {
        "id": "esH2TlGrjPSk",
        "outputId": "4ba075be-c2d9-4a2f-bd6d-543e6031109e",
        "colab": {
          "base_uri": "https://localhost:8080/"
        }
      },
      "execution_count": null,
      "outputs": [
        {
          "output_type": "stream",
          "name": "stdout",
          "text": [
            "We sell Shirts here!\n",
            "We sell Hats here!\n",
            "We sell Buttons here!\n",
            "We sell Stickers here!\n"
          ]
        }
      ]
    },
    {
      "cell_type": "code",
      "source": [
        "# Write a for-loop to repeat the print statement for each product in the list.\n",
        "\n",
        "# printing original list\n",
        "print(\"The original list : \" + str(products))\n",
        "\n",
        "# declaring magnitude of repetition\n",
        "K = 2\n",
        "\n",
        "# using list comprehension\n",
        "# repeat elements K times\n",
        "res = []\n",
        "for i in products:\n",
        "    for ele in range(K):\n",
        "        res.append(i)\n",
        "\n",
        "# printing result\n",
        "print(\"We sell PRODUCT here!  : \" + str(res))"
      ],
      "metadata": {
        "id": "mGaE09aHR4lc",
        "outputId": "515efd9e-7dd2-40ef-e629-51f9e8ce1eed",
        "colab": {
          "base_uri": "https://localhost:8080/"
        }
      },
      "execution_count": null,
      "outputs": [
        {
          "output_type": "stream",
          "name": "stdout",
          "text": [
            "The original list : ['Shirts', 'Hats', 'Buttons', 'Stickers']\n",
            "We sell PRODUCT here!  : ['Shirts', 'Shirts', 'Hats', 'Hats', 'Buttons', 'Buttons', 'Stickers', 'Stickers']\n"
          ]
        }
      ]
    },
    {
      "cell_type": "markdown",
      "source": [
        "#Task 2: Use a loop to append values to a new list\n",
        "\n",
        "The products are going on a 20% off sale!  \n",
        "\n",
        "\n",
        "TO DO:\n",
        "\n",
        "A: Run the precoded cell to create the list of original\n",
        "B: Define an empty list called sale_prices\n",
        "\n",
        "C: Write a for-loop to append values to the sales_prices list that reflect the sale price (original price * 0.8)\n",
        "\n",
        "D: Print the new list of sales_prices"
      ],
      "metadata": {
        "id": "cXRXz0_eJeFF"
      }
    },
    {
      "cell_type": "code",
      "source": [
        "# Create a list of the prices.\n",
        "original_prices = [10, 15, 4, 1]"
      ],
      "metadata": {
        "id": "1w5ccy0JSbmf"
      },
      "execution_count": 28,
      "outputs": []
    },
    {
      "cell_type": "code",
      "source": [
        "# Create an empty list called sale_prices\n",
        "Sale_prices={}"
      ],
      "metadata": {
        "id": "O3TcQOEiSk9S"
      },
      "execution_count": 29,
      "outputs": []
    },
    {
      "cell_type": "code",
      "source": [
        "import  numpy as np"
      ],
      "metadata": {
        "id": "xAOGlJ2cUvds"
      },
      "execution_count": 30,
      "outputs": []
    },
    {
      "cell_type": "code",
      "source": [
        "Sale_prices =np.array(original_prices) * 0.8\n",
        "#print(np.array(original_prices) * 2)\n",
        "#a = [int(i) * -1 for i in list_of_numbers]\n",
        "#print(a)\n",
        "print(Sale_prices)"
      ],
      "metadata": {
        "id": "BvPdCEdXbJhG",
        "colab": {
          "base_uri": "https://localhost:8080/"
        },
        "outputId": "dab75120-8af0-45d7-a947-37557ac57622"
      },
      "execution_count": 31,
      "outputs": [
        {
          "output_type": "stream",
          "name": "stdout",
          "text": [
            "[ 8.  12.   3.2  0.8]\n"
          ]
        }
      ]
    },
    {
      "cell_type": "code",
      "source": [
        "# Use a loop to append the sale_prices list with the sale price (a 20% discount means the original price is multiplied by .8)\n",
        "\n",
        "print('original_prices:\\tSale_prices:')\n",
        "Sale_prices = [int(i) * 0.8 for i in original_prices]\n",
        "#print(Sale_prices)\n",
        "print(f'{original_prices} \\t\\t{Sale_prices}')\n"
      ],
      "metadata": {
        "id": "VC4CMqr_S9Yw",
        "colab": {
          "base_uri": "https://localhost:8080/"
        },
        "outputId": "06a17aeb-91a9-44cb-b10a-b50fb7374ea1"
      },
      "execution_count": 42,
      "outputs": [
        {
          "output_type": "stream",
          "name": "stdout",
          "text": [
            "original_prices:\tSale_prices:\n",
            "[10, 15, 4, 1] \t\t[8.0, 12.0, 3.2, 0.8]\n"
          ]
        }
      ]
    },
    {
      "cell_type": "code",
      "source": [
        "# Print the list of sale_prices\n",
        "#Sale_prices = [int(i) * 8 for i in original_prices]\n",
        "print(Sale_prices)"
      ],
      "metadata": {
        "id": "dGWiS6OBQZoB",
        "colab": {
          "base_uri": "https://localhost:8080/"
        },
        "outputId": "e6168ec7-a5f2-4562-de31-ab80dfd652fa"
      },
      "execution_count": 43,
      "outputs": [
        {
          "output_type": "stream",
          "name": "stdout",
          "text": [
            "[8.0, 12.0, 3.2, 0.8]\n"
          ]
        }
      ]
    },
    {
      "cell_type": "markdown",
      "source": [
        "#Task 3: Loop through a dictionary\n",
        "\n",
        "TO DO:\n",
        "\n",
        "A: Run the pre-coded cell to create the prices_dict.\n",
        "\n",
        "B: Loop through the prices_dict and use an f-sting to print the statement: \"We sell PRODUCT!\"\n",
        "\n",
        "C: Loop through the prices_dict using prices_dict.items() to print the statement \"PRODUCT costs $PRICE each.\" for each product in the dictionary."
      ],
      "metadata": {
        "id": "5RhQT86XT9-v"
      }
    },
    {
      "cell_type": "code",
      "source": [
        "# Run this cell to create a dictionary with product and price\n",
        "prices_dict = {'Shirts': 10,\n",
        "              'Hats': 15,\n",
        "              'Buttons' : 4,\n",
        "              'Stickers' : 1}\n",
        "\n",
        "prices_dict"
      ],
      "metadata": {
        "id": "HxAD2FQYVjBE",
        "outputId": "afd500d6-0c0d-48f9-880e-a3f17d6ca3bf",
        "colab": {
          "base_uri": "https://localhost:8080/"
        }
      },
      "execution_count": 44,
      "outputs": [
        {
          "output_type": "execute_result",
          "data": {
            "text/plain": [
              "{'Shirts': 10, 'Hats': 15, 'Buttons': 4, 'Stickers': 1}"
            ]
          },
          "metadata": {},
          "execution_count": 44
        }
      ]
    },
    {
      "cell_type": "code",
      "source": [
        "# Loop through the dictionary to print: \"We sell __!\"\n",
        "for key in prices_dict:\n",
        "  print(f'We sell {key}!')"
      ],
      "metadata": {
        "id": "NWLMQwSmWpGE",
        "outputId": "407fed04-ca1d-4b78-f438-eb3c7b29cc88",
        "colab": {
          "base_uri": "https://localhost:8080/"
        }
      },
      "execution_count": 46,
      "outputs": [
        {
          "output_type": "stream",
          "name": "stdout",
          "text": [
            "We sell Shirts!\n",
            "We sell Hats!\n",
            "We sell Buttons!\n",
            "We sell Stickers!\n"
          ]
        }
      ]
    },
    {
      "cell_type": "code",
      "source": [
        "# Loop through the dictionary to print: \"__ cost $__ each\".\n",
        "for key, value in prices_dict.items():\n",
        "  print(f' {key} cost $ {value} each.')"
      ],
      "metadata": {
        "id": "NSZCca2oWvry",
        "outputId": "655192bc-26d6-4c49-8149-af1901e37804",
        "colab": {
          "base_uri": "https://localhost:8080/"
        }
      },
      "execution_count": 47,
      "outputs": [
        {
          "output_type": "stream",
          "name": "stdout",
          "text": [
            " Shirts cost $ 10 each.\n",
            " Hats cost $ 15 each.\n",
            " Buttons cost $ 4 each.\n",
            " Stickers cost $ 1 each.\n"
          ]
        }
      ]
    },
    {
      "cell_type": "markdown",
      "source": [
        "#Task 4: Create a new dictionary by updating values using a for-loop\n",
        "\n",
        "We want to create a new dictionary that contains the product and the sale price called sale_dict.\n",
        "\n",
        "To create the prices_dict in the above task, we just provided the code cell with the necessary information. Rather than typing all of the info to make the sale dictionary, we will use a for-loop to calculate the sale price based on the original price.\n",
        "\n",
        "TO DO:\n",
        "\n",
        "A: Create an empty dictionary called sales_dict.\n",
        "\n",
        "B: Use a for-loop and prices_dict.items() to fill in the sales_dict.\n",
        "\n",
        "* Calculate the sale price (original price * 0.8).\n",
        "\n",
        "* Save the sale price in the sales_dict using the product name as the key.\n",
        "\n",
        "C: Print the sales_dict\n",
        "\n",
        "D: Loop through the sales_dict.items() to print \"PRODUCT are on sale for only SALE PRICE!'\n",
        "\n",
        "\n"
      ],
      "metadata": {
        "id": "V_WVu-S0IG3w"
      }
    },
    {
      "cell_type": "markdown",
      "source": [],
      "metadata": {
        "id": "DLwZbvUr6Nn1"
      }
    },
    {
      "cell_type": "code",
      "source": [
        "product = {'Shirts',\n",
        "              'Hats',\n",
        "              'Buttons' ,\n",
        "              'Stickers' }\n"
      ],
      "metadata": {
        "id": "fjOT9lxLgwTV"
      },
      "execution_count": 75,
      "outputs": []
    },
    {
      "cell_type": "code",
      "source": [
        "sale_dict = {10,\n",
        "              15,\n",
        "              4,\n",
        "              1}"
      ],
      "metadata": {
        "id": "noUWKY7EhXpM"
      },
      "execution_count": 87,
      "outputs": []
    },
    {
      "cell_type": "code",
      "source": [
        "#Create an empty dictionary called sales_dict\n",
        "Sales_dict = {}"
      ],
      "metadata": {
        "id": "H9JlFKH76DUv"
      },
      "execution_count": 57,
      "outputs": []
    },
    {
      "cell_type": "code",
      "source": [
        "# Use a loop to create a new dictionary with product and sales prices\n",
        "\n",
        "prices_dict = [('Shirts', 10), ('Hats', 15),\n",
        "        ('Buttons', 4), ('Stickers',1),]\n",
        "\n",
        "# using dict method\n",
        "dict(prices_dict)"
      ],
      "metadata": {
        "id": "JvoYAQcySzM8",
        "outputId": "dd9159de-ca0a-473f-ddf3-84da7b4512d8",
        "colab": {
          "base_uri": "https://localhost:8080/"
        }
      },
      "execution_count": 49,
      "outputs": [
        {
          "output_type": "execute_result",
          "data": {
            "text/plain": [
              "{'Shirts': 10, 'Hats': 15, 'Buttons': 4, 'Stickers': 1}"
            ]
          },
          "metadata": {},
          "execution_count": 49
        }
      ]
    },
    {
      "cell_type": "code",
      "source": [
        "print('Shirts:\\tSale_prices:')\n",
        "Sales_dict = [int(i) * 0.8 for i in sale_dict]\n",
        "#print(Sale_prices)\n",
        "print(f'{product} \\t\\t{Sales_dict}')\n"
      ],
      "metadata": {
        "colab": {
          "base_uri": "https://localhost:8080/"
        },
        "id": "QmIbhX6Df6pI",
        "outputId": "9235d31b-8782-41ff-e43c-fadc792d629a"
      },
      "execution_count": 60,
      "outputs": [
        {
          "output_type": "stream",
          "name": "stdout",
          "text": [
            "Shirts:\tSale_prices:\n",
            "{'Stickers', 'Buttons', 'Hats', 'Shirts'} \t\t[0.8, 8.0, 3.2, 12.0]\n"
          ]
        }
      ]
    },
    {
      "cell_type": "code",
      "source": [
        "# Print the sales_dict\n",
        "print(Sales_dict)"
      ],
      "metadata": {
        "id": "mTRik7dGl52i",
        "colab": {
          "base_uri": "https://localhost:8080/"
        },
        "outputId": "bfc46198-4e8d-487b-9b11-234389141054"
      },
      "execution_count": 61,
      "outputs": [
        {
          "output_type": "stream",
          "name": "stdout",
          "text": [
            "[0.8, 8.0, 3.2, 12.0]\n"
          ]
        }
      ]
    },
    {
      "cell_type": "code",
      "source": [
        " print(f'{product} \\n are on sale for only\\n {Sales_dict}!.')"
      ],
      "metadata": {
        "colab": {
          "base_uri": "https://localhost:8080/"
        },
        "id": "h06zbD3vuXVI",
        "outputId": "123eddc7-71f8-475d-df42-93d39551de7f"
      },
      "execution_count": 90,
      "outputs": [
        {
          "output_type": "stream",
          "name": "stdout",
          "text": [
            "{'Stickers', 'Buttons', 'Hats', 'Shirts'} \n",
            " are on sale for only\n",
            " [0.8, 8.0, 3.2, 12.0]!.\n"
          ]
        }
      ]
    },
    {
      "cell_type": "code",
      "source": [
        " Sales_dict2= {\"Stickers\": 0.8, \"Buttons\": 8.0,\"Hats\": 8.0, \"pet\": 12.0}\n",
        " Sales_dict2.items()\n",
        "for key, value in Sales_dict2.items():\n",
        "  print(f' {key} are on sale for only {value} each.')\n",
        "\n",
        "\n"
      ],
      "metadata": {
        "colab": {
          "base_uri": "https://localhost:8080/"
        },
        "id": "2hp2xAg3w1iX",
        "outputId": "d43ac4c4-ba31-46ae-9199-3dc526609d71"
      },
      "execution_count": 100,
      "outputs": [
        {
          "output_type": "stream",
          "name": "stdout",
          "text": [
            " Stickers are on sale for only 0.8 each.\n",
            " Buttons are on sale for only 8.0 each.\n",
            " Hats are on sale for only 8.0 each.\n",
            " pet are on sale for only 12.0 each.\n"
          ]
        }
      ]
    }
  ]
}