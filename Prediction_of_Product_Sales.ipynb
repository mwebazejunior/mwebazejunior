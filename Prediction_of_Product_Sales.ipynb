{
  "nbformat": 4,
  "nbformat_minor": 0,
  "metadata": {
    "colab": {
      "provenance": [],
      "authorship_tag": "ABX9TyN1ARWLtWynqG9XJIkzicPd",
      "include_colab_link": true
    },
    "kernelspec": {
      "name": "python3",
      "display_name": "Python 3"
    },
    "language_info": {
      "name": "python"
    }
  },
  "cells": [
    {
      "cell_type": "markdown",
      "metadata": {
        "id": "view-in-github",
        "colab_type": "text"
      },
      "source": [
        "<a href=\"https://colab.research.google.com/github/katusabevictoria/katusabevictoria/blob/main/Prediction_of_Product_Sales.ipynb\" target=\"_parent\"><img src=\"https://colab.research.google.com/assets/colab-badge.svg\" alt=\"Open In Colab\"/></a>"
      ]
    },
    {
      "cell_type": "markdown",
      "source": [
        "**Prediction of Product Sales**"
      ],
      "metadata": {
        "id": "z4fV0v1clOVK"
      }
    },
    {
      "cell_type": "markdown",
      "source": [
        "\n",
        "* Author: Katusabe Victoria"
      ],
      "metadata": {
        "id": "G2-G7wIDkcsK"
      }
    },
    {
      "cell_type": "markdown",
      "source": [
        "**Project Overview**"
      ],
      "metadata": {
        "id": "3fANM_pjmE8d"
      }
    },
    {
      "cell_type": "code",
      "source": [],
      "metadata": {
        "id": "ShLHIuXWnUxi"
      },
      "execution_count": null,
      "outputs": []
    },
    {
      "cell_type": "markdown",
      "source": [
        "**Load and Inspect Data**"
      ],
      "metadata": {
        "id": "GuosKuylmEpB"
      }
    },
    {
      "cell_type": "code",
      "source": [],
      "metadata": {
        "id": "lPU-jkZInVng"
      },
      "execution_count": null,
      "outputs": []
    },
    {
      "cell_type": "markdown",
      "source": [
        "**Clean Data**"
      ],
      "metadata": {
        "id": "8ViLtTtJmOHg"
      }
    },
    {
      "cell_type": "code",
      "source": [],
      "metadata": {
        "id": "w_vr8HZWnYhq"
      },
      "execution_count": null,
      "outputs": []
    },
    {
      "cell_type": "markdown",
      "source": [
        "**Exploratory Data Analysis**"
      ],
      "metadata": {
        "id": "DXVUtFrOmT1e"
      }
    },
    {
      "cell_type": "code",
      "source": [],
      "metadata": {
        "id": "ZaocfHs6nZy6"
      },
      "execution_count": null,
      "outputs": []
    },
    {
      "cell_type": "markdown",
      "source": [
        "**Feature Inspection**"
      ],
      "metadata": {
        "id": "1OLbfcYhmYBi"
      }
    },
    {
      "cell_type": "code",
      "source": [],
      "metadata": {
        "id": "2YiHD3xUna4z"
      },
      "execution_count": null,
      "outputs": []
    }
  ]
}