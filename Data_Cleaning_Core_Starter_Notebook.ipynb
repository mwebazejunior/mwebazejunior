{
  "nbformat": 4,
  "nbformat_minor": 0,
  "metadata": {
    "colab": {
      "provenance": [],
      "include_colab_link": true
    },
    "kernelspec": {
      "name": "python3",
      "display_name": "Python 3"
    },
    "language_info": {
      "name": "python"
    }
  },
  "cells": [
    {
      "cell_type": "markdown",
      "metadata": {
        "id": "view-in-github",
        "colab_type": "text"
      },
      "source": [
        "<a href=\"https://colab.research.google.com/github/katusabevictoria/katusabevictoria/blob/main/Data_Cleaning_Core_Starter_Notebook.ipynb\" target=\"_parent\"><img src=\"https://colab.research.google.com/assets/colab-badge.svg\" alt=\"Open In Colab\"/></a>"
      ]
    },
    {
      "cell_type": "markdown",
      "source": [
        "# Data Cleaning Core [Starter Notebook]\n",
        "\n"
      ],
      "metadata": {
        "id": "OO_lHblPMbz5"
      }
    },
    {
      "cell_type": "markdown",
      "source": [
        "- Student Name:"
      ],
      "metadata": {
        "id": "vN3u6cWVFYUC"
      }
    },
    {
      "cell_type": "markdown",
      "source": [
        "## The Data"
      ],
      "metadata": {
        "id": "juh5JMRRHLe_"
      }
    },
    {
      "cell_type": "markdown",
      "source": [
        "You will be working with a modified version of the Titanitc dataset:\n",
        "\n",
        "- [(Modified) Titanic Data](https://drive.google.com/file/d/1Uw7RzQMYSARCFnzJQqqNlZpUouXr16-8/view?usp=sharing)\n",
        "\n",
        "- [Data Dictionary](https://docs.google.com/document/d/1uEeANvKURYmu-HUDGzbGlMmvAUwooatUg-gHUCDMh-Y/edit?usp=sharing)\n",
        "\n",
        "___\n",
        "\n",
        "- Save the files to your Course 1 > Week 2 > Data Folder.\n"
      ],
      "metadata": {
        "id": "WjZIviC2A_eM"
      }
    },
    {
      "cell_type": "markdown",
      "source": [
        "## A) Load and Preview Data"
      ],
      "metadata": {
        "id": "CTVmUXVnoGp0"
      }
    },
    {
      "cell_type": "markdown",
      "source": [
        "\n",
        "- Mount google drive and navigate to the file on the Files sidebar.\n"
      ],
      "metadata": {
        "id": "_r1kaxkquGFU"
      }
    },
    {
      "cell_type": "code",
      "source": [
        "# Mount google drive\n",
        "from google.colab import drive\n",
        "drive.mount('/content/drive')\n",
        "\n"
      ],
      "metadata": {
        "id": "mtAndE63WYJp",
        "outputId": "27828a27-c19b-4640-ff37-5701bacfed6d",
        "colab": {
          "base_uri": "https://localhost:8080/"
        }
      },
      "execution_count": 3,
      "outputs": [
        {
          "output_type": "stream",
          "name": "stdout",
          "text": [
            "Drive already mounted at /content/drive; to attempt to forcibly remount, call drive.mount(\"/content/drive\", force_remount=True).\n"
          ]
        }
      ]
    },
    {
      "cell_type": "markdown",
      "source": [
        "\n",
        "- Navigate to the file on the Files side bar and copy the path\n",
        "- Paste it below and save it as a variable called \"fpath\""
      ],
      "metadata": {
        "id": "OrukOB_cuHfG"
      }
    },
    {
      "cell_type": "code",
      "execution_count": 12,
      "metadata": {
        "id": "mU3JiRzBMS_j"
      },
      "outputs": [],
      "source": [
        "# Import required packages\n",
        "import pandas as pd\n",
        "\n",
        "# Save the filepath and load the data as \"df_titanic\"\n",
        "df_titanic='/content/drive/MyDrive/Data folder/titanic_dirty.csv'\n",
        "\n"
      ]
    },
    {
      "cell_type": "code",
      "source": [
        "# Display the first 5 rows\n",
        "df=pd.read_csv(df_titanic)\n",
        "df.head(5)"
      ],
      "metadata": {
        "id": "alCcMYM_3FUJ",
        "outputId": "4102acfc-52d1-4163-9717-6c3050a8cbc6",
        "colab": {
          "base_uri": "https://localhost:8080/",
          "height": 432
        }
      },
      "execution_count": 15,
      "outputs": [
        {
          "output_type": "execute_result",
          "data": {
            "text/plain": [
              "   Unnamed: 0  PassengerId  Survived  Pclass  \\\n",
              "0           0            1         0       3   \n",
              "1           1            2         1       1   \n",
              "2           2            3         1       3   \n",
              "3           3            4         1       1   \n",
              "4           4            5         0       3   \n",
              "\n",
              "                                                Name     Sex   Age SibSp  \\\n",
              "0                            Braund, Mr. Owen Harris    male  22.0     1   \n",
              "1  Cumings, Mrs. John Bradley (Florence Briggs Th...  female  38.0     1   \n",
              "2                             Heikkinen, Miss. Laina  female  26.0     0   \n",
              "3       Futrelle, Mrs. Jacques Heath (Lily May Peel)  female  35.0     1   \n",
              "4                           Allen, Mr. William Henry    male  35.0     0   \n",
              "\n",
              "   Parch            Ticket    Fare Cabin Embarked  \n",
              "0      0         A/5 21171   $7.25   NaN        S  \n",
              "1      0          PC 17599  $71.28   C85        C  \n",
              "2      0  STON/O2. 3101282   $7.93   NaN        S  \n",
              "3      0            113803  $53.10  C123        S  \n",
              "4      0            373450   $8.05   NaN        S  "
            ],
            "text/html": [
              "\n",
              "  <div id=\"df-0ae60839-8565-4be9-8fe6-4aeebb148ce5\" class=\"colab-df-container\">\n",
              "    <div>\n",
              "<style scoped>\n",
              "    .dataframe tbody tr th:only-of-type {\n",
              "        vertical-align: middle;\n",
              "    }\n",
              "\n",
              "    .dataframe tbody tr th {\n",
              "        vertical-align: top;\n",
              "    }\n",
              "\n",
              "    .dataframe thead th {\n",
              "        text-align: right;\n",
              "    }\n",
              "</style>\n",
              "<table border=\"1\" class=\"dataframe\">\n",
              "  <thead>\n",
              "    <tr style=\"text-align: right;\">\n",
              "      <th></th>\n",
              "      <th>Unnamed: 0</th>\n",
              "      <th>PassengerId</th>\n",
              "      <th>Survived</th>\n",
              "      <th>Pclass</th>\n",
              "      <th>Name</th>\n",
              "      <th>Sex</th>\n",
              "      <th>Age</th>\n",
              "      <th>SibSp</th>\n",
              "      <th>Parch</th>\n",
              "      <th>Ticket</th>\n",
              "      <th>Fare</th>\n",
              "      <th>Cabin</th>\n",
              "      <th>Embarked</th>\n",
              "    </tr>\n",
              "  </thead>\n",
              "  <tbody>\n",
              "    <tr>\n",
              "      <th>0</th>\n",
              "      <td>0</td>\n",
              "      <td>1</td>\n",
              "      <td>0</td>\n",
              "      <td>3</td>\n",
              "      <td>Braund, Mr. Owen Harris</td>\n",
              "      <td>male</td>\n",
              "      <td>22.0</td>\n",
              "      <td>1</td>\n",
              "      <td>0</td>\n",
              "      <td>A/5 21171</td>\n",
              "      <td>$7.25</td>\n",
              "      <td>NaN</td>\n",
              "      <td>S</td>\n",
              "    </tr>\n",
              "    <tr>\n",
              "      <th>1</th>\n",
              "      <td>1</td>\n",
              "      <td>2</td>\n",
              "      <td>1</td>\n",
              "      <td>1</td>\n",
              "      <td>Cumings, Mrs. John Bradley (Florence Briggs Th...</td>\n",
              "      <td>female</td>\n",
              "      <td>38.0</td>\n",
              "      <td>1</td>\n",
              "      <td>0</td>\n",
              "      <td>PC 17599</td>\n",
              "      <td>$71.28</td>\n",
              "      <td>C85</td>\n",
              "      <td>C</td>\n",
              "    </tr>\n",
              "    <tr>\n",
              "      <th>2</th>\n",
              "      <td>2</td>\n",
              "      <td>3</td>\n",
              "      <td>1</td>\n",
              "      <td>3</td>\n",
              "      <td>Heikkinen, Miss. Laina</td>\n",
              "      <td>female</td>\n",
              "      <td>26.0</td>\n",
              "      <td>0</td>\n",
              "      <td>0</td>\n",
              "      <td>STON/O2. 3101282</td>\n",
              "      <td>$7.93</td>\n",
              "      <td>NaN</td>\n",
              "      <td>S</td>\n",
              "    </tr>\n",
              "    <tr>\n",
              "      <th>3</th>\n",
              "      <td>3</td>\n",
              "      <td>4</td>\n",
              "      <td>1</td>\n",
              "      <td>1</td>\n",
              "      <td>Futrelle, Mrs. Jacques Heath (Lily May Peel)</td>\n",
              "      <td>female</td>\n",
              "      <td>35.0</td>\n",
              "      <td>1</td>\n",
              "      <td>0</td>\n",
              "      <td>113803</td>\n",
              "      <td>$53.10</td>\n",
              "      <td>C123</td>\n",
              "      <td>S</td>\n",
              "    </tr>\n",
              "    <tr>\n",
              "      <th>4</th>\n",
              "      <td>4</td>\n",
              "      <td>5</td>\n",
              "      <td>0</td>\n",
              "      <td>3</td>\n",
              "      <td>Allen, Mr. William Henry</td>\n",
              "      <td>male</td>\n",
              "      <td>35.0</td>\n",
              "      <td>0</td>\n",
              "      <td>0</td>\n",
              "      <td>373450</td>\n",
              "      <td>$8.05</td>\n",
              "      <td>NaN</td>\n",
              "      <td>S</td>\n",
              "    </tr>\n",
              "  </tbody>\n",
              "</table>\n",
              "</div>\n",
              "    <div class=\"colab-df-buttons\">\n",
              "\n",
              "  <div class=\"colab-df-container\">\n",
              "    <button class=\"colab-df-convert\" onclick=\"convertToInteractive('df-0ae60839-8565-4be9-8fe6-4aeebb148ce5')\"\n",
              "            title=\"Convert this dataframe to an interactive table.\"\n",
              "            style=\"display:none;\">\n",
              "\n",
              "  <svg xmlns=\"http://www.w3.org/2000/svg\" height=\"24px\" viewBox=\"0 -960 960 960\">\n",
              "    <path d=\"M120-120v-720h720v720H120Zm60-500h600v-160H180v160Zm220 220h160v-160H400v160Zm0 220h160v-160H400v160ZM180-400h160v-160H180v160Zm440 0h160v-160H620v160ZM180-180h160v-160H180v160Zm440 0h160v-160H620v160Z\"/>\n",
              "  </svg>\n",
              "    </button>\n",
              "\n",
              "  <style>\n",
              "    .colab-df-container {\n",
              "      display:flex;\n",
              "      gap: 12px;\n",
              "    }\n",
              "\n",
              "    .colab-df-convert {\n",
              "      background-color: #E8F0FE;\n",
              "      border: none;\n",
              "      border-radius: 50%;\n",
              "      cursor: pointer;\n",
              "      display: none;\n",
              "      fill: #1967D2;\n",
              "      height: 32px;\n",
              "      padding: 0 0 0 0;\n",
              "      width: 32px;\n",
              "    }\n",
              "\n",
              "    .colab-df-convert:hover {\n",
              "      background-color: #E2EBFA;\n",
              "      box-shadow: 0px 1px 2px rgba(60, 64, 67, 0.3), 0px 1px 3px 1px rgba(60, 64, 67, 0.15);\n",
              "      fill: #174EA6;\n",
              "    }\n",
              "\n",
              "    .colab-df-buttons div {\n",
              "      margin-bottom: 4px;\n",
              "    }\n",
              "\n",
              "    [theme=dark] .colab-df-convert {\n",
              "      background-color: #3B4455;\n",
              "      fill: #D2E3FC;\n",
              "    }\n",
              "\n",
              "    [theme=dark] .colab-df-convert:hover {\n",
              "      background-color: #434B5C;\n",
              "      box-shadow: 0px 1px 3px 1px rgba(0, 0, 0, 0.15);\n",
              "      filter: drop-shadow(0px 1px 2px rgba(0, 0, 0, 0.3));\n",
              "      fill: #FFFFFF;\n",
              "    }\n",
              "  </style>\n",
              "\n",
              "    <script>\n",
              "      const buttonEl =\n",
              "        document.querySelector('#df-0ae60839-8565-4be9-8fe6-4aeebb148ce5 button.colab-df-convert');\n",
              "      buttonEl.style.display =\n",
              "        google.colab.kernel.accessAllowed ? 'block' : 'none';\n",
              "\n",
              "      async function convertToInteractive(key) {\n",
              "        const element = document.querySelector('#df-0ae60839-8565-4be9-8fe6-4aeebb148ce5');\n",
              "        const dataTable =\n",
              "          await google.colab.kernel.invokeFunction('convertToInteractive',\n",
              "                                                    [key], {});\n",
              "        if (!dataTable) return;\n",
              "\n",
              "        const docLinkHtml = 'Like what you see? Visit the ' +\n",
              "          '<a target=\"_blank\" href=https://colab.research.google.com/notebooks/data_table.ipynb>data table notebook</a>'\n",
              "          + ' to learn more about interactive tables.';\n",
              "        element.innerHTML = '';\n",
              "        dataTable['output_type'] = 'display_data';\n",
              "        await google.colab.output.renderOutput(dataTable, element);\n",
              "        const docLink = document.createElement('div');\n",
              "        docLink.innerHTML = docLinkHtml;\n",
              "        element.appendChild(docLink);\n",
              "      }\n",
              "    </script>\n",
              "  </div>\n",
              "\n",
              "\n",
              "<div id=\"df-d7d44ae1-f4fe-460c-8e59-ace0c388e9a2\">\n",
              "  <button class=\"colab-df-quickchart\" onclick=\"quickchart('df-d7d44ae1-f4fe-460c-8e59-ace0c388e9a2')\"\n",
              "            title=\"Suggest charts\"\n",
              "            style=\"display:none;\">\n",
              "\n",
              "<svg xmlns=\"http://www.w3.org/2000/svg\" height=\"24px\"viewBox=\"0 0 24 24\"\n",
              "     width=\"24px\">\n",
              "    <g>\n",
              "        <path d=\"M19 3H5c-1.1 0-2 .9-2 2v14c0 1.1.9 2 2 2h14c1.1 0 2-.9 2-2V5c0-1.1-.9-2-2-2zM9 17H7v-7h2v7zm4 0h-2V7h2v10zm4 0h-2v-4h2v4z\"/>\n",
              "    </g>\n",
              "</svg>\n",
              "  </button>\n",
              "\n",
              "<style>\n",
              "  .colab-df-quickchart {\n",
              "      --bg-color: #E8F0FE;\n",
              "      --fill-color: #1967D2;\n",
              "      --hover-bg-color: #E2EBFA;\n",
              "      --hover-fill-color: #174EA6;\n",
              "      --disabled-fill-color: #AAA;\n",
              "      --disabled-bg-color: #DDD;\n",
              "  }\n",
              "\n",
              "  [theme=dark] .colab-df-quickchart {\n",
              "      --bg-color: #3B4455;\n",
              "      --fill-color: #D2E3FC;\n",
              "      --hover-bg-color: #434B5C;\n",
              "      --hover-fill-color: #FFFFFF;\n",
              "      --disabled-bg-color: #3B4455;\n",
              "      --disabled-fill-color: #666;\n",
              "  }\n",
              "\n",
              "  .colab-df-quickchart {\n",
              "    background-color: var(--bg-color);\n",
              "    border: none;\n",
              "    border-radius: 50%;\n",
              "    cursor: pointer;\n",
              "    display: none;\n",
              "    fill: var(--fill-color);\n",
              "    height: 32px;\n",
              "    padding: 0;\n",
              "    width: 32px;\n",
              "  }\n",
              "\n",
              "  .colab-df-quickchart:hover {\n",
              "    background-color: var(--hover-bg-color);\n",
              "    box-shadow: 0 1px 2px rgba(60, 64, 67, 0.3), 0 1px 3px 1px rgba(60, 64, 67, 0.15);\n",
              "    fill: var(--button-hover-fill-color);\n",
              "  }\n",
              "\n",
              "  .colab-df-quickchart-complete:disabled,\n",
              "  .colab-df-quickchart-complete:disabled:hover {\n",
              "    background-color: var(--disabled-bg-color);\n",
              "    fill: var(--disabled-fill-color);\n",
              "    box-shadow: none;\n",
              "  }\n",
              "\n",
              "  .colab-df-spinner {\n",
              "    border: 2px solid var(--fill-color);\n",
              "    border-color: transparent;\n",
              "    border-bottom-color: var(--fill-color);\n",
              "    animation:\n",
              "      spin 1s steps(1) infinite;\n",
              "  }\n",
              "\n",
              "  @keyframes spin {\n",
              "    0% {\n",
              "      border-color: transparent;\n",
              "      border-bottom-color: var(--fill-color);\n",
              "      border-left-color: var(--fill-color);\n",
              "    }\n",
              "    20% {\n",
              "      border-color: transparent;\n",
              "      border-left-color: var(--fill-color);\n",
              "      border-top-color: var(--fill-color);\n",
              "    }\n",
              "    30% {\n",
              "      border-color: transparent;\n",
              "      border-left-color: var(--fill-color);\n",
              "      border-top-color: var(--fill-color);\n",
              "      border-right-color: var(--fill-color);\n",
              "    }\n",
              "    40% {\n",
              "      border-color: transparent;\n",
              "      border-right-color: var(--fill-color);\n",
              "      border-top-color: var(--fill-color);\n",
              "    }\n",
              "    60% {\n",
              "      border-color: transparent;\n",
              "      border-right-color: var(--fill-color);\n",
              "    }\n",
              "    80% {\n",
              "      border-color: transparent;\n",
              "      border-right-color: var(--fill-color);\n",
              "      border-bottom-color: var(--fill-color);\n",
              "    }\n",
              "    90% {\n",
              "      border-color: transparent;\n",
              "      border-bottom-color: var(--fill-color);\n",
              "    }\n",
              "  }\n",
              "</style>\n",
              "\n",
              "  <script>\n",
              "    async function quickchart(key) {\n",
              "      const quickchartButtonEl =\n",
              "        document.querySelector('#' + key + ' button');\n",
              "      quickchartButtonEl.disabled = true;  // To prevent multiple clicks.\n",
              "      quickchartButtonEl.classList.add('colab-df-spinner');\n",
              "      try {\n",
              "        const charts = await google.colab.kernel.invokeFunction(\n",
              "            'suggestCharts', [key], {});\n",
              "      } catch (error) {\n",
              "        console.error('Error during call to suggestCharts:', error);\n",
              "      }\n",
              "      quickchartButtonEl.classList.remove('colab-df-spinner');\n",
              "      quickchartButtonEl.classList.add('colab-df-quickchart-complete');\n",
              "    }\n",
              "    (() => {\n",
              "      let quickchartButtonEl =\n",
              "        document.querySelector('#df-d7d44ae1-f4fe-460c-8e59-ace0c388e9a2 button');\n",
              "      quickchartButtonEl.style.display =\n",
              "        google.colab.kernel.accessAllowed ? 'block' : 'none';\n",
              "    })();\n",
              "  </script>\n",
              "</div>\n",
              "\n",
              "    </div>\n",
              "  </div>\n"
            ],
            "application/vnd.google.colaboratory.intrinsic+json": {
              "type": "dataframe",
              "variable_name": "df",
              "summary": "{\n  \"name\": \"df\",\n  \"rows\": 906,\n  \"fields\": [\n    {\n      \"column\": \"Unnamed: 0\",\n      \"properties\": {\n        \"dtype\": \"number\",\n        \"std\": 257,\n        \"min\": 0,\n        \"max\": 890,\n        \"num_unique_values\": 891,\n        \"samples\": [\n          709,\n          439,\n          840\n        ],\n        \"semantic_type\": \"\",\n        \"description\": \"\"\n      }\n    },\n    {\n      \"column\": \"PassengerId\",\n      \"properties\": {\n        \"dtype\": \"number\",\n        \"std\": 257,\n        \"min\": 1,\n        \"max\": 891,\n        \"num_unique_values\": 891,\n        \"samples\": [\n          710,\n          440,\n          841\n        ],\n        \"semantic_type\": \"\",\n        \"description\": \"\"\n      }\n    },\n    {\n      \"column\": \"Survived\",\n      \"properties\": {\n        \"dtype\": \"number\",\n        \"std\": 0,\n        \"min\": 0,\n        \"max\": 1,\n        \"num_unique_values\": 2,\n        \"samples\": [\n          1,\n          0\n        ],\n        \"semantic_type\": \"\",\n        \"description\": \"\"\n      }\n    },\n    {\n      \"column\": \"Pclass\",\n      \"properties\": {\n        \"dtype\": \"number\",\n        \"std\": 0,\n        \"min\": 1,\n        \"max\": 3,\n        \"num_unique_values\": 3,\n        \"samples\": [\n          3,\n          1\n        ],\n        \"semantic_type\": \"\",\n        \"description\": \"\"\n      }\n    },\n    {\n      \"column\": \"Name\",\n      \"properties\": {\n        \"dtype\": \"string\",\n        \"num_unique_values\": 891,\n        \"samples\": [\n          \"Moubarek, Master. Halim Gonios (\\\"William George\\\")\",\n          \"Kvillner, Mr. Johan Henrik Johannesson\"\n        ],\n        \"semantic_type\": \"\",\n        \"description\": \"\"\n      }\n    },\n    {\n      \"column\": \"Sex\",\n      \"properties\": {\n        \"dtype\": \"category\",\n        \"num_unique_values\": 3,\n        \"samples\": [\n          \"male\",\n          \"female\"\n        ],\n        \"semantic_type\": \"\",\n        \"description\": \"\"\n      }\n    },\n    {\n      \"column\": \"Age\",\n      \"properties\": {\n        \"dtype\": \"number\",\n        \"std\": 14.474664142186354,\n        \"min\": 0.42,\n        \"max\": 80.0,\n        \"num_unique_values\": 88,\n        \"samples\": [\n          0.75,\n          22.0\n        ],\n        \"semantic_type\": \"\",\n        \"description\": \"\"\n      }\n    },\n    {\n      \"column\": \"SibSp\",\n      \"properties\": {\n        \"dtype\": \"category\",\n        \"num_unique_values\": 8,\n        \"samples\": [\n          \"0\",\n          \"5\"\n        ],\n        \"semantic_type\": \"\",\n        \"description\": \"\"\n      }\n    },\n    {\n      \"column\": \"Parch\",\n      \"properties\": {\n        \"dtype\": \"number\",\n        \"std\": 0,\n        \"min\": 0,\n        \"max\": 6,\n        \"num_unique_values\": 7,\n        \"samples\": [\n          0,\n          1\n        ],\n        \"semantic_type\": \"\",\n        \"description\": \"\"\n      }\n    },\n    {\n      \"column\": \"Ticket\",\n      \"properties\": {\n        \"dtype\": \"string\",\n        \"num_unique_values\": 681,\n        \"samples\": [\n          \"11774\",\n          \"248740\"\n        ],\n        \"semantic_type\": \"\",\n        \"description\": \"\"\n      }\n    },\n    {\n      \"column\": \"Fare\",\n      \"properties\": {\n        \"dtype\": \"category\",\n        \"num_unique_values\": 234,\n        \"samples\": [\n          \"$8.65\",\n          \"$42.40\"\n        ],\n        \"semantic_type\": \"\",\n        \"description\": \"\"\n      }\n    },\n    {\n      \"column\": \"Cabin\",\n      \"properties\": {\n        \"dtype\": \"category\",\n        \"num_unique_values\": 147,\n        \"samples\": [\n          \"D45\",\n          \"B49\"\n        ],\n        \"semantic_type\": \"\",\n        \"description\": \"\"\n      }\n    },\n    {\n      \"column\": \"Embarked\",\n      \"properties\": {\n        \"dtype\": \"category\",\n        \"num_unique_values\": 4,\n        \"samples\": [\n          \"C\",\n          \"Queenstown\"\n        ],\n        \"semantic_type\": \"\",\n        \"description\": \"\"\n      }\n    }\n  ]\n}"
            }
          },
          "metadata": {},
          "execution_count": 15
        }
      ]
    },
    {
      "cell_type": "code",
      "source": [
        "# Display the last 5 rows\n",
        "df.tail(5)"
      ],
      "metadata": {
        "id": "-gT5FZQjOwvB",
        "outputId": "4f0ad5be-5d42-4024-d8d2-ab8f806ce0b2",
        "colab": {
          "base_uri": "https://localhost:8080/",
          "height": 449
        }
      },
      "execution_count": 16,
      "outputs": [
        {
          "output_type": "execute_result",
          "data": {
            "text/plain": [
              "     Unnamed: 0  PassengerId  Survived  Pclass  \\\n",
              "901         622          623         1       3   \n",
              "902          77           78         0       3   \n",
              "903         715          716         0       3   \n",
              "904         623          624         0       3   \n",
              "905         888          889         0       3   \n",
              "\n",
              "                                           Name     Sex   Age SibSp  Parch  \\\n",
              "901                            Nakid, Mr. Sahid    male  20.0     1      1   \n",
              "902                    Moutal, Mr. Rahamin Haim    male   NaN     0      0   \n",
              "903  Soholt, Mr. Peter Andreas Lauritz Andersen    male  19.0     0      0   \n",
              "904                 Hansen, Mr. Henry Damsgaard    male  21.0     0      0   \n",
              "905    Johnston, Miss. Catherine Helen \"Carrie\"  female   NaN     1      2   \n",
              "\n",
              "         Ticket    Fare  Cabin Embarked  \n",
              "901        2653  $15.74    NaN        C  \n",
              "902      374746   $8.05    NaN        S  \n",
              "903      348124   $7.65  F G73        S  \n",
              "904      350029   $7.85    NaN        S  \n",
              "905  W./C. 6607  $23.45    NaN        S  "
            ],
            "text/html": [
              "\n",
              "  <div id=\"df-21e4c525-1c5a-4f2f-9d01-5fd1e2045a81\" class=\"colab-df-container\">\n",
              "    <div>\n",
              "<style scoped>\n",
              "    .dataframe tbody tr th:only-of-type {\n",
              "        vertical-align: middle;\n",
              "    }\n",
              "\n",
              "    .dataframe tbody tr th {\n",
              "        vertical-align: top;\n",
              "    }\n",
              "\n",
              "    .dataframe thead th {\n",
              "        text-align: right;\n",
              "    }\n",
              "</style>\n",
              "<table border=\"1\" class=\"dataframe\">\n",
              "  <thead>\n",
              "    <tr style=\"text-align: right;\">\n",
              "      <th></th>\n",
              "      <th>Unnamed: 0</th>\n",
              "      <th>PassengerId</th>\n",
              "      <th>Survived</th>\n",
              "      <th>Pclass</th>\n",
              "      <th>Name</th>\n",
              "      <th>Sex</th>\n",
              "      <th>Age</th>\n",
              "      <th>SibSp</th>\n",
              "      <th>Parch</th>\n",
              "      <th>Ticket</th>\n",
              "      <th>Fare</th>\n",
              "      <th>Cabin</th>\n",
              "      <th>Embarked</th>\n",
              "    </tr>\n",
              "  </thead>\n",
              "  <tbody>\n",
              "    <tr>\n",
              "      <th>901</th>\n",
              "      <td>622</td>\n",
              "      <td>623</td>\n",
              "      <td>1</td>\n",
              "      <td>3</td>\n",
              "      <td>Nakid, Mr. Sahid</td>\n",
              "      <td>male</td>\n",
              "      <td>20.0</td>\n",
              "      <td>1</td>\n",
              "      <td>1</td>\n",
              "      <td>2653</td>\n",
              "      <td>$15.74</td>\n",
              "      <td>NaN</td>\n",
              "      <td>C</td>\n",
              "    </tr>\n",
              "    <tr>\n",
              "      <th>902</th>\n",
              "      <td>77</td>\n",
              "      <td>78</td>\n",
              "      <td>0</td>\n",
              "      <td>3</td>\n",
              "      <td>Moutal, Mr. Rahamin Haim</td>\n",
              "      <td>male</td>\n",
              "      <td>NaN</td>\n",
              "      <td>0</td>\n",
              "      <td>0</td>\n",
              "      <td>374746</td>\n",
              "      <td>$8.05</td>\n",
              "      <td>NaN</td>\n",
              "      <td>S</td>\n",
              "    </tr>\n",
              "    <tr>\n",
              "      <th>903</th>\n",
              "      <td>715</td>\n",
              "      <td>716</td>\n",
              "      <td>0</td>\n",
              "      <td>3</td>\n",
              "      <td>Soholt, Mr. Peter Andreas Lauritz Andersen</td>\n",
              "      <td>male</td>\n",
              "      <td>19.0</td>\n",
              "      <td>0</td>\n",
              "      <td>0</td>\n",
              "      <td>348124</td>\n",
              "      <td>$7.65</td>\n",
              "      <td>F G73</td>\n",
              "      <td>S</td>\n",
              "    </tr>\n",
              "    <tr>\n",
              "      <th>904</th>\n",
              "      <td>623</td>\n",
              "      <td>624</td>\n",
              "      <td>0</td>\n",
              "      <td>3</td>\n",
              "      <td>Hansen, Mr. Henry Damsgaard</td>\n",
              "      <td>male</td>\n",
              "      <td>21.0</td>\n",
              "      <td>0</td>\n",
              "      <td>0</td>\n",
              "      <td>350029</td>\n",
              "      <td>$7.85</td>\n",
              "      <td>NaN</td>\n",
              "      <td>S</td>\n",
              "    </tr>\n",
              "    <tr>\n",
              "      <th>905</th>\n",
              "      <td>888</td>\n",
              "      <td>889</td>\n",
              "      <td>0</td>\n",
              "      <td>3</td>\n",
              "      <td>Johnston, Miss. Catherine Helen \"Carrie\"</td>\n",
              "      <td>female</td>\n",
              "      <td>NaN</td>\n",
              "      <td>1</td>\n",
              "      <td>2</td>\n",
              "      <td>W./C. 6607</td>\n",
              "      <td>$23.45</td>\n",
              "      <td>NaN</td>\n",
              "      <td>S</td>\n",
              "    </tr>\n",
              "  </tbody>\n",
              "</table>\n",
              "</div>\n",
              "    <div class=\"colab-df-buttons\">\n",
              "\n",
              "  <div class=\"colab-df-container\">\n",
              "    <button class=\"colab-df-convert\" onclick=\"convertToInteractive('df-21e4c525-1c5a-4f2f-9d01-5fd1e2045a81')\"\n",
              "            title=\"Convert this dataframe to an interactive table.\"\n",
              "            style=\"display:none;\">\n",
              "\n",
              "  <svg xmlns=\"http://www.w3.org/2000/svg\" height=\"24px\" viewBox=\"0 -960 960 960\">\n",
              "    <path d=\"M120-120v-720h720v720H120Zm60-500h600v-160H180v160Zm220 220h160v-160H400v160Zm0 220h160v-160H400v160ZM180-400h160v-160H180v160Zm440 0h160v-160H620v160ZM180-180h160v-160H180v160Zm440 0h160v-160H620v160Z\"/>\n",
              "  </svg>\n",
              "    </button>\n",
              "\n",
              "  <style>\n",
              "    .colab-df-container {\n",
              "      display:flex;\n",
              "      gap: 12px;\n",
              "    }\n",
              "\n",
              "    .colab-df-convert {\n",
              "      background-color: #E8F0FE;\n",
              "      border: none;\n",
              "      border-radius: 50%;\n",
              "      cursor: pointer;\n",
              "      display: none;\n",
              "      fill: #1967D2;\n",
              "      height: 32px;\n",
              "      padding: 0 0 0 0;\n",
              "      width: 32px;\n",
              "    }\n",
              "\n",
              "    .colab-df-convert:hover {\n",
              "      background-color: #E2EBFA;\n",
              "      box-shadow: 0px 1px 2px rgba(60, 64, 67, 0.3), 0px 1px 3px 1px rgba(60, 64, 67, 0.15);\n",
              "      fill: #174EA6;\n",
              "    }\n",
              "\n",
              "    .colab-df-buttons div {\n",
              "      margin-bottom: 4px;\n",
              "    }\n",
              "\n",
              "    [theme=dark] .colab-df-convert {\n",
              "      background-color: #3B4455;\n",
              "      fill: #D2E3FC;\n",
              "    }\n",
              "\n",
              "    [theme=dark] .colab-df-convert:hover {\n",
              "      background-color: #434B5C;\n",
              "      box-shadow: 0px 1px 3px 1px rgba(0, 0, 0, 0.15);\n",
              "      filter: drop-shadow(0px 1px 2px rgba(0, 0, 0, 0.3));\n",
              "      fill: #FFFFFF;\n",
              "    }\n",
              "  </style>\n",
              "\n",
              "    <script>\n",
              "      const buttonEl =\n",
              "        document.querySelector('#df-21e4c525-1c5a-4f2f-9d01-5fd1e2045a81 button.colab-df-convert');\n",
              "      buttonEl.style.display =\n",
              "        google.colab.kernel.accessAllowed ? 'block' : 'none';\n",
              "\n",
              "      async function convertToInteractive(key) {\n",
              "        const element = document.querySelector('#df-21e4c525-1c5a-4f2f-9d01-5fd1e2045a81');\n",
              "        const dataTable =\n",
              "          await google.colab.kernel.invokeFunction('convertToInteractive',\n",
              "                                                    [key], {});\n",
              "        if (!dataTable) return;\n",
              "\n",
              "        const docLinkHtml = 'Like what you see? Visit the ' +\n",
              "          '<a target=\"_blank\" href=https://colab.research.google.com/notebooks/data_table.ipynb>data table notebook</a>'\n",
              "          + ' to learn more about interactive tables.';\n",
              "        element.innerHTML = '';\n",
              "        dataTable['output_type'] = 'display_data';\n",
              "        await google.colab.output.renderOutput(dataTable, element);\n",
              "        const docLink = document.createElement('div');\n",
              "        docLink.innerHTML = docLinkHtml;\n",
              "        element.appendChild(docLink);\n",
              "      }\n",
              "    </script>\n",
              "  </div>\n",
              "\n",
              "\n",
              "<div id=\"df-ffbfed2e-ed33-4d9c-913c-ae3f8f71d329\">\n",
              "  <button class=\"colab-df-quickchart\" onclick=\"quickchart('df-ffbfed2e-ed33-4d9c-913c-ae3f8f71d329')\"\n",
              "            title=\"Suggest charts\"\n",
              "            style=\"display:none;\">\n",
              "\n",
              "<svg xmlns=\"http://www.w3.org/2000/svg\" height=\"24px\"viewBox=\"0 0 24 24\"\n",
              "     width=\"24px\">\n",
              "    <g>\n",
              "        <path d=\"M19 3H5c-1.1 0-2 .9-2 2v14c0 1.1.9 2 2 2h14c1.1 0 2-.9 2-2V5c0-1.1-.9-2-2-2zM9 17H7v-7h2v7zm4 0h-2V7h2v10zm4 0h-2v-4h2v4z\"/>\n",
              "    </g>\n",
              "</svg>\n",
              "  </button>\n",
              "\n",
              "<style>\n",
              "  .colab-df-quickchart {\n",
              "      --bg-color: #E8F0FE;\n",
              "      --fill-color: #1967D2;\n",
              "      --hover-bg-color: #E2EBFA;\n",
              "      --hover-fill-color: #174EA6;\n",
              "      --disabled-fill-color: #AAA;\n",
              "      --disabled-bg-color: #DDD;\n",
              "  }\n",
              "\n",
              "  [theme=dark] .colab-df-quickchart {\n",
              "      --bg-color: #3B4455;\n",
              "      --fill-color: #D2E3FC;\n",
              "      --hover-bg-color: #434B5C;\n",
              "      --hover-fill-color: #FFFFFF;\n",
              "      --disabled-bg-color: #3B4455;\n",
              "      --disabled-fill-color: #666;\n",
              "  }\n",
              "\n",
              "  .colab-df-quickchart {\n",
              "    background-color: var(--bg-color);\n",
              "    border: none;\n",
              "    border-radius: 50%;\n",
              "    cursor: pointer;\n",
              "    display: none;\n",
              "    fill: var(--fill-color);\n",
              "    height: 32px;\n",
              "    padding: 0;\n",
              "    width: 32px;\n",
              "  }\n",
              "\n",
              "  .colab-df-quickchart:hover {\n",
              "    background-color: var(--hover-bg-color);\n",
              "    box-shadow: 0 1px 2px rgba(60, 64, 67, 0.3), 0 1px 3px 1px rgba(60, 64, 67, 0.15);\n",
              "    fill: var(--button-hover-fill-color);\n",
              "  }\n",
              "\n",
              "  .colab-df-quickchart-complete:disabled,\n",
              "  .colab-df-quickchart-complete:disabled:hover {\n",
              "    background-color: var(--disabled-bg-color);\n",
              "    fill: var(--disabled-fill-color);\n",
              "    box-shadow: none;\n",
              "  }\n",
              "\n",
              "  .colab-df-spinner {\n",
              "    border: 2px solid var(--fill-color);\n",
              "    border-color: transparent;\n",
              "    border-bottom-color: var(--fill-color);\n",
              "    animation:\n",
              "      spin 1s steps(1) infinite;\n",
              "  }\n",
              "\n",
              "  @keyframes spin {\n",
              "    0% {\n",
              "      border-color: transparent;\n",
              "      border-bottom-color: var(--fill-color);\n",
              "      border-left-color: var(--fill-color);\n",
              "    }\n",
              "    20% {\n",
              "      border-color: transparent;\n",
              "      border-left-color: var(--fill-color);\n",
              "      border-top-color: var(--fill-color);\n",
              "    }\n",
              "    30% {\n",
              "      border-color: transparent;\n",
              "      border-left-color: var(--fill-color);\n",
              "      border-top-color: var(--fill-color);\n",
              "      border-right-color: var(--fill-color);\n",
              "    }\n",
              "    40% {\n",
              "      border-color: transparent;\n",
              "      border-right-color: var(--fill-color);\n",
              "      border-top-color: var(--fill-color);\n",
              "    }\n",
              "    60% {\n",
              "      border-color: transparent;\n",
              "      border-right-color: var(--fill-color);\n",
              "    }\n",
              "    80% {\n",
              "      border-color: transparent;\n",
              "      border-right-color: var(--fill-color);\n",
              "      border-bottom-color: var(--fill-color);\n",
              "    }\n",
              "    90% {\n",
              "      border-color: transparent;\n",
              "      border-bottom-color: var(--fill-color);\n",
              "    }\n",
              "  }\n",
              "</style>\n",
              "\n",
              "  <script>\n",
              "    async function quickchart(key) {\n",
              "      const quickchartButtonEl =\n",
              "        document.querySelector('#' + key + ' button');\n",
              "      quickchartButtonEl.disabled = true;  // To prevent multiple clicks.\n",
              "      quickchartButtonEl.classList.add('colab-df-spinner');\n",
              "      try {\n",
              "        const charts = await google.colab.kernel.invokeFunction(\n",
              "            'suggestCharts', [key], {});\n",
              "      } catch (error) {\n",
              "        console.error('Error during call to suggestCharts:', error);\n",
              "      }\n",
              "      quickchartButtonEl.classList.remove('colab-df-spinner');\n",
              "      quickchartButtonEl.classList.add('colab-df-quickchart-complete');\n",
              "    }\n",
              "    (() => {\n",
              "      let quickchartButtonEl =\n",
              "        document.querySelector('#df-ffbfed2e-ed33-4d9c-913c-ae3f8f71d329 button');\n",
              "      quickchartButtonEl.style.display =\n",
              "        google.colab.kernel.accessAllowed ? 'block' : 'none';\n",
              "    })();\n",
              "  </script>\n",
              "</div>\n",
              "\n",
              "    </div>\n",
              "  </div>\n"
            ],
            "application/vnd.google.colaboratory.intrinsic+json": {
              "type": "dataframe",
              "summary": "{\n  \"name\": \"df\",\n  \"rows\": 5,\n  \"fields\": [\n    {\n      \"column\": \"Unnamed: 0\",\n      \"properties\": {\n        \"dtype\": \"number\",\n        \"std\": 303,\n        \"min\": 77,\n        \"max\": 888,\n        \"num_unique_values\": 5,\n        \"samples\": [\n          77,\n          888,\n          715\n        ],\n        \"semantic_type\": \"\",\n        \"description\": \"\"\n      }\n    },\n    {\n      \"column\": \"PassengerId\",\n      \"properties\": {\n        \"dtype\": \"number\",\n        \"std\": 303,\n        \"min\": 78,\n        \"max\": 889,\n        \"num_unique_values\": 5,\n        \"samples\": [\n          78,\n          889,\n          716\n        ],\n        \"semantic_type\": \"\",\n        \"description\": \"\"\n      }\n    },\n    {\n      \"column\": \"Survived\",\n      \"properties\": {\n        \"dtype\": \"number\",\n        \"std\": 0,\n        \"min\": 0,\n        \"max\": 1,\n        \"num_unique_values\": 2,\n        \"samples\": [\n          0,\n          1\n        ],\n        \"semantic_type\": \"\",\n        \"description\": \"\"\n      }\n    },\n    {\n      \"column\": \"Pclass\",\n      \"properties\": {\n        \"dtype\": \"number\",\n        \"std\": 0,\n        \"min\": 3,\n        \"max\": 3,\n        \"num_unique_values\": 1,\n        \"samples\": [\n          3\n        ],\n        \"semantic_type\": \"\",\n        \"description\": \"\"\n      }\n    },\n    {\n      \"column\": \"Name\",\n      \"properties\": {\n        \"dtype\": \"string\",\n        \"num_unique_values\": 5,\n        \"samples\": [\n          \"Moutal, Mr. Rahamin Haim\"\n        ],\n        \"semantic_type\": \"\",\n        \"description\": \"\"\n      }\n    },\n    {\n      \"column\": \"Sex\",\n      \"properties\": {\n        \"dtype\": \"category\",\n        \"num_unique_values\": 2,\n        \"samples\": [\n          \"female\"\n        ],\n        \"semantic_type\": \"\",\n        \"description\": \"\"\n      }\n    },\n    {\n      \"column\": \"Age\",\n      \"properties\": {\n        \"dtype\": \"number\",\n        \"std\": 1.0,\n        \"min\": 19.0,\n        \"max\": 21.0,\n        \"num_unique_values\": 3,\n        \"samples\": [\n          20.0\n        ],\n        \"semantic_type\": \"\",\n        \"description\": \"\"\n      }\n    },\n    {\n      \"column\": \"SibSp\",\n      \"properties\": {\n        \"dtype\": \"category\",\n        \"num_unique_values\": 2,\n        \"samples\": [\n          \"0\"\n        ],\n        \"semantic_type\": \"\",\n        \"description\": \"\"\n      }\n    },\n    {\n      \"column\": \"Parch\",\n      \"properties\": {\n        \"dtype\": \"number\",\n        \"std\": 0,\n        \"min\": 0,\n        \"max\": 2,\n        \"num_unique_values\": 3,\n        \"samples\": [\n          1\n        ],\n        \"semantic_type\": \"\",\n        \"description\": \"\"\n      }\n    },\n    {\n      \"column\": \"Ticket\",\n      \"properties\": {\n        \"dtype\": \"string\",\n        \"num_unique_values\": 5,\n        \"samples\": [\n          \"374746\"\n        ],\n        \"semantic_type\": \"\",\n        \"description\": \"\"\n      }\n    },\n    {\n      \"column\": \"Fare\",\n      \"properties\": {\n        \"dtype\": \"string\",\n        \"num_unique_values\": 5,\n        \"samples\": [\n          \"$8.05\"\n        ],\n        \"semantic_type\": \"\",\n        \"description\": \"\"\n      }\n    },\n    {\n      \"column\": \"Cabin\",\n      \"properties\": {\n        \"dtype\": \"category\",\n        \"num_unique_values\": 1,\n        \"samples\": [\n          \"F G73\"\n        ],\n        \"semantic_type\": \"\",\n        \"description\": \"\"\n      }\n    },\n    {\n      \"column\": \"Embarked\",\n      \"properties\": {\n        \"dtype\": \"category\",\n        \"num_unique_values\": 2,\n        \"samples\": [\n          \"S\"\n        ],\n        \"semantic_type\": \"\",\n        \"description\": \"\"\n      }\n    }\n  ]\n}"
            }
          },
          "metadata": {},
          "execution_count": 16
        }
      ]
    },
    {
      "cell_type": "markdown",
      "source": [
        "- Display summary information (including dtypes, number of rows, number of columns).\n"
      ],
      "metadata": {
        "id": "tOL6ujJ4OS3r"
      }
    },
    {
      "cell_type": "code",
      "source": [
        "# Display the info for the dataframe\n",
        "df.info()"
      ],
      "metadata": {
        "id": "DEGSDXiZPAJX",
        "outputId": "fe926fcb-3544-44a3-ffd0-05626962a88c",
        "colab": {
          "base_uri": "https://localhost:8080/"
        }
      },
      "execution_count": 17,
      "outputs": [
        {
          "output_type": "stream",
          "name": "stdout",
          "text": [
            "<class 'pandas.core.frame.DataFrame'>\n",
            "RangeIndex: 906 entries, 0 to 905\n",
            "Data columns (total 13 columns):\n",
            " #   Column       Non-Null Count  Dtype  \n",
            "---  ------       --------------  -----  \n",
            " 0   Unnamed: 0   906 non-null    int64  \n",
            " 1   PassengerId  906 non-null    int64  \n",
            " 2   Survived     906 non-null    int64  \n",
            " 3   Pclass       906 non-null    int64  \n",
            " 4   Name         906 non-null    object \n",
            " 5   Sex          906 non-null    object \n",
            " 6   Age          723 non-null    float64\n",
            " 7   SibSp        906 non-null    object \n",
            " 8   Parch        906 non-null    int64  \n",
            " 9   Ticket       906 non-null    object \n",
            " 10  Fare         906 non-null    object \n",
            " 11  Cabin        207 non-null    object \n",
            " 12  Embarked     904 non-null    object \n",
            "dtypes: float64(1), int64(5), object(7)\n",
            "memory usage: 92.1+ KB\n"
          ]
        }
      ]
    },
    {
      "cell_type": "markdown",
      "source": [
        "**Scan the .info() to answer the following questions about the data:**\n",
        "\n",
        ">Add your answers in this Markdown cell, right below each question:\n",
        "\n",
        "**Q: A1) How many rows are there?**\n",
        "- Your Answer:\n",
        "  - 906\n",
        "\n",
        "**Q: A2) How many columns are there?**\n",
        "- Your Answer:\n",
        "  - 13\n"
      ],
      "metadata": {
        "id": "cUSQkg9hRTA2"
      }
    },
    {
      "cell_type": "markdown",
      "source": [
        "\n",
        "\n",
        "**Q: A3)How many numeric columns?**\n",
        "- Your Answer:\n",
        "  - 5\n",
        "\n",
        "**Q: A4) How many categorical/string columns are there (dtype='object')?**\n",
        "- Your Answer:\n",
        "  - 7"
      ],
      "metadata": {
        "id": "fQVpRuxM3t69"
      }
    },
    {
      "cell_type": "markdown",
      "source": [
        "## B) Check Data Types and Convert (if required)\n"
      ],
      "metadata": {
        "id": "t4VzfV4gitk5"
      }
    },
    {
      "cell_type": "markdown",
      "source": [
        "> Notice there are several columns with \"object\" datatype.\n",
        "\n",
        "- **Use select_dtypes to view only the object columns**\n"
      ],
      "metadata": {
        "id": "JGAppZRvaDeT"
      }
    },
    {
      "cell_type": "code",
      "source": [
        "\n",
        "object_columns = df.select_dtypes(include=['object']).columns\n",
        "print('\\nobject columns:\\n', object_columns)"
      ],
      "metadata": {
        "id": "-6i79G6eusbz",
        "outputId": "59464503-a7c3-46a0-d6e9-255aa79e83d4",
        "colab": {
          "base_uri": "https://localhost:8080/"
        }
      },
      "execution_count": 20,
      "outputs": [
        {
          "output_type": "stream",
          "name": "stdout",
          "text": [
            "\n",
            "object columns:\n",
            " Index(['Name', 'Sex', 'SibSp', 'Ticket', 'Fare', 'Cabin', 'Embarked'], dtype='object')\n"
          ]
        }
      ]
    },
    {
      "cell_type": "markdown",
      "source": [
        "- Inspect the values in each column to confirm if they should be converted to numeric dtypes and answer the following questions:\n"
      ],
      "metadata": {
        "id": "o83V70CV4MRf"
      }
    },
    {
      "cell_type": "markdown",
      "source": [
        "\n",
        "\n",
        "**Q: B1) Which columns should be converted to a numeric dtype?**  (Hint: there are 2 columns that need to be converted)\n",
        "- **Your Answer:**\n",
        "  - Age\n",
        "  - Fare\n",
        "    \n",
        "\n",
        "\n"
      ],
      "metadata": {
        "id": "gdPhHusjebwy"
      }
    },
    {
      "cell_type": "markdown",
      "source": [
        "### Convert Dtypes"
      ],
      "metadata": {
        "id": "5qU24C-ihnQf"
      }
    },
    {
      "cell_type": "code",
      "source": [
        "df['Age'] = df['Age'].astype(int)\n",
        "print(df)\n",
        "df['Age'].dtype"
      ],
      "metadata": {
        "id": "sg-kUZfj0ye7"
      },
      "execution_count": null,
      "outputs": []
    },
    {
      "cell_type": "markdown",
      "source": [
        "#### Convert Fare"
      ],
      "metadata": {
        "id": "_H10qEVR5epj"
      }
    },
    {
      "cell_type": "code",
      "source": [
        "df['Fare'] = df['Fare'].astype(int)\n",
        "print(df)\n",
        "df['Fare'].dtype"
      ],
      "metadata": {
        "id": "gVYgoPjO1gPj"
      },
      "execution_count": null,
      "outputs": []
    },
    {
      "cell_type": "code",
      "source": [
        "# Inspect the Fare column's value counts\n",
        "import numpy as np\n",
        "print(df.count(axis = 1))\n",
        "\n",
        "print(df.count(axis = 'Fare'))"
      ],
      "metadata": {
        "id": "3Zg54AwUjmRi",
        "outputId": "695c721f-df76-405f-e61d-780bfedde3c0",
        "colab": {
          "base_uri": "https://localhost:8080/",
          "height": 617
        }
      },
      "execution_count": 38,
      "outputs": [
        {
          "output_type": "stream",
          "name": "stdout",
          "text": [
            "0      12\n",
            "1      13\n",
            "2      12\n",
            "3      13\n",
            "4      12\n",
            "       ..\n",
            "901    12\n",
            "902    11\n",
            "903    13\n",
            "904    12\n",
            "905    11\n",
            "Length: 906, dtype: int64\n"
          ]
        },
        {
          "output_type": "error",
          "ename": "ValueError",
          "evalue": "No axis named Fare for object type DataFrame",
          "traceback": [
            "\u001b[0;31m---------------------------------------------------------------------------\u001b[0m",
            "\u001b[0;31mKeyError\u001b[0m                                  Traceback (most recent call last)",
            "\u001b[0;32m/usr/local/lib/python3.10/dist-packages/pandas/core/generic.py\u001b[0m in \u001b[0;36m_get_axis_number\u001b[0;34m(cls, axis)\u001b[0m\n\u001b[1;32m    553\u001b[0m         \u001b[0;32mtry\u001b[0m\u001b[0;34m:\u001b[0m\u001b[0;34m\u001b[0m\u001b[0;34m\u001b[0m\u001b[0m\n\u001b[0;32m--> 554\u001b[0;31m             \u001b[0;32mreturn\u001b[0m \u001b[0mcls\u001b[0m\u001b[0;34m.\u001b[0m\u001b[0m_AXIS_TO_AXIS_NUMBER\u001b[0m\u001b[0;34m[\u001b[0m\u001b[0maxis\u001b[0m\u001b[0;34m]\u001b[0m\u001b[0;34m\u001b[0m\u001b[0;34m\u001b[0m\u001b[0m\n\u001b[0m\u001b[1;32m    555\u001b[0m         \u001b[0;32mexcept\u001b[0m \u001b[0mKeyError\u001b[0m\u001b[0;34m:\u001b[0m\u001b[0;34m\u001b[0m\u001b[0;34m\u001b[0m\u001b[0m\n",
            "\u001b[0;31mKeyError\u001b[0m: 'Fare'",
            "\nDuring handling of the above exception, another exception occurred:\n",
            "\u001b[0;31mValueError\u001b[0m                                Traceback (most recent call last)",
            "\u001b[0;32m<ipython-input-38-e3fbb72f9f9d>\u001b[0m in \u001b[0;36m<cell line: 5>\u001b[0;34m()\u001b[0m\n\u001b[1;32m      3\u001b[0m \u001b[0mprint\u001b[0m\u001b[0;34m(\u001b[0m\u001b[0mdf\u001b[0m\u001b[0;34m.\u001b[0m\u001b[0mcount\u001b[0m\u001b[0;34m(\u001b[0m\u001b[0maxis\u001b[0m \u001b[0;34m=\u001b[0m \u001b[0;36m1\u001b[0m\u001b[0;34m)\u001b[0m\u001b[0;34m)\u001b[0m\u001b[0;34m\u001b[0m\u001b[0;34m\u001b[0m\u001b[0m\n\u001b[1;32m      4\u001b[0m \u001b[0;34m\u001b[0m\u001b[0m\n\u001b[0;32m----> 5\u001b[0;31m \u001b[0mprint\u001b[0m\u001b[0;34m(\u001b[0m\u001b[0mdf\u001b[0m\u001b[0;34m.\u001b[0m\u001b[0mcount\u001b[0m\u001b[0;34m(\u001b[0m\u001b[0maxis\u001b[0m \u001b[0;34m=\u001b[0m \u001b[0;34m'Fare'\u001b[0m\u001b[0;34m)\u001b[0m\u001b[0;34m)\u001b[0m\u001b[0;34m\u001b[0m\u001b[0;34m\u001b[0m\u001b[0m\n\u001b[0m",
            "\u001b[0;32m/usr/local/lib/python3.10/dist-packages/pandas/core/frame.py\u001b[0m in \u001b[0;36mcount\u001b[0;34m(self, axis, level, numeric_only)\u001b[0m\n\u001b[1;32m  10689\u001b[0m         \u001b[0mdtype\u001b[0m\u001b[0;34m:\u001b[0m \u001b[0mint64\u001b[0m\u001b[0;34m\u001b[0m\u001b[0;34m\u001b[0m\u001b[0m\n\u001b[1;32m  10690\u001b[0m         \"\"\"\n\u001b[0;32m> 10691\u001b[0;31m         \u001b[0maxis\u001b[0m \u001b[0;34m=\u001b[0m \u001b[0mself\u001b[0m\u001b[0;34m.\u001b[0m\u001b[0m_get_axis_number\u001b[0m\u001b[0;34m(\u001b[0m\u001b[0maxis\u001b[0m\u001b[0;34m)\u001b[0m\u001b[0;34m\u001b[0m\u001b[0;34m\u001b[0m\u001b[0m\n\u001b[0m\u001b[1;32m  10692\u001b[0m         \u001b[0;32mif\u001b[0m \u001b[0mlevel\u001b[0m \u001b[0;32mis\u001b[0m \u001b[0;32mnot\u001b[0m \u001b[0;32mNone\u001b[0m\u001b[0;34m:\u001b[0m\u001b[0;34m\u001b[0m\u001b[0;34m\u001b[0m\u001b[0m\n\u001b[1;32m  10693\u001b[0m             warnings.warn(\n",
            "\u001b[0;32m/usr/local/lib/python3.10/dist-packages/pandas/core/generic.py\u001b[0m in \u001b[0;36m_get_axis_number\u001b[0;34m(cls, axis)\u001b[0m\n\u001b[1;32m    554\u001b[0m             \u001b[0;32mreturn\u001b[0m \u001b[0mcls\u001b[0m\u001b[0;34m.\u001b[0m\u001b[0m_AXIS_TO_AXIS_NUMBER\u001b[0m\u001b[0;34m[\u001b[0m\u001b[0maxis\u001b[0m\u001b[0;34m]\u001b[0m\u001b[0;34m\u001b[0m\u001b[0;34m\u001b[0m\u001b[0m\n\u001b[1;32m    555\u001b[0m         \u001b[0;32mexcept\u001b[0m \u001b[0mKeyError\u001b[0m\u001b[0;34m:\u001b[0m\u001b[0;34m\u001b[0m\u001b[0;34m\u001b[0m\u001b[0m\n\u001b[0;32m--> 556\u001b[0;31m             \u001b[0;32mraise\u001b[0m \u001b[0mValueError\u001b[0m\u001b[0;34m(\u001b[0m\u001b[0;34mf\"No axis named {axis} for object type {cls.__name__}\"\u001b[0m\u001b[0;34m)\u001b[0m\u001b[0;34m\u001b[0m\u001b[0;34m\u001b[0m\u001b[0m\n\u001b[0m\u001b[1;32m    557\u001b[0m \u001b[0;34m\u001b[0m\u001b[0m\n\u001b[1;32m    558\u001b[0m     \u001b[0;34m@\u001b[0m\u001b[0mfinal\u001b[0m\u001b[0;34m\u001b[0m\u001b[0;34m\u001b[0m\u001b[0m\n",
            "\u001b[0;31mValueError\u001b[0m: No axis named Fare for object type DataFrame"
          ]
        }
      ]
    },
    {
      "cell_type": "markdown",
      "source": [
        "\n",
        "\n",
        ">In a Markdown cell below your displayed info, answer the following questions:\n",
        "\n",
        "**Q: B2)  Do you see any values that are string characters that need to be replaced?**\n",
        "- Your Answer:\n",
        "  - Yes\n",
        "\n",
        "**Q: B3) If so, do you need to replace a single part of a string (`df[col].str.replace`) or an entire value (`df[col].replace`)?**\n",
        "- Your Answer:\n",
        "  - `...`"
      ],
      "metadata": {
        "id": "YI4YFIdT4vc3"
      }
    },
    {
      "cell_type": "markdown",
      "source": [
        "**Perform the necessary steps to convert to numeric dtype:**\n",
        "\n",
        "- 1) Replace/remove the non-numeric values."
      ],
      "metadata": {
        "id": "vk5cvcFQ5DAO"
      }
    },
    {
      "cell_type": "code",
      "source": [
        "# Remove  the \"$\" from fare column by replacing it with nothing\n",
        "\n",
        "# Check the .value_counts to confirm the change\n"
      ],
      "metadata": {
        "id": "lsxVIzhkcYxM"
      },
      "execution_count": null,
      "outputs": []
    },
    {
      "cell_type": "markdown",
      "source": [
        "\n",
        "- 2) Convert the column to a float dtype."
      ],
      "metadata": {
        "id": "MklbU8IL5I3N"
      }
    },
    {
      "cell_type": "code",
      "source": [
        "# Change the datatype of Fare column to float\n",
        "\n",
        "# Confirm the datatype\n"
      ],
      "metadata": {
        "id": "zFqIHDCfjr-6"
      },
      "execution_count": null,
      "outputs": []
    },
    {
      "cell_type": "markdown",
      "source": [
        "#### Convert SibSp"
      ],
      "metadata": {
        "id": "RXLzjUPh5pDG"
      }
    },
    {
      "cell_type": "code",
      "source": [
        "# Inspect the Sibsp column's value counts\n"
      ],
      "metadata": {
        "id": "RYgkzF9G8NCU"
      },
      "execution_count": null,
      "outputs": []
    },
    {
      "cell_type": "markdown",
      "source": [
        ">In a Markdown cell below your displayed info, answer the following questions:\n",
        "\n",
        "**Q: B3)  Do you see any values that are string characters that need to be replaced?**\n",
        "- Your Answer:\n",
        "  - `...`\n",
        "\n",
        "**Q: B4) If so, do you need to replace a single part of a string (`df[col].str.replace`) or an entire value (`df[col].replace`)?**\n",
        "- Your Answer:\n",
        "  - `...`"
      ],
      "metadata": {
        "id": "lgk9SrtT5z_i"
      }
    },
    {
      "cell_type": "markdown",
      "source": [
        "**Perform the necessary steps to convert to numeric dtype:**\n",
        "\n",
        "- 1) Replace/remove the non-numeric values."
      ],
      "metadata": {
        "id": "3CpEwTet5z_i"
      }
    },
    {
      "cell_type": "code",
      "source": [
        "# There are 3 values of \"one\" which should be replaced with \"1\"\n",
        "\n",
        "# Display the value counts again to confirm the change\n"
      ],
      "metadata": {
        "id": "MjtCtcwHDbXn"
      },
      "execution_count": null,
      "outputs": []
    },
    {
      "cell_type": "markdown",
      "source": [
        "\n",
        "- 2) Convert the column to a float dtype."
      ],
      "metadata": {
        "id": "ZgUDCoEN6PF3"
      }
    },
    {
      "cell_type": "code",
      "source": [
        "# Convert the SibSp column to integer dtype\n",
        "\n",
        "# Confirm the datatype\n"
      ],
      "metadata": {
        "id": "n7Eav1piERbn"
      },
      "execution_count": null,
      "outputs": []
    },
    {
      "cell_type": "markdown",
      "source": [
        "## C) Drop Unwanted Columns"
      ],
      "metadata": {
        "id": "2WJJo4vOjH6x"
      }
    },
    {
      "cell_type": "markdown",
      "source": [
        "- Drop the 'Unnamed: 0' column because it is an error"
      ],
      "metadata": {
        "id": "V_8w1txa7ujq"
      }
    },
    {
      "cell_type": "code",
      "source": [
        "# Drop the Unnamed: 0 column\n",
        "\n",
        "\n",
        "# Display the .head to confirm the change\n"
      ],
      "metadata": {
        "id": "LEe3645pcur8"
      },
      "execution_count": null,
      "outputs": []
    },
    {
      "cell_type": "markdown",
      "source": [
        "## D) Rename Columns\n",
        "(that have Confusing/Abbreviated Column Names)"
      ],
      "metadata": {
        "id": "EXeneBJmkrAY"
      }
    },
    {
      "cell_type": "markdown",
      "source": [
        "In the cell below:\n",
        "- Rename the SibSp column as \"Siblings or Spouses\"\n",
        "- Rename the Parch as \"Parents or Children\""
      ],
      "metadata": {
        "id": "cs4FEKt-ZcH9"
      }
    },
    {
      "cell_type": "code",
      "source": [
        "# Create a dictionary called rename_dict\n",
        "# with current column names as keys\n",
        "# and new replacement names as the values.\n"
      ],
      "metadata": {
        "id": "lqj9wSk_k3ir"
      },
      "execution_count": null,
      "outputs": []
    },
    {
      "cell_type": "code",
      "source": [
        "# Use the rename_dict to change the column names in the dataframe\n",
        "\n",
        "# Check the .head() to confirm the nams changed.\n"
      ],
      "metadata": {
        "id": "dg0nDjFnlBuc"
      },
      "execution_count": null,
      "outputs": []
    },
    {
      "cell_type": "markdown",
      "source": [
        "## E) Duplicate Rows"
      ],
      "metadata": {
        "id": "ZaBNjMzRo2cC"
      }
    },
    {
      "cell_type": "markdown",
      "source": [
        "### Identifying Duplicates"
      ],
      "metadata": {
        "id": "Acd0kjkTk5Ze"
      }
    },
    {
      "cell_type": "markdown",
      "source": [
        "\n",
        "- Use `df.duplicated` to identify if there are any duplicate rows in the data.\n"
      ],
      "metadata": {
        "id": "TovjTuK97H1n"
      }
    },
    {
      "cell_type": "code",
      "source": [
        "# Save a filter called \"duplicated_rows\" that identifies duplicated rows\n",
        "\n",
        "\n",
        "# Get the sum of duplicated_rows filter to see the number of duplicate rows\n"
      ],
      "metadata": {
        "id": "ND4i3S6wo2Ge"
      },
      "execution_count": null,
      "outputs": []
    },
    {
      "cell_type": "markdown",
      "source": [
        "\n",
        "**Q: E1) How many duplicate rows are in the data?**\n",
        "- Your Answer:\n",
        "  - `...`"
      ],
      "metadata": {
        "id": "9pnXXJ3wCLXL"
      }
    },
    {
      "cell_type": "markdown",
      "source": [
        "  \n",
        "- Visualize all copies of the duplicate rows using df.duplicated(keep=False).\n",
        "  - Sort the rows by the PassengerID column to view duplicate rows together."
      ],
      "metadata": {
        "id": "0urshZJz7I0A"
      }
    },
    {
      "cell_type": "code",
      "source": [
        "# Save a new filter called \"duplicated_rows_all\" that identifies ALL\n",
        "# of the duplicated rows (including the first). Hint: use the \"keep\" argument.\n",
        "\n",
        "\n",
        "# Calculate the sum of the duplicated_rows_all filter\n"
      ],
      "metadata": {
        "id": "g0H7EGf219mK"
      },
      "execution_count": null,
      "outputs": []
    },
    {
      "cell_type": "code",
      "source": [
        "# View all duplicated rows using your duplicated_rows_all filter\n",
        "# Sort by PassengerId\n"
      ],
      "metadata": {
        "id": "M8uqlb9SpWGV"
      },
      "execution_count": null,
      "outputs": []
    },
    {
      "cell_type": "code",
      "source": [
        "# Drop duplicates (but keep the first!)\n",
        "\n",
        "# Obtain the sum of duplicated to confirm all have been dropped\n"
      ],
      "metadata": {
        "id": "Hu7Q0QBBrZ6-"
      },
      "execution_count": null,
      "outputs": []
    },
    {
      "cell_type": "markdown",
      "source": [
        "## F) Unique Identifiers\n",
        "- Find and Drop Columns with Unique Values for Every Row."
      ],
      "metadata": {
        "id": "-sRW92--vM9d"
      }
    },
    {
      "cell_type": "code",
      "source": [
        "# Use .nunqiue() to get # of unique values for each column and save as a variable.\n"
      ],
      "metadata": {
        "id": "tckYwylSrnfv"
      },
      "execution_count": null,
      "outputs": []
    },
    {
      "cell_type": "code",
      "source": [
        "# Use the result to determine if any of the columns have 100% unique values.\n"
      ],
      "metadata": {
        "id": "T8AYpVW_sLwi"
      },
      "execution_count": null,
      "outputs": []
    },
    {
      "cell_type": "markdown",
      "source": [
        "**Q: F1) Which 2 features have 100% unique values in every row?**\n",
        "- Your Answer:\n",
        "  - Column 1: `...`\n",
        "  - Column 2: `...`\n",
        "\n"
      ],
      "metadata": {
        "id": "dY46t6uLwkLK"
      }
    },
    {
      "cell_type": "markdown",
      "source": [
        "\n",
        ">Generally, a column that is NOT the index, and has a unique value for each row will not be helpful for analysis and should be dropped from the data.\n",
        "\n",
        "- Inspect the two columns with 100% unique values:\n"
      ],
      "metadata": {
        "id": "AjlG5kS5wloA"
      }
    },
    {
      "cell_type": "code",
      "source": [
        "# Slice the two columns with 100% unique values to view\n"
      ],
      "metadata": {
        "id": "e3ufz9Ja8E-A"
      },
      "execution_count": null,
      "outputs": []
    },
    {
      "cell_type": "markdown",
      "source": [
        "\n",
        "- **Of the two columns with 100% unique values:**\n",
        "  - Set the numeric column as the DataFrame's index.\n",
        "  - Drop the string column from the DataFrame.\n"
      ],
      "metadata": {
        "id": "UJKNjv2s8C4-"
      }
    },
    {
      "cell_type": "code",
      "source": [
        "# Set the numeric column as the DataFrame's index.\n"
      ],
      "metadata": {
        "id": "o9CdeowaPKBr"
      },
      "execution_count": null,
      "outputs": []
    },
    {
      "cell_type": "code",
      "source": [
        "# Drop the string column from the DataFrame.\n"
      ],
      "metadata": {
        "id": "qWFEp-0mIJPS"
      },
      "execution_count": null,
      "outputs": []
    },
    {
      "cell_type": "markdown",
      "source": [
        "___"
      ],
      "metadata": {
        "id": "nJhExoQOngnU"
      }
    },
    {
      "cell_type": "markdown",
      "source": [
        "## G) Missing Values"
      ],
      "metadata": {
        "id": "ALkAT9sjg4Ki"
      }
    },
    {
      "cell_type": "code",
      "source": [
        "# Get the number of null values for all columns and save as a variable\n"
      ],
      "metadata": {
        "id": "U-4SuxM_8zpR"
      },
      "execution_count": null,
      "outputs": []
    },
    {
      "cell_type": "code",
      "source": [
        "# Use this result to calculate the percentage of null values for each column.\n"
      ],
      "metadata": {
        "id": "qiuyojKC9CSj"
      },
      "execution_count": null,
      "outputs": []
    },
    {
      "cell_type": "code",
      "source": [
        "# Visualize the missing values using the missingno package's matrix plot.\n"
      ],
      "metadata": {
        "id": "HnosP_kkg8pZ"
      },
      "execution_count": null,
      "outputs": []
    },
    {
      "cell_type": "markdown",
      "source": [
        "#### Address the null values:\n",
        "\n",
        "- Fill the null values in categorical columns with a placeholder category called MISSING.\n"
      ],
      "metadata": {
        "id": "fOFhPHaP9uEI"
      }
    },
    {
      "cell_type": "code",
      "source": [
        "# save list of categorical column name. (Hint: select_dtypes)\n"
      ],
      "metadata": {
        "id": "wHMxb7Dn9t5M"
      },
      "execution_count": null,
      "outputs": []
    },
    {
      "cell_type": "code",
      "source": [
        "# use the list of cat columns to fill null values with MISSING\n"
      ],
      "metadata": {
        "id": "9KPnBQXo985l"
      },
      "execution_count": null,
      "outputs": []
    },
    {
      "cell_type": "markdown",
      "source": [
        "\n",
        "- Fill the null values in numeric columns with a placeholder value of -1\n",
        "\n"
      ],
      "metadata": {
        "id": "14JJ4da790lP"
      }
    },
    {
      "cell_type": "code",
      "source": [
        "# save list of numeric column names (Hint: select_dtypes)\n"
      ],
      "metadata": {
        "id": "ke8Ykwqk-FpT"
      },
      "execution_count": null,
      "outputs": []
    },
    {
      "cell_type": "code",
      "source": [
        "# use the list of num columns to fill null values with -1\n"
      ],
      "metadata": {
        "id": "eEML0ii--JqR"
      },
      "execution_count": null,
      "outputs": []
    },
    {
      "cell_type": "markdown",
      "source": [
        "- Use either missingno's matrix plot or Pandas to confirm that there are 0 null values remaining.\n"
      ],
      "metadata": {
        "id": "e9-VpWlI-P9U"
      }
    },
    {
      "cell_type": "code",
      "source": [
        "# Confirm no more nulls using Pandas\n"
      ],
      "metadata": {
        "id": "XHFu09ww-TUB"
      },
      "execution_count": null,
      "outputs": []
    },
    {
      "cell_type": "code",
      "source": [
        "# Confirm no more nulls using using missingno\n"
      ],
      "metadata": {
        "id": "p99EtFE1-Qi5"
      },
      "execution_count": null,
      "outputs": []
    },
    {
      "cell_type": "markdown",
      "source": [
        "## H) Consistent Values"
      ],
      "metadata": {
        "id": "P4Q29-E1sinl"
      }
    },
    {
      "cell_type": "markdown",
      "source": [
        "- Check each string column's value counts for inconsistent values.\n",
        "  - E.g. \"Cat\" vs \"cat\", \"Y\" vs. \"Yes\"\n"
      ],
      "metadata": {
        "id": "nGwnkZUp_EkH"
      }
    },
    {
      "cell_type": "markdown",
      "source": [
        "\n",
        "- Fix/replace the inconsistent values with the values you believe are correct.\n",
        "\n",
        "\n",
        "- Display the value_counts again to confirm the values are now consistent.\n",
        "  "
      ],
      "metadata": {
        "id": "u6BgPQTMCRJU"
      }
    },
    {
      "cell_type": "code",
      "source": [
        "# Save a list of object columns (Hint: select_dtypes)\n"
      ],
      "metadata": {
        "id": "ldZvXpS4sk_R"
      },
      "execution_count": null,
      "outputs": []
    },
    {
      "cell_type": "code",
      "source": [
        "# Check the nunique for just the object cols\n"
      ],
      "metadata": {
        "id": "LTsmcfwPBBkE"
      },
      "execution_count": null,
      "outputs": []
    },
    {
      "cell_type": "markdown",
      "source": [
        "- Note that out of the 4 categorical columns remaining:\n",
        "  - 2 columns have a small number of categories  (Sex and Embarked)\n",
        "  - 2 columns have over 100 categories (Ticket and Cabin).\n",
        "\n",
        "- We do not want to keep categorical features with so many categories.\n",
        "\n",
        "\n",
        "- **Drop the Ticket column and Cabin column.**"
      ],
      "metadata": {
        "id": "7uYkMA3wBR_c"
      }
    },
    {
      "cell_type": "code",
      "source": [
        "# Drop the columns listed above\n"
      ],
      "metadata": {
        "id": "rdJrpA81CA9x"
      },
      "execution_count": null,
      "outputs": []
    },
    {
      "cell_type": "markdown",
      "source": [
        "### For Each Remaining Categorical Column:\n",
        "\n",
        "- Display the value counts for the column\n",
        "- Take a note of any values that are not consistent.\n",
        "- Remove/fix the inconsistent values\n",
        "- Confirm by checking the value counts again"
      ],
      "metadata": {
        "id": "XYPnIB_bCKPH"
      }
    },
    {
      "cell_type": "code",
      "source": [
        "# Remake the list of string columns (after dropping previous cols)\n",
        "\n",
        "# loop through the list of string columns\n",
        "\n",
        "  # print the value counts for the column\n",
        "\n",
        "  # Print an empty line for readability\n",
        ""
      ],
      "metadata": {
        "id": "7zcVvQC0_Mp_"
      },
      "execution_count": null,
      "outputs": []
    },
    {
      "cell_type": "markdown",
      "source": [
        "**Q: H1) Which columns have inconsistent values that need to be addressed?**\n",
        "- Your Answer:\n",
        "  - `...`\n",
        "  - `...`"
      ],
      "metadata": {
        "id": "8nihiReBDuF8"
      }
    },
    {
      "cell_type": "markdown",
      "source": [
        "### Checking & Fixing Consistency: Column 1"
      ],
      "metadata": {
        "id": "W4Ql95JPCwTc"
      }
    },
    {
      "cell_type": "code",
      "source": [
        "# Check for inconsistencies by inspecting the value_counts for Embarked\n"
      ],
      "metadata": {
        "id": "61tBYCkPwb5_"
      },
      "execution_count": null,
      "outputs": []
    },
    {
      "cell_type": "code",
      "source": [
        "# Replace \"Queenstown\" with \"Q\"\n",
        "\n",
        "# Check the value counts again to confirm\n"
      ],
      "metadata": {
        "id": "BJehF4pK5HOi"
      },
      "execution_count": null,
      "outputs": []
    },
    {
      "cell_type": "markdown",
      "source": [
        "### Checking and Fixing Consistency: Column 2"
      ],
      "metadata": {
        "id": "Pb__EAJ3C3ir"
      }
    },
    {
      "cell_type": "code",
      "source": [
        "# # Check for inconsistencies by inspecting the values_counts for Sex\n"
      ],
      "metadata": {
        "id": "lSqM-GyPs4BR"
      },
      "execution_count": null,
      "outputs": []
    },
    {
      "cell_type": "code",
      "source": [
        "# Replace \"F\" with \"female\"\n",
        "\n",
        "\n",
        "# Check the value counts again to confirm\n"
      ],
      "metadata": {
        "id": "CyH6LiU9wYOR"
      },
      "execution_count": null,
      "outputs": []
    },
    {
      "cell_type": "markdown",
      "source": [
        "## I) Save the Final DataFrame to Csv"
      ],
      "metadata": {
        "id": "pp4pJayZAJjv"
      }
    },
    {
      "cell_type": "markdown",
      "source": [
        "- Save the cleaned DataFrame to your Google Drive in the CodingDojo>  01-Fundamentals> Week02>Data folder.\n",
        "  - Name the file \"data-cleaning-core.csv\"\n"
      ],
      "metadata": {
        "id": "yYQEFYlcAL2K"
      }
    },
    {
      "cell_type": "code",
      "source": [
        "# Save the folder + filename as a variable called fpath\n",
        "\n",
        "\n",
        "# Use to_csv to save the dataframe using the filename\n"
      ],
      "metadata": {
        "id": "DmeXHDo6AQLp"
      },
      "execution_count": null,
      "outputs": []
    },
    {
      "cell_type": "markdown",
      "source": [
        "- Confirm the data was saved correctly."
      ],
      "metadata": {
        "id": "FScEO0F0Amwh"
      }
    },
    {
      "cell_type": "code",
      "source": [
        "# Read in your new .csv file with Pandas.\n",
        "\n",
        "# Display the info summary.\n",
        "\n",
        "# Display the first 5 rows.\n"
      ],
      "metadata": {
        "id": "YmxIv8rBApEW"
      },
      "execution_count": null,
      "outputs": []
    },
    {
      "cell_type": "markdown",
      "source": [
        "### Save and Submit your work\n",
        "\n",
        "When the assignment is complete, download your notebook as a .ipynb file and submit it on the learning platform.  "
      ],
      "metadata": {
        "id": "KTxksnlTBQgE"
      }
    }
  ]
}