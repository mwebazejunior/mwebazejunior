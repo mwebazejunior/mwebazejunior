{
  "nbformat": 4,
  "nbformat_minor": 0,
  "metadata": {
    "colab": {
      "provenance": [],
      "include_colab_link": true
    },
    "kernelspec": {
      "name": "python3",
      "display_name": "Python 3"
    },
    "language_info": {
      "name": "python"
    }
  },
  "cells": [
    {
      "cell_type": "markdown",
      "metadata": {
        "id": "view-in-github",
        "colab_type": "text"
      },
      "source": [
        "<a href=\"https://colab.research.google.com/github/mwebazejunior/mwebazejunior/blob/main/Practice_Lists_and_Tuples3.ipynb\" target=\"_parent\"><img src=\"https://colab.research.google.com/assets/colab-badge.svg\" alt=\"Open In Colab\"/></a>"
      ]
    },
    {
      "cell_type": "markdown",
      "source": [
        "# Lists and Tuples"
      ],
      "metadata": {
        "id": "eyLJH2OFOtxy"
      }
    },
    {
      "cell_type": "markdown",
      "source": [
        "# Lists\n",
        "\n",
        "## Turtle Racing\n",
        "\n",
        "Longville, MN holds turtle races each summer.  Prizes are given out for the fastest and slowest turtles.\n"
      ],
      "metadata": {
        "id": "vmBZ_iwwSVk5"
      }
    },
    {
      "cell_type": "markdown",
      "source": [
        "##1. Create a list\n",
        "Let's make a list of turtles in the order that they crossed the finish line. Remember, lists are surrounded by square brackets [ ]."
      ],
      "metadata": {
        "id": "qDWKi2akmXMC"
      }
    },
    {
      "cell_type": "code",
      "source": [
        "# Make a list of the first turtles to finish\n",
        "# Run this code without making any changes\n",
        "race_finishers = ['Speedy', 'Sparkles', 'Little Foot', 'Spike', 'Greg the Destroyer']"
      ],
      "metadata": {
        "id": "MrOFfEu7fdJ8"
      },
      "execution_count": 1,
      "outputs": []
    },
    {
      "cell_type": "code",
      "source": [
        "# print the list\n",
        "print(race_finishers)"
      ],
      "metadata": {
        "id": "f70T3EFNf89v",
        "colab": {
          "base_uri": "https://localhost:8080/"
        },
        "outputId": "9d987ff8-b0e4-44ee-f2f3-bd5c26e1bc76"
      },
      "execution_count": 2,
      "outputs": [
        {
          "output_type": "stream",
          "name": "stdout",
          "text": [
            "['Speedy', 'Sparkles', 'Little Foot', 'Spike', 'Greg the Destroyer']\n"
          ]
        }
      ]
    },
    {
      "cell_type": "markdown",
      "source": [
        "##2. Append an item to a list\n",
        "Finally! The final turtle named Slowpoke just finished so add them to the list using .append()\n"
      ],
      "metadata": {
        "id": "pduxD3-JgE7e"
      }
    },
    {
      "cell_type": "code",
      "source": [
        "# Append 'Slowpoke' to the list\n",
        "race_finishers.append(\"Slowpoke\")\n",
        "print(race_finishers)\n"
      ],
      "metadata": {
        "id": "vWuWd4w_gEE8",
        "colab": {
          "base_uri": "https://localhost:8080/"
        },
        "outputId": "939ac1f3-4828-4fcc-9dfc-9a256ec75355"
      },
      "execution_count": 4,
      "outputs": [
        {
          "output_type": "stream",
          "name": "stdout",
          "text": [
            "['Speedy', 'Sparkles', 'Little Foot', 'Spike', 'Greg the Destroyer', 'Slowpoke', 'Slowpoke']\n"
          ]
        }
      ]
    },
    {
      "cell_type": "markdown",
      "source": [
        "##3. Use indexing with a list\n",
        "\n",
        "\n",
        "Indices in Python start counting from 0.  In the following cell, use list indexing to print the first place winner of the race.  The owner of that turtle will get a coupon for a free ice cream cone!\n",
        "\n",
        "Remember that you can index into a collection using brackets, like `collection[3]`.  Use this syntax to print the first racer in the `race_finishers` list."
      ],
      "metadata": {
        "id": "fYXNbbgIXK4I"
      }
    },
    {
      "cell_type": "markdown",
      "source": [
        "| Index           |   0    |    1     |     2       |   3   |         4          |    5     |\n",
        "|-----------------|--------|----------|-------------|-------|--------------------|----------|\n",
        "| race_winners =  | Speedy | Sparkles | Little Foot | Spike | Greg the Destroyer | Slowpoke |\n",
        "| Negative Index  |    -6    |    -5     |     -4       |    -3   |       -2          |     -1     |"
      ],
      "metadata": {
        "id": "mYd1qAVYAFV0"
      }
    },
    {
      "cell_type": "code",
      "source": [
        "# Print the first place finisher at index position 0\n"
      ],
      "metadata": {
        "id": "BwbiUhpeW-_m"
      },
      "execution_count": null,
      "outputs": []
    },
    {
      "cell_type": "markdown",
      "source": [
        "## 4. Use negative indexing with a list\n",
        "\n",
        "The owner of the slowest turtle will get a coupon for a free chocolate bar!  Remember that negative index numbers count backward from the end of the list. `collection[-3]` would return the 3rd from the last item from a collection.\n",
        "\n",
        "* Use negative indexing to print the last place racer in the `race_finishers` list.  "
      ],
      "metadata": {
        "id": "vKxzHXKgXcwa"
      }
    },
    {
      "cell_type": "code",
      "source": [
        "# Print the last place finisher at index position -1\n",
        "#index = race_finishers.index('Slowpoke')\n",
        "last_place =race_finishers[-1]\n",
        "print(last_place)"
      ],
      "metadata": {
        "id": "Q55nDWS-XGI3",
        "colab": {
          "base_uri": "https://localhost:8080/"
        },
        "outputId": "6dab3f58-d2b3-40c4-9fc2-047ba717b54f"
      },
      "execution_count": 18,
      "outputs": [
        {
          "output_type": "stream",
          "name": "stdout",
          "text": [
            "Slowpoke\n"
          ]
        }
      ]
    },
    {
      "cell_type": "code",
      "source": [
        "def last(race_finishers):\n",
        "    return race_finishers[-1]\n",
        "    print(last)"
      ],
      "metadata": {
        "id": "_zICzqjbxP38"
      },
      "execution_count": 21,
      "outputs": []
    },
    {
      "cell_type": "markdown",
      "source": [
        "## 5. Edit an item in a list\n",
        "\n",
        "We just found out that we got the name of the second place turtle wrong.  We wrote 'Sparkles' when it's name is actually 'Sparkly'  We can use indexing to change the second value in a list because lists are both ordered and mutable.  Remember the second value is race_finishers[1]"
      ],
      "metadata": {
        "id": "tNXGnzlln5ms"
      }
    },
    {
      "cell_type": "code",
      "source": [
        "# Change the name at index 2 to 'Sparkly'\n",
        "race_finishers[2]='Sparkly'\n",
        "\n",
        "# Print the updated list\n",
        "print(race_finishers)"
      ],
      "metadata": {
        "id": "vJ5pc8yboQXy",
        "colab": {
          "base_uri": "https://localhost:8080/"
        },
        "outputId": "994ddf36-b17f-4157-cd27-67805d1b0cb0"
      },
      "execution_count": 31,
      "outputs": [
        {
          "output_type": "stream",
          "name": "stdout",
          "text": [
            "['Speedy', 'Sparkles', 'Sparkly', 'Greg the Destroyer', 'Slowpoke', 'Slowpoke']\n"
          ]
        }
      ]
    },
    {
      "cell_type": "markdown",
      "source": [
        "##6. Remove an item from a list\n",
        "Oh no, it turns out Little Foot was disqaulified.  Use .remove() to remove him from the list."
      ],
      "metadata": {
        "id": "9hfl06OahviT"
      }
    },
    {
      "cell_type": "code",
      "source": [
        "# Remove Little Foot from the list\n",
        "race_finishers[2]='Little Foot'\n",
        "#race_finishers.remove(\"Little Foot\")\n",
        "\n",
        "# Print the updated list\n",
        "print(race_finishers)\n"
      ],
      "metadata": {
        "id": "LrXVYgvmhnrg",
        "colab": {
          "base_uri": "https://localhost:8080/"
        },
        "outputId": "950b3ce0-b985-4d82-abba-b3f663573e83"
      },
      "execution_count": 32,
      "outputs": [
        {
          "output_type": "stream",
          "name": "stdout",
          "text": [
            "['Speedy', 'Sparkles', 'Little Foot', 'Greg the Destroyer', 'Slowpoke', 'Slowpoke']\n"
          ]
        }
      ]
    },
    {
      "cell_type": "code",
      "source": [
        "race_finishers.remove(\"Little Foot\")\n",
        "\n",
        "# Print the updated list\n",
        "print(race_finishers)\n"
      ],
      "metadata": {
        "colab": {
          "base_uri": "https://localhost:8080/"
        },
        "id": "pr6HB_OZ3pVl",
        "outputId": "8731353b-c360-455e-975c-a4ffa7d05157"
      },
      "execution_count": 33,
      "outputs": [
        {
          "output_type": "stream",
          "name": "stdout",
          "text": [
            "['Speedy', 'Sparkles', 'Greg the Destroyer', 'Slowpoke', 'Slowpoke']\n"
          ]
        }
      ]
    },
    {
      "cell_type": "markdown",
      "source": [
        "# Tuples"
      ],
      "metadata": {
        "id": "FRo3qcAlcI4v"
      }
    },
    {
      "cell_type": "markdown",
      "source": [
        "## Costume Shop Resupply\n",
        "\n",
        "A costume shop is ordering merchandise to replenish their stock.  Some items sell out very quickly and others are not as popular.  The shop keep track of how many of each item sells and makes tuple of items in order of most popular to least popular.\n",
        "\n"
      ],
      "metadata": {
        "id": "ltbPs3qRlLdL"
      }
    },
    {
      "cell_type": "markdown",
      "source": [
        "## 7. Create a Tuple\n",
        "\n",
        "Remember tuples are surrounded by parenthesis. ()"
      ],
      "metadata": {
        "id": "OACRkwy7nqOK"
      }
    },
    {
      "cell_type": "code",
      "source": [
        "# Create a tuple of costume merchandise\n",
        "# Run this code cell without making any changes\n",
        "merchandise = ('Fangs', 'Tutus', 'Clown Noses', 'Scrubs', 'Cowboy Hats', 'Face Paint', 'Plastic Swords')"
      ],
      "metadata": {
        "id": "cG5zzDadbxLW"
      },
      "execution_count": 1,
      "outputs": []
    },
    {
      "cell_type": "markdown",
      "source": [
        "| Index          |   0   |    1  |     2       |   3    |         4   |    5       | 6              |\n",
        "|----------------|-------|-------|-------------|--------|-------------|------------|----------------|\n",
        "| merchandise =  | Fangs | Tutus | Clown Noses | Scrubs | Cowboy Hats | Face Paint | Plastic Swords |\n",
        "| Negative Index | -7    |   -6  |    -5       | -4     | -3          | -2         | -1             |"
      ],
      "metadata": {
        "id": "pxIvijkBCjtE"
      }
    },
    {
      "cell_type": "markdown",
      "source": [
        "##8. Slicing from the start of a tuple\n",
        "\n",
        "The shop wants to order plenty of their top 3 best sellers to make sure they keep them in stock.\n",
        "\n",
        "Slice into the `merchandise` tuple to return the first 3 elements of the tuple.  Remember:\n",
        "1. If there is no value before the colon the slice will begin at the beginning of the tuple (or list).  For example [0:3] can also be written as [:3]\n",
        "2. A slice **excludes** the index position after the colon."
      ],
      "metadata": {
        "id": "ewWVDhvAnjKs"
      }
    },
    {
      "cell_type": "code",
      "source": [
        "# define a variable called top_3 that includes only the first 3 objects in the merchandise tuple\n",
        "top_3=(merchandise[0:3])\n",
        "# print top_3\n",
        "print(top_3)"
      ],
      "metadata": {
        "id": "yiod1kLwnhzc",
        "colab": {
          "base_uri": "https://localhost:8080/"
        },
        "outputId": "655c3409-8030-4a6c-d61f-3d565064b846"
      },
      "execution_count": 7,
      "outputs": [
        {
          "output_type": "stream",
          "name": "stdout",
          "text": [
            "('Fangs', 'Tutus', 'Clown Noses')\n"
          ]
        }
      ]
    },
    {
      "cell_type": "markdown",
      "source": [
        "## 8. Slicing from the end of a tuple\n",
        "\n",
        "The shop wants to discontinue the two least popular items in the list.  \n",
        "\n",
        "* Slice into the `merchandise` tuple and return the last two elements.  Remember:\n",
        "  1. You can use negative indexing to count backward from the end of a collection\n",
        "  2. When you want to slice everything after a certain point in a collection, put the starting point before the colon and don't put anything after the colon."
      ],
      "metadata": {
        "id": "hEE2tRbho7lW"
      }
    },
    {
      "cell_type": "code",
      "source": [
        "# Define a variable called last_2 that inclues only the last two elements of the tuple.\n",
        "last_2=(merchandise[-2:-1])\n",
        "\n",
        "# Print last_2\n",
        "print(last_2)"
      ],
      "metadata": {
        "id": "Eu76Efzgos60",
        "colab": {
          "base_uri": "https://localhost:8080/"
        },
        "outputId": "ce29550f-8939-4ba8-80c5-c027fc26a253"
      },
      "execution_count": 12,
      "outputs": [
        {
          "output_type": "stream",
          "name": "stdout",
          "text": [
            "('Face Paint',)\n"
          ]
        }
      ]
    },
    {
      "cell_type": "markdown",
      "source": [
        "##9. Slicing items from the middle of a tuple\n",
        "\n",
        ". Reminders:\n",
        "\n",
        "1. A slice **includes** the index before the colon.\n",
        "2. A slice **excludes** the index after the colon.\n",
        "3. Python indexing starts at 0, so the second item is at index 1."
      ],
      "metadata": {
        "id": "YdG4i71fqkdL"
      }
    },
    {
      "cell_type": "code",
      "source": [
        "# Slice out the 2nd and 3rd items from the tuple\n",
        "middle=(merchandise[0:-5])\n",
        "# merchandise = ('Fangs', 'Tutus', 'Clown Noses', 'Scrubs', 'Cowboy Hats', 'Face Paint', 'Plastic Swords')\n",
        "\n",
        "# Print the result\n",
        "print(middle)"
      ],
      "metadata": {
        "id": "AVJUOWndqHJT",
        "colab": {
          "base_uri": "https://localhost:8080/"
        },
        "outputId": "1ef364bd-0c98-429a-a574-0954c6850287"
      },
      "execution_count": 21,
      "outputs": [
        {
          "output_type": "stream",
          "name": "stdout",
          "text": [
            "('Fangs', 'Tutus')\n"
          ]
        }
      ]
    },
    {
      "cell_type": "markdown",
      "source": [
        "## Reminder: Tuples are immutable\n",
        "\n",
        "Our supplier has changed 'Cowboy Hats' to 'Cowpoke Hats'.  Can we change this in our tuple?\n",
        "\n",
        "NO! Tuples are immutable meaning they cannot be changed or updated.\n"
      ],
      "metadata": {
        "id": "NRs5Kl0JreEz"
      }
    }
  ]
}