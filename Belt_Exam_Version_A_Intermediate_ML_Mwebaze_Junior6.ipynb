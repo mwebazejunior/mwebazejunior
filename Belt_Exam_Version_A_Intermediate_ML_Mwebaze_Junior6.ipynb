{
  "nbformat": 4,
  "nbformat_minor": 0,
  "metadata": {
    "colab": {
      "provenance": []
    },
    "kernelspec": {
      "name": "python3",
      "display_name": "Python 3"
    },
    "language_info": {
      "name": "python"
    }
  },
  "cells": [
    {
      "cell_type": "markdown",
      "source": [
        "**Belt Exam:**Version A: Intermediate ML\n",
        "\n",
        "**Student Name:** Mwebaze Junior\n"
      ],
      "metadata": {
        "id": "ft__BvBHDXrh"
      }
    },
    {
      "cell_type": "markdown",
      "source": [
        "Housing\n",
        "\n",
        "Problem:\n",
        "\n",
        "A house-flipping company would like to identify underpriced homes by comparing asking prices to predicted sale prices. They would like to segment homes into groups to analyze what kinds of homes there are. They would also like a model that predicts the selling price of a home.\n",
        "\n",
        "The company has provided publicly available data from the King County Assessor's office to use for clustering and prediction.\n",
        "Data notes:\n",
        "\n",
        "BrickStone is the percentage of a house made of brick or stone."
      ],
      "metadata": {
        "id": "S-i-X3nmrrwr"
      }
    },
    {
      "cell_type": "markdown",
      "source": [
        "**Part 1: Clustering instructions:**\n",
        "\n",
        "The house-flipping company would like you to segment the homes sold in the database and create an analytical report on the clusters, describing each cluster and describing how they are different. The data has had some cleaning work performed on it, but you should verify that it is ready for clustering."
      ],
      "metadata": {
        "id": "M_u7hl1UsJIS"
      }
    },
    {
      "cell_type": "markdown",
      "source": [
        "1.**Load this dataset for modeling**"
      ],
      "metadata": {
        "id": "7Q1sehPvw6pl"
      }
    },
    {
      "cell_type": "code",
      "execution_count": 18,
      "metadata": {
        "colab": {
          "base_uri": "https://localhost:8080/"
        },
        "id": "ZKL6JD7orbKx",
        "outputId": "984bab4d-18d4-4c58-b4e1-4dbeef28fe27"
      },
      "outputs": [
        {
          "output_type": "stream",
          "name": "stdout",
          "text": [
            "Drive already mounted at /content/drive; to attempt to forcibly remount, call drive.mount(\"/content/drive\", force_remount=True).\n"
          ]
        }
      ],
      "source": [
        "from google.colab import drive\n",
        "drive.mount('/content/drive')"
      ]
    },
    {
      "cell_type": "code",
      "source": [
        "import pandas as pd\n",
        "import numpy as np\n",
        "filename = '/content/drive/MyDrive/Week2_data/Machine Learning Data Sets/option_A_clustering_df - option_A_clustering_df.csv'\n",
        "df = pd.read_csv(filename)\n",
        "df.head()"
      ],
      "metadata": {
        "colab": {
          "base_uri": "https://localhost:8080/",
          "height": 255
        },
        "id": "We0NMhkkxOW4",
        "outputId": "9bb43e84-f9af-4863-cb94-b573785031c0"
      },
      "execution_count": 19,
      "outputs": [
        {
          "output_type": "execute_result",
          "data": {
            "text/plain": [
              "   SalePrice  SqFt1stFloor  SqFtHalfFloor  SqFt2ndFloor  SqFtUpperFloor  \\\n",
              "0     400000          1590              0             0               0   \n",
              "1     474250          1390              0             0               0   \n",
              "2     667950          1010              0          1515               0   \n",
              "3     659000           660              0           540               0   \n",
              "4     656500          2310              0             0               0   \n",
              "\n",
              "   SqFtTotLiving  SqFtTotBasement  SqFtFinBasement  SqFtGarageBasement  \\\n",
              "0           3180             1590             1590                   0   \n",
              "1           2200              810              810                   0   \n",
              "2           2525                0                0                   0   \n",
              "3           1820              620              620                   0   \n",
              "4           2310                0                0                   0   \n",
              "\n",
              "   SqFtGarageAttached  ...  SqFtEnclosedPorch  SqFtDeck  BrickStone  Bedrooms  \\\n",
              "0                 600  ...                  0       220           0         6   \n",
              "1                   0  ...                  0       340           0         4   \n",
              "2                 400  ...                  0         0           0         4   \n",
              "3                   0  ...                  0       100           0         3   \n",
              "4                 440  ...                  0       320           0         3   \n",
              "\n",
              "   BathHalfCount  Bath3qtrCount  BathFullCount  YrBuilt   Longitude   Latitude  \n",
              "0              0              2              1     1965 -122.196399  47.336118  \n",
              "1              1              0              1     1945 -122.361913  47.509874  \n",
              "2              1              0              2     2019 -122.156684  47.437557  \n",
              "3              1              0              2     2016 -122.370252  47.565146  \n",
              "4              0              0              2     1967 -122.184194  47.730389  \n",
              "\n",
              "[5 rows x 22 columns]"
            ],
            "text/html": [
              "\n",
              "  <div id=\"df-e04847d9-04a0-4239-b041-dcf9ce549c29\" class=\"colab-df-container\">\n",
              "    <div>\n",
              "<style scoped>\n",
              "    .dataframe tbody tr th:only-of-type {\n",
              "        vertical-align: middle;\n",
              "    }\n",
              "\n",
              "    .dataframe tbody tr th {\n",
              "        vertical-align: top;\n",
              "    }\n",
              "\n",
              "    .dataframe thead th {\n",
              "        text-align: right;\n",
              "    }\n",
              "</style>\n",
              "<table border=\"1\" class=\"dataframe\">\n",
              "  <thead>\n",
              "    <tr style=\"text-align: right;\">\n",
              "      <th></th>\n",
              "      <th>SalePrice</th>\n",
              "      <th>SqFt1stFloor</th>\n",
              "      <th>SqFtHalfFloor</th>\n",
              "      <th>SqFt2ndFloor</th>\n",
              "      <th>SqFtUpperFloor</th>\n",
              "      <th>SqFtTotLiving</th>\n",
              "      <th>SqFtTotBasement</th>\n",
              "      <th>SqFtFinBasement</th>\n",
              "      <th>SqFtGarageBasement</th>\n",
              "      <th>SqFtGarageAttached</th>\n",
              "      <th>...</th>\n",
              "      <th>SqFtEnclosedPorch</th>\n",
              "      <th>SqFtDeck</th>\n",
              "      <th>BrickStone</th>\n",
              "      <th>Bedrooms</th>\n",
              "      <th>BathHalfCount</th>\n",
              "      <th>Bath3qtrCount</th>\n",
              "      <th>BathFullCount</th>\n",
              "      <th>YrBuilt</th>\n",
              "      <th>Longitude</th>\n",
              "      <th>Latitude</th>\n",
              "    </tr>\n",
              "  </thead>\n",
              "  <tbody>\n",
              "    <tr>\n",
              "      <th>0</th>\n",
              "      <td>400000</td>\n",
              "      <td>1590</td>\n",
              "      <td>0</td>\n",
              "      <td>0</td>\n",
              "      <td>0</td>\n",
              "      <td>3180</td>\n",
              "      <td>1590</td>\n",
              "      <td>1590</td>\n",
              "      <td>0</td>\n",
              "      <td>600</td>\n",
              "      <td>...</td>\n",
              "      <td>0</td>\n",
              "      <td>220</td>\n",
              "      <td>0</td>\n",
              "      <td>6</td>\n",
              "      <td>0</td>\n",
              "      <td>2</td>\n",
              "      <td>1</td>\n",
              "      <td>1965</td>\n",
              "      <td>-122.196399</td>\n",
              "      <td>47.336118</td>\n",
              "    </tr>\n",
              "    <tr>\n",
              "      <th>1</th>\n",
              "      <td>474250</td>\n",
              "      <td>1390</td>\n",
              "      <td>0</td>\n",
              "      <td>0</td>\n",
              "      <td>0</td>\n",
              "      <td>2200</td>\n",
              "      <td>810</td>\n",
              "      <td>810</td>\n",
              "      <td>0</td>\n",
              "      <td>0</td>\n",
              "      <td>...</td>\n",
              "      <td>0</td>\n",
              "      <td>340</td>\n",
              "      <td>0</td>\n",
              "      <td>4</td>\n",
              "      <td>1</td>\n",
              "      <td>0</td>\n",
              "      <td>1</td>\n",
              "      <td>1945</td>\n",
              "      <td>-122.361913</td>\n",
              "      <td>47.509874</td>\n",
              "    </tr>\n",
              "    <tr>\n",
              "      <th>2</th>\n",
              "      <td>667950</td>\n",
              "      <td>1010</td>\n",
              "      <td>0</td>\n",
              "      <td>1515</td>\n",
              "      <td>0</td>\n",
              "      <td>2525</td>\n",
              "      <td>0</td>\n",
              "      <td>0</td>\n",
              "      <td>0</td>\n",
              "      <td>400</td>\n",
              "      <td>...</td>\n",
              "      <td>0</td>\n",
              "      <td>0</td>\n",
              "      <td>0</td>\n",
              "      <td>4</td>\n",
              "      <td>1</td>\n",
              "      <td>0</td>\n",
              "      <td>2</td>\n",
              "      <td>2019</td>\n",
              "      <td>-122.156684</td>\n",
              "      <td>47.437557</td>\n",
              "    </tr>\n",
              "    <tr>\n",
              "      <th>3</th>\n",
              "      <td>659000</td>\n",
              "      <td>660</td>\n",
              "      <td>0</td>\n",
              "      <td>540</td>\n",
              "      <td>0</td>\n",
              "      <td>1820</td>\n",
              "      <td>620</td>\n",
              "      <td>620</td>\n",
              "      <td>0</td>\n",
              "      <td>0</td>\n",
              "      <td>...</td>\n",
              "      <td>0</td>\n",
              "      <td>100</td>\n",
              "      <td>0</td>\n",
              "      <td>3</td>\n",
              "      <td>1</td>\n",
              "      <td>0</td>\n",
              "      <td>2</td>\n",
              "      <td>2016</td>\n",
              "      <td>-122.370252</td>\n",
              "      <td>47.565146</td>\n",
              "    </tr>\n",
              "    <tr>\n",
              "      <th>4</th>\n",
              "      <td>656500</td>\n",
              "      <td>2310</td>\n",
              "      <td>0</td>\n",
              "      <td>0</td>\n",
              "      <td>0</td>\n",
              "      <td>2310</td>\n",
              "      <td>0</td>\n",
              "      <td>0</td>\n",
              "      <td>0</td>\n",
              "      <td>440</td>\n",
              "      <td>...</td>\n",
              "      <td>0</td>\n",
              "      <td>320</td>\n",
              "      <td>0</td>\n",
              "      <td>3</td>\n",
              "      <td>0</td>\n",
              "      <td>0</td>\n",
              "      <td>2</td>\n",
              "      <td>1967</td>\n",
              "      <td>-122.184194</td>\n",
              "      <td>47.730389</td>\n",
              "    </tr>\n",
              "  </tbody>\n",
              "</table>\n",
              "<p>5 rows × 22 columns</p>\n",
              "</div>\n",
              "    <div class=\"colab-df-buttons\">\n",
              "\n",
              "  <div class=\"colab-df-container\">\n",
              "    <button class=\"colab-df-convert\" onclick=\"convertToInteractive('df-e04847d9-04a0-4239-b041-dcf9ce549c29')\"\n",
              "            title=\"Convert this dataframe to an interactive table.\"\n",
              "            style=\"display:none;\">\n",
              "\n",
              "  <svg xmlns=\"http://www.w3.org/2000/svg\" height=\"24px\" viewBox=\"0 -960 960 960\">\n",
              "    <path d=\"M120-120v-720h720v720H120Zm60-500h600v-160H180v160Zm220 220h160v-160H400v160Zm0 220h160v-160H400v160ZM180-400h160v-160H180v160Zm440 0h160v-160H620v160ZM180-180h160v-160H180v160Zm440 0h160v-160H620v160Z\"/>\n",
              "  </svg>\n",
              "    </button>\n",
              "\n",
              "  <style>\n",
              "    .colab-df-container {\n",
              "      display:flex;\n",
              "      gap: 12px;\n",
              "    }\n",
              "\n",
              "    .colab-df-convert {\n",
              "      background-color: #E8F0FE;\n",
              "      border: none;\n",
              "      border-radius: 50%;\n",
              "      cursor: pointer;\n",
              "      display: none;\n",
              "      fill: #1967D2;\n",
              "      height: 32px;\n",
              "      padding: 0 0 0 0;\n",
              "      width: 32px;\n",
              "    }\n",
              "\n",
              "    .colab-df-convert:hover {\n",
              "      background-color: #E2EBFA;\n",
              "      box-shadow: 0px 1px 2px rgba(60, 64, 67, 0.3), 0px 1px 3px 1px rgba(60, 64, 67, 0.15);\n",
              "      fill: #174EA6;\n",
              "    }\n",
              "\n",
              "    .colab-df-buttons div {\n",
              "      margin-bottom: 4px;\n",
              "    }\n",
              "\n",
              "    [theme=dark] .colab-df-convert {\n",
              "      background-color: #3B4455;\n",
              "      fill: #D2E3FC;\n",
              "    }\n",
              "\n",
              "    [theme=dark] .colab-df-convert:hover {\n",
              "      background-color: #434B5C;\n",
              "      box-shadow: 0px 1px 3px 1px rgba(0, 0, 0, 0.15);\n",
              "      filter: drop-shadow(0px 1px 2px rgba(0, 0, 0, 0.3));\n",
              "      fill: #FFFFFF;\n",
              "    }\n",
              "  </style>\n",
              "\n",
              "    <script>\n",
              "      const buttonEl =\n",
              "        document.querySelector('#df-e04847d9-04a0-4239-b041-dcf9ce549c29 button.colab-df-convert');\n",
              "      buttonEl.style.display =\n",
              "        google.colab.kernel.accessAllowed ? 'block' : 'none';\n",
              "\n",
              "      async function convertToInteractive(key) {\n",
              "        const element = document.querySelector('#df-e04847d9-04a0-4239-b041-dcf9ce549c29');\n",
              "        const dataTable =\n",
              "          await google.colab.kernel.invokeFunction('convertToInteractive',\n",
              "                                                    [key], {});\n",
              "        if (!dataTable) return;\n",
              "\n",
              "        const docLinkHtml = 'Like what you see? Visit the ' +\n",
              "          '<a target=\"_blank\" href=https://colab.research.google.com/notebooks/data_table.ipynb>data table notebook</a>'\n",
              "          + ' to learn more about interactive tables.';\n",
              "        element.innerHTML = '';\n",
              "        dataTable['output_type'] = 'display_data';\n",
              "        await google.colab.output.renderOutput(dataTable, element);\n",
              "        const docLink = document.createElement('div');\n",
              "        docLink.innerHTML = docLinkHtml;\n",
              "        element.appendChild(docLink);\n",
              "      }\n",
              "    </script>\n",
              "  </div>\n",
              "\n",
              "\n",
              "<div id=\"df-c32fed7a-493f-46f4-b382-8175a093d4fe\">\n",
              "  <button class=\"colab-df-quickchart\" onclick=\"quickchart('df-c32fed7a-493f-46f4-b382-8175a093d4fe')\"\n",
              "            title=\"Suggest charts\"\n",
              "            style=\"display:none;\">\n",
              "\n",
              "<svg xmlns=\"http://www.w3.org/2000/svg\" height=\"24px\"viewBox=\"0 0 24 24\"\n",
              "     width=\"24px\">\n",
              "    <g>\n",
              "        <path d=\"M19 3H5c-1.1 0-2 .9-2 2v14c0 1.1.9 2 2 2h14c1.1 0 2-.9 2-2V5c0-1.1-.9-2-2-2zM9 17H7v-7h2v7zm4 0h-2V7h2v10zm4 0h-2v-4h2v4z\"/>\n",
              "    </g>\n",
              "</svg>\n",
              "  </button>\n",
              "\n",
              "<style>\n",
              "  .colab-df-quickchart {\n",
              "      --bg-color: #E8F0FE;\n",
              "      --fill-color: #1967D2;\n",
              "      --hover-bg-color: #E2EBFA;\n",
              "      --hover-fill-color: #174EA6;\n",
              "      --disabled-fill-color: #AAA;\n",
              "      --disabled-bg-color: #DDD;\n",
              "  }\n",
              "\n",
              "  [theme=dark] .colab-df-quickchart {\n",
              "      --bg-color: #3B4455;\n",
              "      --fill-color: #D2E3FC;\n",
              "      --hover-bg-color: #434B5C;\n",
              "      --hover-fill-color: #FFFFFF;\n",
              "      --disabled-bg-color: #3B4455;\n",
              "      --disabled-fill-color: #666;\n",
              "  }\n",
              "\n",
              "  .colab-df-quickchart {\n",
              "    background-color: var(--bg-color);\n",
              "    border: none;\n",
              "    border-radius: 50%;\n",
              "    cursor: pointer;\n",
              "    display: none;\n",
              "    fill: var(--fill-color);\n",
              "    height: 32px;\n",
              "    padding: 0;\n",
              "    width: 32px;\n",
              "  }\n",
              "\n",
              "  .colab-df-quickchart:hover {\n",
              "    background-color: var(--hover-bg-color);\n",
              "    box-shadow: 0 1px 2px rgba(60, 64, 67, 0.3), 0 1px 3px 1px rgba(60, 64, 67, 0.15);\n",
              "    fill: var(--button-hover-fill-color);\n",
              "  }\n",
              "\n",
              "  .colab-df-quickchart-complete:disabled,\n",
              "  .colab-df-quickchart-complete:disabled:hover {\n",
              "    background-color: var(--disabled-bg-color);\n",
              "    fill: var(--disabled-fill-color);\n",
              "    box-shadow: none;\n",
              "  }\n",
              "\n",
              "  .colab-df-spinner {\n",
              "    border: 2px solid var(--fill-color);\n",
              "    border-color: transparent;\n",
              "    border-bottom-color: var(--fill-color);\n",
              "    animation:\n",
              "      spin 1s steps(1) infinite;\n",
              "  }\n",
              "\n",
              "  @keyframes spin {\n",
              "    0% {\n",
              "      border-color: transparent;\n",
              "      border-bottom-color: var(--fill-color);\n",
              "      border-left-color: var(--fill-color);\n",
              "    }\n",
              "    20% {\n",
              "      border-color: transparent;\n",
              "      border-left-color: var(--fill-color);\n",
              "      border-top-color: var(--fill-color);\n",
              "    }\n",
              "    30% {\n",
              "      border-color: transparent;\n",
              "      border-left-color: var(--fill-color);\n",
              "      border-top-color: var(--fill-color);\n",
              "      border-right-color: var(--fill-color);\n",
              "    }\n",
              "    40% {\n",
              "      border-color: transparent;\n",
              "      border-right-color: var(--fill-color);\n",
              "      border-top-color: var(--fill-color);\n",
              "    }\n",
              "    60% {\n",
              "      border-color: transparent;\n",
              "      border-right-color: var(--fill-color);\n",
              "    }\n",
              "    80% {\n",
              "      border-color: transparent;\n",
              "      border-right-color: var(--fill-color);\n",
              "      border-bottom-color: var(--fill-color);\n",
              "    }\n",
              "    90% {\n",
              "      border-color: transparent;\n",
              "      border-bottom-color: var(--fill-color);\n",
              "    }\n",
              "  }\n",
              "</style>\n",
              "\n",
              "  <script>\n",
              "    async function quickchart(key) {\n",
              "      const quickchartButtonEl =\n",
              "        document.querySelector('#' + key + ' button');\n",
              "      quickchartButtonEl.disabled = true;  // To prevent multiple clicks.\n",
              "      quickchartButtonEl.classList.add('colab-df-spinner');\n",
              "      try {\n",
              "        const charts = await google.colab.kernel.invokeFunction(\n",
              "            'suggestCharts', [key], {});\n",
              "      } catch (error) {\n",
              "        console.error('Error during call to suggestCharts:', error);\n",
              "      }\n",
              "      quickchartButtonEl.classList.remove('colab-df-spinner');\n",
              "      quickchartButtonEl.classList.add('colab-df-quickchart-complete');\n",
              "    }\n",
              "    (() => {\n",
              "      let quickchartButtonEl =\n",
              "        document.querySelector('#df-c32fed7a-493f-46f4-b382-8175a093d4fe button');\n",
              "      quickchartButtonEl.style.display =\n",
              "        google.colab.kernel.accessAllowed ? 'block' : 'none';\n",
              "    })();\n",
              "  </script>\n",
              "</div>\n",
              "\n",
              "    </div>\n",
              "  </div>\n"
            ],
            "application/vnd.google.colaboratory.intrinsic+json": {
              "type": "dataframe",
              "variable_name": "df"
            }
          },
          "metadata": {},
          "execution_count": 19
        }
      ]
    },
    {
      "cell_type": "markdown",
      "source": [
        "**check data set information**"
      ],
      "metadata": {
        "id": "JZ30UJhJySSO"
      }
    },
    {
      "cell_type": "code",
      "source": [
        "# Check the data frame info\n",
        "df.info()"
      ],
      "metadata": {
        "colab": {
          "base_uri": "https://localhost:8080/"
        },
        "id": "n1U7hxI3x2qE",
        "outputId": "4dc74aba-c9be-4bb3-e09b-455df1d4834c"
      },
      "execution_count": 20,
      "outputs": [
        {
          "output_type": "stream",
          "name": "stdout",
          "text": [
            "<class 'pandas.core.frame.DataFrame'>\n",
            "RangeIndex: 4944 entries, 0 to 4943\n",
            "Data columns (total 22 columns):\n",
            " #   Column              Non-Null Count  Dtype  \n",
            "---  ------              --------------  -----  \n",
            " 0   SalePrice           4944 non-null   int64  \n",
            " 1   SqFt1stFloor        4944 non-null   int64  \n",
            " 2   SqFtHalfFloor       4944 non-null   int64  \n",
            " 3   SqFt2ndFloor        4944 non-null   int64  \n",
            " 4   SqFtUpperFloor      4944 non-null   int64  \n",
            " 5   SqFtTotLiving       4944 non-null   int64  \n",
            " 6   SqFtTotBasement     4944 non-null   int64  \n",
            " 7   SqFtFinBasement     4944 non-null   int64  \n",
            " 8   SqFtGarageBasement  4944 non-null   int64  \n",
            " 9   SqFtGarageAttached  4944 non-null   int64  \n",
            " 10  DaylightBasement    4944 non-null   int64  \n",
            " 11  SqFtOpenPorch       4944 non-null   int64  \n",
            " 12  SqFtEnclosedPorch   4944 non-null   int64  \n",
            " 13  SqFtDeck            4944 non-null   int64  \n",
            " 14  BrickStone          4944 non-null   int64  \n",
            " 15  Bedrooms            4944 non-null   int64  \n",
            " 16  BathHalfCount       4944 non-null   int64  \n",
            " 17  Bath3qtrCount       4944 non-null   int64  \n",
            " 18  BathFullCount       4944 non-null   int64  \n",
            " 19  YrBuilt             4944 non-null   int64  \n",
            " 20  Longitude           4944 non-null   float64\n",
            " 21  Latitude            4944 non-null   float64\n",
            "dtypes: float64(2), int64(20)\n",
            "memory usage: 849.9 KB\n"
          ]
        }
      ]
    },
    {
      "cell_type": "markdown",
      "source": [
        "**check data types**"
      ],
      "metadata": {
        "id": "azntFPweyJ3I"
      }
    },
    {
      "cell_type": "code",
      "source": [
        "# Check the data types of each column\n",
        "df.dtypes"
      ],
      "metadata": {
        "colab": {
          "base_uri": "https://localhost:8080/"
        },
        "id": "n-1QT8stx5AN",
        "outputId": "83198ad9-bb24-4d24-c18c-2d8a9d7f5d1b"
      },
      "execution_count": 21,
      "outputs": [
        {
          "output_type": "execute_result",
          "data": {
            "text/plain": [
              "SalePrice               int64\n",
              "SqFt1stFloor            int64\n",
              "SqFtHalfFloor           int64\n",
              "SqFt2ndFloor            int64\n",
              "SqFtUpperFloor          int64\n",
              "SqFtTotLiving           int64\n",
              "SqFtTotBasement         int64\n",
              "SqFtFinBasement         int64\n",
              "SqFtGarageBasement      int64\n",
              "SqFtGarageAttached      int64\n",
              "DaylightBasement        int64\n",
              "SqFtOpenPorch           int64\n",
              "SqFtEnclosedPorch       int64\n",
              "SqFtDeck                int64\n",
              "BrickStone              int64\n",
              "Bedrooms                int64\n",
              "BathHalfCount           int64\n",
              "Bath3qtrCount           int64\n",
              "BathFullCount           int64\n",
              "YrBuilt                 int64\n",
              "Longitude             float64\n",
              "Latitude              float64\n",
              "dtype: object"
            ]
          },
          "metadata": {},
          "execution_count": 21
        }
      ]
    },
    {
      "cell_type": "markdown",
      "source": [
        "check null values"
      ],
      "metadata": {
        "id": "v09VME11yHdb"
      }
    },
    {
      "cell_type": "code",
      "source": [
        "# Check for missing values\n",
        "df.isna().sum()"
      ],
      "metadata": {
        "colab": {
          "base_uri": "https://localhost:8080/"
        },
        "id": "3qogVvSVx9C4",
        "outputId": "911e9d03-7c9a-4457-9984-7ea9afcacec6"
      },
      "execution_count": 22,
      "outputs": [
        {
          "output_type": "execute_result",
          "data": {
            "text/plain": [
              "SalePrice             0\n",
              "SqFt1stFloor          0\n",
              "SqFtHalfFloor         0\n",
              "SqFt2ndFloor          0\n",
              "SqFtUpperFloor        0\n",
              "SqFtTotLiving         0\n",
              "SqFtTotBasement       0\n",
              "SqFtFinBasement       0\n",
              "SqFtGarageBasement    0\n",
              "SqFtGarageAttached    0\n",
              "DaylightBasement      0\n",
              "SqFtOpenPorch         0\n",
              "SqFtEnclosedPorch     0\n",
              "SqFtDeck              0\n",
              "BrickStone            0\n",
              "Bedrooms              0\n",
              "BathHalfCount         0\n",
              "Bath3qtrCount         0\n",
              "BathFullCount         0\n",
              "YrBuilt               0\n",
              "Longitude             0\n",
              "Latitude              0\n",
              "dtype: int64"
            ]
          },
          "metadata": {},
          "execution_count": 22
        }
      ]
    },
    {
      "cell_type": "code",
      "source": [
        "# Print the summary statistics of the data\n",
        "df.describe()"
      ],
      "metadata": {
        "colab": {
          "base_uri": "https://localhost:8080/",
          "height": 350
        },
        "id": "m2Lc7ZrMyYle",
        "outputId": "447b6848-0f6a-460f-b3ed-7823f3cec8ed"
      },
      "execution_count": 23,
      "outputs": [
        {
          "output_type": "execute_result",
          "data": {
            "text/plain": [
              "          SalePrice  SqFt1stFloor  SqFtHalfFloor  SqFt2ndFloor  \\\n",
              "count  4.944000e+03   4944.000000    4944.000000   4944.000000   \n",
              "mean   6.643497e+05   1175.502832      51.758495    349.306837   \n",
              "std    2.978080e+05    446.398643     174.464172    544.632918   \n",
              "min    6.000000e+04    260.000000       0.000000      0.000000   \n",
              "25%    4.500000e+05    880.000000       0.000000      0.000000   \n",
              "50%    6.305500e+05   1170.000000       0.000000      0.000000   \n",
              "75%    7.886125e+05   1450.000000       0.000000    580.000000   \n",
              "max    1.998000e+06   3600.000000    2000.000000   3010.000000   \n",
              "\n",
              "       SqFtUpperFloor  SqFtTotLiving  SqFtTotBasement  SqFtFinBasement  \\\n",
              "count     4944.000000    4944.000000      4944.000000      4944.000000   \n",
              "mean        26.994134    1935.205097       595.065939       334.273463   \n",
              "std        115.331907     764.888792       567.175862       422.825946   \n",
              "min          0.000000     300.000000         0.000000         0.000000   \n",
              "25%          0.000000    1390.000000         0.000000         0.000000   \n",
              "50%          0.000000    1770.000000       560.000000       110.000000   \n",
              "75%          0.000000    2360.000000      1070.000000       570.000000   \n",
              "max       1220.000000    6695.000000      3070.000000      2620.000000   \n",
              "\n",
              "       SqFtGarageBasement  SqFtGarageAttached  ...  SqFtEnclosedPorch  \\\n",
              "count         4944.000000         4944.000000  ...        4944.000000   \n",
              "mean           102.417071          170.282160  ...           8.271238   \n",
              "std            187.119944          239.635895  ...          37.449815   \n",
              "min              0.000000            0.000000  ...           0.000000   \n",
              "25%              0.000000            0.000000  ...           0.000000   \n",
              "50%              0.000000            0.000000  ...           0.000000   \n",
              "75%            190.000000          400.000000  ...           0.000000   \n",
              "max           1090.000000         1830.000000  ...         620.000000   \n",
              "\n",
              "          SqFtDeck   BrickStone     Bedrooms  BathHalfCount  Bath3qtrCount  \\\n",
              "count  4944.000000  4944.000000  4944.000000    4944.000000    4944.000000   \n",
              "mean    148.908576     4.415858     3.375607       0.387743       0.628236   \n",
              "std     201.636086    18.643753     0.947061       0.506022       0.651598   \n",
              "min       0.000000     0.000000     0.000000       0.000000       0.000000   \n",
              "25%       0.000000     0.000000     3.000000       0.000000       0.000000   \n",
              "50%      50.000000     0.000000     3.000000       0.000000       1.000000   \n",
              "75%     257.000000     0.000000     4.000000       1.000000       1.000000   \n",
              "max    1940.000000   100.000000     8.000000       3.000000       4.000000   \n",
              "\n",
              "       BathFullCount      YrBuilt    Longitude     Latitude  \n",
              "count    4944.000000  4944.000000  4944.000000  4944.000000  \n",
              "mean        1.319579  1972.183455  -122.271891    47.572471  \n",
              "std         0.609963    32.905503     0.086519     0.127187  \n",
              "min         0.000000  1900.000000  -122.526072    47.213547  \n",
              "25%         1.000000  1952.000000  -122.346573    47.488749  \n",
              "50%         1.000000  1967.000000  -122.291976    47.576939  \n",
              "75%         2.000000  2016.000000  -122.192528    47.681099  \n",
              "max         5.000000  2019.000000  -122.090088    47.777422  \n",
              "\n",
              "[8 rows x 22 columns]"
            ],
            "text/html": [
              "\n",
              "  <div id=\"df-ecf441fc-c850-4a32-9bb8-9062047339a7\" class=\"colab-df-container\">\n",
              "    <div>\n",
              "<style scoped>\n",
              "    .dataframe tbody tr th:only-of-type {\n",
              "        vertical-align: middle;\n",
              "    }\n",
              "\n",
              "    .dataframe tbody tr th {\n",
              "        vertical-align: top;\n",
              "    }\n",
              "\n",
              "    .dataframe thead th {\n",
              "        text-align: right;\n",
              "    }\n",
              "</style>\n",
              "<table border=\"1\" class=\"dataframe\">\n",
              "  <thead>\n",
              "    <tr style=\"text-align: right;\">\n",
              "      <th></th>\n",
              "      <th>SalePrice</th>\n",
              "      <th>SqFt1stFloor</th>\n",
              "      <th>SqFtHalfFloor</th>\n",
              "      <th>SqFt2ndFloor</th>\n",
              "      <th>SqFtUpperFloor</th>\n",
              "      <th>SqFtTotLiving</th>\n",
              "      <th>SqFtTotBasement</th>\n",
              "      <th>SqFtFinBasement</th>\n",
              "      <th>SqFtGarageBasement</th>\n",
              "      <th>SqFtGarageAttached</th>\n",
              "      <th>...</th>\n",
              "      <th>SqFtEnclosedPorch</th>\n",
              "      <th>SqFtDeck</th>\n",
              "      <th>BrickStone</th>\n",
              "      <th>Bedrooms</th>\n",
              "      <th>BathHalfCount</th>\n",
              "      <th>Bath3qtrCount</th>\n",
              "      <th>BathFullCount</th>\n",
              "      <th>YrBuilt</th>\n",
              "      <th>Longitude</th>\n",
              "      <th>Latitude</th>\n",
              "    </tr>\n",
              "  </thead>\n",
              "  <tbody>\n",
              "    <tr>\n",
              "      <th>count</th>\n",
              "      <td>4.944000e+03</td>\n",
              "      <td>4944.000000</td>\n",
              "      <td>4944.000000</td>\n",
              "      <td>4944.000000</td>\n",
              "      <td>4944.000000</td>\n",
              "      <td>4944.000000</td>\n",
              "      <td>4944.000000</td>\n",
              "      <td>4944.000000</td>\n",
              "      <td>4944.000000</td>\n",
              "      <td>4944.000000</td>\n",
              "      <td>...</td>\n",
              "      <td>4944.000000</td>\n",
              "      <td>4944.000000</td>\n",
              "      <td>4944.000000</td>\n",
              "      <td>4944.000000</td>\n",
              "      <td>4944.000000</td>\n",
              "      <td>4944.000000</td>\n",
              "      <td>4944.000000</td>\n",
              "      <td>4944.000000</td>\n",
              "      <td>4944.000000</td>\n",
              "      <td>4944.000000</td>\n",
              "    </tr>\n",
              "    <tr>\n",
              "      <th>mean</th>\n",
              "      <td>6.643497e+05</td>\n",
              "      <td>1175.502832</td>\n",
              "      <td>51.758495</td>\n",
              "      <td>349.306837</td>\n",
              "      <td>26.994134</td>\n",
              "      <td>1935.205097</td>\n",
              "      <td>595.065939</td>\n",
              "      <td>334.273463</td>\n",
              "      <td>102.417071</td>\n",
              "      <td>170.282160</td>\n",
              "      <td>...</td>\n",
              "      <td>8.271238</td>\n",
              "      <td>148.908576</td>\n",
              "      <td>4.415858</td>\n",
              "      <td>3.375607</td>\n",
              "      <td>0.387743</td>\n",
              "      <td>0.628236</td>\n",
              "      <td>1.319579</td>\n",
              "      <td>1972.183455</td>\n",
              "      <td>-122.271891</td>\n",
              "      <td>47.572471</td>\n",
              "    </tr>\n",
              "    <tr>\n",
              "      <th>std</th>\n",
              "      <td>2.978080e+05</td>\n",
              "      <td>446.398643</td>\n",
              "      <td>174.464172</td>\n",
              "      <td>544.632918</td>\n",
              "      <td>115.331907</td>\n",
              "      <td>764.888792</td>\n",
              "      <td>567.175862</td>\n",
              "      <td>422.825946</td>\n",
              "      <td>187.119944</td>\n",
              "      <td>239.635895</td>\n",
              "      <td>...</td>\n",
              "      <td>37.449815</td>\n",
              "      <td>201.636086</td>\n",
              "      <td>18.643753</td>\n",
              "      <td>0.947061</td>\n",
              "      <td>0.506022</td>\n",
              "      <td>0.651598</td>\n",
              "      <td>0.609963</td>\n",
              "      <td>32.905503</td>\n",
              "      <td>0.086519</td>\n",
              "      <td>0.127187</td>\n",
              "    </tr>\n",
              "    <tr>\n",
              "      <th>min</th>\n",
              "      <td>6.000000e+04</td>\n",
              "      <td>260.000000</td>\n",
              "      <td>0.000000</td>\n",
              "      <td>0.000000</td>\n",
              "      <td>0.000000</td>\n",
              "      <td>300.000000</td>\n",
              "      <td>0.000000</td>\n",
              "      <td>0.000000</td>\n",
              "      <td>0.000000</td>\n",
              "      <td>0.000000</td>\n",
              "      <td>...</td>\n",
              "      <td>0.000000</td>\n",
              "      <td>0.000000</td>\n",
              "      <td>0.000000</td>\n",
              "      <td>0.000000</td>\n",
              "      <td>0.000000</td>\n",
              "      <td>0.000000</td>\n",
              "      <td>0.000000</td>\n",
              "      <td>1900.000000</td>\n",
              "      <td>-122.526072</td>\n",
              "      <td>47.213547</td>\n",
              "    </tr>\n",
              "    <tr>\n",
              "      <th>25%</th>\n",
              "      <td>4.500000e+05</td>\n",
              "      <td>880.000000</td>\n",
              "      <td>0.000000</td>\n",
              "      <td>0.000000</td>\n",
              "      <td>0.000000</td>\n",
              "      <td>1390.000000</td>\n",
              "      <td>0.000000</td>\n",
              "      <td>0.000000</td>\n",
              "      <td>0.000000</td>\n",
              "      <td>0.000000</td>\n",
              "      <td>...</td>\n",
              "      <td>0.000000</td>\n",
              "      <td>0.000000</td>\n",
              "      <td>0.000000</td>\n",
              "      <td>3.000000</td>\n",
              "      <td>0.000000</td>\n",
              "      <td>0.000000</td>\n",
              "      <td>1.000000</td>\n",
              "      <td>1952.000000</td>\n",
              "      <td>-122.346573</td>\n",
              "      <td>47.488749</td>\n",
              "    </tr>\n",
              "    <tr>\n",
              "      <th>50%</th>\n",
              "      <td>6.305500e+05</td>\n",
              "      <td>1170.000000</td>\n",
              "      <td>0.000000</td>\n",
              "      <td>0.000000</td>\n",
              "      <td>0.000000</td>\n",
              "      <td>1770.000000</td>\n",
              "      <td>560.000000</td>\n",
              "      <td>110.000000</td>\n",
              "      <td>0.000000</td>\n",
              "      <td>0.000000</td>\n",
              "      <td>...</td>\n",
              "      <td>0.000000</td>\n",
              "      <td>50.000000</td>\n",
              "      <td>0.000000</td>\n",
              "      <td>3.000000</td>\n",
              "      <td>0.000000</td>\n",
              "      <td>1.000000</td>\n",
              "      <td>1.000000</td>\n",
              "      <td>1967.000000</td>\n",
              "      <td>-122.291976</td>\n",
              "      <td>47.576939</td>\n",
              "    </tr>\n",
              "    <tr>\n",
              "      <th>75%</th>\n",
              "      <td>7.886125e+05</td>\n",
              "      <td>1450.000000</td>\n",
              "      <td>0.000000</td>\n",
              "      <td>580.000000</td>\n",
              "      <td>0.000000</td>\n",
              "      <td>2360.000000</td>\n",
              "      <td>1070.000000</td>\n",
              "      <td>570.000000</td>\n",
              "      <td>190.000000</td>\n",
              "      <td>400.000000</td>\n",
              "      <td>...</td>\n",
              "      <td>0.000000</td>\n",
              "      <td>257.000000</td>\n",
              "      <td>0.000000</td>\n",
              "      <td>4.000000</td>\n",
              "      <td>1.000000</td>\n",
              "      <td>1.000000</td>\n",
              "      <td>2.000000</td>\n",
              "      <td>2016.000000</td>\n",
              "      <td>-122.192528</td>\n",
              "      <td>47.681099</td>\n",
              "    </tr>\n",
              "    <tr>\n",
              "      <th>max</th>\n",
              "      <td>1.998000e+06</td>\n",
              "      <td>3600.000000</td>\n",
              "      <td>2000.000000</td>\n",
              "      <td>3010.000000</td>\n",
              "      <td>1220.000000</td>\n",
              "      <td>6695.000000</td>\n",
              "      <td>3070.000000</td>\n",
              "      <td>2620.000000</td>\n",
              "      <td>1090.000000</td>\n",
              "      <td>1830.000000</td>\n",
              "      <td>...</td>\n",
              "      <td>620.000000</td>\n",
              "      <td>1940.000000</td>\n",
              "      <td>100.000000</td>\n",
              "      <td>8.000000</td>\n",
              "      <td>3.000000</td>\n",
              "      <td>4.000000</td>\n",
              "      <td>5.000000</td>\n",
              "      <td>2019.000000</td>\n",
              "      <td>-122.090088</td>\n",
              "      <td>47.777422</td>\n",
              "    </tr>\n",
              "  </tbody>\n",
              "</table>\n",
              "<p>8 rows × 22 columns</p>\n",
              "</div>\n",
              "    <div class=\"colab-df-buttons\">\n",
              "\n",
              "  <div class=\"colab-df-container\">\n",
              "    <button class=\"colab-df-convert\" onclick=\"convertToInteractive('df-ecf441fc-c850-4a32-9bb8-9062047339a7')\"\n",
              "            title=\"Convert this dataframe to an interactive table.\"\n",
              "            style=\"display:none;\">\n",
              "\n",
              "  <svg xmlns=\"http://www.w3.org/2000/svg\" height=\"24px\" viewBox=\"0 -960 960 960\">\n",
              "    <path d=\"M120-120v-720h720v720H120Zm60-500h600v-160H180v160Zm220 220h160v-160H400v160Zm0 220h160v-160H400v160ZM180-400h160v-160H180v160Zm440 0h160v-160H620v160ZM180-180h160v-160H180v160Zm440 0h160v-160H620v160Z\"/>\n",
              "  </svg>\n",
              "    </button>\n",
              "\n",
              "  <style>\n",
              "    .colab-df-container {\n",
              "      display:flex;\n",
              "      gap: 12px;\n",
              "    }\n",
              "\n",
              "    .colab-df-convert {\n",
              "      background-color: #E8F0FE;\n",
              "      border: none;\n",
              "      border-radius: 50%;\n",
              "      cursor: pointer;\n",
              "      display: none;\n",
              "      fill: #1967D2;\n",
              "      height: 32px;\n",
              "      padding: 0 0 0 0;\n",
              "      width: 32px;\n",
              "    }\n",
              "\n",
              "    .colab-df-convert:hover {\n",
              "      background-color: #E2EBFA;\n",
              "      box-shadow: 0px 1px 2px rgba(60, 64, 67, 0.3), 0px 1px 3px 1px rgba(60, 64, 67, 0.15);\n",
              "      fill: #174EA6;\n",
              "    }\n",
              "\n",
              "    .colab-df-buttons div {\n",
              "      margin-bottom: 4px;\n",
              "    }\n",
              "\n",
              "    [theme=dark] .colab-df-convert {\n",
              "      background-color: #3B4455;\n",
              "      fill: #D2E3FC;\n",
              "    }\n",
              "\n",
              "    [theme=dark] .colab-df-convert:hover {\n",
              "      background-color: #434B5C;\n",
              "      box-shadow: 0px 1px 3px 1px rgba(0, 0, 0, 0.15);\n",
              "      filter: drop-shadow(0px 1px 2px rgba(0, 0, 0, 0.3));\n",
              "      fill: #FFFFFF;\n",
              "    }\n",
              "  </style>\n",
              "\n",
              "    <script>\n",
              "      const buttonEl =\n",
              "        document.querySelector('#df-ecf441fc-c850-4a32-9bb8-9062047339a7 button.colab-df-convert');\n",
              "      buttonEl.style.display =\n",
              "        google.colab.kernel.accessAllowed ? 'block' : 'none';\n",
              "\n",
              "      async function convertToInteractive(key) {\n",
              "        const element = document.querySelector('#df-ecf441fc-c850-4a32-9bb8-9062047339a7');\n",
              "        const dataTable =\n",
              "          await google.colab.kernel.invokeFunction('convertToInteractive',\n",
              "                                                    [key], {});\n",
              "        if (!dataTable) return;\n",
              "\n",
              "        const docLinkHtml = 'Like what you see? Visit the ' +\n",
              "          '<a target=\"_blank\" href=https://colab.research.google.com/notebooks/data_table.ipynb>data table notebook</a>'\n",
              "          + ' to learn more about interactive tables.';\n",
              "        element.innerHTML = '';\n",
              "        dataTable['output_type'] = 'display_data';\n",
              "        await google.colab.output.renderOutput(dataTable, element);\n",
              "        const docLink = document.createElement('div');\n",
              "        docLink.innerHTML = docLinkHtml;\n",
              "        element.appendChild(docLink);\n",
              "      }\n",
              "    </script>\n",
              "  </div>\n",
              "\n",
              "\n",
              "<div id=\"df-b713615b-b353-4585-a797-69f2d540ef8f\">\n",
              "  <button class=\"colab-df-quickchart\" onclick=\"quickchart('df-b713615b-b353-4585-a797-69f2d540ef8f')\"\n",
              "            title=\"Suggest charts\"\n",
              "            style=\"display:none;\">\n",
              "\n",
              "<svg xmlns=\"http://www.w3.org/2000/svg\" height=\"24px\"viewBox=\"0 0 24 24\"\n",
              "     width=\"24px\">\n",
              "    <g>\n",
              "        <path d=\"M19 3H5c-1.1 0-2 .9-2 2v14c0 1.1.9 2 2 2h14c1.1 0 2-.9 2-2V5c0-1.1-.9-2-2-2zM9 17H7v-7h2v7zm4 0h-2V7h2v10zm4 0h-2v-4h2v4z\"/>\n",
              "    </g>\n",
              "</svg>\n",
              "  </button>\n",
              "\n",
              "<style>\n",
              "  .colab-df-quickchart {\n",
              "      --bg-color: #E8F0FE;\n",
              "      --fill-color: #1967D2;\n",
              "      --hover-bg-color: #E2EBFA;\n",
              "      --hover-fill-color: #174EA6;\n",
              "      --disabled-fill-color: #AAA;\n",
              "      --disabled-bg-color: #DDD;\n",
              "  }\n",
              "\n",
              "  [theme=dark] .colab-df-quickchart {\n",
              "      --bg-color: #3B4455;\n",
              "      --fill-color: #D2E3FC;\n",
              "      --hover-bg-color: #434B5C;\n",
              "      --hover-fill-color: #FFFFFF;\n",
              "      --disabled-bg-color: #3B4455;\n",
              "      --disabled-fill-color: #666;\n",
              "  }\n",
              "\n",
              "  .colab-df-quickchart {\n",
              "    background-color: var(--bg-color);\n",
              "    border: none;\n",
              "    border-radius: 50%;\n",
              "    cursor: pointer;\n",
              "    display: none;\n",
              "    fill: var(--fill-color);\n",
              "    height: 32px;\n",
              "    padding: 0;\n",
              "    width: 32px;\n",
              "  }\n",
              "\n",
              "  .colab-df-quickchart:hover {\n",
              "    background-color: var(--hover-bg-color);\n",
              "    box-shadow: 0 1px 2px rgba(60, 64, 67, 0.3), 0 1px 3px 1px rgba(60, 64, 67, 0.15);\n",
              "    fill: var(--button-hover-fill-color);\n",
              "  }\n",
              "\n",
              "  .colab-df-quickchart-complete:disabled,\n",
              "  .colab-df-quickchart-complete:disabled:hover {\n",
              "    background-color: var(--disabled-bg-color);\n",
              "    fill: var(--disabled-fill-color);\n",
              "    box-shadow: none;\n",
              "  }\n",
              "\n",
              "  .colab-df-spinner {\n",
              "    border: 2px solid var(--fill-color);\n",
              "    border-color: transparent;\n",
              "    border-bottom-color: var(--fill-color);\n",
              "    animation:\n",
              "      spin 1s steps(1) infinite;\n",
              "  }\n",
              "\n",
              "  @keyframes spin {\n",
              "    0% {\n",
              "      border-color: transparent;\n",
              "      border-bottom-color: var(--fill-color);\n",
              "      border-left-color: var(--fill-color);\n",
              "    }\n",
              "    20% {\n",
              "      border-color: transparent;\n",
              "      border-left-color: var(--fill-color);\n",
              "      border-top-color: var(--fill-color);\n",
              "    }\n",
              "    30% {\n",
              "      border-color: transparent;\n",
              "      border-left-color: var(--fill-color);\n",
              "      border-top-color: var(--fill-color);\n",
              "      border-right-color: var(--fill-color);\n",
              "    }\n",
              "    40% {\n",
              "      border-color: transparent;\n",
              "      border-right-color: var(--fill-color);\n",
              "      border-top-color: var(--fill-color);\n",
              "    }\n",
              "    60% {\n",
              "      border-color: transparent;\n",
              "      border-right-color: var(--fill-color);\n",
              "    }\n",
              "    80% {\n",
              "      border-color: transparent;\n",
              "      border-right-color: var(--fill-color);\n",
              "      border-bottom-color: var(--fill-color);\n",
              "    }\n",
              "    90% {\n",
              "      border-color: transparent;\n",
              "      border-bottom-color: var(--fill-color);\n",
              "    }\n",
              "  }\n",
              "</style>\n",
              "\n",
              "  <script>\n",
              "    async function quickchart(key) {\n",
              "      const quickchartButtonEl =\n",
              "        document.querySelector('#' + key + ' button');\n",
              "      quickchartButtonEl.disabled = true;  // To prevent multiple clicks.\n",
              "      quickchartButtonEl.classList.add('colab-df-spinner');\n",
              "      try {\n",
              "        const charts = await google.colab.kernel.invokeFunction(\n",
              "            'suggestCharts', [key], {});\n",
              "      } catch (error) {\n",
              "        console.error('Error during call to suggestCharts:', error);\n",
              "      }\n",
              "      quickchartButtonEl.classList.remove('colab-df-spinner');\n",
              "      quickchartButtonEl.classList.add('colab-df-quickchart-complete');\n",
              "    }\n",
              "    (() => {\n",
              "      let quickchartButtonEl =\n",
              "        document.querySelector('#df-b713615b-b353-4585-a797-69f2d540ef8f button');\n",
              "      quickchartButtonEl.style.display =\n",
              "        google.colab.kernel.accessAllowed ? 'block' : 'none';\n",
              "    })();\n",
              "  </script>\n",
              "</div>\n",
              "\n",
              "    </div>\n",
              "  </div>\n"
            ],
            "application/vnd.google.colaboratory.intrinsic+json": {
              "type": "dataframe"
            }
          },
          "metadata": {},
          "execution_count": 23
        }
      ]
    },
    {
      "cell_type": "code",
      "source": [
        "# Check for duplicate rows\n",
        "df.duplicated().sum()"
      ],
      "metadata": {
        "colab": {
          "base_uri": "https://localhost:8080/"
        },
        "id": "T8fekJzLz6vw",
        "outputId": "23741cd4-d4e6-4f1e-8131-649b5e3f0f61"
      },
      "execution_count": 24,
      "outputs": [
        {
          "output_type": "execute_result",
          "data": {
            "text/plain": [
              "29"
            ]
          },
          "metadata": {},
          "execution_count": 24
        }
      ]
    },
    {
      "cell_type": "code",
      "source": [
        "# Drop duplicate rows in df\n",
        "df.drop_duplicates(inplace=True)"
      ],
      "metadata": {
        "id": "amn5gQST1KEG"
      },
      "execution_count": 25,
      "outputs": []
    },
    {
      "cell_type": "code",
      "source": [
        "# Check for duplicate rows\n",
        "df.duplicated().sum()"
      ],
      "metadata": {
        "colab": {
          "base_uri": "https://localhost:8080/"
        },
        "id": "vhYAqABM1M07",
        "outputId": "753772cb-6a17-4166-fea9-8990a626e14f"
      },
      "execution_count": 26,
      "outputs": [
        {
          "output_type": "execute_result",
          "data": {
            "text/plain": [
              "0"
            ]
          },
          "metadata": {},
          "execution_count": 26
        }
      ]
    },
    {
      "cell_type": "markdown",
      "source": [
        "**Prepare the data for modeling**"
      ],
      "metadata": {
        "id": "oQSo-qhm3deB"
      }
    },
    {
      "cell_type": "code",
      "source": [
        "# Import the StandardScaler module\n",
        "from sklearn.preprocessing import StandardScaler\n",
        "\n",
        "# Create a StandardScaler object\n",
        "scaler = StandardScaler()\n",
        "\n",
        "# Fit the scaler to the data\n",
        "scaler.fit(df)\n",
        "\n",
        "# Transform the data using the scaler\n",
        "df_scaled = scaler.transform(df)"
      ],
      "metadata": {
        "id": "tvjJyzQu1D2t"
      },
      "execution_count": 27,
      "outputs": []
    },
    {
      "cell_type": "markdown",
      "source": [
        "**Use a KMeans model to cluster the houses into an optimal number of clusters.**\n",
        "\n",
        "    1. Use an elbow plot and silhouette score to find the optimal number of clusters.\n",
        "    2. There must be between 2 and 10 clusters.\n",
        "    3. Explain your choice of the number of clusters."
      ],
      "metadata": {
        "id": "Z2X2R9Gx5l_G"
      }
    },
    {
      "cell_type": "markdown",
      "source": [
        "**Analyze and report on the clusters.**\n",
        "\n",
        "    1. Create 2 report quality explanatory visualizations showing important differences between the clusters.\n",
        "    2. Interpret and explain each visualization."
      ],
      "metadata": {
        "id": "gQZw9IA353ba"
      }
    },
    {
      "cell_type": "markdown",
      "source": [
        "This visualization shows the relationship between the year a house was built and its sale price, colored by cluster. It allows us to see how the clusters differ in terms of the age and price of the houses.\n",
        "\n",
        "Interpretation:\n",
        "\n",
        "    Visualization 1: Cluster 0 has the smallest houses, while Cluster 2 has the largest houses. Cluster 1 has a mix of small and large houses.\n",
        "    Visualization 2: Cluster 0 contains older houses that are generally less expensive. Cluster 1 contains newer houses that are more expensive. Cluster 2 contains a mix of older and newer     houses that are moderately priced.\n",
        "\n",
        "These visualizations provide valuable insights into the differences between the clusters. They show that the clusters differ in terms of the size, age, and price of the houses. This information can be used to target marketing campaigns and to develop pricing strategies for different types of houses."
      ],
      "metadata": {
        "id": "S7PPugF-79GT"
      }
    },
    {
      "cell_type": "code",
      "source": [
        "#new\n",
        "#Create an empty list of inertias\n",
        "inertias = []\n",
        "#Loop through k values between 2 and 10 and store the inertias in the list.\n",
        "for k in range(2,11):\n",
        "    kmeans = KMeans(n_clusters=k)\n",
        "    kmeans.fit(df_scaled)\n",
        "    inertias.append(kmeans.inertia_)\n",
        "#Visualize scores\n",
        "plt.plot(range(2,11), inertias, marker = '.')\n",
        "plt.xlabel('clusters')\n",
        "plt.title(\"Elbow Plot for KMeans Clustering\")\n",
        "plt.ylabel('inertia');\n"
      ],
      "metadata": {
        "colab": {
          "base_uri": "https://localhost:8080/",
          "height": 813
        },
        "id": "GOzsfvIoJBzJ",
        "outputId": "3d3ad4aa-1963-4ca6-f919-87783f6c59c1"
      },
      "execution_count": 28,
      "outputs": [
        {
          "output_type": "stream",
          "name": "stderr",
          "text": [
            "/usr/local/lib/python3.10/dist-packages/sklearn/cluster/_kmeans.py:870: FutureWarning: The default value of `n_init` will change from 10 to 'auto' in 1.4. Set the value of `n_init` explicitly to suppress the warning\n",
            "  warnings.warn(\n",
            "/usr/local/lib/python3.10/dist-packages/sklearn/cluster/_kmeans.py:870: FutureWarning: The default value of `n_init` will change from 10 to 'auto' in 1.4. Set the value of `n_init` explicitly to suppress the warning\n",
            "  warnings.warn(\n",
            "/usr/local/lib/python3.10/dist-packages/sklearn/cluster/_kmeans.py:870: FutureWarning: The default value of `n_init` will change from 10 to 'auto' in 1.4. Set the value of `n_init` explicitly to suppress the warning\n",
            "  warnings.warn(\n",
            "/usr/local/lib/python3.10/dist-packages/sklearn/cluster/_kmeans.py:870: FutureWarning: The default value of `n_init` will change from 10 to 'auto' in 1.4. Set the value of `n_init` explicitly to suppress the warning\n",
            "  warnings.warn(\n",
            "/usr/local/lib/python3.10/dist-packages/sklearn/cluster/_kmeans.py:870: FutureWarning: The default value of `n_init` will change from 10 to 'auto' in 1.4. Set the value of `n_init` explicitly to suppress the warning\n",
            "  warnings.warn(\n",
            "/usr/local/lib/python3.10/dist-packages/sklearn/cluster/_kmeans.py:870: FutureWarning: The default value of `n_init` will change from 10 to 'auto' in 1.4. Set the value of `n_init` explicitly to suppress the warning\n",
            "  warnings.warn(\n",
            "/usr/local/lib/python3.10/dist-packages/sklearn/cluster/_kmeans.py:870: FutureWarning: The default value of `n_init` will change from 10 to 'auto' in 1.4. Set the value of `n_init` explicitly to suppress the warning\n",
            "  warnings.warn(\n",
            "/usr/local/lib/python3.10/dist-packages/sklearn/cluster/_kmeans.py:870: FutureWarning: The default value of `n_init` will change from 10 to 'auto' in 1.4. Set the value of `n_init` explicitly to suppress the warning\n",
            "  warnings.warn(\n",
            "/usr/local/lib/python3.10/dist-packages/sklearn/cluster/_kmeans.py:870: FutureWarning: The default value of `n_init` will change from 10 to 'auto' in 1.4. Set the value of `n_init` explicitly to suppress the warning\n",
            "  warnings.warn(\n"
          ]
        },
        {
          "output_type": "display_data",
          "data": {
            "text/plain": [
              "<Figure size 640x480 with 1 Axes>"
            ],
            "image/png": "[encoded data removed]"
          },
          "metadata": {}
        }
      ]
    },
    {
      "cell_type": "code",
      "source": [
        "#new\n",
        "# Import Silhouette Score method\n",
        "from sklearn.metrics import silhouette_score\n",
        "# Visualize different silhouette scores\n",
        "# Save silhouette scores for various cluster numbers in list\n",
        "silhouette_scores = []\n",
        "for i in range(2, 11):\n",
        "  kmeans = KMeans(n_clusters = i)\n",
        "  kmeans.fit(df_scaled)\n",
        "  silhouette_scores.append(silhouette_score(df_scaled, kmeans.labels_))\n",
        "# Visualize scores\n",
        "plt.plot(range(2, 11), silhouette_scores, marker = '.')\n",
        "plt.xlabel('Number of Clusters')\n",
        "plt.ylabel('Silhouette Score');"
      ],
      "metadata": {
        "colab": {
          "base_uri": "https://localhost:8080/",
          "height": 790
        },
        "id": "wcJlXMchJd-F",
        "outputId": "71caaf1f-6d59-47f8-c714-8a22a047fe5a"
      },
      "execution_count": 35,
      "outputs": [
        {
          "output_type": "stream",
          "name": "stderr",
          "text": [
            "/usr/local/lib/python3.10/dist-packages/sklearn/cluster/_kmeans.py:870: FutureWarning: The default value of `n_init` will change from 10 to 'auto' in 1.4. Set the value of `n_init` explicitly to suppress the warning\n",
            "  warnings.warn(\n",
            "/usr/local/lib/python3.10/dist-packages/sklearn/cluster/_kmeans.py:870: FutureWarning: The default value of `n_init` will change from 10 to 'auto' in 1.4. Set the value of `n_init` explicitly to suppress the warning\n",
            "  warnings.warn(\n",
            "/usr/local/lib/python3.10/dist-packages/sklearn/cluster/_kmeans.py:870: FutureWarning: The default value of `n_init` will change from 10 to 'auto' in 1.4. Set the value of `n_init` explicitly to suppress the warning\n",
            "  warnings.warn(\n",
            "/usr/local/lib/python3.10/dist-packages/sklearn/cluster/_kmeans.py:870: FutureWarning: The default value of `n_init` will change from 10 to 'auto' in 1.4. Set the value of `n_init` explicitly to suppress the warning\n",
            "  warnings.warn(\n",
            "/usr/local/lib/python3.10/dist-packages/sklearn/cluster/_kmeans.py:870: FutureWarning: The default value of `n_init` will change from 10 to 'auto' in 1.4. Set the value of `n_init` explicitly to suppress the warning\n",
            "  warnings.warn(\n",
            "/usr/local/lib/python3.10/dist-packages/sklearn/cluster/_kmeans.py:870: FutureWarning: The default value of `n_init` will change from 10 to 'auto' in 1.4. Set the value of `n_init` explicitly to suppress the warning\n",
            "  warnings.warn(\n",
            "/usr/local/lib/python3.10/dist-packages/sklearn/cluster/_kmeans.py:870: FutureWarning: The default value of `n_init` will change from 10 to 'auto' in 1.4. Set the value of `n_init` explicitly to suppress the warning\n",
            "  warnings.warn(\n",
            "/usr/local/lib/python3.10/dist-packages/sklearn/cluster/_kmeans.py:870: FutureWarning: The default value of `n_init` will change from 10 to 'auto' in 1.4. Set the value of `n_init` explicitly to suppress the warning\n",
            "  warnings.warn(\n",
            "/usr/local/lib/python3.10/dist-packages/sklearn/cluster/_kmeans.py:870: FutureWarning: The default value of `n_init` will change from 10 to 'auto' in 1.4. Set the value of `n_init` explicitly to suppress the warning\n",
            "  warnings.warn(\n"
          ]
        },
        {
          "output_type": "display_data",
          "data": {
            "text/plain": [
              "<Figure size 640x480 with 1 Axes>"
            ],
            "image/png": "[encoded data removed]"
          },
          "metadata": {}
        }
      ]
    },
    {
      "cell_type": "code",
      "source": [
        "from sklearn.cluster import KMeans\n",
        "import matplotlib.pyplot as plt\n",
        "from sklearn.metrics import silhouette_score\n",
        "\n",
        "# Define the range of cluster numbers to try\n",
        "cluster_range = range(2, 11)\n",
        "\n",
        "# Create an empty list to store the silhouette scores\n",
        "silhouette_scores = []\n",
        "\n",
        "# Loop through the range of cluster numbers\n",
        "for n_clusters in cluster_range:\n",
        "    # Create a KMeans model with the current number of clusters\n",
        "    model = KMeans(n_clusters=n_clusters, random_state=42)\n",
        "\n",
        "    # Fit the model to the data\n",
        "    model.fit(df_scaled)\n",
        "\n",
        "    # Calculate the silhouette score for the current number of clusters\n",
        "    silhouette_score_current = silhouette_score(df_scaled, model.labels_)\n",
        "\n",
        "    # Append the silhouette score to the list\n",
        "    silhouette_scores.append(silhouette_score_current)\n",
        "\n",
        "# Plot the elbow plot\n",
        "#plt.plot(cluster_range, silhouette_scores)\n",
        "#plt.xlabel(\"Number of Clusters\")\n",
        "#plt.ylabel(\"Silhouette Score\")\n",
        "#plt.title(\"Elbow Plot for KMeans Clustering\")\n",
        "#plt.show()\n",
        "\n",
        "# Find the optimal number of clusters based on the silhouette score\n",
        "optimal_clusters = silhouette_scores.index(max(silhouette_scores)) + 2\n",
        "\n",
        "# Create the KMeans model with the optimal number of clusters\n",
        "model = KMeans(n_clusters=optimal_clusters, random_state=42)\n",
        "\n",
        "# Fit the model to the data\n",
        "model.fit(df_scaled)\n",
        "\n",
        "# Print the optimal number of clusters\n",
        "print(\"Optimal number of clusters:\", optimal_clusters)"
      ],
      "metadata": {
        "colab": {
          "base_uri": "https://localhost:8080/"
        },
        "id": "iP-14a5A3sFj",
        "outputId": "8b547bc1-2835-4a28-983c-854b6e276411"
      },
      "execution_count": 36,
      "outputs": [
        {
          "output_type": "stream",
          "name": "stderr",
          "text": [
            "/usr/local/lib/python3.10/dist-packages/sklearn/cluster/_kmeans.py:870: FutureWarning: The default value of `n_init` will change from 10 to 'auto' in 1.4. Set the value of `n_init` explicitly to suppress the warning\n",
            "  warnings.warn(\n",
            "/usr/local/lib/python3.10/dist-packages/sklearn/cluster/_kmeans.py:870: FutureWarning: The default value of `n_init` will change from 10 to 'auto' in 1.4. Set the value of `n_init` explicitly to suppress the warning\n",
            "  warnings.warn(\n",
            "/usr/local/lib/python3.10/dist-packages/sklearn/cluster/_kmeans.py:870: FutureWarning: The default value of `n_init` will change from 10 to 'auto' in 1.4. Set the value of `n_init` explicitly to suppress the warning\n",
            "  warnings.warn(\n",
            "/usr/local/lib/python3.10/dist-packages/sklearn/cluster/_kmeans.py:870: FutureWarning: The default value of `n_init` will change from 10 to 'auto' in 1.4. Set the value of `n_init` explicitly to suppress the warning\n",
            "  warnings.warn(\n",
            "/usr/local/lib/python3.10/dist-packages/sklearn/cluster/_kmeans.py:870: FutureWarning: The default value of `n_init` will change from 10 to 'auto' in 1.4. Set the value of `n_init` explicitly to suppress the warning\n",
            "  warnings.warn(\n",
            "/usr/local/lib/python3.10/dist-packages/sklearn/cluster/_kmeans.py:870: FutureWarning: The default value of `n_init` will change from 10 to 'auto' in 1.4. Set the value of `n_init` explicitly to suppress the warning\n",
            "  warnings.warn(\n",
            "/usr/local/lib/python3.10/dist-packages/sklearn/cluster/_kmeans.py:870: FutureWarning: The default value of `n_init` will change from 10 to 'auto' in 1.4. Set the value of `n_init` explicitly to suppress the warning\n",
            "  warnings.warn(\n",
            "/usr/local/lib/python3.10/dist-packages/sklearn/cluster/_kmeans.py:870: FutureWarning: The default value of `n_init` will change from 10 to 'auto' in 1.4. Set the value of `n_init` explicitly to suppress the warning\n",
            "  warnings.warn(\n",
            "/usr/local/lib/python3.10/dist-packages/sklearn/cluster/_kmeans.py:870: FutureWarning: The default value of `n_init` will change from 10 to 'auto' in 1.4. Set the value of `n_init` explicitly to suppress the warning\n",
            "  warnings.warn(\n",
            "/usr/local/lib/python3.10/dist-packages/sklearn/cluster/_kmeans.py:870: FutureWarning: The default value of `n_init` will change from 10 to 'auto' in 1.4. Set the value of `n_init` explicitly to suppress the warning\n",
            "  warnings.warn(\n"
          ]
        },
        {
          "output_type": "stream",
          "name": "stdout",
          "text": [
            "Optimal number of clusters: 5\n"
          ]
        }
      ]
    },
    {
      "cell_type": "markdown",
      "source": [
        "**Visuals explaination**"
      ],
      "metadata": {
        "id": "VBXErUu9P9Ap"
      }
    },
    {
      "cell_type": "markdown",
      "source": [
        "1. Based on the elbow plot, the optimal number of clusters is 3. This is the point where the silhouette score starts to level off, indicating that adding more clusters will not significantly improve the quality of the clustering.\n",
        "\n",
        "2. The elbow plot shows that the silhouette score increases rapidly as the number of clusters increases from 2 to 3. This indicates that adding more clusters is improving the quality of the clustering. However, the silhouette score starts to level off after 3 clusters. This indicates that adding more clusters will not significantly improve the quality of the clustering\n",
        "\n",
        "3. Therefore, the optimal number of clusters is 3. This means that the houses can be best grouped into 3 distinct clusters based on their features.\n",
        "4.Optimal number of clusters: 5"
      ],
      "metadata": {
        "id": "TcTqYbPO5Jie"
      }
    },
    {
      "cell_type": "markdown",
      "source": [],
      "metadata": {
        "id": "yB7fHagf6jaN"
      }
    },
    {
      "cell_type": "code",
      "source": [
        "# Fit kmeans model with 2 clusters and display the silhouette score\n",
        "kmeans = KMeans(n_clusters = 2, n_init = 'auto', random_state = 42)\n",
        "kmeans.fit(df_scaled)\n",
        "silhouette_score(df_scaled, kmeans.labels_)\n"
      ],
      "metadata": {
        "colab": {
          "base_uri": "https://localhost:8080/"
        },
        "id": "Y61J8eWo9wtQ",
        "outputId": "2d21b43b-40d3-4f56-cc65-81ae2f66a181"
      },
      "execution_count": 33,
      "outputs": [
        {
          "output_type": "execute_result",
          "data": {
            "text/plain": [
              "0.19341415610745394"
            ]
          },
          "metadata": {},
          "execution_count": 33
        }
      ]
    },
    {
      "cell_type": "code",
      "source": [
        "df_scaled['Cluster'] = kmeans.labels_ # Add the cluster labels to the DataFrame\n",
        "silhouette_score(df_scaled, kmeans.labels_)"
      ],
      "metadata": {
        "colab": {
          "base_uri": "https://localhost:8080/",
          "height": 180
        },
        "id": "Jnz1s47Y9ikJ",
        "outputId": "3199795a-a439-4077-b69e-3b1eefec07a2"
      },
      "execution_count": 34,
      "outputs": [
        {
          "output_type": "error",
          "ename": "IndexError",
          "evalue": "only integers, slices (`:`), ellipsis (`...`), numpy.newaxis (`None`) and integer or boolean arrays are valid indices",
          "traceback": [
            "\u001b[0;31m---------------------------------------------------------------------------\u001b[0m",
            "\u001b[0;31mIndexError\u001b[0m                                Traceback (most recent call last)",
            "\u001b[0;32m<ipython-input-34-02b1c71d3437>\u001b[0m in \u001b[0;36m<cell line: 1>\u001b[0;34m()\u001b[0m\n\u001b[0;32m----> 1\u001b[0;31m \u001b[0mdf_scaled\u001b[0m\u001b[0;34m[\u001b[0m\u001b[0;34m'Cluster'\u001b[0m\u001b[0;34m]\u001b[0m \u001b[0;34m=\u001b[0m \u001b[0mkmeans\u001b[0m\u001b[0;34m.\u001b[0m\u001b[0mlabels_\u001b[0m \u001b[0;31m# Add the cluster labels to the DataFrame\u001b[0m\u001b[0;34m\u001b[0m\u001b[0;34m\u001b[0m\u001b[0m\n\u001b[0m\u001b[1;32m      2\u001b[0m \u001b[0msilhouette_score\u001b[0m\u001b[0;34m(\u001b[0m\u001b[0mdf_scaled\u001b[0m\u001b[0;34m,\u001b[0m \u001b[0mkmeans\u001b[0m\u001b[0;34m.\u001b[0m\u001b[0mlabels_\u001b[0m\u001b[0;34m)\u001b[0m\u001b[0;34m\u001b[0m\u001b[0;34m\u001b[0m\u001b[0m\n",
            "\u001b[0;31mIndexError\u001b[0m: only integers, slices (`:`), ellipsis (`...`), numpy.newaxis (`None`) and integer or boolean arrays are valid indices"
          ]
        }
      ]
    },
    {
      "cell_type": "code",
      "source": [
        "# Visualize clusters using a pairplot\n",
        "sns.pairplot(df, hue='Cluster', palette='Set1', markers=[\"o\", \"s\", \"D\"])\n",
        "plt.suptitle('House S by Clusters', y=1.02)\n",
        "plt.show()\n",
        "\n",
        "# For more detailed visualization, you might want to visualize clusters on specific features\n",
        "plt.figure(figsize=(10, 6))\n",
        "sns.scatterplot(data=df, x='SalePrice', y='BrickStone', hue='Cluster', palette='Set1')\n",
        "plt.title('House Brickstone by SalePrice')\n",
        "plt.xlabel('SalePrice')\n",
        "plt.ylabel('Brickstone')\n",
        "plt.show()"
      ],
      "metadata": {
        "id": "hvZoy0Lv_tqM"
      },
      "execution_count": null,
      "outputs": []
    },
    {
      "cell_type": "markdown",
      "source": [
        "**Part 2: Modeling Instructions:**"
      ],
      "metadata": {
        "id": "jAo46qkCA84w"
      }
    },
    {
      "cell_type": "markdown",
      "source": [
        "The house flipping company has provided new data about when the homes were sold and what businesses are nearby. This new data has created a very large number of columns as the businesses, months sold, and years sold are all one-hot encoded.\n",
        "\n",
        "They would like you to use this new dataset to create a deep-learning model that predicts the likely sale price for a new home coming to market.\n",
        "\n",
        "Note: SalePrice is your target variable"
      ],
      "metadata": {
        "id": "8MdriAJyBJNT"
      }
    },
    {
      "cell_type": "markdown",
      "source": [
        "**Load this dataset for modeling **"
      ],
      "metadata": {
        "id": "xiBtEcNKBCVu"
      }
    },
    {
      "cell_type": "code",
      "source": [
        "import pandas as pd\n",
        "import numpy as np\n",
        "filename = '/content/drive/MyDrive/Week2_data/Machine Learning Data Sets/option_A_modeling_df - option_A_modeling_df.csv'\n",
        "df2 = pd.read_csv(filename)\n",
        "df2.head()"
      ],
      "metadata": {
        "id": "DDzvjJZMBQ2N"
      },
      "execution_count": null,
      "outputs": []
    },
    {
      "cell_type": "code",
      "source": [
        "# Check the data frame info\n",
        "df2.info()"
      ],
      "metadata": {
        "id": "JcHp_5LCCJuf"
      },
      "execution_count": null,
      "outputs": []
    },
    {
      "cell_type": "code",
      "source": [
        "# Check the data types of each column\n",
        "df2.dtypes"
      ],
      "metadata": {
        "id": "E8kN7WJuCJug"
      },
      "execution_count": null,
      "outputs": []
    },
    {
      "cell_type": "code",
      "source": [
        "# Check for missing values\n",
        "df2.isna().sum()"
      ],
      "metadata": {
        "id": "K4yLSmCiCJuh"
      },
      "execution_count": null,
      "outputs": []
    },
    {
      "cell_type": "code",
      "source": [
        "# Print the summary statistics of the data\n",
        "df2.describe()"
      ],
      "metadata": {
        "id": "NmtfzjZaCJuh"
      },
      "execution_count": null,
      "outputs": []
    },
    {
      "cell_type": "code",
      "source": [
        "# Check for duplicate rows\n",
        "df2.duplicated().sum()"
      ],
      "metadata": {
        "id": "_g43N5laCJui"
      },
      "execution_count": null,
      "outputs": []
    },
    {
      "cell_type": "code",
      "source": [
        "from sklearn.decomposition import PCA\n",
        "from sklearn.model_selection import train_test_split\n",
        "\n",
        "# 1. Create a PCA instance with the desired number of components\n",
        "pca = PCA(n_components=0.95, copy=True)\n",
        "\n",
        "# 2. Fit the PCA instance to the scaled data\n",
        "df_scaled_pca = pca.fit_transform(df2)\n",
        "\n",
        "# Get the index of the 'SalePrice' column\n",
        "sale_price_index = df_scaled_pca.get_loc('SalePrice')\n",
        "\n",
        "# Split the data into train, validation, and test sets\n",
        "X_train, X_val, X_test, y_train, y_val, y_test = train_test_split(df_scaled_pca, df_scaled_pca.iloc[:, sale_price_index], test_size=0.2, random_state=42)"
      ],
      "metadata": {
        "id": "O7PAmJZeSjxl"
      },
      "execution_count": null,
      "outputs": []
    },
    {
      "cell_type": "code",
      "source": [
        "from sklearn.decomposition import PCA\n",
        "from sklearn.model_selection import train_test_split\n",
        "# 1. Create a PCA instance with the desired number of components\n",
        "pca = PCA(n_components=0.95)\n",
        "\n",
        "# 2. Fit the PCA instance to the scaled data\n",
        "df_scaled_pca = pca.fit_transform(df2)\n",
        "\n",
        "# Get the index of the 'SalePrice' column\n",
        "sale_price_index = df_scaled_pca.columns.get_loc('SalePrice')\n",
        "\n",
        "# Split the data into train, validation, and test sets\n",
        "X_train, X_val, X_test, y_train, y_val, y_test = train_test_split(df_scaled_pca, df_scaled_pca.iloc[:, sale_price_index], test_size=0.2, random_state=42)\n"
      ],
      "metadata": {
        "id": "yWgA7yYGNR6N"
      },
      "execution_count": null,
      "outputs": []
    },
    {
      "cell_type": "code",
      "source": [
        "from tensorflow.keras.models import Sequential\n",
        "from tensorflow.keras.layers import Dense\n",
        "\n",
        "# 1. Define the model\n",
        "model = Sequential()\n",
        "model.add(Dense(64, activation='relu', input_shape=(X_train.shape[1],)))\n",
        "model.add(Dense(32, activation='relu'))\n",
        "model.add(Dense(1))\n",
        "\n",
        "# 2. Compile the model\n",
        "model.compile(loss='mse', optimizer='adam')\n",
        "\n",
        "# 3. Train the model\n",
        "model.fit(X_train, y_train, epochs=10, batch_size=32, validation_data=(X_val, y_val))"
      ],
      "metadata": {
        "id": "UPoBX5DCPIVj"
      },
      "execution_count": null,
      "outputs": []
    },
    {
      "cell_type": "code",
      "source": [
        "# 3.2 Build and train your deep learning model using X_train and y_train\n",
        "model = ...\n",
        "\n",
        "# 3.3 Evaluate your model on the validation set using X_val and y_val\n",
        "model.evaluate(X_val, y_val)\n",
        "\n",
        "# 3.4 Fine-tune your model based on the validation results\n",
        "\n",
        "# 3.5 Once satisfied with your model, evaluate it on the test set using X_test and y_test\n",
        "model.evaluate(X_test, y_test)"
      ],
      "metadata": {
        "id": "ez4gMFdnQz7x"
      },
      "execution_count": null,
      "outputs": []
    }
  ]
}