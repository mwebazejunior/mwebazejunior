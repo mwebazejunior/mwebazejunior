{
  "nbformat": 4,
  "nbformat_minor": 0,
  "metadata": {
    "colab": {
      "provenance": []
    },
    "kernelspec": {
      "name": "python3",
      "display_name": "Python 3"
    },
    "language_info": {
      "name": "python"
    }
  },
  "cells": [
    {
      "cell_type": "markdown",
      "source": [
        "**Task**\n",
        "\n",
        "In this assignment, you will use anomaly detection techniques to detect credit card fraud using this modified dataset originally from Kaggle.  Each row represents one credit card transaction.  This dataset has anonymized features, except for the amount of the transaction.  \n",
        "\n",
        "Your stakeholder reports that they have found that about 0.4% of transactions are fraudulent, and 99.6% are valid.  \n",
        "\n",
        "Your task will be to locate anomalous transactions in this data using KMeans and IsolationForest models  "
      ],
      "metadata": {
        "id": "WX6XvMZipHo-"
      }
    },
    {
      "cell_type": "code",
      "execution_count": 1,
      "metadata": {
        "colab": {
          "base_uri": "https://localhost:8080/"
        },
        "id": "mmFXw99Vo5yD",
        "outputId": "dabf1c68-7457-4e8e-a99a-fb1d8493aac8"
      },
      "outputs": [
        {
          "output_type": "stream",
          "name": "stdout",
          "text": [
            "Mounted at /content/drive\n"
          ]
        }
      ],
      "source": [
        "from google.colab import drive\n",
        "drive.mount('/content/drive')"
      ]
    },
    {
      "cell_type": "code",
      "source": [
        "import pandas as pd\n",
        "import numpy as np\n",
        "filename = '/content/drive/MyDrive/Week2_data/Machine Learning Data Sets/credit_card.csv'\n",
        "df = pd.read_csv(filename)\n",
        "df.head()"
      ],
      "metadata": {
        "colab": {
          "base_uri": "https://localhost:8080/",
          "height": 256
        },
        "id": "O69ba04VyNLn",
        "outputId": "f5be2224-752f-4194-abb8-9bceb8d032d2"
      },
      "execution_count": 2,
      "outputs": [
        {
          "output_type": "execute_result",
          "data": {
            "text/plain": [
              "         V1        V2        V3        V4        V5        V6        V7  \\\n",
              "0 -1.359807 -0.072781  2.536347  1.378155 -0.338321  0.462388  0.239599   \n",
              "1  1.191857  0.266151  0.166480  0.448154  0.060018 -0.082361 -0.078803   \n",
              "2 -1.358354 -1.340163  1.773209  0.379780 -0.503198  1.800499  0.791461   \n",
              "3 -0.966272 -0.185226  1.792993 -0.863291 -0.010309  1.247203  0.237609   \n",
              "4 -1.158233  0.877737  1.548718  0.403034 -0.407193  0.095921  0.592941   \n",
              "\n",
              "         V8        V9       V10  ...       V20       V21       V22       V23  \\\n",
              "0  0.098698  0.363787  0.090794  ...  0.251412 -0.018307  0.277838 -0.110474   \n",
              "1  0.085102 -0.255425 -0.166974  ... -0.069083 -0.225775 -0.638672  0.101288   \n",
              "2  0.247676 -1.514654  0.207643  ...  0.524980  0.247998  0.771679  0.909412   \n",
              "3  0.377436 -1.387024 -0.054952  ... -0.208038 -0.108300  0.005274 -0.190321   \n",
              "4 -0.270533  0.817739  0.753074  ...  0.408542 -0.009431  0.798278 -0.137458   \n",
              "\n",
              "        V24       V25       V26       V27       V28  Amount  \n",
              "0  0.066928  0.128539 -0.189115  0.133558 -0.021053  149.62  \n",
              "1 -0.339846  0.167170  0.125895 -0.008983  0.014724    2.69  \n",
              "2 -0.689281 -0.327642 -0.139097 -0.055353 -0.059752  378.66  \n",
              "3 -1.175575  0.647376 -0.221929  0.062723  0.061458  123.50  \n",
              "4  0.141267 -0.206010  0.502292  0.219422  0.215153   69.99  \n",
              "\n",
              "[5 rows x 29 columns]"
            ],
            "text/html": [
              "\n",
              "  <div id=\"df-ec5a2993-466c-4a73-9379-73c7770692bc\" class=\"colab-df-container\">\n",
              "    <div>\n",
              "<style scoped>\n",
              "    .dataframe tbody tr th:only-of-type {\n",
              "        vertical-align: middle;\n",
              "    }\n",
              "\n",
              "    .dataframe tbody tr th {\n",
              "        vertical-align: top;\n",
              "    }\n",
              "\n",
              "    .dataframe thead th {\n",
              "        text-align: right;\n",
              "    }\n",
              "</style>\n",
              "<table border=\"1\" class=\"dataframe\">\n",
              "  <thead>\n",
              "    <tr style=\"text-align: right;\">\n",
              "      <th></th>\n",
              "      <th>V1</th>\n",
              "      <th>V2</th>\n",
              "      <th>V3</th>\n",
              "      <th>V4</th>\n",
              "      <th>V5</th>\n",
              "      <th>V6</th>\n",
              "      <th>V7</th>\n",
              "      <th>V8</th>\n",
              "      <th>V9</th>\n",
              "      <th>V10</th>\n",
              "      <th>...</th>\n",
              "      <th>V20</th>\n",
              "      <th>V21</th>\n",
              "      <th>V22</th>\n",
              "      <th>V23</th>\n",
              "      <th>V24</th>\n",
              "      <th>V25</th>\n",
              "      <th>V26</th>\n",
              "      <th>V27</th>\n",
              "      <th>V28</th>\n",
              "      <th>Amount</th>\n",
              "    </tr>\n",
              "  </thead>\n",
              "  <tbody>\n",
              "    <tr>\n",
              "      <th>0</th>\n",
              "      <td>-1.359807</td>\n",
              "      <td>-0.072781</td>\n",
              "      <td>2.536347</td>\n",
              "      <td>1.378155</td>\n",
              "      <td>-0.338321</td>\n",
              "      <td>0.462388</td>\n",
              "      <td>0.239599</td>\n",
              "      <td>0.098698</td>\n",
              "      <td>0.363787</td>\n",
              "      <td>0.090794</td>\n",
              "      <td>...</td>\n",
              "      <td>0.251412</td>\n",
              "      <td>-0.018307</td>\n",
              "      <td>0.277838</td>\n",
              "      <td>-0.110474</td>\n",
              "      <td>0.066928</td>\n",
              "      <td>0.128539</td>\n",
              "      <td>-0.189115</td>\n",
              "      <td>0.133558</td>\n",
              "      <td>-0.021053</td>\n",
              "      <td>149.62</td>\n",
              "    </tr>\n",
              "    <tr>\n",
              "      <th>1</th>\n",
              "      <td>1.191857</td>\n",
              "      <td>0.266151</td>\n",
              "      <td>0.166480</td>\n",
              "      <td>0.448154</td>\n",
              "      <td>0.060018</td>\n",
              "      <td>-0.082361</td>\n",
              "      <td>-0.078803</td>\n",
              "      <td>0.085102</td>\n",
              "      <td>-0.255425</td>\n",
              "      <td>-0.166974</td>\n",
              "      <td>...</td>\n",
              "      <td>-0.069083</td>\n",
              "      <td>-0.225775</td>\n",
              "      <td>-0.638672</td>\n",
              "      <td>0.101288</td>\n",
              "      <td>-0.339846</td>\n",
              "      <td>0.167170</td>\n",
              "      <td>0.125895</td>\n",
              "      <td>-0.008983</td>\n",
              "      <td>0.014724</td>\n",
              "      <td>2.69</td>\n",
              "    </tr>\n",
              "    <tr>\n",
              "      <th>2</th>\n",
              "      <td>-1.358354</td>\n",
              "      <td>-1.340163</td>\n",
              "      <td>1.773209</td>\n",
              "      <td>0.379780</td>\n",
              "      <td>-0.503198</td>\n",
              "      <td>1.800499</td>\n",
              "      <td>0.791461</td>\n",
              "      <td>0.247676</td>\n",
              "      <td>-1.514654</td>\n",
              "      <td>0.207643</td>\n",
              "      <td>...</td>\n",
              "      <td>0.524980</td>\n",
              "      <td>0.247998</td>\n",
              "      <td>0.771679</td>\n",
              "      <td>0.909412</td>\n",
              "      <td>-0.689281</td>\n",
              "      <td>-0.327642</td>\n",
              "      <td>-0.139097</td>\n",
              "      <td>-0.055353</td>\n",
              "      <td>-0.059752</td>\n",
              "      <td>378.66</td>\n",
              "    </tr>\n",
              "    <tr>\n",
              "      <th>3</th>\n",
              "      <td>-0.966272</td>\n",
              "      <td>-0.185226</td>\n",
              "      <td>1.792993</td>\n",
              "      <td>-0.863291</td>\n",
              "      <td>-0.010309</td>\n",
              "      <td>1.247203</td>\n",
              "      <td>0.237609</td>\n",
              "      <td>0.377436</td>\n",
              "      <td>-1.387024</td>\n",
              "      <td>-0.054952</td>\n",
              "      <td>...</td>\n",
              "      <td>-0.208038</td>\n",
              "      <td>-0.108300</td>\n",
              "      <td>0.005274</td>\n",
              "      <td>-0.190321</td>\n",
              "      <td>-1.175575</td>\n",
              "      <td>0.647376</td>\n",
              "      <td>-0.221929</td>\n",
              "      <td>0.062723</td>\n",
              "      <td>0.061458</td>\n",
              "      <td>123.50</td>\n",
              "    </tr>\n",
              "    <tr>\n",
              "      <th>4</th>\n",
              "      <td>-1.158233</td>\n",
              "      <td>0.877737</td>\n",
              "      <td>1.548718</td>\n",
              "      <td>0.403034</td>\n",
              "      <td>-0.407193</td>\n",
              "      <td>0.095921</td>\n",
              "      <td>0.592941</td>\n",
              "      <td>-0.270533</td>\n",
              "      <td>0.817739</td>\n",
              "      <td>0.753074</td>\n",
              "      <td>...</td>\n",
              "      <td>0.408542</td>\n",
              "      <td>-0.009431</td>\n",
              "      <td>0.798278</td>\n",
              "      <td>-0.137458</td>\n",
              "      <td>0.141267</td>\n",
              "      <td>-0.206010</td>\n",
              "      <td>0.502292</td>\n",
              "      <td>0.219422</td>\n",
              "      <td>0.215153</td>\n",
              "      <td>69.99</td>\n",
              "    </tr>\n",
              "  </tbody>\n",
              "</table>\n",
              "<p>5 rows × 29 columns</p>\n",
              "</div>\n",
              "    <div class=\"colab-df-buttons\">\n",
              "\n",
              "  <div class=\"colab-df-container\">\n",
              "    <button class=\"colab-df-convert\" onclick=\"convertToInteractive('df-ec5a2993-466c-4a73-9379-73c7770692bc')\"\n",
              "            title=\"Convert this dataframe to an interactive table.\"\n",
              "            style=\"display:none;\">\n",
              "\n",
              "  <svg xmlns=\"http://www.w3.org/2000/svg\" height=\"24px\" viewBox=\"0 -960 960 960\">\n",
              "    <path d=\"M120-120v-720h720v720H120Zm60-500h600v-160H180v160Zm220 220h160v-160H400v160Zm0 220h160v-160H400v160ZM180-400h160v-160H180v160Zm440 0h160v-160H620v160ZM180-180h160v-160H180v160Zm440 0h160v-160H620v160Z\"/>\n",
              "  </svg>\n",
              "    </button>\n",
              "\n",
              "  <style>\n",
              "    .colab-df-container {\n",
              "      display:flex;\n",
              "      gap: 12px;\n",
              "    }\n",
              "\n",
              "    .colab-df-convert {\n",
              "      background-color: #E8F0FE;\n",
              "      border: none;\n",
              "      border-radius: 50%;\n",
              "      cursor: pointer;\n",
              "      display: none;\n",
              "      fill: #1967D2;\n",
              "      height: 32px;\n",
              "      padding: 0 0 0 0;\n",
              "      width: 32px;\n",
              "    }\n",
              "\n",
              "    .colab-df-convert:hover {\n",
              "      background-color: #E2EBFA;\n",
              "      box-shadow: 0px 1px 2px rgba(60, 64, 67, 0.3), 0px 1px 3px 1px rgba(60, 64, 67, 0.15);\n",
              "      fill: #174EA6;\n",
              "    }\n",
              "\n",
              "    .colab-df-buttons div {\n",
              "      margin-bottom: 4px;\n",
              "    }\n",
              "\n",
              "    [theme=dark] .colab-df-convert {\n",
              "      background-color: #3B4455;\n",
              "      fill: #D2E3FC;\n",
              "    }\n",
              "\n",
              "    [theme=dark] .colab-df-convert:hover {\n",
              "      background-color: #434B5C;\n",
              "      box-shadow: 0px 1px 3px 1px rgba(0, 0, 0, 0.15);\n",
              "      filter: drop-shadow(0px 1px 2px rgba(0, 0, 0, 0.3));\n",
              "      fill: #FFFFFF;\n",
              "    }\n",
              "  </style>\n",
              "\n",
              "    <script>\n",
              "      const buttonEl =\n",
              "        document.querySelector('#df-ec5a2993-466c-4a73-9379-73c7770692bc button.colab-df-convert');\n",
              "      buttonEl.style.display =\n",
              "        google.colab.kernel.accessAllowed ? 'block' : 'none';\n",
              "\n",
              "      async function convertToInteractive(key) {\n",
              "        const element = document.querySelector('#df-ec5a2993-466c-4a73-9379-73c7770692bc');\n",
              "        const dataTable =\n",
              "          await google.colab.kernel.invokeFunction('convertToInteractive',\n",
              "                                                    [key], {});\n",
              "        if (!dataTable) return;\n",
              "\n",
              "        const docLinkHtml = 'Like what you see? Visit the ' +\n",
              "          '<a target=\"_blank\" href=https://colab.research.google.com/notebooks/data_table.ipynb>data table notebook</a>'\n",
              "          + ' to learn more about interactive tables.';\n",
              "        element.innerHTML = '';\n",
              "        dataTable['output_type'] = 'display_data';\n",
              "        await google.colab.output.renderOutput(dataTable, element);\n",
              "        const docLink = document.createElement('div');\n",
              "        docLink.innerHTML = docLinkHtml;\n",
              "        element.appendChild(docLink);\n",
              "      }\n",
              "    </script>\n",
              "  </div>\n",
              "\n",
              "\n",
              "<div id=\"df-5a00531a-c264-4723-8da1-96df2f66747c\">\n",
              "  <button class=\"colab-df-quickchart\" onclick=\"quickchart('df-5a00531a-c264-4723-8da1-96df2f66747c')\"\n",
              "            title=\"Suggest charts\"\n",
              "            style=\"display:none;\">\n",
              "\n",
              "<svg xmlns=\"http://www.w3.org/2000/svg\" height=\"24px\"viewBox=\"0 0 24 24\"\n",
              "     width=\"24px\">\n",
              "    <g>\n",
              "        <path d=\"M19 3H5c-1.1 0-2 .9-2 2v14c0 1.1.9 2 2 2h14c1.1 0 2-.9 2-2V5c0-1.1-.9-2-2-2zM9 17H7v-7h2v7zm4 0h-2V7h2v10zm4 0h-2v-4h2v4z\"/>\n",
              "    </g>\n",
              "</svg>\n",
              "  </button>\n",
              "\n",
              "<style>\n",
              "  .colab-df-quickchart {\n",
              "      --bg-color: #E8F0FE;\n",
              "      --fill-color: #1967D2;\n",
              "      --hover-bg-color: #E2EBFA;\n",
              "      --hover-fill-color: #174EA6;\n",
              "      --disabled-fill-color: #AAA;\n",
              "      --disabled-bg-color: #DDD;\n",
              "  }\n",
              "\n",
              "  [theme=dark] .colab-df-quickchart {\n",
              "      --bg-color: #3B4455;\n",
              "      --fill-color: #D2E3FC;\n",
              "      --hover-bg-color: #434B5C;\n",
              "      --hover-fill-color: #FFFFFF;\n",
              "      --disabled-bg-color: #3B4455;\n",
              "      --disabled-fill-color: #666;\n",
              "  }\n",
              "\n",
              "  .colab-df-quickchart {\n",
              "    background-color: var(--bg-color);\n",
              "    border: none;\n",
              "    border-radius: 50%;\n",
              "    cursor: pointer;\n",
              "    display: none;\n",
              "    fill: var(--fill-color);\n",
              "    height: 32px;\n",
              "    padding: 0;\n",
              "    width: 32px;\n",
              "  }\n",
              "\n",
              "  .colab-df-quickchart:hover {\n",
              "    background-color: var(--hover-bg-color);\n",
              "    box-shadow: 0 1px 2px rgba(60, 64, 67, 0.3), 0 1px 3px 1px rgba(60, 64, 67, 0.15);\n",
              "    fill: var(--button-hover-fill-color);\n",
              "  }\n",
              "\n",
              "  .colab-df-quickchart-complete:disabled,\n",
              "  .colab-df-quickchart-complete:disabled:hover {\n",
              "    background-color: var(--disabled-bg-color);\n",
              "    fill: var(--disabled-fill-color);\n",
              "    box-shadow: none;\n",
              "  }\n",
              "\n",
              "  .colab-df-spinner {\n",
              "    border: 2px solid var(--fill-color);\n",
              "    border-color: transparent;\n",
              "    border-bottom-color: var(--fill-color);\n",
              "    animation:\n",
              "      spin 1s steps(1) infinite;\n",
              "  }\n",
              "\n",
              "  @keyframes spin {\n",
              "    0% {\n",
              "      border-color: transparent;\n",
              "      border-bottom-color: var(--fill-color);\n",
              "      border-left-color: var(--fill-color);\n",
              "    }\n",
              "    20% {\n",
              "      border-color: transparent;\n",
              "      border-left-color: var(--fill-color);\n",
              "      border-top-color: var(--fill-color);\n",
              "    }\n",
              "    30% {\n",
              "      border-color: transparent;\n",
              "      border-left-color: var(--fill-color);\n",
              "      border-top-color: var(--fill-color);\n",
              "      border-right-color: var(--fill-color);\n",
              "    }\n",
              "    40% {\n",
              "      border-color: transparent;\n",
              "      border-right-color: var(--fill-color);\n",
              "      border-top-color: var(--fill-color);\n",
              "    }\n",
              "    60% {\n",
              "      border-color: transparent;\n",
              "      border-right-color: var(--fill-color);\n",
              "    }\n",
              "    80% {\n",
              "      border-color: transparent;\n",
              "      border-right-color: var(--fill-color);\n",
              "      border-bottom-color: var(--fill-color);\n",
              "    }\n",
              "    90% {\n",
              "      border-color: transparent;\n",
              "      border-bottom-color: var(--fill-color);\n",
              "    }\n",
              "  }\n",
              "</style>\n",
              "\n",
              "  <script>\n",
              "    async function quickchart(key) {\n",
              "      const quickchartButtonEl =\n",
              "        document.querySelector('#' + key + ' button');\n",
              "      quickchartButtonEl.disabled = true;  // To prevent multiple clicks.\n",
              "      quickchartButtonEl.classList.add('colab-df-spinner');\n",
              "      try {\n",
              "        const charts = await google.colab.kernel.invokeFunction(\n",
              "            'suggestCharts', [key], {});\n",
              "      } catch (error) {\n",
              "        console.error('Error during call to suggestCharts:', error);\n",
              "      }\n",
              "      quickchartButtonEl.classList.remove('colab-df-spinner');\n",
              "      quickchartButtonEl.classList.add('colab-df-quickchart-complete');\n",
              "    }\n",
              "    (() => {\n",
              "      let quickchartButtonEl =\n",
              "        document.querySelector('#df-5a00531a-c264-4723-8da1-96df2f66747c button');\n",
              "      quickchartButtonEl.style.display =\n",
              "        google.colab.kernel.accessAllowed ? 'block' : 'none';\n",
              "    })();\n",
              "  </script>\n",
              "</div>\n",
              "\n",
              "    </div>\n",
              "  </div>\n"
            ],
            "application/vnd.google.colaboratory.intrinsic+json": {
              "type": "dataframe",
              "variable_name": "df"
            }
          },
          "metadata": {},
          "execution_count": 2
        }
      ]
    },
    {
      "cell_type": "markdown",
      "source": [
        "1. KMeans:\n",
        "    Remember to scale your data."
      ],
      "metadata": {
        "id": "O-8FOHsfycYN"
      }
    },
    {
      "cell_type": "code",
      "source": [
        "from sklearn.preprocessing import StandardScaler\n",
        "\n",
        "# First, standardize the data.\n",
        "scaler = StandardScaler()\n",
        "scaled_df = scaler.fit_transform(df)\n",
        "\n",
        "# Convert the scaled data back into a dataframe.\n",
        "scaled_df = pd.DataFrame(scaled_df, columns=df.columns)\n",
        "\n",
        "# Print the scaled dataframe.\n",
        "print(scaled_df)"
      ],
      "metadata": {
        "colab": {
          "base_uri": "https://localhost:8080/"
        },
        "id": "0BpZdd80ykWE",
        "outputId": "64cd7dcc-4217-4e1b-d1af-b956a3620877"
      },
      "execution_count": 4,
      "outputs": [
        {
          "output_type": "stream",
          "name": "stdout",
          "text": [
            "            V1        V2        V3        V4        V5        V6        V7  \\\n",
            "0    -0.726092 -0.270865  1.389980  0.762227 -0.236899  0.264052  0.285346   \n",
            "1     0.949810 -0.013020 -0.647336  0.110710  0.102482 -0.155239 -0.009963   \n",
            "2    -0.725138 -1.235035  0.733929  0.062810 -0.377373  1.293991  0.797185   \n",
            "3    -0.467623 -0.356408  0.750937 -0.808030  0.042565  0.868121  0.283501   \n",
            "4    -0.593701  0.452248  0.540940  0.079101 -0.295578 -0.018016  0.613062   \n",
            "...        ...       ...       ...       ...       ...       ...       ...   \n",
            "9995 -0.582254  0.822928  0.675781 -0.436159  0.339986 -0.211684  0.974073   \n",
            "9996 -0.698262  0.165437  1.081422 -0.358389  0.680357 -1.081387  0.501505   \n",
            "9997 -1.414777 -0.618350  1.992252 -1.944731 -0.344833 -0.355713 -0.631952   \n",
            "9998  0.243406 -0.143847 -0.412310  0.410330  1.823885  3.221485 -0.476516   \n",
            "9999  0.983163 -0.739865  0.058241 -0.449300 -0.925103 -0.067181 -0.895100   \n",
            "\n",
            "            V8        V9       V10  ...       V20       V21       V22  \\\n",
            "0     0.131083 -0.384443  0.286120  ...  0.370795  0.043066  0.689788   \n",
            "1     0.120253 -0.915428  0.051569  ... -0.167706 -0.185510 -0.760673   \n",
            "2     0.249752 -1.995239  0.392444  ...  0.830447  0.336466  1.471338   \n",
            "3     0.353112 -1.885794  0.153501  ... -0.401179 -0.056083  0.258431   \n",
            "4    -0.163028  0.004829  0.888749  ...  0.634808  0.052846  1.513434   \n",
            "...        ...       ...       ...  ...       ...       ...       ...   \n",
            "9995 -0.390541  0.960755  1.355617  ...  0.814716 -0.270513  0.367525   \n",
            "9996 -0.183794  0.417743 -0.314791  ... -0.233550 -0.472572 -1.408476   \n",
            "9997  0.059212  3.483615 -0.631703  ... -0.307809 -0.341595  1.258769   \n",
            "9998  0.691276  0.544611  0.187903  ...  0.599442  0.191866  1.413804   \n",
            "9999  0.163666 -0.009869  0.407191  ... -0.097439 -0.173153 -0.357450   \n",
            "\n",
            "           V23       V24       V25       V26       V27       V28    Amount  \n",
            "0    -0.163478  0.083851  0.099198 -0.532722  0.312929 -0.090009  0.459472  \n",
            "1     0.268858 -0.603364  0.188884  0.033761 -0.039088  0.043500 -0.333835  \n",
            "2     1.918734 -1.193707 -0.959876 -0.442774 -0.153601 -0.234422  1.696110  \n",
            "3    -0.326493 -2.015264  1.303733 -0.591732  0.137995  0.217896  0.318445  \n",
            "4    -0.218569  0.209441 -0.677493  0.710640  0.524976  0.791442  0.029532  \n",
            "...        ...       ...       ...       ...       ...       ...       ...  \n",
            "9995 -0.088748  0.237025 -1.341345  0.139345 -0.321884 -1.174255 -0.294421  \n",
            "9996 -0.474189  0.435388  0.174699 -0.266039 -0.080968 -0.507701 -0.309647  \n",
            "9997 -1.745143  0.963114  1.413275 -0.319949  0.927441 -0.675591 -0.191782  \n",
            "9998  0.400581  1.603386 -2.899046 -0.703646  0.333142  0.155375 -0.019007  \n",
            "9999  0.361856  0.230856  0.110034 -1.031957  0.000499  0.010078 -0.202634  \n",
            "\n",
            "[10000 rows x 29 columns]\n"
          ]
        }
      ]
    },
    {
      "cell_type": "markdown",
      "source": [
        "Fit a KMeans model to create 3 clusters.  Please use a random state of 42 for your model"
      ],
      "metadata": {
        "id": "0E7Lolx-zE64"
      }
    },
    {
      "cell_type": "code",
      "source": [
        "from sklearn.cluster import KMeans\n",
        "\n",
        "# Create a KMeans model with 3 clusters and a random state of 42.\n",
        "kmeans = KMeans(n_clusters=3, random_state=42)\n",
        "\n",
        "# Fit the model to the scaled data.\n",
        "kmeans.fit(scaled_df)\n",
        "\n",
        "# Print the cluster labels for each data point.\n",
        "print(kmeans.labels_)\n",
        "\n",
        "# Print the centroids of each cluster.\n",
        "print(kmeans.cluster_centers_)"
      ],
      "metadata": {
        "colab": {
          "base_uri": "https://localhost:8080/"
        },
        "id": "nU3kkEcXzbvD",
        "outputId": "e9372619-37aa-40dc-81ae-457f49dea907"
      },
      "execution_count": 5,
      "outputs": [
        {
          "output_type": "stream",
          "name": "stderr",
          "text": [
            "/usr/local/lib/python3.10/dist-packages/sklearn/cluster/_kmeans.py:870: FutureWarning: The default value of `n_init` will change from 10 to 'auto' in 1.4. Set the value of `n_init` explicitly to suppress the warning\n",
            "  warnings.warn(\n"
          ]
        },
        {
          "output_type": "stream",
          "name": "stdout",
          "text": [
            "[0 0 0 ... 1 2 1]\n",
            "[[-0.06119561  0.05322554 -0.05061978 -0.09420518 -0.11824847 -0.24471477\n",
            "   0.18512108 -0.0356982  -0.68030898  0.10818141 -0.47042577  0.99185734\n",
            "  -0.83726647 -0.72820605  0.42154493 -0.21780778 -0.4836122  -0.18047596\n",
            "   0.10261781  0.04121461  0.08462915  0.14268248 -0.04567203 -0.09513569\n",
            "  -0.01349789 -0.18952808  0.0986316   0.01302422  0.00740864]\n",
            " [ 0.03249854 -0.0081095   0.19028816  0.15197237 -0.14099175 -0.14527669\n",
            "  -0.05496933 -0.04263655  0.46376827 -0.0880422   0.34457241 -0.59300824\n",
            "   0.51981554  0.46046062 -0.31020637  0.05886361  0.34555366  0.09005483\n",
            "  -0.12956647 -0.05660812 -0.04425144 -0.00988856  0.02858709 -0.12567026\n",
            "  -0.04293532  0.16310144 -0.06738985 -0.00771176 -0.00405024]\n",
            " [ 0.06215986 -0.22372693 -1.32401803 -0.76240046  1.83546053  2.5653022\n",
            "  -0.5528523   0.55471884 -0.17160333  0.14761035 -0.31968363 -0.44965172\n",
            "   0.21767464  0.11899387  0.29856731  0.69938716 -0.25560437  0.23204516\n",
            "   0.52765312  0.25038998 -0.09178507 -0.69949868  0.00992379  1.57970211\n",
            "   0.43544625 -0.33315065  0.02616235 -0.0065367  -0.00655059]]\n"
          ]
        }
      ]
    },
    {
      "cell_type": "markdown",
      "source": [
        "**Use scipy.spatial.distance.cdist to create a matrix of distances between each data point and each cluster center**"
      ],
      "metadata": {
        "id": "IWgTkI0nzwZ1"
      }
    },
    {
      "cell_type": "code",
      "source": [
        "from scipy.spatial.distance import cdist\n",
        "\n",
        "# Get the cluster centers.\n",
        "cluster_centers = kmeans.cluster_centers_\n",
        "\n",
        "# Calculate the distances between each data point and each cluster center.\n",
        "distances = cdist(scaled_df, cluster_centers, metric='euclidean')\n",
        "\n",
        "# Print the distances matrix.\n",
        "print(distances)"
      ],
      "metadata": {
        "colab": {
          "base_uri": "https://localhost:8080/"
        },
        "id": "T_-9NueZzoW8",
        "outputId": "d9774369-32d6-4b86-aebb-ba2b133fa3cf"
      },
      "execution_count": 6,
      "outputs": [
        {
          "output_type": "stream",
          "name": "stdout",
          "text": [
            "[[2.80468161 4.39326354 5.85721494]\n",
            " [2.42642963 3.68608746 5.07508117]\n",
            " [6.5426218  7.33737825 8.65600243]\n",
            " ...\n",
            " [7.25374437 6.4078623  8.24946223]\n",
            " [6.81346291 6.26852314 4.97246188]\n",
            " [4.88282778 3.67991041 5.7359755 ]]\n"
          ]
        }
      ]
    },
    {
      "cell_type": "markdown",
      "source": [
        "**Define a list of the indices of the anomalous data using the threshold given by the stakeholder (99.6% valid)**"
      ],
      "metadata": {
        "id": "9RnLJPXUz1IJ"
      }
    },
    {
      "cell_type": "code",
      "source": [
        "# Calculate the percentage of valid data points.\n",
        "valid_data_percentage = 100 - 0.4\n",
        "\n",
        "# Get the distances from the distances matrix.\n",
        "distances = cdist(scaled_df, cluster_centers, metric='euclidean')\n",
        "\n",
        "# Find the maximum distance for each data point.\n",
        "max_distances = np.max(distances, axis=1)\n",
        "\n",
        "# Calculate the threshold based on the valid data percentage.\n",
        "threshold = np.percentile(max_distances, valid_data_percentage)\n",
        "\n",
        "# Identify data points with distances greater than the threshold.\n",
        "anomalous_indices = np.where(max_distances > threshold)[0]\n",
        "\n",
        "# Print the list of anomalous data indices.\n",
        "print(anomalous_indices)"
      ],
      "metadata": {
        "colab": {
          "base_uri": "https://localhost:8080/"
        },
        "id": "ST3KfnPz0SiC",
        "outputId": "03bdcef1-5176-403c-846a-48b8a5403033"
      },
      "execution_count": 7,
      "outputs": [
        {
          "output_type": "stream",
          "name": "stdout",
          "text": [
            "[ 159 1376 1619 2156 2212 2439 2594 2654 2756 2911 2914 2917 2923 3443\n",
            " 5303 5412 5413 5529 5674 5704 5764 5977 6489 6643 6672 7322 7338 7470\n",
            " 7596 7597 8124 8163 8437 8442 8856 8939 8999 9071 9304 9326]\n"
          ]
        }
      ]
    },
    {
      "cell_type": "markdown",
      "source": [
        "**2. Isolation Forest:**"
      ],
      "metadata": {
        "id": "Hs_c8IQb0jYs"
      }
    },
    {
      "cell_type": "code",
      "source": [
        "from sklearn.ensemble import IsolationForest\n",
        "\n",
        "# Define the contamination value based on the stakeholder's requirement.\n",
        "contamination = 0.004\n",
        "\n",
        "# Instantiate the Isolation Forest model with the specified contamination and random state.\n",
        "iso_forest = IsolationForest(contamination=contamination, random_state=42)\n",
        "\n",
        "# Fit the model to the scaled data.\n",
        "iso_forest.fit(scaled_df)\n",
        "\n",
        "# Print the indices of the anomalous data points.\n",
        "outlier_index = iso_forest.predict(scaled_df)\n",
        "\n",
        "# Print the number of anomalous data points.\n",
        "print(np.count_nonzero(outlier_index == -1))"
      ],
      "metadata": {
        "colab": {
          "base_uri": "https://localhost:8080/"
        },
        "id": "shUFDYvq0zQ1",
        "outputId": "430749f0-af0f-43df-a285-177dd60c401c"
      },
      "execution_count": 8,
      "outputs": [
        {
          "output_type": "stream",
          "name": "stderr",
          "text": [
            "/usr/local/lib/python3.10/dist-packages/sklearn/base.py:439: UserWarning: X does not have valid feature names, but IsolationForest was fitted with feature names\n",
            "  warnings.warn(\n"
          ]
        },
        {
          "output_type": "stream",
          "name": "stdout",
          "text": [
            "40\n"
          ]
        }
      ]
    },
    {
      "cell_type": "code",
      "source": [
        "# Identify the indices of anomalous data points.\n",
        "anomalous_indices = np.where(outlier_index == -1)[0]\n",
        "\n",
        "# Print the list of anomalous data indices.\n",
        "print(anomalous_indices)"
      ],
      "metadata": {
        "colab": {
          "base_uri": "https://localhost:8080/"
        },
        "id": "3vDqUkCd0848",
        "outputId": "a5436a23-98cc-4b6d-afed-c0c8ae5e72c5"
      },
      "execution_count": 9,
      "outputs": [
        {
          "output_type": "stream",
          "name": "stdout",
          "text": [
            "[ 159 1619 2156 2756 2858 2914 2917 2923 5303 5412 5413 5704 6311 6489\n",
            " 6581 6595 6634 6643 6672 6757 6761 6798 6829 7338 7470 7596 7597 8124\n",
            " 8163 8437 8442 8627 8645 8667 8670 8856 8999 9071 9304 9326]\n"
          ]
        }
      ]
    },
    {
      "cell_type": "markdown",
      "source": [
        "**3. Compare the list of anomalies from KMeans and Isolation Forest.  **"
      ],
      "metadata": {
        "id": "GbDhd-2P1Bgt"
      }
    },
    {
      "cell_type": "code",
      "source": [
        "# Get the anomalous indices from both models.\n",
        "kmeans_anomalies = anomalous_indices\n",
        "iso_forest_anomalies = np.where(outlier_index == -1)[0]\n",
        "\n",
        "# Find the common anomalous indices between both models.\n",
        "common_anomalies = np.intersect1d(kmeans_anomalies, iso_forest_anomalies)\n",
        "\n",
        "# Find the unique anomalous indices for each model.\n",
        "kmeans_unique = np.setdiff1d(kmeans_anomalies, common_anomalies)\n",
        "iso_forest_unique = np.setdiff1d(iso_forest_anomalies, common_anomalies)\n",
        "\n",
        "# Print the results.\n",
        "print(\"Common anomalies:\", common_anomalies)\n",
        "print(\"KMeans unique anomalies:\", kmeans_unique)\n",
        "print(\"Isolation Forest unique anomalies:\", iso_forest_unique)"
      ],
      "metadata": {
        "colab": {
          "base_uri": "https://localhost:8080/"
        },
        "id": "mrs1QZtZ1bgd",
        "outputId": "5e81161d-f371-4a4c-fa0b-8b3c8413fe43"
      },
      "execution_count": 11,
      "outputs": [
        {
          "output_type": "stream",
          "name": "stdout",
          "text": [
            "Common anomalies: [ 159 1619 2156 2756 2858 2914 2917 2923 5303 5412 5413 5704 6311 6489\n",
            " 6581 6595 6634 6643 6672 6757 6761 6798 6829 7338 7470 7596 7597 8124\n",
            " 8163 8437 8442 8627 8645 8667 8670 8856 8999 9071 9304 9326]\n",
            "KMeans unique anomalies: []\n",
            "Isolation Forest unique anomalies: []\n"
          ]
        }
      ]
    },
    {
      "cell_type": "markdown",
      "source": [
        "**Answer the following:**\n",
        "\n",
        "    a. How many anomalies did the two approaches agree on?"
      ],
      "metadata": {
        "id": "QsDNfa702N1s"
      }
    },
    {
      "cell_type": "code",
      "source": [
        "# Get the number of common anomalies.\n",
        "num_common_anomalies = len(common_anomalies)\n",
        "\n",
        "# Print the result.\n",
        "print(f\"Both approaches agreed on {num_common_anomalies} anomalies.\")"
      ],
      "metadata": {
        "colab": {
          "base_uri": "https://localhost:8080/"
        },
        "id": "LIoubodJ127m",
        "outputId": "2d0b06ef-6d8e-423a-aeba-0283b4e5c81a"
      },
      "execution_count": 12,
      "outputs": [
        {
          "output_type": "stream",
          "name": "stdout",
          "text": [
            "Both approaches agreed on 40 anomalies.\n"
          ]
        }
      ]
    },
    {
      "cell_type": "markdown",
      "source": [
        "b. What percentage of the anomalies did the two approaches agree on?"
      ],
      "metadata": {
        "id": "G-GCdDp32aCO"
      }
    },
    {
      "cell_type": "code",
      "source": [
        "# Calculate the percentage of agreed anomalies.\n",
        "percentage_agreed = (num_common_anomalies / len(kmeans_anomalies)) * 100\n",
        "\n",
        "# Print the result.\n",
        "print(f\"The two approaches agreed on {percentage_agreed:.2f}% of the anomalies.\")"
      ],
      "metadata": {
        "colab": {
          "base_uri": "https://localhost:8080/"
        },
        "id": "w6j47pxA2X1L",
        "outputId": "2a79e8ad-4fc1-4949-b5cb-ca4aa57604d9"
      },
      "execution_count": 13,
      "outputs": [
        {
          "output_type": "stream",
          "name": "stdout",
          "text": [
            "The two approaches agreed on 100.00% of the anomalies.\n"
          ]
        }
      ]
    }
  ]
}