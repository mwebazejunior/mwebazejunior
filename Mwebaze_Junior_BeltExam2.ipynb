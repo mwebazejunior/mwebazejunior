{
  "nbformat": 4,
  "nbformat_minor": 0,
  "metadata": {
    "colab": {
      "provenance": []
    },
    "kernelspec": {
      "name": "python3",
      "display_name": "Python 3"
    },
    "language_info": {
      "name": "python"
    }
  },
  "cells": [
    {
      "cell_type": "markdown",
      "source": [
        "**BELT EXAM**:\n",
        "\n",
        "**STUDENT NAME:** Mwebaze Junior"
      ],
      "metadata": {
        "id": "ci0g5WsBhVqu"
      }
    },
    {
      "cell_type": "code",
      "execution_count": 435,
      "metadata": {
        "colab": {
          "base_uri": "https://localhost:8080/"
        },
        "id": "pizMk8emdb6w",
        "outputId": "7f9ff904-4bd8-4eb0-a72b-f5009d10e0ed"
      },
      "outputs": [
        {
          "output_type": "stream",
          "name": "stdout",
          "text": [
            "Drive already mounted at /content/drive; to attempt to forcibly remount, call drive.mount(\"/content/drive\", force_remount=True).\n"
          ]
        }
      ],
      "source": [
        "from google.colab import drive\n",
        "drive.mount('/content/drive')"
      ]
    },
    {
      "cell_type": "code",
      "source": [
        "# Imports\n",
        "import pandas as pd\n",
        "import matplotlib.pyplot as plt\n",
        "import seaborn as sns\n",
        "from sklearn.ensemble import BaggingRegressor\n",
        "from sklearn.ensemble import RandomForestClassifier, BaggingClassifier\n",
        "from sklearn.model_selection import train_test_split\n",
        "from sklearn.metrics import  accuracy_score\n",
        "from sklearn.compose import ColumnTransformer, make_column_selector\n",
        "from sklearn.preprocessing import StandardScaler, OneHotEncoder, OrdinalEncoder, LabelEncoder\n",
        "from sklearn.impute import SimpleImputer\n",
        "from sklearn.pipeline import Pipeline"
      ],
      "metadata": {
        "id": "EfSAF9cxggnD"
      },
      "execution_count": 436,
      "outputs": []
    },
    {
      "cell_type": "code",
      "source": [
        "file_name ='/content/drive/MyDrive/Week2_data/Machine Learning Data Sets/Belt2_C_occupancy_v2_final.csv'\n",
        "df = pd.read_csv(file_name)\n",
        "df.head()"
      ],
      "metadata": {
        "colab": {
          "base_uri": "https://localhost:8080/",
          "height": 206
        },
        "id": "eABDgWVZg3WM",
        "outputId": "efc7f99d-5e9e-433e-ea22-1806addfe246"
      },
      "execution_count": 437,
      "outputs": [
        {
          "output_type": "execute_result",
          "data": {
            "text/plain": [
              "   Temperature Humidity   CO2 IsWeekend  DayOfMonth  Occupancy\n",
              "0       22.245      Med   Med   Weekday           5          1\n",
              "1        21.39     High  High   weekday           9          1\n",
              "2  19_35666667      NaN   Low   Weekday           9          0\n",
              "3         22.1      NaN   Low   Weekend           7          0\n",
              "4        21.39      NaN  High   weekday           9          0"
            ],
            "text/html": [
              "\n",
              "  <div id=\"df-053985cc-fc06-46a8-930d-faf987ef51e4\" class=\"colab-df-container\">\n",
              "    <div>\n",
              "<style scoped>\n",
              "    .dataframe tbody tr th:only-of-type {\n",
              "        vertical-align: middle;\n",
              "    }\n",
              "\n",
              "    .dataframe tbody tr th {\n",
              "        vertical-align: top;\n",
              "    }\n",
              "\n",
              "    .dataframe thead th {\n",
              "        text-align: right;\n",
              "    }\n",
              "</style>\n",
              "<table border=\"1\" class=\"dataframe\">\n",
              "  <thead>\n",
              "    <tr style=\"text-align: right;\">\n",
              "      <th></th>\n",
              "      <th>Temperature</th>\n",
              "      <th>Humidity</th>\n",
              "      <th>CO2</th>\n",
              "      <th>IsWeekend</th>\n",
              "      <th>DayOfMonth</th>\n",
              "      <th>Occupancy</th>\n",
              "    </tr>\n",
              "  </thead>\n",
              "  <tbody>\n",
              "    <tr>\n",
              "      <th>0</th>\n",
              "      <td>22.245</td>\n",
              "      <td>Med</td>\n",
              "      <td>Med</td>\n",
              "      <td>Weekday</td>\n",
              "      <td>5</td>\n",
              "      <td>1</td>\n",
              "    </tr>\n",
              "    <tr>\n",
              "      <th>1</th>\n",
              "      <td>21.39</td>\n",
              "      <td>High</td>\n",
              "      <td>High</td>\n",
              "      <td>weekday</td>\n",
              "      <td>9</td>\n",
              "      <td>1</td>\n",
              "    </tr>\n",
              "    <tr>\n",
              "      <th>2</th>\n",
              "      <td>19_35666667</td>\n",
              "      <td>NaN</td>\n",
              "      <td>Low</td>\n",
              "      <td>Weekday</td>\n",
              "      <td>9</td>\n",
              "      <td>0</td>\n",
              "    </tr>\n",
              "    <tr>\n",
              "      <th>3</th>\n",
              "      <td>22.1</td>\n",
              "      <td>NaN</td>\n",
              "      <td>Low</td>\n",
              "      <td>Weekend</td>\n",
              "      <td>7</td>\n",
              "      <td>0</td>\n",
              "    </tr>\n",
              "    <tr>\n",
              "      <th>4</th>\n",
              "      <td>21.39</td>\n",
              "      <td>NaN</td>\n",
              "      <td>High</td>\n",
              "      <td>weekday</td>\n",
              "      <td>9</td>\n",
              "      <td>0</td>\n",
              "    </tr>\n",
              "  </tbody>\n",
              "</table>\n",
              "</div>\n",
              "    <div class=\"colab-df-buttons\">\n",
              "\n",
              "  <div class=\"colab-df-container\">\n",
              "    <button class=\"colab-df-convert\" onclick=\"convertToInteractive('df-053985cc-fc06-46a8-930d-faf987ef51e4')\"\n",
              "            title=\"Convert this dataframe to an interactive table.\"\n",
              "            style=\"display:none;\">\n",
              "\n",
              "  <svg xmlns=\"http://www.w3.org/2000/svg\" height=\"24px\" viewBox=\"0 -960 960 960\">\n",
              "    <path d=\"M120-120v-720h720v720H120Zm60-500h600v-160H180v160Zm220 220h160v-160H400v160Zm0 220h160v-160H400v160ZM180-400h160v-160H180v160Zm440 0h160v-160H620v160ZM180-180h160v-160H180v160Zm440 0h160v-160H620v160Z\"/>\n",
              "  </svg>\n",
              "    </button>\n",
              "\n",
              "  <style>\n",
              "    .colab-df-container {\n",
              "      display:flex;\n",
              "      gap: 12px;\n",
              "    }\n",
              "\n",
              "    .colab-df-convert {\n",
              "      background-color: #E8F0FE;\n",
              "      border: none;\n",
              "      border-radius: 50%;\n",
              "      cursor: pointer;\n",
              "      display: none;\n",
              "      fill: #1967D2;\n",
              "      height: 32px;\n",
              "      padding: 0 0 0 0;\n",
              "      width: 32px;\n",
              "    }\n",
              "\n",
              "    .colab-df-convert:hover {\n",
              "      background-color: #E2EBFA;\n",
              "      box-shadow: 0px 1px 2px rgba(60, 64, 67, 0.3), 0px 1px 3px 1px rgba(60, 64, 67, 0.15);\n",
              "      fill: #174EA6;\n",
              "    }\n",
              "\n",
              "    .colab-df-buttons div {\n",
              "      margin-bottom: 4px;\n",
              "    }\n",
              "\n",
              "    [theme=dark] .colab-df-convert {\n",
              "      background-color: #3B4455;\n",
              "      fill: #D2E3FC;\n",
              "    }\n",
              "\n",
              "    [theme=dark] .colab-df-convert:hover {\n",
              "      background-color: #434B5C;\n",
              "      box-shadow: 0px 1px 3px 1px rgba(0, 0, 0, 0.15);\n",
              "      filter: drop-shadow(0px 1px 2px rgba(0, 0, 0, 0.3));\n",
              "      fill: #FFFFFF;\n",
              "    }\n",
              "  </style>\n",
              "\n",
              "    <script>\n",
              "      const buttonEl =\n",
              "        document.querySelector('#df-053985cc-fc06-46a8-930d-faf987ef51e4 button.colab-df-convert');\n",
              "      buttonEl.style.display =\n",
              "        google.colab.kernel.accessAllowed ? 'block' : 'none';\n",
              "\n",
              "      async function convertToInteractive(key) {\n",
              "        const element = document.querySelector('#df-053985cc-fc06-46a8-930d-faf987ef51e4');\n",
              "        const dataTable =\n",
              "          await google.colab.kernel.invokeFunction('convertToInteractive',\n",
              "                                                    [key], {});\n",
              "        if (!dataTable) return;\n",
              "\n",
              "        const docLinkHtml = 'Like what you see? Visit the ' +\n",
              "          '<a target=\"_blank\" href=https://colab.research.google.com/notebooks/data_table.ipynb>data table notebook</a>'\n",
              "          + ' to learn more about interactive tables.';\n",
              "        element.innerHTML = '';\n",
              "        dataTable['output_type'] = 'display_data';\n",
              "        await google.colab.output.renderOutput(dataTable, element);\n",
              "        const docLink = document.createElement('div');\n",
              "        docLink.innerHTML = docLinkHtml;\n",
              "        element.appendChild(docLink);\n",
              "      }\n",
              "    </script>\n",
              "  </div>\n",
              "\n",
              "\n",
              "<div id=\"df-0c8efb5f-7701-4c25-a0bc-c912cf811545\">\n",
              "  <button class=\"colab-df-quickchart\" onclick=\"quickchart('df-0c8efb5f-7701-4c25-a0bc-c912cf811545')\"\n",
              "            title=\"Suggest charts\"\n",
              "            style=\"display:none;\">\n",
              "\n",
              "<svg xmlns=\"http://www.w3.org/2000/svg\" height=\"24px\"viewBox=\"0 0 24 24\"\n",
              "     width=\"24px\">\n",
              "    <g>\n",
              "        <path d=\"M19 3H5c-1.1 0-2 .9-2 2v14c0 1.1.9 2 2 2h14c1.1 0 2-.9 2-2V5c0-1.1-.9-2-2-2zM9 17H7v-7h2v7zm4 0h-2V7h2v10zm4 0h-2v-4h2v4z\"/>\n",
              "    </g>\n",
              "</svg>\n",
              "  </button>\n",
              "\n",
              "<style>\n",
              "  .colab-df-quickchart {\n",
              "      --bg-color: #E8F0FE;\n",
              "      --fill-color: #1967D2;\n",
              "      --hover-bg-color: #E2EBFA;\n",
              "      --hover-fill-color: #174EA6;\n",
              "      --disabled-fill-color: #AAA;\n",
              "      --disabled-bg-color: #DDD;\n",
              "  }\n",
              "\n",
              "  [theme=dark] .colab-df-quickchart {\n",
              "      --bg-color: #3B4455;\n",
              "      --fill-color: #D2E3FC;\n",
              "      --hover-bg-color: #434B5C;\n",
              "      --hover-fill-color: #FFFFFF;\n",
              "      --disabled-bg-color: #3B4455;\n",
              "      --disabled-fill-color: #666;\n",
              "  }\n",
              "\n",
              "  .colab-df-quickchart {\n",
              "    background-color: var(--bg-color);\n",
              "    border: none;\n",
              "    border-radius: 50%;\n",
              "    cursor: pointer;\n",
              "    display: none;\n",
              "    fill: var(--fill-color);\n",
              "    height: 32px;\n",
              "    padding: 0;\n",
              "    width: 32px;\n",
              "  }\n",
              "\n",
              "  .colab-df-quickchart:hover {\n",
              "    background-color: var(--hover-bg-color);\n",
              "    box-shadow: 0 1px 2px rgba(60, 64, 67, 0.3), 0 1px 3px 1px rgba(60, 64, 67, 0.15);\n",
              "    fill: var(--button-hover-fill-color);\n",
              "  }\n",
              "\n",
              "  .colab-df-quickchart-complete:disabled,\n",
              "  .colab-df-quickchart-complete:disabled:hover {\n",
              "    background-color: var(--disabled-bg-color);\n",
              "    fill: var(--disabled-fill-color);\n",
              "    box-shadow: none;\n",
              "  }\n",
              "\n",
              "  .colab-df-spinner {\n",
              "    border: 2px solid var(--fill-color);\n",
              "    border-color: transparent;\n",
              "    border-bottom-color: var(--fill-color);\n",
              "    animation:\n",
              "      spin 1s steps(1) infinite;\n",
              "  }\n",
              "\n",
              "  @keyframes spin {\n",
              "    0% {\n",
              "      border-color: transparent;\n",
              "      border-bottom-color: var(--fill-color);\n",
              "      border-left-color: var(--fill-color);\n",
              "    }\n",
              "    20% {\n",
              "      border-color: transparent;\n",
              "      border-left-color: var(--fill-color);\n",
              "      border-top-color: var(--fill-color);\n",
              "    }\n",
              "    30% {\n",
              "      border-color: transparent;\n",
              "      border-left-color: var(--fill-color);\n",
              "      border-top-color: var(--fill-color);\n",
              "      border-right-color: var(--fill-color);\n",
              "    }\n",
              "    40% {\n",
              "      border-color: transparent;\n",
              "      border-right-color: var(--fill-color);\n",
              "      border-top-color: var(--fill-color);\n",
              "    }\n",
              "    60% {\n",
              "      border-color: transparent;\n",
              "      border-right-color: var(--fill-color);\n",
              "    }\n",
              "    80% {\n",
              "      border-color: transparent;\n",
              "      border-right-color: var(--fill-color);\n",
              "      border-bottom-color: var(--fill-color);\n",
              "    }\n",
              "    90% {\n",
              "      border-color: transparent;\n",
              "      border-bottom-color: var(--fill-color);\n",
              "    }\n",
              "  }\n",
              "</style>\n",
              "\n",
              "  <script>\n",
              "    async function quickchart(key) {\n",
              "      const quickchartButtonEl =\n",
              "        document.querySelector('#' + key + ' button');\n",
              "      quickchartButtonEl.disabled = true;  // To prevent multiple clicks.\n",
              "      quickchartButtonEl.classList.add('colab-df-spinner');\n",
              "      try {\n",
              "        const charts = await google.colab.kernel.invokeFunction(\n",
              "            'suggestCharts', [key], {});\n",
              "      } catch (error) {\n",
              "        console.error('Error during call to suggestCharts:', error);\n",
              "      }\n",
              "      quickchartButtonEl.classList.remove('colab-df-spinner');\n",
              "      quickchartButtonEl.classList.add('colab-df-quickchart-complete');\n",
              "    }\n",
              "    (() => {\n",
              "      let quickchartButtonEl =\n",
              "        document.querySelector('#df-0c8efb5f-7701-4c25-a0bc-c912cf811545 button');\n",
              "      quickchartButtonEl.style.display =\n",
              "        google.colab.kernel.accessAllowed ? 'block' : 'none';\n",
              "    })();\n",
              "  </script>\n",
              "</div>\n",
              "\n",
              "    </div>\n",
              "  </div>\n"
            ],
            "application/vnd.google.colaboratory.intrinsic+json": {
              "type": "dataframe",
              "variable_name": "df",
              "summary": "{\n  \"name\": \"df\",\n  \"rows\": 1758,\n  \"fields\": [\n    {\n      \"column\": \"Temperature\",\n      \"properties\": {\n        \"dtype\": \"category\",\n        \"num_unique_values\": 293,\n        \"samples\": [\n          \"20.7\",\n          \"23.15\",\n          \"21.075\"\n        ],\n        \"semantic_type\": \"\",\n        \"description\": \"\"\n      }\n    },\n    {\n      \"column\": \"Humidity\",\n      \"properties\": {\n        \"dtype\": \"category\",\n        \"num_unique_values\": 6,\n        \"samples\": [\n          \"Med\",\n          \"High\",\n          \"low\"\n        ],\n        \"semantic_type\": \"\",\n        \"description\": \"\"\n      }\n    },\n    {\n      \"column\": \"CO2\",\n      \"properties\": {\n        \"dtype\": \"category\",\n        \"num_unique_values\": 3,\n        \"samples\": [\n          \"Med\",\n          \"High\",\n          \"Low\"\n        ],\n        \"semantic_type\": \"\",\n        \"description\": \"\"\n      }\n    },\n    {\n      \"column\": \"IsWeekend\",\n      \"properties\": {\n        \"dtype\": \"category\",\n        \"num_unique_values\": 4,\n        \"samples\": [\n          \"weekday\",\n          \"weekend\",\n          \"Weekday\"\n        ],\n        \"semantic_type\": \"\",\n        \"description\": \"\"\n      }\n    },\n    {\n      \"column\": \"DayOfMonth\",\n      \"properties\": {\n        \"dtype\": \"number\",\n        \"std\": 1,\n        \"min\": 4,\n        \"max\": 10,\n        \"num_unique_values\": 7,\n        \"samples\": [\n          5,\n          9,\n          8\n        ],\n        \"semantic_type\": \"\",\n        \"description\": \"\"\n      }\n    },\n    {\n      \"column\": \"Occupancy\",\n      \"properties\": {\n        \"dtype\": \"number\",\n        \"std\": 0,\n        \"min\": 0,\n        \"max\": 1,\n        \"num_unique_values\": 2,\n        \"samples\": [\n          0,\n          1\n        ],\n        \"semantic_type\": \"\",\n        \"description\": \"\"\n      }\n    }\n  ]\n}"
            }
          },
          "metadata": {},
          "execution_count": 437
        }
      ]
    },
    {
      "cell_type": "code",
      "source": [
        "#handling data inconsistences in the Temperature column by replacing '_'\n",
        "df['Temperature'] = df['Temperature'].str.replace('_', '.')"
      ],
      "metadata": {
        "id": "eLA0wOeLkHN2"
      },
      "execution_count": 438,
      "outputs": []
    },
    {
      "cell_type": "code",
      "source": [
        "df.head()"
      ],
      "metadata": {
        "colab": {
          "base_uri": "https://localhost:8080/",
          "height": 206
        },
        "id": "IZOk4yNWka77",
        "outputId": "d6b5ce14-b6a2-4d13-d662-c70585e7df7c"
      },
      "execution_count": 439,
      "outputs": [
        {
          "output_type": "execute_result",
          "data": {
            "text/plain": [
              "   Temperature Humidity   CO2 IsWeekend  DayOfMonth  Occupancy\n",
              "0       22.245      Med   Med   Weekday           5          1\n",
              "1        21.39     High  High   weekday           9          1\n",
              "2  19.35666667      NaN   Low   Weekday           9          0\n",
              "3         22.1      NaN   Low   Weekend           7          0\n",
              "4        21.39      NaN  High   weekday           9          0"
            ],
            "text/html": [
              "\n",
              "  <div id=\"df-89d36081-59ad-4810-92cb-5da93d0f9095\" class=\"colab-df-container\">\n",
              "    <div>\n",
              "<style scoped>\n",
              "    .dataframe tbody tr th:only-of-type {\n",
              "        vertical-align: middle;\n",
              "    }\n",
              "\n",
              "    .dataframe tbody tr th {\n",
              "        vertical-align: top;\n",
              "    }\n",
              "\n",
              "    .dataframe thead th {\n",
              "        text-align: right;\n",
              "    }\n",
              "</style>\n",
              "<table border=\"1\" class=\"dataframe\">\n",
              "  <thead>\n",
              "    <tr style=\"text-align: right;\">\n",
              "      <th></th>\n",
              "      <th>Temperature</th>\n",
              "      <th>Humidity</th>\n",
              "      <th>CO2</th>\n",
              "      <th>IsWeekend</th>\n",
              "      <th>DayOfMonth</th>\n",
              "      <th>Occupancy</th>\n",
              "    </tr>\n",
              "  </thead>\n",
              "  <tbody>\n",
              "    <tr>\n",
              "      <th>0</th>\n",
              "      <td>22.245</td>\n",
              "      <td>Med</td>\n",
              "      <td>Med</td>\n",
              "      <td>Weekday</td>\n",
              "      <td>5</td>\n",
              "      <td>1</td>\n",
              "    </tr>\n",
              "    <tr>\n",
              "      <th>1</th>\n",
              "      <td>21.39</td>\n",
              "      <td>High</td>\n",
              "      <td>High</td>\n",
              "      <td>weekday</td>\n",
              "      <td>9</td>\n",
              "      <td>1</td>\n",
              "    </tr>\n",
              "    <tr>\n",
              "      <th>2</th>\n",
              "      <td>19.35666667</td>\n",
              "      <td>NaN</td>\n",
              "      <td>Low</td>\n",
              "      <td>Weekday</td>\n",
              "      <td>9</td>\n",
              "      <td>0</td>\n",
              "    </tr>\n",
              "    <tr>\n",
              "      <th>3</th>\n",
              "      <td>22.1</td>\n",
              "      <td>NaN</td>\n",
              "      <td>Low</td>\n",
              "      <td>Weekend</td>\n",
              "      <td>7</td>\n",
              "      <td>0</td>\n",
              "    </tr>\n",
              "    <tr>\n",
              "      <th>4</th>\n",
              "      <td>21.39</td>\n",
              "      <td>NaN</td>\n",
              "      <td>High</td>\n",
              "      <td>weekday</td>\n",
              "      <td>9</td>\n",
              "      <td>0</td>\n",
              "    </tr>\n",
              "  </tbody>\n",
              "</table>\n",
              "</div>\n",
              "    <div class=\"colab-df-buttons\">\n",
              "\n",
              "  <div class=\"colab-df-container\">\n",
              "    <button class=\"colab-df-convert\" onclick=\"convertToInteractive('df-89d36081-59ad-4810-92cb-5da93d0f9095')\"\n",
              "            title=\"Convert this dataframe to an interactive table.\"\n",
              "            style=\"display:none;\">\n",
              "\n",
              "  <svg xmlns=\"http://www.w3.org/2000/svg\" height=\"24px\" viewBox=\"0 -960 960 960\">\n",
              "    <path d=\"M120-120v-720h720v720H120Zm60-500h600v-160H180v160Zm220 220h160v-160H400v160Zm0 220h160v-160H400v160ZM180-400h160v-160H180v160Zm440 0h160v-160H620v160ZM180-180h160v-160H180v160Zm440 0h160v-160H620v160Z\"/>\n",
              "  </svg>\n",
              "    </button>\n",
              "\n",
              "  <style>\n",
              "    .colab-df-container {\n",
              "      display:flex;\n",
              "      gap: 12px;\n",
              "    }\n",
              "\n",
              "    .colab-df-convert {\n",
              "      background-color: #E8F0FE;\n",
              "      border: none;\n",
              "      border-radius: 50%;\n",
              "      cursor: pointer;\n",
              "      display: none;\n",
              "      fill: #1967D2;\n",
              "      height: 32px;\n",
              "      padding: 0 0 0 0;\n",
              "      width: 32px;\n",
              "    }\n",
              "\n",
              "    .colab-df-convert:hover {\n",
              "      background-color: #E2EBFA;\n",
              "      box-shadow: 0px 1px 2px rgba(60, 64, 67, 0.3), 0px 1px 3px 1px rgba(60, 64, 67, 0.15);\n",
              "      fill: #174EA6;\n",
              "    }\n",
              "\n",
              "    .colab-df-buttons div {\n",
              "      margin-bottom: 4px;\n",
              "    }\n",
              "\n",
              "    [theme=dark] .colab-df-convert {\n",
              "      background-color: #3B4455;\n",
              "      fill: #D2E3FC;\n",
              "    }\n",
              "\n",
              "    [theme=dark] .colab-df-convert:hover {\n",
              "      background-color: #434B5C;\n",
              "      box-shadow: 0px 1px 3px 1px rgba(0, 0, 0, 0.15);\n",
              "      filter: drop-shadow(0px 1px 2px rgba(0, 0, 0, 0.3));\n",
              "      fill: #FFFFFF;\n",
              "    }\n",
              "  </style>\n",
              "\n",
              "    <script>\n",
              "      const buttonEl =\n",
              "        document.querySelector('#df-89d36081-59ad-4810-92cb-5da93d0f9095 button.colab-df-convert');\n",
              "      buttonEl.style.display =\n",
              "        google.colab.kernel.accessAllowed ? 'block' : 'none';\n",
              "\n",
              "      async function convertToInteractive(key) {\n",
              "        const element = document.querySelector('#df-89d36081-59ad-4810-92cb-5da93d0f9095');\n",
              "        const dataTable =\n",
              "          await google.colab.kernel.invokeFunction('convertToInteractive',\n",
              "                                                    [key], {});\n",
              "        if (!dataTable) return;\n",
              "\n",
              "        const docLinkHtml = 'Like what you see? Visit the ' +\n",
              "          '<a target=\"_blank\" href=https://colab.research.google.com/notebooks/data_table.ipynb>data table notebook</a>'\n",
              "          + ' to learn more about interactive tables.';\n",
              "        element.innerHTML = '';\n",
              "        dataTable['output_type'] = 'display_data';\n",
              "        await google.colab.output.renderOutput(dataTable, element);\n",
              "        const docLink = document.createElement('div');\n",
              "        docLink.innerHTML = docLinkHtml;\n",
              "        element.appendChild(docLink);\n",
              "      }\n",
              "    </script>\n",
              "  </div>\n",
              "\n",
              "\n",
              "<div id=\"df-ba7756cd-3157-4c79-8b1a-6233e27b22a9\">\n",
              "  <button class=\"colab-df-quickchart\" onclick=\"quickchart('df-ba7756cd-3157-4c79-8b1a-6233e27b22a9')\"\n",
              "            title=\"Suggest charts\"\n",
              "            style=\"display:none;\">\n",
              "\n",
              "<svg xmlns=\"http://www.w3.org/2000/svg\" height=\"24px\"viewBox=\"0 0 24 24\"\n",
              "     width=\"24px\">\n",
              "    <g>\n",
              "        <path d=\"M19 3H5c-1.1 0-2 .9-2 2v14c0 1.1.9 2 2 2h14c1.1 0 2-.9 2-2V5c0-1.1-.9-2-2-2zM9 17H7v-7h2v7zm4 0h-2V7h2v10zm4 0h-2v-4h2v4z\"/>\n",
              "    </g>\n",
              "</svg>\n",
              "  </button>\n",
              "\n",
              "<style>\n",
              "  .colab-df-quickchart {\n",
              "      --bg-color: #E8F0FE;\n",
              "      --fill-color: #1967D2;\n",
              "      --hover-bg-color: #E2EBFA;\n",
              "      --hover-fill-color: #174EA6;\n",
              "      --disabled-fill-color: #AAA;\n",
              "      --disabled-bg-color: #DDD;\n",
              "  }\n",
              "\n",
              "  [theme=dark] .colab-df-quickchart {\n",
              "      --bg-color: #3B4455;\n",
              "      --fill-color: #D2E3FC;\n",
              "      --hover-bg-color: #434B5C;\n",
              "      --hover-fill-color: #FFFFFF;\n",
              "      --disabled-bg-color: #3B4455;\n",
              "      --disabled-fill-color: #666;\n",
              "  }\n",
              "\n",
              "  .colab-df-quickchart {\n",
              "    background-color: var(--bg-color);\n",
              "    border: none;\n",
              "    border-radius: 50%;\n",
              "    cursor: pointer;\n",
              "    display: none;\n",
              "    fill: var(--fill-color);\n",
              "    height: 32px;\n",
              "    padding: 0;\n",
              "    width: 32px;\n",
              "  }\n",
              "\n",
              "  .colab-df-quickchart:hover {\n",
              "    background-color: var(--hover-bg-color);\n",
              "    box-shadow: 0 1px 2px rgba(60, 64, 67, 0.3), 0 1px 3px 1px rgba(60, 64, 67, 0.15);\n",
              "    fill: var(--button-hover-fill-color);\n",
              "  }\n",
              "\n",
              "  .colab-df-quickchart-complete:disabled,\n",
              "  .colab-df-quickchart-complete:disabled:hover {\n",
              "    background-color: var(--disabled-bg-color);\n",
              "    fill: var(--disabled-fill-color);\n",
              "    box-shadow: none;\n",
              "  }\n",
              "\n",
              "  .colab-df-spinner {\n",
              "    border: 2px solid var(--fill-color);\n",
              "    border-color: transparent;\n",
              "    border-bottom-color: var(--fill-color);\n",
              "    animation:\n",
              "      spin 1s steps(1) infinite;\n",
              "  }\n",
              "\n",
              "  @keyframes spin {\n",
              "    0% {\n",
              "      border-color: transparent;\n",
              "      border-bottom-color: var(--fill-color);\n",
              "      border-left-color: var(--fill-color);\n",
              "    }\n",
              "    20% {\n",
              "      border-color: transparent;\n",
              "      border-left-color: var(--fill-color);\n",
              "      border-top-color: var(--fill-color);\n",
              "    }\n",
              "    30% {\n",
              "      border-color: transparent;\n",
              "      border-left-color: var(--fill-color);\n",
              "      border-top-color: var(--fill-color);\n",
              "      border-right-color: var(--fill-color);\n",
              "    }\n",
              "    40% {\n",
              "      border-color: transparent;\n",
              "      border-right-color: var(--fill-color);\n",
              "      border-top-color: var(--fill-color);\n",
              "    }\n",
              "    60% {\n",
              "      border-color: transparent;\n",
              "      border-right-color: var(--fill-color);\n",
              "    }\n",
              "    80% {\n",
              "      border-color: transparent;\n",
              "      border-right-color: var(--fill-color);\n",
              "      border-bottom-color: var(--fill-color);\n",
              "    }\n",
              "    90% {\n",
              "      border-color: transparent;\n",
              "      border-bottom-color: var(--fill-color);\n",
              "    }\n",
              "  }\n",
              "</style>\n",
              "\n",
              "  <script>\n",
              "    async function quickchart(key) {\n",
              "      const quickchartButtonEl =\n",
              "        document.querySelector('#' + key + ' button');\n",
              "      quickchartButtonEl.disabled = true;  // To prevent multiple clicks.\n",
              "      quickchartButtonEl.classList.add('colab-df-spinner');\n",
              "      try {\n",
              "        const charts = await google.colab.kernel.invokeFunction(\n",
              "            'suggestCharts', [key], {});\n",
              "      } catch (error) {\n",
              "        console.error('Error during call to suggestCharts:', error);\n",
              "      }\n",
              "      quickchartButtonEl.classList.remove('colab-df-spinner');\n",
              "      quickchartButtonEl.classList.add('colab-df-quickchart-complete');\n",
              "    }\n",
              "    (() => {\n",
              "      let quickchartButtonEl =\n",
              "        document.querySelector('#df-ba7756cd-3157-4c79-8b1a-6233e27b22a9 button');\n",
              "      quickchartButtonEl.style.display =\n",
              "        google.colab.kernel.accessAllowed ? 'block' : 'none';\n",
              "    })();\n",
              "  </script>\n",
              "</div>\n",
              "\n",
              "    </div>\n",
              "  </div>\n"
            ],
            "application/vnd.google.colaboratory.intrinsic+json": {
              "type": "dataframe",
              "variable_name": "df",
              "summary": "{\n  \"name\": \"df\",\n  \"rows\": 1758,\n  \"fields\": [\n    {\n      \"column\": \"Temperature\",\n      \"properties\": {\n        \"dtype\": \"category\",\n        \"num_unique_values\": 265,\n        \"samples\": [\n          \"21.9725\",\n          \"20.65\",\n          \"20.56666667\"\n        ],\n        \"semantic_type\": \"\",\n        \"description\": \"\"\n      }\n    },\n    {\n      \"column\": \"Humidity\",\n      \"properties\": {\n        \"dtype\": \"category\",\n        \"num_unique_values\": 6,\n        \"samples\": [\n          \"Med\",\n          \"High\",\n          \"low\"\n        ],\n        \"semantic_type\": \"\",\n        \"description\": \"\"\n      }\n    },\n    {\n      \"column\": \"CO2\",\n      \"properties\": {\n        \"dtype\": \"category\",\n        \"num_unique_values\": 3,\n        \"samples\": [\n          \"Med\",\n          \"High\",\n          \"Low\"\n        ],\n        \"semantic_type\": \"\",\n        \"description\": \"\"\n      }\n    },\n    {\n      \"column\": \"IsWeekend\",\n      \"properties\": {\n        \"dtype\": \"category\",\n        \"num_unique_values\": 4,\n        \"samples\": [\n          \"weekday\",\n          \"weekend\",\n          \"Weekday\"\n        ],\n        \"semantic_type\": \"\",\n        \"description\": \"\"\n      }\n    },\n    {\n      \"column\": \"DayOfMonth\",\n      \"properties\": {\n        \"dtype\": \"number\",\n        \"std\": 1,\n        \"min\": 4,\n        \"max\": 10,\n        \"num_unique_values\": 7,\n        \"samples\": [\n          5,\n          9,\n          8\n        ],\n        \"semantic_type\": \"\",\n        \"description\": \"\"\n      }\n    },\n    {\n      \"column\": \"Occupancy\",\n      \"properties\": {\n        \"dtype\": \"number\",\n        \"std\": 0,\n        \"min\": 0,\n        \"max\": 1,\n        \"num_unique_values\": 2,\n        \"samples\": [\n          0,\n          1\n        ],\n        \"semantic_type\": \"\",\n        \"description\": \"\"\n      }\n    }\n  ]\n}"
            }
          },
          "metadata": {},
          "execution_count": 439
        }
      ]
    },
    {
      "cell_type": "code",
      "source": [
        "df['Humidity'].value_counts()"
      ],
      "metadata": {
        "colab": {
          "base_uri": "https://localhost:8080/"
        },
        "id": "oNbSbxfzH8_k",
        "outputId": "cb68c0b1-bdfc-40ff-a2a4-89af1135afe9"
      },
      "execution_count": 440,
      "outputs": [
        {
          "output_type": "execute_result",
          "data": {
            "text/plain": [
              "Humidity\n",
              "Low       432\n",
              "Med       399\n",
              "High      349\n",
              "Hi         10\n",
              "medium      9\n",
              "low         9\n",
              "Name: count, dtype: int64"
            ]
          },
          "metadata": {},
          "execution_count": 440
        }
      ]
    },
    {
      "cell_type": "code",
      "source": [
        "df['Humidity']=df['Humidity'].replace({'Hi':'High','low':'Low','medium':'Med'})\n",
        "df['Humidity'].value_counts()"
      ],
      "metadata": {
        "colab": {
          "base_uri": "https://localhost:8080/"
        },
        "id": "mvLR0MpWIhJc",
        "outputId": "e4cc9046-4fdc-46df-917e-2f54e5024ccf"
      },
      "execution_count": 441,
      "outputs": [
        {
          "output_type": "execute_result",
          "data": {
            "text/plain": [
              "Humidity\n",
              "Low     441\n",
              "Med     408\n",
              "High    359\n",
              "Name: count, dtype: int64"
            ]
          },
          "metadata": {},
          "execution_count": 441
        }
      ]
    },
    {
      "cell_type": "code",
      "source": [
        "df['Temperature'] = df['Temperature'].astype(float)"
      ],
      "metadata": {
        "id": "kOX82crYk48-"
      },
      "execution_count": 442,
      "outputs": []
    },
    {
      "cell_type": "code",
      "source": [
        "df.dtypes"
      ],
      "metadata": {
        "colab": {
          "base_uri": "https://localhost:8080/"
        },
        "id": "s_Ldr4Fhk-wF",
        "outputId": "ca3e26fc-f7b9-4dd3-f0f4-8fb09b4076f4"
      },
      "execution_count": 443,
      "outputs": [
        {
          "output_type": "execute_result",
          "data": {
            "text/plain": [
              "Temperature    float64\n",
              "Humidity        object\n",
              "CO2             object\n",
              "IsWeekend       object\n",
              "DayOfMonth       int64\n",
              "Occupancy        int64\n",
              "dtype: object"
            ]
          },
          "metadata": {},
          "execution_count": 443
        }
      ]
    },
    {
      "cell_type": "code",
      "source": [
        "# Plot value counts as a bar graph\n",
        "val_counts = df['Humidity'].value_counts()\n",
        "val_counts_norm = df['Humidity'].value_counts(normalize=True) * 100\n",
        "ax = val_counts_norm.plot(kind='bar')\n",
        "ax.set_ylabel(\"Frequency (% of Humidity)\");\n",
        "ax.set_xlabel(\"Humidity\");"
      ],
      "metadata": {
        "colab": {
          "base_uri": "https://localhost:8080/",
          "height": 467
        },
        "id": "ZFCK-T0Ad_1s",
        "outputId": "c72d4331-6af0-4a6a-ab36-c5b526b14090"
      },
      "execution_count": 444,
      "outputs": [
        {
          "output_type": "display_data",
          "data": {
            "text/plain": [
              "<Figure size 640x480 with 1 Axes>"
            ],
            "image/png": "[encoded data removed]"
          },
          "metadata": {}
        }
      ]
    },
    {
      "cell_type": "markdown",
      "source": [
        "There is a Low humidity compared to Med and high\n"
      ],
      "metadata": {
        "id": "aev7MN2MfJGL"
      }
    },
    {
      "cell_type": "code",
      "source": [
        "# split in to train and test\n",
        "target = 'Occupancy'\n",
        "X = df.drop(columns=target)\n",
        "y = df[target]\n",
        "X_train, X_test, y_train, y_test = train_test_split(X, y, test_size=0.2, random_state=42)"
      ],
      "metadata": {
        "id": "FSmKFAouhuaW"
      },
      "execution_count": 445,
      "outputs": []
    },
    {
      "cell_type": "code",
      "source": [
        "X_train.dtypes"
      ],
      "metadata": {
        "colab": {
          "base_uri": "https://localhost:8080/"
        },
        "id": "lsLkcycjh74g",
        "outputId": "79a6fec8-db65-4813-be3f-458da477f623"
      },
      "execution_count": 446,
      "outputs": [
        {
          "output_type": "execute_result",
          "data": {
            "text/plain": [
              "Temperature    float64\n",
              "Humidity        object\n",
              "CO2             object\n",
              "IsWeekend       object\n",
              "DayOfMonth       int64\n",
              "dtype: object"
            ]
          },
          "metadata": {},
          "execution_count": 446
        }
      ]
    },
    {
      "cell_type": "code",
      "source": [
        "X_train.boxplot()"
      ],
      "metadata": {
        "colab": {
          "base_uri": "https://localhost:8080/",
          "height": 448
        },
        "id": "mP9Qqnucl70R",
        "outputId": "80c85550-4eb8-48f2-faee-6574a6d2fd9a"
      },
      "execution_count": 447,
      "outputs": [
        {
          "output_type": "execute_result",
          "data": {
            "text/plain": [
              "<Axes: >"
            ]
          },
          "metadata": {},
          "execution_count": 447
        },
        {
          "output_type": "display_data",
          "data": {
            "text/plain": [
              "<Figure size 640x480 with 1 Axes>"
            ],
            "image/png": "[encoded data removed]"
          },
          "metadata": {}
        }
      ]
    },
    {
      "cell_type": "markdown",
      "source": [
        "the plot above shows that we have an outlier in the temperature column"
      ],
      "metadata": {
        "id": "hfHLPWDZf--q"
      }
    },
    {
      "cell_type": "code",
      "source": [
        "def replace_outliers_with_median(X_train, col):\n",
        "    # Calculate the median of the specified column\n",
        "    median = X_train[col].median()\n",
        "\n",
        "    # Calculate the interquartile range (IQR) to define the threshold for outliers\n",
        "    Q1 = X_train[col].quantile(0.25)\n",
        "    Q3 = X_train[col].quantile(0.75)\n",
        "    IQR = Q3 - Q1\n",
        "\n",
        "    # Define the threshold for outliers (commonly 1.5 times the IQR)\n",
        "    threshold = 1.5 * IQR\n",
        "\n",
        "    # Identify outliers based on the threshold\n",
        "    outliers = (X_train[col] < Q1 - threshold) | (X_train[col] > Q3 + threshold)\n",
        "\n",
        "    # Replace outliers with median\n",
        "    X_train.loc[outliers, col] = median\n",
        "\n",
        "# Example usage:\n",
        "# Specify the column with outliers\n",
        "outlier_column = 'Temperature'\n",
        "\n",
        "# Replace outliers with median for the specified column\n",
        "replace_outliers_with_median(X_train, outlier_column)\n"
      ],
      "metadata": {
        "id": "xZRVIjD0MfFJ"
      },
      "execution_count": 448,
      "outputs": []
    },
    {
      "cell_type": "code",
      "source": [
        "def replace_outliers_with_median(X_test, col):\n",
        "    # Calculate the median of the specified column\n",
        "    median = X_test[col].median()\n",
        "\n",
        "    # Calculate the interquartile range (IQR) to define the threshold for outliers\n",
        "    Q1 = X_test[col].quantile(0.25)\n",
        "    Q3 = X_test[col].quantile(0.75)\n",
        "    IQR = Q3 - Q1\n",
        "\n",
        "    # Define the threshold for outliers )\n",
        "    threshold = 1.5 * IQR\n",
        "\n",
        "    # Identify outliers based on the threshold\n",
        "    outliers = (X_test[col] < Q1 - threshold) | (X_test[col] > Q3 + threshold)\n",
        "\n",
        "    # Replace outliers with median\n",
        "    X_test.loc[outliers, col] = median\n",
        "\n",
        "# Example usage:\n",
        "# Specify the column with outliers\n",
        "outlier_column = 'Temperature'\n",
        "\n",
        "# Replace outliers with median for the specified column\n",
        "replace_outliers_with_median(X_test, outlier_column)\n"
      ],
      "metadata": {
        "id": "1owqIzMbMstZ"
      },
      "execution_count": 449,
      "outputs": []
    },
    {
      "cell_type": "code",
      "source": [
        "X_test.boxplot()"
      ],
      "metadata": {
        "colab": {
          "base_uri": "https://localhost:8080/",
          "height": 448
        },
        "id": "LeGsRK5qoJKj",
        "outputId": "3c804adf-8008-4f6b-9219-b200b4c6eff0"
      },
      "execution_count": 450,
      "outputs": [
        {
          "output_type": "execute_result",
          "data": {
            "text/plain": [
              "<Axes: >"
            ]
          },
          "metadata": {},
          "execution_count": 450
        },
        {
          "output_type": "display_data",
          "data": {
            "text/plain": [
              "<Figure size 640x480 with 1 Axes>"
            ],
            "image/png": "[encoded data removed]"
          },
          "metadata": {}
        }
      ]
    },
    {
      "cell_type": "code",
      "source": [
        "# Check for null values in numeric columns of trainingset\n",
        "X_train.isna().sum()"
      ],
      "metadata": {
        "colab": {
          "base_uri": "https://localhost:8080/"
        },
        "id": "HBQxcG-7r23b",
        "outputId": "8723c8b1-7dda-44ba-e789-6c1bf5422a6c"
      },
      "execution_count": 451,
      "outputs": [
        {
          "output_type": "execute_result",
          "data": {
            "text/plain": [
              "Temperature      0\n",
              "Humidity       443\n",
              "CO2              0\n",
              "IsWeekend        0\n",
              "DayOfMonth       0\n",
              "dtype: int64"
            ]
          },
          "metadata": {},
          "execution_count": 451
        }
      ]
    },
    {
      "cell_type": "code",
      "source": [
        "# Define numeric and categorical columns\n",
        "numeric_columns = X_train.select_dtypes(include=['float', 'int'])\n",
        "categorical_columns = X_train.select_dtypes(include='object')\n",
        "\n",
        "# Imputation for numeric columns\n",
        "numeric_imputer = SimpleImputer(strategy='mean')\n",
        "numeric_imputed = numeric_imputer.fit_transform(numeric_columns)\n",
        "# Assign imputed values back to the DataFrame\n",
        "X_train[numeric_columns.columns] = numeric_imputed\n",
        "\n",
        "# Imputation for categorical columns\n",
        "categorical_imputer = SimpleImputer(strategy='most_frequent')\n",
        "categorical_imputed = categorical_imputer.fit_transform(categorical_columns)\n",
        "# Assign imputed values back to the DataFrame\n",
        "X_train[categorical_columns.columns] = categorical_imputed\n",
        "\n",
        "numeric_imputed_df = pd.DataFrame(numeric_imputed, columns=numeric_columns.columns)\n",
        "categorical_imputed_df = pd.DataFrame(categorical_imputed, columns=categorical_columns.columns)\n",
        "\n",
        "# Concatenate numeric and categorical imputed DataFrames\n",
        "imputed_data = pd.concat([numeric_imputed_df, categorical_imputed_df], axis=1)\n",
        "X_train = imputed_data"
      ],
      "metadata": {
        "id": "tuqgGatrrz_2"
      },
      "execution_count": 452,
      "outputs": []
    },
    {
      "cell_type": "code",
      "source": [
        "# Define numeric and categorical columns\n",
        "numeric_columns = X_test.select_dtypes(include=['float', 'int'])\n",
        "categorical_columns = X_test.select_dtypes(include='object')\n",
        "\n",
        "# Imputation for numeric columns\n",
        "numeric_imputer = SimpleImputer(strategy='mean')\n",
        "numeric_imputed = numeric_imputer.fit_transform(numeric_columns)\n",
        "# Assign imputed values back to the DataFrame\n",
        "X_test[numeric_columns.columns] = numeric_imputed\n",
        "\n",
        "# Imputation for categorical columns\n",
        "categorical_imputer = SimpleImputer(strategy='most_frequent')\n",
        "categorical_imputed = categorical_imputer.fit_transform(categorical_columns)\n",
        "# Assign imputed values back to the DataFrame\n",
        "X_test[categorical_columns.columns] = categorical_imputed\n",
        "\n",
        "numeric_imputed_df = pd.DataFrame(numeric_imputed, columns=numeric_columns.columns)\n",
        "categorical_imputed_df = pd.DataFrame(categorical_imputed, columns=categorical_columns.columns)\n",
        "\n",
        "# Concatenate numeric and categorical imputed DataFrames\n",
        "imputed_data = pd.concat([numeric_imputed_df, categorical_imputed_df], axis=1)\n",
        "X_test = imputed_data"
      ],
      "metadata": {
        "id": "L8JMa9iXREMs"
      },
      "execution_count": 453,
      "outputs": []
    },
    {
      "cell_type": "code",
      "source": [
        "# Check for null values in numeric columns of trainingset\n",
        "X_test.isna().sum()"
      ],
      "metadata": {
        "colab": {
          "base_uri": "https://localhost:8080/"
        },
        "id": "CFvaNLK--KRs",
        "outputId": "7b937a30-d637-4880-f55f-1ff36920f43a"
      },
      "execution_count": 454,
      "outputs": [
        {
          "output_type": "execute_result",
          "data": {
            "text/plain": [
              "Temperature    0\n",
              "DayOfMonth     0\n",
              "Humidity       0\n",
              "CO2            0\n",
              "IsWeekend      0\n",
              "dtype: int64"
            ]
          },
          "metadata": {},
          "execution_count": 454
        }
      ]
    },
    {
      "cell_type": "markdown",
      "source": [],
      "metadata": {
        "id": "DjKqQI0y9TMR"
      }
    },
    {
      "cell_type": "code",
      "source": [
        "# Initialize LabelEncoder\n",
        "labelencoder = LabelEncoder()\n",
        "\n",
        "X_train['Humidity'] = labelencoder.fit_transform(X_train['Humidity'])\n",
        "\n",
        "X_train['CO2'] = labelencoder.fit_transform(X_train['CO2'])\n",
        "\n",
        "X_train['IsWeekend'] = labelencoder.fit_transform(X_train['IsWeekend'])"
      ],
      "metadata": {
        "id": "pP0V7ikOSHaj"
      },
      "execution_count": 455,
      "outputs": []
    },
    {
      "cell_type": "code",
      "source": [
        "# Initialize LabelEncoder\n",
        "labelencoder = LabelEncoder()\n",
        "X_test['Humidity'] = labelencoder.fit_transform(X_test['Humidity'])\n",
        "\n",
        "X_test['CO2'] = labelencoder.fit_transform(X_test['CO2'])\n",
        "\n",
        "X_test['IsWeekend'] = labelencoder.fit_transform(X_test['IsWeekend'])"
      ],
      "metadata": {
        "id": "emnT7YUPVDA4"
      },
      "execution_count": 456,
      "outputs": []
    },
    {
      "cell_type": "code",
      "source": [
        "print(X_test)"
      ],
      "metadata": {
        "colab": {
          "base_uri": "https://localhost:8080/"
        },
        "id": "JNeJPsYNT1uo",
        "outputId": "17d5aa89-60c5-4012-a43a-e26894ff6f28"
      },
      "execution_count": 457,
      "outputs": [
        {
          "output_type": "stream",
          "name": "stdout",
          "text": [
            "     Temperature  DayOfMonth  Humidity  CO2  IsWeekend\n",
            "0      20.865000         6.0         1    2          0\n",
            "1      21.533333         6.0         1    2          2\n",
            "2      21.323333         9.0         0    0          2\n",
            "3      21.100000         7.0         1    1          1\n",
            "4      22.856667         7.0         1    1          1\n",
            "..           ...         ...       ...  ...        ...\n",
            "347    21.675000         6.0         1    2          2\n",
            "348    22.426667         5.0         0    2          0\n",
            "349    21.200000         7.0         1    1          1\n",
            "350    20.700000         6.0         1    1          0\n",
            "351    22.340000         4.0         1    2          2\n",
            "\n",
            "[352 rows x 5 columns]\n"
          ]
        }
      ]
    },
    {
      "cell_type": "code",
      "source": [
        "print(X_train)"
      ],
      "metadata": {
        "colab": {
          "base_uri": "https://localhost:8080/"
        },
        "id": "Ii7BIGVf6kcU",
        "outputId": "448e13e9-47de-4e66-b3da-a0c059725999"
      },
      "execution_count": 458,
      "outputs": [
        {
          "output_type": "stream",
          "name": "stdout",
          "text": [
            "      Temperature  DayOfMonth  Humidity  CO2  IsWeekend\n",
            "0       20.290000         6.0         1    1          2\n",
            "1       19.445000         9.0         1    1          0\n",
            "2       20.000000         9.0         1    2          0\n",
            "3       22.050000         5.0         2    2          0\n",
            "4       23.075000         7.0         1    1          1\n",
            "...           ...         ...       ...  ...        ...\n",
            "1401    20.700000         9.0         1    2          2\n",
            "1402    21.525000         9.0         0    0          0\n",
            "1403    20.823333         9.0         1    2          0\n",
            "1404    21.890000         9.0         0    0          0\n",
            "1405    21.100000         6.0         1    2          2\n",
            "\n",
            "[1406 rows x 5 columns]\n"
          ]
        }
      ]
    },
    {
      "cell_type": "code",
      "source": [
        "# Instantiate the preprocessor/ColumnTransformer\n",
        "preprocessor = ColumnTransformer(transformers=[\n",
        "    ('num', StandardScaler(), numeric_columns),\n",
        "    ('cat', OneHotEncoder(), categorical_columns)])\n",
        "preprocessor"
      ],
      "metadata": {
        "colab": {
          "base_uri": "https://localhost:8080/",
          "height": 118
        },
        "id": "EOKDzS_NVRAK",
        "outputId": "9b77a6ce-7b1f-40d5-fe9e-2c73a9783a80"
      },
      "execution_count": 459,
      "outputs": [
        {
          "output_type": "execute_result",
          "data": {
            "text/plain": [
              "ColumnTransformer(transformers=[('num', StandardScaler(),\n",
              "                                       Temperature  DayOfMonth\n",
              "1125    20.865000           6\n",
              "1030    21.533333           6\n",
              "1450    21.323333           9\n",
              "1494    21.100000           7\n",
              "344     22.856667           7\n",
              "...           ...         ...\n",
              "494     21.675000           6\n",
              "1050    22.426667           5\n",
              "1542    21.200000           7\n",
              "1652    20.700000           6\n",
              "381     22.340000           4\n",
              "\n",
              "[352 rows x 2 columns]),\n",
              "                                ('cat', OneHotEncoder(),\n",
              "                                      Humidity   CO2 IsWeekend\n",
              "1125      Low   Med   Weekday\n",
              "1030      NaN   Med   weekday\n",
              "1450     High  High   weekday\n",
              "1494      Low   Low   Weekend\n",
              "344       Low   Low   Weekend\n",
              "...       ...   ...       ...\n",
              "494       Low   Med   weekday\n",
              "1050     High   Med   Weekday\n",
              "1542      Low   Low   Weekend\n",
              "1652      NaN   Low   Weekday\n",
              "381       NaN   Med   weekday\n",
              "\n",
              "[352 rows x 3 columns])])"
            ],
            "text/html": [
              "<style>#sk-container-id-17 {color: black;background-color: white;}#sk-container-id-17 pre{padding: 0;}#sk-container-id-17 div.sk-toggleable {background-color: white;}#sk-container-id-17 label.sk-toggleable__label {cursor: pointer;display: block;width: 100%;margin-bottom: 0;padding: 0.3em;box-sizing: border-box;text-align: center;}#sk-container-id-17 label.sk-toggleable__label-arrow:before {content: \"▸\";float: left;margin-right: 0.25em;color: #696969;}#sk-container-id-17 label.sk-toggleable__label-arrow:hover:before {color: black;}#sk-container-id-17 div.sk-estimator:hover label.sk-toggleable__label-arrow:before {color: black;}#sk-container-id-17 div.sk-toggleable__content {max-height: 0;max-width: 0;overflow: hidden;text-align: left;background-color: #f0f8ff;}#sk-container-id-17 div.sk-toggleable__content pre {margin: 0.2em;color: black;border-radius: 0.25em;background-color: #f0f8ff;}#sk-container-id-17 input.sk-toggleable__control:checked~div.sk-toggleable__content {max-height: 200px;max-width: 100%;overflow: auto;}#sk-container-id-17 input.sk-toggleable__control:checked~label.sk-toggleable__label-arrow:before {content: \"▾\";}#sk-container-id-17 div.sk-estimator input.sk-toggleable__control:checked~label.sk-toggleable__label {background-color: #d4ebff;}#sk-container-id-17 div.sk-label input.sk-toggleable__control:checked~label.sk-toggleable__label {background-color: #d4ebff;}#sk-container-id-17 input.sk-hidden--visually {border: 0;clip: rect(1px 1px 1px 1px);clip: rect(1px, 1px, 1px, 1px);height: 1px;margin: -1px;overflow: hidden;padding: 0;position: absolute;width: 1px;}#sk-container-id-17 div.sk-estimator {font-family: monospace;background-color: #f0f8ff;border: 1px dotted black;border-radius: 0.25em;box-sizing: border-box;margin-bottom: 0.5em;}#sk-container-id-17 div.sk-estimator:hover {background-color: #d4ebff;}#sk-container-id-17 div.sk-parallel-item::after {content: \"\";width: 100%;border-bottom: 1px solid gray;flex-grow: 1;}#sk-container-id-17 div.sk-label:hover label.sk-toggleable__label {background-color: #d4ebff;}#sk-container-id-17 div.sk-serial::before {content: \"\";position: absolute;border-left: 1px solid gray;box-sizing: border-box;top: 0;bottom: 0;left: 50%;z-index: 0;}#sk-container-id-17 div.sk-serial {display: flex;flex-direction: column;align-items: center;background-color: white;padding-right: 0.2em;padding-left: 0.2em;position: relative;}#sk-container-id-17 div.sk-item {position: relative;z-index: 1;}#sk-container-id-17 div.sk-parallel {display: flex;align-items: stretch;justify-content: center;background-color: white;position: relative;}#sk-container-id-17 div.sk-item::before, #sk-container-id-17 div.sk-parallel-item::before {content: \"\";position: absolute;border-left: 1px solid gray;box-sizing: border-box;top: 0;bottom: 0;left: 50%;z-index: -1;}#sk-container-id-17 div.sk-parallel-item {display: flex;flex-direction: column;z-index: 1;position: relative;background-color: white;}#sk-container-id-17 div.sk-parallel-item:first-child::after {align-self: flex-end;width: 50%;}#sk-container-id-17 div.sk-parallel-item:last-child::after {align-self: flex-start;width: 50%;}#sk-container-id-17 div.sk-parallel-item:only-child::after {width: 0;}#sk-container-id-17 div.sk-dashed-wrapped {border: 1px dashed gray;margin: 0 0.4em 0.5em 0.4em;box-sizing: border-box;padding-bottom: 0.4em;background-color: white;}#sk-container-id-17 div.sk-label label {font-family: monospace;font-weight: bold;display: inline-block;line-height: 1.2em;}#sk-container-id-17 div.sk-label-container {text-align: center;}#sk-container-id-17 div.sk-container {/* jupyter's `normalize.less` sets `[hidden] { display: none; }` but bootstrap.min.css set `[hidden] { display: none !important; }` so we also need the `!important` here to be able to override the default hidden behavior on the sphinx rendered scikit-learn.org. See: https://github.com/scikit-learn/scikit-learn/issues/21755 */display: inline-block !important;position: relative;}#sk-container-id-17 div.sk-text-repr-fallback {display: none;}</style><div id=\"sk-container-id-17\" class=\"sk-top-container\"><div class=\"sk-text-repr-fallback\"><pre>ColumnTransformer(transformers=[(&#x27;num&#x27;, StandardScaler(),\n",
              "                                       Temperature  DayOfMonth\n",
              "1125    20.865000           6\n",
              "1030    21.533333           6\n",
              "1450    21.323333           9\n",
              "1494    21.100000           7\n",
              "344     22.856667           7\n",
              "...           ...         ...\n",
              "494     21.675000           6\n",
              "1050    22.426667           5\n",
              "1542    21.200000           7\n",
              "1652    20.700000           6\n",
              "381     22.340000           4\n",
              "\n",
              "[352 rows x 2 columns]),\n",
              "                                (&#x27;cat&#x27;, OneHotEncoder(),\n",
              "                                      Humidity   CO2 IsWeekend\n",
              "1125      Low   Med   Weekday\n",
              "1030      NaN   Med   weekday\n",
              "1450     High  High   weekday\n",
              "1494      Low   Low   Weekend\n",
              "344       Low   Low   Weekend\n",
              "...       ...   ...       ...\n",
              "494       Low   Med   weekday\n",
              "1050     High   Med   Weekday\n",
              "1542      Low   Low   Weekend\n",
              "1652      NaN   Low   Weekday\n",
              "381       NaN   Med   weekday\n",
              "\n",
              "[352 rows x 3 columns])])</pre><b>In a Jupyter environment, please rerun this cell to show the HTML representation or trust the notebook. <br />On GitHub, the HTML representation is unable to render, please try loading this page with nbviewer.org.</b></div><div class=\"sk-container\" hidden><div class=\"sk-item sk-dashed-wrapped\"><div class=\"sk-label-container\"><div class=\"sk-label sk-toggleable\"><input class=\"sk-toggleable__control sk-hidden--visually\" id=\"sk-estimator-id-60\" type=\"checkbox\" ><label for=\"sk-estimator-id-60\" class=\"sk-toggleable__label sk-toggleable__label-arrow\">ColumnTransformer</label><div class=\"sk-toggleable__content\"><pre>ColumnTransformer(transformers=[(&#x27;num&#x27;, StandardScaler(),\n",
              "                                       Temperature  DayOfMonth\n",
              "1125    20.865000           6\n",
              "1030    21.533333           6\n",
              "1450    21.323333           9\n",
              "1494    21.100000           7\n",
              "344     22.856667           7\n",
              "...           ...         ...\n",
              "494     21.675000           6\n",
              "1050    22.426667           5\n",
              "1542    21.200000           7\n",
              "1652    20.700000           6\n",
              "381     22.340000           4\n",
              "\n",
              "[352 rows x 2 columns]),\n",
              "                                (&#x27;cat&#x27;, OneHotEncoder(),\n",
              "                                      Humidity   CO2 IsWeekend\n",
              "1125      Low   Med   Weekday\n",
              "1030      NaN   Med   weekday\n",
              "1450     High  High   weekday\n",
              "1494      Low   Low   Weekend\n",
              "344       Low   Low   Weekend\n",
              "...       ...   ...       ...\n",
              "494       Low   Med   weekday\n",
              "1050     High   Med   Weekday\n",
              "1542      Low   Low   Weekend\n",
              "1652      NaN   Low   Weekday\n",
              "381       NaN   Med   weekday\n",
              "\n",
              "[352 rows x 3 columns])])</pre></div></div></div><div class=\"sk-parallel\"><div class=\"sk-parallel-item\"><div class=\"sk-item\"><div class=\"sk-label-container\"><div class=\"sk-label sk-toggleable\"><input class=\"sk-toggleable__control sk-hidden--visually\" id=\"sk-estimator-id-61\" type=\"checkbox\" ><label for=\"sk-estimator-id-61\" class=\"sk-toggleable__label sk-toggleable__label-arrow\">num</label><div class=\"sk-toggleable__content\"><pre>      Temperature  DayOfMonth\n",
              "1125    20.865000           6\n",
              "1030    21.533333           6\n",
              "1450    21.323333           9\n",
              "1494    21.100000           7\n",
              "344     22.856667           7\n",
              "...           ...         ...\n",
              "494     21.675000           6\n",
              "1050    22.426667           5\n",
              "1542    21.200000           7\n",
              "1652    20.700000           6\n",
              "381     22.340000           4\n",
              "\n",
              "[352 rows x 2 columns]</pre></div></div></div><div class=\"sk-serial\"><div class=\"sk-item\"><div class=\"sk-estimator sk-toggleable\"><input class=\"sk-toggleable__control sk-hidden--visually\" id=\"sk-estimator-id-62\" type=\"checkbox\" ><label for=\"sk-estimator-id-62\" class=\"sk-toggleable__label sk-toggleable__label-arrow\">StandardScaler</label><div class=\"sk-toggleable__content\"><pre>StandardScaler()</pre></div></div></div></div></div></div><div class=\"sk-parallel-item\"><div class=\"sk-item\"><div class=\"sk-label-container\"><div class=\"sk-label sk-toggleable\"><input class=\"sk-toggleable__control sk-hidden--visually\" id=\"sk-estimator-id-63\" type=\"checkbox\" ><label for=\"sk-estimator-id-63\" class=\"sk-toggleable__label sk-toggleable__label-arrow\">cat</label><div class=\"sk-toggleable__content\"><pre>     Humidity   CO2 IsWeekend\n",
              "1125      Low   Med   Weekday\n",
              "1030      NaN   Med   weekday\n",
              "1450     High  High   weekday\n",
              "1494      Low   Low   Weekend\n",
              "344       Low   Low   Weekend\n",
              "...       ...   ...       ...\n",
              "494       Low   Med   weekday\n",
              "1050     High   Med   Weekday\n",
              "1542      Low   Low   Weekend\n",
              "1652      NaN   Low   Weekday\n",
              "381       NaN   Med   weekday\n",
              "\n",
              "[352 rows x 3 columns]</pre></div></div></div><div class=\"sk-serial\"><div class=\"sk-item\"><div class=\"sk-estimator sk-toggleable\"><input class=\"sk-toggleable__control sk-hidden--visually\" id=\"sk-estimator-id-64\" type=\"checkbox\" ><label for=\"sk-estimator-id-64\" class=\"sk-toggleable__label sk-toggleable__label-arrow\">OneHotEncoder</label><div class=\"sk-toggleable__content\"><pre>OneHotEncoder()</pre></div></div></div></div></div></div></div></div></div></div>"
            ]
          },
          "metadata": {},
          "execution_count": 459
        }
      ]
    },
    {
      "cell_type": "code",
      "source": [
        "model = RandomForestClassifier(random_state=42)"
      ],
      "metadata": {
        "id": "7CeLDzTCYXUH"
      },
      "execution_count": 460,
      "outputs": []
    },
    {
      "cell_type": "code",
      "source": [
        "# Define pipeline with preprocessor\n",
        "pipeline = Pipeline(steps=[\n",
        "    ('preprocessor', preprocessor),\n",
        "    ('model',RandomForestClassifier())\n",
        "])\n",
        "pipeline"
      ],
      "metadata": {
        "colab": {
          "base_uri": "https://localhost:8080/",
          "height": 192
        },
        "id": "VVDbwR-aajOr",
        "outputId": "3895ecf5-262f-4256-efa8-d6184a3b890d"
      },
      "execution_count": 461,
      "outputs": [
        {
          "output_type": "execute_result",
          "data": {
            "text/plain": [
              "Pipeline(steps=[('preprocessor',\n",
              "                 ColumnTransformer(transformers=[('num', StandardScaler(),\n",
              "                                                        Temperature  DayOfMonth\n",
              "1125    20.865000           6\n",
              "1030    21.533333           6\n",
              "1450    21.323333           9\n",
              "1494    21.100000           7\n",
              "344     22.856667           7\n",
              "...           ...         ...\n",
              "494     21.675000           6\n",
              "1050    22.426667           5\n",
              "1542    21.200000           7\n",
              "1652    20.700000           6\n",
              "381     22.340000           4\n",
              "\n",
              "[352 rows x 2 columns]),\n",
              "                                                 ('cat', OneHotEncoder(),\n",
              "                                                       Humidity   CO2 IsWeekend\n",
              "1125      Low   Med   Weekday\n",
              "1030      NaN   Med   weekday\n",
              "1450     High  High   weekday\n",
              "1494      Low   Low   Weekend\n",
              "344       Low   Low   Weekend\n",
              "...       ...   ...       ...\n",
              "494       Low   Med   weekday\n",
              "1050     High   Med   Weekday\n",
              "1542      Low   Low   Weekend\n",
              "1652      NaN   Low   Weekday\n",
              "381       NaN   Med   weekday\n",
              "\n",
              "[352 rows x 3 columns])])),\n",
              "                ('model', RandomForestClassifier())])"
            ],
            "text/html": [
              "<style>#sk-container-id-18 {color: black;background-color: white;}#sk-container-id-18 pre{padding: 0;}#sk-container-id-18 div.sk-toggleable {background-color: white;}#sk-container-id-18 label.sk-toggleable__label {cursor: pointer;display: block;width: 100%;margin-bottom: 0;padding: 0.3em;box-sizing: border-box;text-align: center;}#sk-container-id-18 label.sk-toggleable__label-arrow:before {content: \"▸\";float: left;margin-right: 0.25em;color: #696969;}#sk-container-id-18 label.sk-toggleable__label-arrow:hover:before {color: black;}#sk-container-id-18 div.sk-estimator:hover label.sk-toggleable__label-arrow:before {color: black;}#sk-container-id-18 div.sk-toggleable__content {max-height: 0;max-width: 0;overflow: hidden;text-align: left;background-color: #f0f8ff;}#sk-container-id-18 div.sk-toggleable__content pre {margin: 0.2em;color: black;border-radius: 0.25em;background-color: #f0f8ff;}#sk-container-id-18 input.sk-toggleable__control:checked~div.sk-toggleable__content {max-height: 200px;max-width: 100%;overflow: auto;}#sk-container-id-18 input.sk-toggleable__control:checked~label.sk-toggleable__label-arrow:before {content: \"▾\";}#sk-container-id-18 div.sk-estimator input.sk-toggleable__control:checked~label.sk-toggleable__label {background-color: #d4ebff;}#sk-container-id-18 div.sk-label input.sk-toggleable__control:checked~label.sk-toggleable__label {background-color: #d4ebff;}#sk-container-id-18 input.sk-hidden--visually {border: 0;clip: rect(1px 1px 1px 1px);clip: rect(1px, 1px, 1px, 1px);height: 1px;margin: -1px;overflow: hidden;padding: 0;position: absolute;width: 1px;}#sk-container-id-18 div.sk-estimator {font-family: monospace;background-color: #f0f8ff;border: 1px dotted black;border-radius: 0.25em;box-sizing: border-box;margin-bottom: 0.5em;}#sk-container-id-18 div.sk-estimator:hover {background-color: #d4ebff;}#sk-container-id-18 div.sk-parallel-item::after {content: \"\";width: 100%;border-bottom: 1px solid gray;flex-grow: 1;}#sk-container-id-18 div.sk-label:hover label.sk-toggleable__label {background-color: #d4ebff;}#sk-container-id-18 div.sk-serial::before {content: \"\";position: absolute;border-left: 1px solid gray;box-sizing: border-box;top: 0;bottom: 0;left: 50%;z-index: 0;}#sk-container-id-18 div.sk-serial {display: flex;flex-direction: column;align-items: center;background-color: white;padding-right: 0.2em;padding-left: 0.2em;position: relative;}#sk-container-id-18 div.sk-item {position: relative;z-index: 1;}#sk-container-id-18 div.sk-parallel {display: flex;align-items: stretch;justify-content: center;background-color: white;position: relative;}#sk-container-id-18 div.sk-item::before, #sk-container-id-18 div.sk-parallel-item::before {content: \"\";position: absolute;border-left: 1px solid gray;box-sizing: border-box;top: 0;bottom: 0;left: 50%;z-index: -1;}#sk-container-id-18 div.sk-parallel-item {display: flex;flex-direction: column;z-index: 1;position: relative;background-color: white;}#sk-container-id-18 div.sk-parallel-item:first-child::after {align-self: flex-end;width: 50%;}#sk-container-id-18 div.sk-parallel-item:last-child::after {align-self: flex-start;width: 50%;}#sk-container-id-18 div.sk-parallel-item:only-child::after {width: 0;}#sk-container-id-18 div.sk-dashed-wrapped {border: 1px dashed gray;margin: 0 0.4em 0.5em 0.4em;box-sizing: border-box;padding-bottom: 0.4em;background-color: white;}#sk-container-id-18 div.sk-label label {font-family: monospace;font-weight: bold;display: inline-block;line-height: 1.2em;}#sk-container-id-18 div.sk-label-container {text-align: center;}#sk-container-id-18 div.sk-container {/* jupyter's `normalize.less` sets `[hidden] { display: none; }` but bootstrap.min.css set `[hidden] { display: none !important; }` so we also need the `!important` here to be able to override the default hidden behavior on the sphinx rendered scikit-learn.org. See: https://github.com/scikit-learn/scikit-learn/issues/21755 */display: inline-block !important;position: relative;}#sk-container-id-18 div.sk-text-repr-fallback {display: none;}</style><div id=\"sk-container-id-18\" class=\"sk-top-container\"><div class=\"sk-text-repr-fallback\"><pre>Pipeline(steps=[(&#x27;preprocessor&#x27;,\n",
              "                 ColumnTransformer(transformers=[(&#x27;num&#x27;, StandardScaler(),\n",
              "                                                        Temperature  DayOfMonth\n",
              "1125    20.865000           6\n",
              "1030    21.533333           6\n",
              "1450    21.323333           9\n",
              "1494    21.100000           7\n",
              "344     22.856667           7\n",
              "...           ...         ...\n",
              "494     21.675000           6\n",
              "1050    22.426667           5\n",
              "1542    21.200000           7\n",
              "1652    20.700000           6\n",
              "381     22.340000           4\n",
              "\n",
              "[352 rows x 2 columns]),\n",
              "                                                 (&#x27;cat&#x27;, OneHotEncoder(),\n",
              "                                                       Humidity   CO2 IsWeekend\n",
              "1125      Low   Med   Weekday\n",
              "1030      NaN   Med   weekday\n",
              "1450     High  High   weekday\n",
              "1494      Low   Low   Weekend\n",
              "344       Low   Low   Weekend\n",
              "...       ...   ...       ...\n",
              "494       Low   Med   weekday\n",
              "1050     High   Med   Weekday\n",
              "1542      Low   Low   Weekend\n",
              "1652      NaN   Low   Weekday\n",
              "381       NaN   Med   weekday\n",
              "\n",
              "[352 rows x 3 columns])])),\n",
              "                (&#x27;model&#x27;, RandomForestClassifier())])</pre><b>In a Jupyter environment, please rerun this cell to show the HTML representation or trust the notebook. <br />On GitHub, the HTML representation is unable to render, please try loading this page with nbviewer.org.</b></div><div class=\"sk-container\" hidden><div class=\"sk-item sk-dashed-wrapped\"><div class=\"sk-label-container\"><div class=\"sk-label sk-toggleable\"><input class=\"sk-toggleable__control sk-hidden--visually\" id=\"sk-estimator-id-65\" type=\"checkbox\" ><label for=\"sk-estimator-id-65\" class=\"sk-toggleable__label sk-toggleable__label-arrow\">Pipeline</label><div class=\"sk-toggleable__content\"><pre>Pipeline(steps=[(&#x27;preprocessor&#x27;,\n",
              "                 ColumnTransformer(transformers=[(&#x27;num&#x27;, StandardScaler(),\n",
              "                                                        Temperature  DayOfMonth\n",
              "1125    20.865000           6\n",
              "1030    21.533333           6\n",
              "1450    21.323333           9\n",
              "1494    21.100000           7\n",
              "344     22.856667           7\n",
              "...           ...         ...\n",
              "494     21.675000           6\n",
              "1050    22.426667           5\n",
              "1542    21.200000           7\n",
              "1652    20.700000           6\n",
              "381     22.340000           4\n",
              "\n",
              "[352 rows x 2 columns]),\n",
              "                                                 (&#x27;cat&#x27;, OneHotEncoder(),\n",
              "                                                       Humidity   CO2 IsWeekend\n",
              "1125      Low   Med   Weekday\n",
              "1030      NaN   Med   weekday\n",
              "1450     High  High   weekday\n",
              "1494      Low   Low   Weekend\n",
              "344       Low   Low   Weekend\n",
              "...       ...   ...       ...\n",
              "494       Low   Med   weekday\n",
              "1050     High   Med   Weekday\n",
              "1542      Low   Low   Weekend\n",
              "1652      NaN   Low   Weekday\n",
              "381       NaN   Med   weekday\n",
              "\n",
              "[352 rows x 3 columns])])),\n",
              "                (&#x27;model&#x27;, RandomForestClassifier())])</pre></div></div></div><div class=\"sk-serial\"><div class=\"sk-item sk-dashed-wrapped\"><div class=\"sk-label-container\"><div class=\"sk-label sk-toggleable\"><input class=\"sk-toggleable__control sk-hidden--visually\" id=\"sk-estimator-id-66\" type=\"checkbox\" ><label for=\"sk-estimator-id-66\" class=\"sk-toggleable__label sk-toggleable__label-arrow\">preprocessor: ColumnTransformer</label><div class=\"sk-toggleable__content\"><pre>ColumnTransformer(transformers=[(&#x27;num&#x27;, StandardScaler(),\n",
              "                                       Temperature  DayOfMonth\n",
              "1125    20.865000           6\n",
              "1030    21.533333           6\n",
              "1450    21.323333           9\n",
              "1494    21.100000           7\n",
              "344     22.856667           7\n",
              "...           ...         ...\n",
              "494     21.675000           6\n",
              "1050    22.426667           5\n",
              "1542    21.200000           7\n",
              "1652    20.700000           6\n",
              "381     22.340000           4\n",
              "\n",
              "[352 rows x 2 columns]),\n",
              "                                (&#x27;cat&#x27;, OneHotEncoder(),\n",
              "                                      Humidity   CO2 IsWeekend\n",
              "1125      Low   Med   Weekday\n",
              "1030      NaN   Med   weekday\n",
              "1450     High  High   weekday\n",
              "1494      Low   Low   Weekend\n",
              "344       Low   Low   Weekend\n",
              "...       ...   ...       ...\n",
              "494       Low   Med   weekday\n",
              "1050     High   Med   Weekday\n",
              "1542      Low   Low   Weekend\n",
              "1652      NaN   Low   Weekday\n",
              "381       NaN   Med   weekday\n",
              "\n",
              "[352 rows x 3 columns])])</pre></div></div></div><div class=\"sk-parallel\"><div class=\"sk-parallel-item\"><div class=\"sk-item\"><div class=\"sk-label-container\"><div class=\"sk-label sk-toggleable\"><input class=\"sk-toggleable__control sk-hidden--visually\" id=\"sk-estimator-id-67\" type=\"checkbox\" ><label for=\"sk-estimator-id-67\" class=\"sk-toggleable__label sk-toggleable__label-arrow\">num</label><div class=\"sk-toggleable__content\"><pre>      Temperature  DayOfMonth\n",
              "1125    20.865000           6\n",
              "1030    21.533333           6\n",
              "1450    21.323333           9\n",
              "1494    21.100000           7\n",
              "344     22.856667           7\n",
              "...           ...         ...\n",
              "494     21.675000           6\n",
              "1050    22.426667           5\n",
              "1542    21.200000           7\n",
              "1652    20.700000           6\n",
              "381     22.340000           4\n",
              "\n",
              "[352 rows x 2 columns]</pre></div></div></div><div class=\"sk-serial\"><div class=\"sk-item\"><div class=\"sk-estimator sk-toggleable\"><input class=\"sk-toggleable__control sk-hidden--visually\" id=\"sk-estimator-id-68\" type=\"checkbox\" ><label for=\"sk-estimator-id-68\" class=\"sk-toggleable__label sk-toggleable__label-arrow\">StandardScaler</label><div class=\"sk-toggleable__content\"><pre>StandardScaler()</pre></div></div></div></div></div></div><div class=\"sk-parallel-item\"><div class=\"sk-item\"><div class=\"sk-label-container\"><div class=\"sk-label sk-toggleable\"><input class=\"sk-toggleable__control sk-hidden--visually\" id=\"sk-estimator-id-69\" type=\"checkbox\" ><label for=\"sk-estimator-id-69\" class=\"sk-toggleable__label sk-toggleable__label-arrow\">cat</label><div class=\"sk-toggleable__content\"><pre>     Humidity   CO2 IsWeekend\n",
              "1125      Low   Med   Weekday\n",
              "1030      NaN   Med   weekday\n",
              "1450     High  High   weekday\n",
              "1494      Low   Low   Weekend\n",
              "344       Low   Low   Weekend\n",
              "...       ...   ...       ...\n",
              "494       Low   Med   weekday\n",
              "1050     High   Med   Weekday\n",
              "1542      Low   Low   Weekend\n",
              "1652      NaN   Low   Weekday\n",
              "381       NaN   Med   weekday\n",
              "\n",
              "[352 rows x 3 columns]</pre></div></div></div><div class=\"sk-serial\"><div class=\"sk-item\"><div class=\"sk-estimator sk-toggleable\"><input class=\"sk-toggleable__control sk-hidden--visually\" id=\"sk-estimator-id-70\" type=\"checkbox\" ><label for=\"sk-estimator-id-70\" class=\"sk-toggleable__label sk-toggleable__label-arrow\">OneHotEncoder</label><div class=\"sk-toggleable__content\"><pre>OneHotEncoder()</pre></div></div></div></div></div></div></div></div><div class=\"sk-item\"><div class=\"sk-estimator sk-toggleable\"><input class=\"sk-toggleable__control sk-hidden--visually\" id=\"sk-estimator-id-71\" type=\"checkbox\" ><label for=\"sk-estimator-id-71\" class=\"sk-toggleable__label sk-toggleable__label-arrow\">RandomForestClassifier</label><div class=\"sk-toggleable__content\"><pre>RandomForestClassifier()</pre></div></div></div></div></div></div></div>"
            ]
          },
          "metadata": {},
          "execution_count": 461
        }
      ]
    },
    {
      "cell_type": "code",
      "source": [
        "model.fit(X_train,y_train)"
      ],
      "metadata": {
        "colab": {
          "base_uri": "https://localhost:8080/",
          "height": 75
        },
        "id": "tJnT3Jj6cM-C",
        "outputId": "b7c68c8b-ddee-4a40-fc63-9ef49b8dedf2"
      },
      "execution_count": 462,
      "outputs": [
        {
          "output_type": "execute_result",
          "data": {
            "text/plain": [
              "RandomForestClassifier(random_state=42)"
            ],
            "text/html": [
              "<style>#sk-container-id-19 {color: black;background-color: white;}#sk-container-id-19 pre{padding: 0;}#sk-container-id-19 div.sk-toggleable {background-color: white;}#sk-container-id-19 label.sk-toggleable__label {cursor: pointer;display: block;width: 100%;margin-bottom: 0;padding: 0.3em;box-sizing: border-box;text-align: center;}#sk-container-id-19 label.sk-toggleable__label-arrow:before {content: \"▸\";float: left;margin-right: 0.25em;color: #696969;}#sk-container-id-19 label.sk-toggleable__label-arrow:hover:before {color: black;}#sk-container-id-19 div.sk-estimator:hover label.sk-toggleable__label-arrow:before {color: black;}#sk-container-id-19 div.sk-toggleable__content {max-height: 0;max-width: 0;overflow: hidden;text-align: left;background-color: #f0f8ff;}#sk-container-id-19 div.sk-toggleable__content pre {margin: 0.2em;color: black;border-radius: 0.25em;background-color: #f0f8ff;}#sk-container-id-19 input.sk-toggleable__control:checked~div.sk-toggleable__content {max-height: 200px;max-width: 100%;overflow: auto;}#sk-container-id-19 input.sk-toggleable__control:checked~label.sk-toggleable__label-arrow:before {content: \"▾\";}#sk-container-id-19 div.sk-estimator input.sk-toggleable__control:checked~label.sk-toggleable__label {background-color: #d4ebff;}#sk-container-id-19 div.sk-label input.sk-toggleable__control:checked~label.sk-toggleable__label {background-color: #d4ebff;}#sk-container-id-19 input.sk-hidden--visually {border: 0;clip: rect(1px 1px 1px 1px);clip: rect(1px, 1px, 1px, 1px);height: 1px;margin: -1px;overflow: hidden;padding: 0;position: absolute;width: 1px;}#sk-container-id-19 div.sk-estimator {font-family: monospace;background-color: #f0f8ff;border: 1px dotted black;border-radius: 0.25em;box-sizing: border-box;margin-bottom: 0.5em;}#sk-container-id-19 div.sk-estimator:hover {background-color: #d4ebff;}#sk-container-id-19 div.sk-parallel-item::after {content: \"\";width: 100%;border-bottom: 1px solid gray;flex-grow: 1;}#sk-container-id-19 div.sk-label:hover label.sk-toggleable__label {background-color: #d4ebff;}#sk-container-id-19 div.sk-serial::before {content: \"\";position: absolute;border-left: 1px solid gray;box-sizing: border-box;top: 0;bottom: 0;left: 50%;z-index: 0;}#sk-container-id-19 div.sk-serial {display: flex;flex-direction: column;align-items: center;background-color: white;padding-right: 0.2em;padding-left: 0.2em;position: relative;}#sk-container-id-19 div.sk-item {position: relative;z-index: 1;}#sk-container-id-19 div.sk-parallel {display: flex;align-items: stretch;justify-content: center;background-color: white;position: relative;}#sk-container-id-19 div.sk-item::before, #sk-container-id-19 div.sk-parallel-item::before {content: \"\";position: absolute;border-left: 1px solid gray;box-sizing: border-box;top: 0;bottom: 0;left: 50%;z-index: -1;}#sk-container-id-19 div.sk-parallel-item {display: flex;flex-direction: column;z-index: 1;position: relative;background-color: white;}#sk-container-id-19 div.sk-parallel-item:first-child::after {align-self: flex-end;width: 50%;}#sk-container-id-19 div.sk-parallel-item:last-child::after {align-self: flex-start;width: 50%;}#sk-container-id-19 div.sk-parallel-item:only-child::after {width: 0;}#sk-container-id-19 div.sk-dashed-wrapped {border: 1px dashed gray;margin: 0 0.4em 0.5em 0.4em;box-sizing: border-box;padding-bottom: 0.4em;background-color: white;}#sk-container-id-19 div.sk-label label {font-family: monospace;font-weight: bold;display: inline-block;line-height: 1.2em;}#sk-container-id-19 div.sk-label-container {text-align: center;}#sk-container-id-19 div.sk-container {/* jupyter's `normalize.less` sets `[hidden] { display: none; }` but bootstrap.min.css set `[hidden] { display: none !important; }` so we also need the `!important` here to be able to override the default hidden behavior on the sphinx rendered scikit-learn.org. See: https://github.com/scikit-learn/scikit-learn/issues/21755 */display: inline-block !important;position: relative;}#sk-container-id-19 div.sk-text-repr-fallback {display: none;}</style><div id=\"sk-container-id-19\" class=\"sk-top-container\"><div class=\"sk-text-repr-fallback\"><pre>RandomForestClassifier(random_state=42)</pre><b>In a Jupyter environment, please rerun this cell to show the HTML representation or trust the notebook. <br />On GitHub, the HTML representation is unable to render, please try loading this page with nbviewer.org.</b></div><div class=\"sk-container\" hidden><div class=\"sk-item\"><div class=\"sk-estimator sk-toggleable\"><input class=\"sk-toggleable__control sk-hidden--visually\" id=\"sk-estimator-id-72\" type=\"checkbox\" checked><label for=\"sk-estimator-id-72\" class=\"sk-toggleable__label sk-toggleable__label-arrow\">RandomForestClassifier</label><div class=\"sk-toggleable__content\"><pre>RandomForestClassifier(random_state=42)</pre></div></div></div></div></div>"
            ]
          },
          "metadata": {},
          "execution_count": 462
        }
      ]
    },
    {
      "cell_type": "code",
      "source": [
        "#make predictions\n",
        "pred = model.predict(X_test)"
      ],
      "metadata": {
        "id": "S4zBRSNvcqHR"
      },
      "execution_count": 463,
      "outputs": []
    },
    {
      "cell_type": "code",
      "source": [
        "# Obtain predictions\n",
        "train_preds = model.predict(X_train)\n",
        "test_preds = model.predict(X_test)\n",
        "\n",
        "# Calculate classification accuracy\n",
        "train_score = accuracy_score(y_train, train_preds)\n",
        "test_score = accuracy_score(y_test, test_preds)"
      ],
      "metadata": {
        "id": "ThzsGVEfc7AI"
      },
      "execution_count": 464,
      "outputs": []
    },
    {
      "cell_type": "code",
      "source": [
        "print (f'The training accuracy is {train_score:.3f}.')\n",
        "print (f'The testing accuracy is {test_score:.3f}.')"
      ],
      "metadata": {
        "colab": {
          "base_uri": "https://localhost:8080/"
        },
        "id": "hoHdqo8hdHHN",
        "outputId": "adc873a6-be30-4304-ff62-45fee2bccca2"
      },
      "execution_count": 465,
      "outputs": [
        {
          "output_type": "stream",
          "name": "stdout",
          "text": [
            "The training accuracy is 0.930.\n",
            "The testing accuracy is 0.722.\n"
          ]
        }
      ]
    },
    {
      "cell_type": "code",
      "source": [
        "# Instantiate and fit BaggingClassifier\n",
        "bag_clf = BaggingClassifier(random_state=42)\n",
        "bag_clf.fit(X_train, y_train)\n",
        "\n",
        "# Obtain predictions\n",
        "train_preds = bag_clf.predict(X_train)\n",
        "test_preds = bag_clf.predict(X_test)\n",
        "\n",
        "# Calculate classification accuracy\n",
        "train_score = accuracy_score(y_train, train_preds)\n",
        "test_score = accuracy_score(y_test, test_preds)\n",
        "print (f'The training accuracy is {train_score:.3f}.')\n",
        "print (f'The testing accuracy is {test_score:.3f}.')\n"
      ],
      "metadata": {
        "colab": {
          "base_uri": "https://localhost:8080/"
        },
        "id": "7H0skvLZCoS8",
        "outputId": "458ded7a-7eb0-4bbb-841f-cd18f2cc09e1"
      },
      "execution_count": 466,
      "outputs": [
        {
          "output_type": "stream",
          "name": "stdout",
          "text": [
            "The training accuracy is 0.925.\n",
            "The testing accuracy is 0.739.\n"
          ]
        }
      ]
    },
    {
      "cell_type": "markdown",
      "source": [
        "the from result above, i decide to choose the RandomForestClassifier having an accuracy of 0.93 against the test of 0.722"
      ],
      "metadata": {
        "id": "-d74I77kgdDY"
      }
    }
  ]
}